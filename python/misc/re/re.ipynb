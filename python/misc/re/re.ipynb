{
 "cells": [
  {
   "cell_type": "markdown",
   "metadata": {},
   "source": [
    "# re"
   ]
  },
  {
   "cell_type": "markdown",
   "metadata": {},
   "source": [
    "Regular Expressions (`regex`) é uma linguagem específica de domínio (DSL) que funciona como biblioteca em diversas linguagens, como Python e R. É uma \"mini linguagem de programação\" com sintaxe específica.\n",
    "\n",
    "DSL's são linguagens com um nível muito alto de abstração, e dentre elas também se inclui o `SQL`. No caso das `regex`, permitem identificar padrões recorrentes em strings e manipulá-los (localizar, substituir etc)."
   ]
  },
  {
   "cell_type": "markdown",
   "metadata": {},
   "source": [
    "É uma boa prática localizar padrões em \"raw strings\", que tratam qualquer caractere dentro dela como caractere literal. Isso é útil ao lidar com metacaracteres (Ex.: \\n) quando se deseja lê-los como strings normais. "
   ]
  },
  {
   "cell_type": "code",
   "execution_count": 1,
   "metadata": {},
   "outputs": [
    {
     "name": "stdout",
     "output_type": "stream",
     "text": [
      "Raw String: Hello\\nWorld!\n",
      "String normal: Hello\n",
      "World!\n"
     ]
    }
   ],
   "source": [
    "print(r\"Raw String: Hello\\nWorld!\")\n",
    "print(\"String normal: Hello\\nWorld!\")"
   ]
  },
  {
   "cell_type": "markdown",
   "metadata": {},
   "source": [
    "Caracteres especiais de strings (úteis na hora de printar):\n",
    "* \\n: pula uma linha \n",
    "* \\t: pula o valor de espaços de uma identação com \"Tab\"\n",
    "* \\s: espaço em branco"
   ]
  },
  {
   "cell_type": "markdown",
   "metadata": {},
   "source": [
    "# Funções importantes"
   ]
  },
  {
   "cell_type": "code",
   "execution_count": 3,
   "metadata": {},
   "outputs": [],
   "source": [
    "import re"
   ]
  },
  {
   "cell_type": "markdown",
   "metadata": {},
   "source": [
    "* re.match(pat, str) -> Retorna True se o padrão é encontrado no começo da string.\n",
    "* re.search(pat, str) -> Retorna True se o padrão é encontrado em qualquer pedaço da string.\n",
    "* re.findall(pat, str) -> Retorna uma lista com todas as ocorrências do padrão.\n",
    "* re.sub(pat, sub, str) -> Substitui todas as ocorrências do padrão na string pelo valor adicionado em \"sub\", e retorna a nova string. \n",
    "\n",
    "**Obs.:** pat = padrão, str = string"
   ]
  },
  {
   "cell_type": "markdown",
   "metadata": {},
   "source": [
    "O objeto retornado pelas funções re.match() e re.search() é da classe `Match` e possui diversos métodos importantes, como: \n",
    "\n",
    "* group() -> ocorrência do padrão encontrado na string.\n",
    "* start() -> posição do primeiro caractere do padrão encontrado dentro da string.\n",
    "* end() -> posição do último caractere do padrão encontrado dentro da string.\n",
    "* span() -> tupla com as posições do primeiro e último caractere do padrão encontrado dentro da string."
   ]
  },
  {
   "cell_type": "code",
   "execution_count": 15,
   "metadata": {
    "scrolled": true
   },
   "outputs": [
    {
     "name": "stdout",
     "output_type": "stream",
     "text": [
      "Objeto:  <re.Match object; span=(0, 3), match='abc'>\n",
      "\n",
      "abc está no começo da string!\n",
      "bcd não está no começo da string!\n",
      "\n",
      "String:  abcdef123456\n",
      "Match:  abc\n",
      "Início:  0\n",
      "Fim:  3\n",
      "Posições inicial e final:  (0, 3)\n"
     ]
    }
   ],
   "source": [
    "### EXEMPLO MATCH()\n",
    "string = \"abcdef123456\"\n",
    "match = re.match(\"abc\", string) \n",
    "\n",
    "print(\"Objeto: \",match)\n",
    "\n",
    "if match: # caso o objeto não seja vazio\n",
    "    print(\"\\nabc está no começo da string!\")\n",
    "\n",
    "match_2 = re.match(\"bcd\", string)\n",
    "\n",
    "if match_2:\n",
    "    print(\"bcd está no começo da string\")\n",
    "else: \n",
    "    print(\"bcd não está no começo da string!\")\n",
    "\n",
    "print(\"\\nString: \", string)\n",
    "print(\"Match: \", match.group())\n",
    "print(\"Início: \", match.start())\n",
    "print(\"Fim: \", match.end())\n",
    "print(\"Posições inicial e final: \", match.span())"
   ]
  },
  {
   "cell_type": "code",
   "execution_count": 16,
   "metadata": {
    "scrolled": true
   },
   "outputs": [
    {
     "name": "stdout",
     "output_type": "stream",
     "text": [
      "Objeto:  <re.Match object; span=(6, 9), match='123'>\n",
      "bcd está presente ao longo da string!\n",
      "\n",
      "String:  abcdef123456\n",
      "Match:  123\n",
      "Início:  6\n",
      "Fim:  9\n",
      "Posições inicial e final:  (6, 9)\n"
     ]
    }
   ],
   "source": [
    "### EXEMPLO SEARCH()\n",
    "string = \"abcdef123456\"\n",
    "match = re.search(\"123\", string) \n",
    "\n",
    "print(\"Objeto: \",match)\n",
    "\n",
    "if match: # caso o objeto não seja vazio\n",
    "    print(\"\\nbcd está presente ao longo da string!\")\n",
    "\n",
    "print(\"\\nString: \", string)\n",
    "print(\"Match: \", match.group())\n",
    "print(\"Início: \", match.start())\n",
    "print(\"Fim: \", match.end())\n",
    "print(\"Posições inicial e final: \", match.span())"
   ]
  },
  {
   "cell_type": "code",
   "execution_count": 20,
   "metadata": {},
   "outputs": [
    {
     "name": "stdout",
     "output_type": "stream",
     "text": [
      "Objeto:  ['abc', 'abc', 'abc']\n",
      "\n",
      "abc ocorre 3 vezes ao longo da string!\n"
     ]
    }
   ],
   "source": [
    "### EXEMPLO FINDALL()\n",
    "string = \"abcabcabc123456\"\n",
    "match = re.findall(\"abc\", string) \n",
    "\n",
    "print(\"Objeto: \",match) # retorna uma lista com cada ocorrência do padrão\n",
    "\n",
    "if match: # caso o objeto não seja vazio\n",
    "    print(\"\\nabc ocorre\", len(match), \"vezes ao longo da string!\")"
   ]
  },
  {
   "cell_type": "code",
   "execution_count": 24,
   "metadata": {},
   "outputs": [
    {
     "name": "stdout",
     "output_type": "stream",
     "text": [
      "String antiga:  abcabcabc123456\n",
      "String nova:  subsubsub123456\n",
      "\n",
      "abc está presente ao longo da string e foi trocado por sub!\n"
     ]
    }
   ],
   "source": [
    "### EXEMPLO SUB()\n",
    "string = \"abcabcabc123456\"\n",
    "sub = \"sub\"\n",
    "match = re.sub(\"abc\", sub, string) \n",
    "\n",
    "print(\"String antiga: \",string) # recebe a string antiga\n",
    "print(\"String nova: \",match) # retorna a nova string\n",
    "\n",
    "if match: # caso o objeto não seja vazio\n",
    "    print(\"\\nabc está presente ao longo da string e foi trocado por sub!\")"
   ]
  },
  {
   "cell_type": "markdown",
   "metadata": {},
   "source": [
    "# Metacaracteres"
   ]
  },
  {
   "cell_type": "markdown",
   "metadata": {},
   "source": [
    "São uma forma de definir um padrão que aborde determinado grupo distinto de ocorrências, de forma generalizada. "
   ]
  },
  {
   "cell_type": "markdown",
   "metadata": {},
   "source": [
    "### Tipos de metacaracteres: \n",
    "* \\d <- representa todos os dígitos de 0 a 9\n",
    "* \\D <- não é dígito\n",
    "* \\s <- espaço em branco\n",
    "* \\S <- não é espaço em branco\n",
    "* \\w <- representa letras, dígitos e underscore\n",
    "* . <- qualquer coisa exceto espaço em branco\n",
    "* \\ <- pula qualquer metacaractere (faz com que seja lido como caractere normal)"
   ]
  },
  {
   "cell_type": "code",
   "execution_count": 55,
   "metadata": {},
   "outputs": [
    {
     "name": "stdout",
     "output_type": "stream",
     "text": [
      "Padrão Localizado:  123 abc 456\n",
      "\n",
      "String:  123 abc 456 cde\n",
      "Dígitos:  123\n",
      "Espaços:   \n",
      "Caracteres:  123\n",
      "Tudo:  123\n"
     ]
    }
   ],
   "source": [
    "string = \"123 abc 456 cde\"\n",
    "\n",
    "# Construção do Padrão:\n",
    "digitos = \"\\d\\d\\d\"\n",
    "espaço = \"\\s\"\n",
    "quase_tudo = \"\\w\\w\\w\" # [a-zA-z0-9_]\n",
    "tudo = \"...\"\n",
    "padrão = digitos + espaço + quase_tudo + espaço + tudo\n",
    "\n",
    "match = re.search(padrão, string) \n",
    "\n",
    "if match: print(\"Padrão Localizado: \",match.group())\n",
    "    \n",
    "print(\"\\nString: \", re.search(string, string).group())\n",
    "print(\"Dígitos: \", re.search(digitos, string).group())\n",
    "print(\"Espaços: \", re.search(espaço, string).group())\n",
    "print(\"Quase-Tudo: \", re.search(quase_tudo, string).group())\n",
    "print(\"Tudo: \", re.search(tudo, string).group())"
   ]
  },
  {
   "cell_type": "markdown",
   "metadata": {},
   "source": [
    "### CLASSES de caracteres \n",
    "* [] <- pelo menos um\n",
    "* [^a] <- tudo menos a\n",
    "* [a-z] <- range (inclui todas as strings dentro desse tipo do caractere, partindo do primeiro até o outro)"
   ]
  },
  {
   "cell_type": "code",
   "execution_count": 56,
   "metadata": {},
   "outputs": [
    {
     "name": "stdout",
     "output_type": "stream",
     "text": [
      "Padrão Localizado:  123abcCDE321\n",
      "\n",
      "String:  123abcCDE321 \n",
      "Dígitos:  123\n",
      "Caracteres Minúsculos:  abc\n",
      "Caracteres Maiúsculos:  CDE\n",
      "Não é Caractere:  123\n"
     ]
    }
   ],
   "source": [
    "string = \"123abcCDE321 \"\n",
    "\n",
    "# Construção do Padrão:\n",
    "digitos = \"[0-9][0-9][0-9]\"\n",
    "caracteres_minusculos = \"[a-z][a-z][a-z]\"\n",
    "caracteres_maiusculos = \"[A-Z][A-Z][A-Z]\"\n",
    "não_são_caracteres = \"[^a-z][^a-z][^a-z]\" \n",
    "padrão = digitos + caracteres_minusculos + caracteres_maiusculos + não_são_caracteres # concatena tudo\n",
    "\n",
    "match = re.search(padrão, string)\n",
    "\n",
    "if match: print(\"Padrão Localizado: \",match.group())\n",
    "    \n",
    "print(\"\\nString: \", re.search(string, string).group())\n",
    "print(\"Dígitos: \", re.search(digitos, string).group())\n",
    "print(\"Caracteres Minúsculos: \", re.search(caracteres_minusculos, string).group())\n",
    "print(\"Caracteres Maiúsculos: \", re.search(caracteres_maiusculos, string).group())\n",
    "print(\"Não é Caractere: \", re.search(não_são_caracteres, string).group())"
   ]
  },
  {
   "cell_type": "markdown",
   "metadata": {},
   "source": [
    "### ÂNCORAS \n",
    "Definir a posição dos caracteres em relação ao início e fim da string\n",
    "* ^ <- começo da string analisada\n",
    "* $ <- fim da string analisada"
   ]
  },
  {
   "cell_type": "code",
   "execution_count": 65,
   "metadata": {},
   "outputs": [
    {
     "name": "stdout",
     "output_type": "stream",
     "text": [
      "Padrão 1 Localizado:  123\n",
      "Padrão 2 Não Localizado\n"
     ]
    }
   ],
   "source": [
    "string_1 = \"123\"\n",
    "string_2 = \"1234\"\n",
    "\n",
    "# Construção do Padrão:\n",
    "digitos = \"[0-9][0-9][0-9]\" \n",
    "padrão = \"^\" + digitos + \"$\"\n",
    "\n",
    "match_1 = re.search(padrão, string_1)\n",
    "match_2 = re.search(padrão, string_2)\n",
    "\n",
    "if match_1: print(\"Padrão 1 Localizado: \", match_1.group())\n",
    "    \n",
    "if match_2: \n",
    "    print(\"Padrão 2 Localizado: \",match_2.group())\n",
    "else:\n",
    "    print(\"Padrão 2 Não Localizado\")"
   ]
  },
  {
   "cell_type": "markdown",
   "metadata": {},
   "source": [
    "### QUANTIFICADORES \n",
    "Aparecem logo depois a um caractere de interesse\n",
    "\n",
    "* `?` <- zero ou uma vez\n",
    "* `*` <- zero ou mais vezes\n",
    "* `+` <- um ou mais vezes\n",
    "* {1} <- quantas vezes o tipo de caractere aparece\n",
    "* {1,2} <- define quantas vezes esse tipo de caractere pode aparecer consecutivamente (entre uma ou duas no exemplo)"
   ]
  },
  {
   "cell_type": "code",
   "execution_count": 68,
   "metadata": {},
   "outputs": [
    {
     "name": "stdout",
     "output_type": "stream",
     "text": [
      "Padrão Localizado:  123 abc 456\n",
      "\n",
      "String:  123 abc 456 cde\n",
      "Dígitos:  123\n",
      "Espaços:   \n",
      "Quase-Tudo:  123\n",
      "Tudo:  123\n"
     ]
    }
   ],
   "source": [
    "string = \"123 abc 456 cde\"\n",
    "\n",
    "# Construção do Padrão:\n",
    "digitos = \"\\d*\" \n",
    "espaço = \"\\s{1}\"\n",
    "quase_tudo = \"\\w+\" # [a-zA-z0-9_]\n",
    "tudo = \"...?\"\n",
    "padrão = digitos + espaço + quase_tudo + espaço + tudo\n",
    "\n",
    "match = re.search(padrão, string) \n",
    "\n",
    "if match: print(\"Padrão Localizado: \",match.group())\n",
    "    \n",
    "print(\"\\nString: \", re.search(string, string).group())\n",
    "print(\"Dígitos: \", re.search(digitos, string).group())\n",
    "print(\"Espaços: \", re.search(espaço, string).group())\n",
    "print(\"Quase-Tudo: \", re.search(quase_tudo, string).group())\n",
    "print(\"Tudo: \", re.search(tudo, string).group())"
   ]
  },
  {
   "cell_type": "markdown",
   "metadata": {},
   "source": [
    "### GRUPOS \n",
    "Definem ordem de encontro dos caracteres, podemos nos referir a eles ao longo da regex.\n",
    "\n",
    "* () <- criam grupos\n",
    "* \\\\1 <- se refere ao primeiro grupo previamente declarado, ou seja, deve-se obter a MESMA substring localizada pelo primeiro grupo.\n",
    "* | <- ou (somente em expressões regulares)\n",
    "\n",
    "**Obs.:** O método groups() retorna uma tupla com todos os grupos encontrados. Entretanto, quando adicionamos quantificadores (onde pode ocorrer um ou mais eventos similares por exemplo), o método groups só retorna a primeira ocorrência daquele grupo."
   ]
  },
  {
   "cell_type": "code",
   "execution_count": 91,
   "metadata": {},
   "outputs": [
    {
     "name": "stdout",
     "output_type": "stream",
     "text": [
      "abcdefghi\n",
      "abcdefghi\n",
      "bc\n",
      "e\n",
      "('bc', 'e', 'fgh', 'g') -> Note que (d|e) pode ser repetido uma ou mais vezes, logo deveria ter sido printado um grupo para 'd' e outro para 'e'\n"
     ]
    }
   ],
   "source": [
    "padrão = r\"a(bc)(d|e)+(f(g)h)i\"\n",
    "string = \"abcdefghijklmnopqrstuvwxyz\"\n",
    "match = re.match(padrão, string)\n",
    "if match:\n",
    "    print(match.group())\n",
    "    print(match.group(0))\n",
    "    print(match.group(1))\n",
    "    print(match.group(2))\n",
    "    print(match.groups(), \"-> Note que (d|e) pode ser repetido uma ou mais vezes, logo deveria ter sido printado um grupo para 'd' e outro para 'e'\")"
   ]
  }
 ],
 "metadata": {
  "kernelspec": {
   "display_name": "Python 3 (ipykernel)",
   "language": "python",
   "name": "python3"
  },
  "language_info": {
   "codemirror_mode": {
    "name": "ipython",
    "version": 3
   },
   "file_extension": ".py",
   "mimetype": "text/x-python",
   "name": "python",
   "nbconvert_exporter": "python",
   "pygments_lexer": "ipython3",
   "version": "3.8.5"
  }
 },
 "nbformat": 4,
 "nbformat_minor": 5
}
