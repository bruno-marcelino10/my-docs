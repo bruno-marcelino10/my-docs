{
 "cells": [
  {
   "attachments": {},
   "cell_type": "markdown",
   "metadata": {},
   "source": [
    "# datetime"
   ]
  },
  {
   "attachments": {},
   "cell_type": "markdown",
   "metadata": {},
   "source": [
    "É um pacote utilizado para a manipulação de datas e horários. Com ele podemos realizar operações aritméticas com datas, além de extração de atributos (dia, mês, horas etc.) e formatação de objetos do tipo DateTime. "
   ]
  },
  {
   "attachments": {},
   "cell_type": "markdown",
   "metadata": {},
   "source": [
    "## Funções mais importantes"
   ]
  },
  {
   "attachments": {},
   "cell_type": "markdown",
   "metadata": {},
   "source": [
    "#### datetime\n",
    "Cria um objeto datetime com os valores especificados para ano, mês, dia, hora, minuto, segundo e microssegundo. Se nenhum valor for especificado, a data e hora atual serão usados."
   ]
  },
  {
   "cell_type": "code",
   "execution_count": 12,
   "metadata": {},
   "outputs": [
    {
     "name": "stdout",
     "output_type": "stream",
     "text": [
      "2023-03-12 03:13:08.785963\n",
      "2022-03-15 12:30:00\n",
      "2022\n",
      "3\n",
      "12\n",
      "10\n",
      "30\n",
      "45\n",
      "500000\n",
      "2022-03-12T10:30:45.500000\n"
     ]
    }
   ],
   "source": [
    "from datetime import datetime\n",
    "\n",
    "# cria um objeto datetime com a data e hora atual\n",
    "now = datetime.now()\n",
    "\n",
    "# cria um objeto datetime com a data e hora especificadas\n",
    "dt = datetime(2022, 3, 15, 12, 30, 0)\n",
    "\n",
    "print(now) # 2023-03-12 15:20:00.123456\n",
    "print(dt) # 2022-03-15 12:30:00\n",
    "\n",
    "dt = datetime(2022, 3, 12, 10, 30, 45, 500000) # ano, mês, dia, hora, minuto, segundo, microssegundo\n",
    "\n",
    "print(dt.year)         # saída: 2022\n",
    "print(dt.month)        # saída: 3\n",
    "print(dt.day)          # saída: 12\n",
    "print(dt.hour)         # saída: 10\n",
    "print(dt.minute)       # saída: 30\n",
    "print(dt.second)       # saída: 45\n",
    "print(dt.microsecond)  # saída: 500000\n",
    "print(dt.isoformat())  # saída: '2022-03-12T10:30:45.500000'"
   ]
  },
  {
   "attachments": {},
   "cell_type": "markdown",
   "metadata": {},
   "source": [
    "#### date\n",
    "Cria um objeto date com os valores especificados para ano, mês e dia. Se nenhum valor for especificado, a data atual será usada."
   ]
  },
  {
   "cell_type": "code",
   "execution_count": 10,
   "metadata": {},
   "outputs": [
    {
     "name": "stdout",
     "output_type": "stream",
     "text": [
      "2023-03-12\n",
      "2022-03-15\n",
      "2022\n",
      "3\n",
      "12\n",
      "2022-03-12\n"
     ]
    }
   ],
   "source": [
    "from datetime import date\n",
    "\n",
    "# cria um objeto date com a data atual\n",
    "today = date.today()\n",
    "\n",
    "# cria um objeto date com a data especificada\n",
    "d = date(2022, 3, 15)\n",
    "\n",
    "print(today) # 2023-03-12\n",
    "print(d) # 2022-03-15\n",
    "\n",
    "d = date(2022, 3, 12) # ano, mês, dia\n",
    "\n",
    "print(d.year)    # saída: 2022\n",
    "print(d.month)   # saída: 3\n",
    "print(d.day)     # saída: 12\n",
    "print(d.isoformat())  # saída: '2022-03-12'"
   ]
  },
  {
   "attachments": {},
   "cell_type": "markdown",
   "metadata": {},
   "source": [
    "#### time\n",
    "Cria um objeto time com os valores especificados para hora, minuto, segundo e microssegundo. Se nenhum valor for especificado, a hora atual será usada."
   ]
  },
  {
   "cell_type": "code",
   "execution_count": 9,
   "metadata": {},
   "outputs": [
    {
     "name": "stdout",
     "output_type": "stream",
     "text": [
      "10\n",
      "30\n",
      "45\n",
      "500000\n",
      "10:30:45.500000\n"
     ]
    }
   ],
   "source": [
    "from datetime import time\n",
    "\n",
    "t = time(10, 30, 45, 500000) # hora, minuto, segundo, microssegundo\n",
    "\n",
    "print(t.hour)         # saída: 10\n",
    "print(t.minute)       # saída: 30\n",
    "print(t.second)       # saída: 45\n",
    "print(t.microsecond)  # saída: 500000\n",
    "print(t.isoformat())  # saída: '10:30:45.500000'"
   ]
  },
  {
   "attachments": {},
   "cell_type": "markdown",
   "metadata": {},
   "source": [
    "#### timedelta() \n",
    "Esta função cria um objeto timedelta que representa uma diferença de tempo entre duas datas ou horas."
   ]
  },
  {
   "cell_type": "code",
   "execution_count": 15,
   "metadata": {},
   "outputs": [
    {
     "name": "stdout",
     "output_type": "stream",
     "text": [
      "4 days, 21:45:00\n",
      "1\n",
      "7200\n",
      "0\n",
      "93600.0\n"
     ]
    }
   ],
   "source": [
    "from datetime import datetime, timedelta\n",
    "\n",
    "# cria dois objetos datetime\n",
    "dt1 = datetime(2022, 3, 15, 12, 30, 0)\n",
    "dt2 = datetime(2022, 3, 20, 10, 15, 0)\n",
    "\n",
    "# calcula a diferença de tempo entre os dois objetos datetime\n",
    "diff = dt2 - dt1\n",
    "\n",
    "print(diff) # 4 days, 21:45:00\n",
    "\n",
    "d1 = datetime(2022, 3, 12, 10, 30, 45, 500000)\n",
    "d2 = datetime(2022, 3, 13, 12, 30, 45, 500000)\n",
    "\n",
    "delta = d2 - d1  # intervalo de tempo entre d1 e d2\n",
    "print(delta.days)        # saída: 1\n",
    "print(delta.seconds)     # saída: 7200 (correspondente a 2 horas)\n",
    "print(delta.microseconds) # saída: 0\n",
    "print(delta.total_seconds()) # saída: 93600.0 (total de segundos)"
   ]
  },
  {
   "attachments": {},
   "cell_type": "markdown",
   "metadata": {},
   "source": [
    "#### strftime() \n",
    "Esta função significa \"string format time\", ou seja, converte um objeto datetime em uma string formatada de acordo com um formato específico.\n"
   ]
  },
  {
   "cell_type": "code",
   "execution_count": 13,
   "metadata": {},
   "outputs": [
    {
     "name": "stdout",
     "output_type": "stream",
     "text": [
      "12/03/2023 02:58:59\n"
     ]
    }
   ],
   "source": [
    "from datetime import datetime\n",
    "\n",
    "# cria um objeto datetime com a data e hora atual\n",
    "now = datetime.now()\n",
    "\n",
    "# converte o objeto datetime em uma string formatada\n",
    "formatted = now.strftime(\"%d/%m/%Y %H:%M:%S\")\n",
    "\n",
    "print(formatted) # 12/03/2023 15:20:00"
   ]
  },
  {
   "attachments": {},
   "cell_type": "markdown",
   "metadata": {},
   "source": [
    "#### strptime() \n",
    "Esta função significa \"string parse time\", ou seja, converte uma string em um objeto datetime, de acordo com um formato específico.\n"
   ]
  },
  {
   "cell_type": "code",
   "execution_count": 14,
   "metadata": {},
   "outputs": [
    {
     "name": "stdout",
     "output_type": "stream",
     "text": [
      "2022-03-15 00:00:00\n"
     ]
    }
   ],
   "source": [
    "from datetime import datetime\n",
    "\n",
    "# converte uma string em um objeto datetime\n",
    "date_str = \"15/03/2022\"\n",
    "dt = datetime.strptime(date_str, \"%d/%m/%Y\")\n",
    "\n",
    "print(dt) # 2022-03-15 00:00:00"
   ]
  },
  {
   "attachments": {},
   "cell_type": "markdown",
   "metadata": {},
   "source": [
    "#### replace() \n",
    "Esta função retorna uma cópia do objeto datetime com um ou mais atributos modificados.\n"
   ]
  },
  {
   "cell_type": "code",
   "execution_count": 17,
   "metadata": {},
   "outputs": [
    {
     "name": "stdout",
     "output_type": "stream",
     "text": [
      "2023-03-12 03:20:39.784132\n",
      "2022-03-12 03:20:39.784132\n",
      "2022-03-12 12:00:00.500000\n",
      "2023-06-20 10:30:45.500000\n"
     ]
    }
   ],
   "source": [
    "from datetime import datetime\n",
    "\n",
    "# cria um objeto datetime com a data e hora atual\n",
    "now = datetime.now()\n",
    "print(now) # 2023-03-12 15:20:00.123456\n",
    "\n",
    "# cria um novo objeto datetime com o mesmo valor, mas com o ano substituído por 2022\n",
    "new_date = now.replace(year=2022)\n",
    "print(new_date) # 2022-03-12 15:20:00.123456\n",
    "\n",
    "dt = datetime(2022, 3, 12, 10, 30, 45, 500000)\n",
    "new_dt = dt.replace(hour=12, minute=0, second=0)\n",
    "print(new_dt)   # 2022-03-12 12:00:00.500000\n",
    "\n",
    "dt = datetime(2022, 3, 12, 10, 30, 45, 500000)\n",
    "new_dt = dt.replace(year=2023, month=6, day=20)\n",
    "print(new_dt)   # saída: 2023-06-20 10:30:45.500000"
   ]
  },
  {
   "attachments": {},
   "cell_type": "markdown",
   "metadata": {},
   "source": [
    "# time"
   ]
  },
  {
   "attachments": {},
   "cell_type": "markdown",
   "metadata": {},
   "source": [
    "Fornece funções para trabalhar com o tempo, como medir o tempo de execução de um programa, fazer pausas em um programa por um determinado tempo e converter entre diferentes representações de tempo."
   ]
  },
  {
   "attachments": {},
   "cell_type": "markdown",
   "metadata": {},
   "source": [
    "#### time()\n",
    "Retorna o tempo atual em segundos desde a meia-noite de 1º de janeiro de 1970 (conhecido como Unix Epoch). Pode ser usado para medir o tempo de execução de um programa."
   ]
  },
  {
   "cell_type": "code",
   "execution_count": 1,
   "metadata": {},
   "outputs": [
    {
     "name": "stdout",
     "output_type": "stream",
     "text": [
      "Tempo decorrido: 0.00 segundos\n"
     ]
    }
   ],
   "source": [
    "import time\n",
    "\n",
    "start_time = time.time()\n",
    "# execute o código a ser medido\n",
    "end_time = time.time()\n",
    "\n",
    "tempo_decorrido = end_time - start_time\n",
    "print(\"Tempo decorrido: {:.2f} segundos\".format(tempo_decorrido))"
   ]
  },
  {
   "attachments": {},
   "cell_type": "markdown",
   "metadata": {},
   "source": [
    "#### sleep()\n",
    "Pausa a execução do programa por um determinado número de segundos.\n"
   ]
  },
  {
   "cell_type": "code",
   "execution_count": 2,
   "metadata": {},
   "outputs": [
    {
     "name": "stdout",
     "output_type": "stream",
     "text": [
      "Início\n",
      "Fim\n"
     ]
    }
   ],
   "source": [
    "import time\n",
    "\n",
    "print(\"Início\")\n",
    "time.sleep(5) # pausa por 5 segundos\n",
    "print(\"Fim\")"
   ]
  },
  {
   "attachments": {},
   "cell_type": "markdown",
   "metadata": {},
   "source": [
    "#### strftime() \n",
    "converte um objeto time em uma string formatada.\n"
   ]
  },
  {
   "cell_type": "code",
   "execution_count": 3,
   "metadata": {},
   "outputs": [
    {
     "name": "stdout",
     "output_type": "stream",
     "text": [
      "12/03/2023 03:05:01\n"
     ]
    }
   ],
   "source": [
    "import time\n",
    "\n",
    "now = time.localtime()\n",
    "formatted = time.strftime(\"%d/%m/%Y %H:%M:%S\", now)\n",
    "\n",
    "print(formatted)"
   ]
  },
  {
   "attachments": {},
   "cell_type": "markdown",
   "metadata": {},
   "source": [
    "#### gmtime() \n",
    "retorna o tempo atual em UTC (Tempo Universal Coordenado).\n"
   ]
  },
  {
   "cell_type": "code",
   "execution_count": 4,
   "metadata": {},
   "outputs": [
    {
     "name": "stdout",
     "output_type": "stream",
     "text": [
      "time.struct_time(tm_year=2023, tm_mon=3, tm_mday=12, tm_hour=6, tm_min=5, tm_sec=24, tm_wday=6, tm_yday=71, tm_isdst=0)\n"
     ]
    }
   ],
   "source": [
    "import time\n",
    "\n",
    "utc_time = time.gmtime()\n",
    "\n",
    "print(utc_time)"
   ]
  },
  {
   "attachments": {},
   "cell_type": "markdown",
   "metadata": {},
   "source": [
    "#### asctime() \n",
    "converte um objeto time em uma string no formato \"Dia da Semana Mês Dia Hora:Minutos:Segundos Ano\"."
   ]
  },
  {
   "cell_type": "code",
   "execution_count": 5,
   "metadata": {},
   "outputs": [
    {
     "name": "stdout",
     "output_type": "stream",
     "text": [
      "Sun Mar 12 03:05:49 2023\n"
     ]
    }
   ],
   "source": [
    "import time\n",
    "\n",
    "now = time.localtime()\n",
    "formatted = time.asctime(now)\n",
    "\n",
    "print(formatted)"
   ]
  },
  {
   "attachments": {},
   "cell_type": "markdown",
   "metadata": {},
   "source": [
    "# Dias úteis"
   ]
  },
  {
   "attachments": {},
   "cell_type": "markdown",
   "metadata": {},
   "source": [
    "Para contar feriados junto com dias úteis, você pode usar a biblioteca pandas em conjunto com a biblioteca pandas_market_calendars. A biblioteca pandas_market_calendars fornece calendários de mercado financeiro para diversos países, incluindo feriados nacionais. Você pode usar esses calendários para filtrar dias úteis e feriados.\n",
    "\n",
    "Aqui está um exemplo de código que conta dias úteis e feriados em um intervalo de datas usando a biblioteca pandas_market_calendars:"
   ]
  },
  {
   "cell_type": "code",
   "execution_count": 23,
   "metadata": {},
   "outputs": [
    {
     "ename": "TypeError",
     "evalue": "valid_days() missing 1 required positional argument: 'end_date'",
     "output_type": "error",
     "traceback": [
      "\u001b[1;31m---------------------------------------------------------------------------\u001b[0m",
      "\u001b[1;31mTypeError\u001b[0m                                 Traceback (most recent call last)",
      "\u001b[1;32mC:\\Users\\BRUNOM~1\\AppData\\Local\\Temp/ipykernel_13812/1883293160.py\u001b[0m in \u001b[0;36m<module>\u001b[1;34m\u001b[0m\n\u001b[0;32m     13\u001b[0m \u001b[1;33m\u001b[0m\u001b[0m\n\u001b[0;32m     14\u001b[0m \u001b[1;31m# Filtra apenas os dias úteis e feriados\u001b[0m\u001b[1;33m\u001b[0m\u001b[1;33m\u001b[0m\u001b[1;33m\u001b[0m\u001b[0m\n\u001b[1;32m---> 15\u001b[1;33m \u001b[0mvalid_days\u001b[0m \u001b[1;33m=\u001b[0m \u001b[0mcal\u001b[0m\u001b[1;33m.\u001b[0m\u001b[0mvalid_days\u001b[0m\u001b[1;33m(\u001b[0m\u001b[0mschedule\u001b[0m\u001b[1;33m)\u001b[0m\u001b[1;33m\u001b[0m\u001b[1;33m\u001b[0m\u001b[0m\n\u001b[0m\u001b[0;32m     16\u001b[0m \u001b[1;33m\u001b[0m\u001b[0m\n\u001b[0;32m     17\u001b[0m \u001b[1;31m# Conta os dias úteis e feriados\u001b[0m\u001b[1;33m\u001b[0m\u001b[1;33m\u001b[0m\u001b[1;33m\u001b[0m\u001b[0m\n",
      "\u001b[1;31mTypeError\u001b[0m: valid_days() missing 1 required positional argument: 'end_date'"
     ]
    }
   ],
   "source": [
    "import pandas as pd\n",
    "import pandas_market_calendars as mcal\n",
    "import datetime as dt\n",
    "\n",
    "start_date = dt.datetime(2022, 3, 1)\n",
    "end_date = dt.datetime(2022, 3, 31)\n",
    "\n",
    "# Cria um calendário para o Brasil\n",
    "cal = mcal.get_calendar('BMF')\n",
    "\n",
    "# Cria um intervalo de datas com todos os dias entre start_date e end_date\n",
    "schedule = cal.schedule(start_date=start_date, end_date=end_date)\n",
    "\n",
    "# Filtra apenas os dias úteis e feriados\n",
    "valid_days = cal.valid_days(schedule)\n",
    "\n",
    "# Conta os dias úteis e feriados\n",
    "business_days = len(valid_days)\n",
    "holidays = len(schedule) - business_days\n",
    "\n",
    "print(\"Dias úteis: \", business_days)\n",
    "print(\"Feriados: \", holidays)"
   ]
  },
  {
   "attachments": {},
   "cell_type": "markdown",
   "metadata": {},
   "source": [
    "Para trabalhar com dias úteis em Python, você pode usar a biblioteca pandas e o objeto DatetimeIndex. A biblioteca pandas é uma biblioteca poderosa para análise de dados, e o objeto DatetimeIndex é um objeto do pandas que pode ser usado para manipulação de datas.\n",
    "\n",
    "Aqui está um exemplo de código em Python que cria um objeto DatetimeIndex com apenas dias úteis:"
   ]
  },
  {
   "cell_type": "code",
   "execution_count": 21,
   "metadata": {},
   "outputs": [
    {
     "name": "stdout",
     "output_type": "stream",
     "text": [
      "DatetimeIndex(['2022-03-01', '2022-03-02', '2022-03-03', '2022-03-04',\n",
      "               '2022-03-07', '2022-03-08', '2022-03-09', '2022-03-10',\n",
      "               '2022-03-11', '2022-03-14', '2022-03-15', '2022-03-16',\n",
      "               '2022-03-17', '2022-03-18', '2022-03-21', '2022-03-22',\n",
      "               '2022-03-23', '2022-03-24', '2022-03-25', '2022-03-28',\n",
      "               '2022-03-29', '2022-03-30', '2022-03-31'],\n",
      "              dtype='datetime64[ns]', freq=None)\n"
     ]
    }
   ],
   "source": [
    "import pandas as pd\n",
    "import datetime as dt\n",
    "\n",
    "start_date = dt.datetime(2022, 3, 1)\n",
    "end_date = dt.datetime(2022, 3, 31)\n",
    "\n",
    "# Cria um índice de datas com todos os dias entre start_date e end_date\n",
    "idx = pd.date_range(start_date, end_date)\n",
    "\n",
    "# Filtra apenas os dias úteis\n",
    "business_days = idx[idx.weekday < 5]\n",
    "\n",
    "print(business_days)\n"
   ]
  },
  {
   "cell_type": "code",
   "execution_count": null,
   "metadata": {},
   "outputs": [],
   "source": []
  }
 ],
 "metadata": {
  "kernelspec": {
   "display_name": "Python 3",
   "language": "python",
   "name": "python3"
  },
  "language_info": {
   "codemirror_mode": {
    "name": "ipython",
    "version": 3
   },
   "file_extension": ".py",
   "mimetype": "text/x-python",
   "name": "python",
   "nbconvert_exporter": "python",
   "pygments_lexer": "ipython3",
   "version": "3.8.5"
  },
  "orig_nbformat": 4,
  "vscode": {
   "interpreter": {
    "hash": "72bf47092338eed38b0780b83b91fd9a109f9b0b6603c4f71c3497fbd9ba9af9"
   }
  }
 },
 "nbformat": 4,
 "nbformat_minor": 2
}
