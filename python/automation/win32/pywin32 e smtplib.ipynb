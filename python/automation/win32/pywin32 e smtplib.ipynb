{
 "cells": [
  {
   "cell_type": "markdown",
   "metadata": {},
   "source": [
    "# win32"
   ]
  },
  {
   "cell_type": "markdown",
   "metadata": {},
   "source": [
    "Extensão do Python que fornece acesso a diversas funções da API do Windows, como principal o envio de e-mails pelo Outlook"
   ]
  },
  {
   "cell_type": "markdown",
   "metadata": {},
   "source": [
    "# Exemplo para envio de e-mail pelo Outlook"
   ]
  },
  {
   "cell_type": "code",
   "execution_count": 1,
   "metadata": {},
   "outputs": [
    {
     "name": "stdout",
     "output_type": "stream",
     "text": [
      "Email Enviado\n"
     ]
    }
   ],
   "source": [
    "import win32com.client as win32\n",
    "\n",
    "# criar a integração com o outlook\n",
    "outlook = win32.Dispatch('outlook.application')\n",
    "\n",
    "# criar um email\n",
    "email = outlook.CreateItem(0)\n",
    "\n",
    "faturamento = 1500\n",
    "qtde_produtos = 10\n",
    "ticket_medio = faturamento / qtde_produtos\n",
    "\n",
    "# configurar as informações do seu e-mail\n",
    "email.To = \"pythonimpressionador@gmail.com; pythonimpressionador+lira@gmail.com\"\n",
    "email.Subject = \"E-mail automático do Python\"\n",
    "email.HTMLBody = f\"\"\"\n",
    "<p>Olá Lira, aqui é o código Python</p>\n",
    "\n",
    "<p>O faturamento da loja foi de R${faturamento}</p>\n",
    "<p>Vendemos {qtde_produtos} produtos</p>\n",
    "<p>O ticket Médio foi de R${ticket_medio}</p>\n",
    "\n",
    "<p>Abs,</p>\n",
    "<p>Código Python</p>\n",
    "\"\"\"\n",
    "\n",
    "# anexo = \"C://Users/joaop/Downloads/arquivo.xlsx\"\n",
    "# email.Attachments.Add(anexo)\n",
    "\n",
    "email.Send()\n",
    "print(\"Email Enviado\")"
   ]
  },
  {
   "cell_type": "markdown",
   "metadata": {},
   "source": [
    "# smtplib"
   ]
  },
  {
   "cell_type": "markdown",
   "metadata": {},
   "source": [
    "Permite enviar emails por meio do provedor da Google (gmail).\n",
    "\n",
    "**Obs.:** \n",
    "\n",
    "1) Devemos entrar na conta > gerenciar contas > segurança > como fazer login no Google > ativar verificação em duas etapas\n",
    "\n",
    "2) No mesmo local, clicamos em \"senhas de app\" > logamos normalmente > geramos uma senha de app para \"email\" e utilizamos normalmente "
   ]
  },
  {
   "cell_type": "code",
   "execution_count": 10,
   "metadata": {},
   "outputs": [
    {
     "name": "stdout",
     "output_type": "stream",
     "text": [
      "Email enviado\n"
     ]
    }
   ],
   "source": [
    "import smtplib\n",
    "import email.message\n",
    "\n",
    "def enviar_email():  \n",
    "    # email em formato HTML\n",
    "    corpo_email = \"\"\" \n",
    "    <p>dalton</p>\n",
    "    <p>marcelino</p>\n",
    "    \"\"\"\n",
    "\n",
    "    msg = email.message.Message()\n",
    "    msg['Subject'] = \"teste\" # Título\n",
    "    msg['From'] = 'bmbs.santos11@gmail.com' # Remetente\n",
    "    msg['To'] = 'bmbs.santos11@gmail.com' # Destinatário\n",
    "    password = 'zgahczcfpkkhzjdc' # Senha gerada\n",
    "    \n",
    "    msg.add_header('Content-Type', 'text/html')\n",
    "    msg.set_payload(corpo_email)\n",
    "\n",
    "    s = smtplib.SMTP('smtp.gmail.com: 587')\n",
    "    s.starttls()\n",
    "    \n",
    "    # Login Credentials for sending the mail\n",
    "    s.login(msg['From'], password)\n",
    "    s.sendmail(msg['From'], [msg['To']], msg.as_string().encode('utf-8'))\n",
    "    print('Email enviado')\n",
    "    \n",
    "enviar_email()"
   ]
  },
  {
   "cell_type": "code",
   "execution_count": null,
   "metadata": {},
   "outputs": [],
   "source": []
  }
 ],
 "metadata": {
  "kernelspec": {
   "display_name": "Python 3 (ipykernel)",
   "language": "python",
   "name": "python3"
  },
  "language_info": {
   "codemirror_mode": {
    "name": "ipython",
    "version": 3
   },
   "file_extension": ".py",
   "mimetype": "text/x-python",
   "name": "python",
   "nbconvert_exporter": "python",
   "pygments_lexer": "ipython3",
   "version": "3.8.5"
  }
 },
 "nbformat": 4,
 "nbformat_minor": 4
}
