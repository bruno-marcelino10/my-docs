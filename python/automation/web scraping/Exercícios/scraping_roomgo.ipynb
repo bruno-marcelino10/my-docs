{
 "cells": [
  {
   "cell_type": "markdown",
   "metadata": {},
   "source": [
    "# Teste passo-a-passo"
   ]
  },
  {
   "cell_type": "code",
   "execution_count": 245,
   "metadata": {},
   "outputs": [],
   "source": [
    "import requests\n",
    "from bs4 import BeautifulSoup\n",
    "import re\n",
    "from time import sleep\n",
    "import numpy as np\n",
    "import matplotlib.pyplot as plt\n",
    "import pandas as pd"
   ]
  },
  {
   "cell_type": "code",
   "execution_count": null,
   "metadata": {},
   "outputs": [],
   "source": [
    "\"https://www.roomgo.com.br/search/rooms/L21122818404351?rmin=0&rmax=5000&bed=1&pic=1&doub=0&furn=0&shor=0&amin=18&amax=99&hideagent=0&pag=1&srt=3&mvdt=2021-12-28&rad=20000&lat=-23.5630037&lng=-46.6864347\"\n",
    "\"https://www.roomgo.com.br/search/rooms/L21122818404351?rmin=0&rmax=5000&bed=1&pic=1&doub=0&furn=0&shor=0&amin=18&amax=99&hideagent=0&pag=2&srt=3&mvdt=2021-12-28&rad=20000&lat=-23.5630037&lng=-46.6864347\"\n",
    "\"https://www.roomgo.com.br/search/rooms/L21122818404351?rmin=0&rmax=5000&bed=1&pic=1&doub=0&furn=0&shor=0&amin=18&amax=99&hideagent=0&pag=3&srt=3&mvdt=2021-12-28&rad=20000&lat=-23.5630037&lng=-46.6864347\""
   ]
  },
  {
   "cell_type": "code",
   "execution_count": 350,
   "metadata": {},
   "outputs": [
    {
     "name": "stdout",
     "output_type": "stream",
     "text": [
      "https://www.roomgo.com.br/search/rooms/L21122818404351?rmin=0&rmax=5000&bed=1&pic=1&doub=0&furn=0&shor=0&amin=18&amax=99&hideagent=0&pag=2&srt=3&mvdt=2021-12-28&rad=20000&lat=-23.5630037&lng=-46.6864347\n",
      "https://www.roomgo.com.br/search/rooms/L21122818404351?rmin=0&rmax=5000&bed=1&pic=1&doub=0&furn=0&shor=0&amin=18&amax=99&hideagent=0&pag=3&srt=3&mvdt=2021-12-28&rad=20000&lat=-23.5630037&lng=-46.6864347\n",
      "https://www.roomgo.com.br/search/rooms/L21122818404351?rmin=0&rmax=5000&bed=1&pic=1&doub=0&furn=0&shor=0&amin=18&amax=99&hideagent=0&pag=4&srt=3&mvdt=2021-12-28&rad=20000&lat=-23.5630037&lng=-46.6864347\n"
     ]
    }
   ],
   "source": [
    "for i in get_sites_roomgo(5): print(i)"
   ]
  },
  {
   "cell_type": "code",
   "execution_count": 347,
   "metadata": {},
   "outputs": [
    {
     "name": "stdout",
     "output_type": "stream",
     "text": [
      "<Response [200]>\n"
     ]
    }
   ],
   "source": [
    "url = \"https://www.roomgo.com.br/search/rooms/L21122818404351?rmin=0&rmax=5000&bed=1&pic=1&doub=0&furn=0&shor=0&amin=18&amax=99&hideagent=0&pag=3&srt=3&mvdt=2021-12-28&rad=20000&lat=-23.5630037&lng=-46.6864347\"\n",
    "req = requests.get(url)\n",
    "html = req.text\n",
    "print(req)"
   ]
  },
  {
   "cell_type": "code",
   "execution_count": 348,
   "metadata": {},
   "outputs": [
    {
     "data": {
      "text/plain": [
       "['Bela Vista',\n",
       " 'Barra da Tijuca',\n",
       " 'Vila Yara',\n",
       " 'Vila Yara',\n",
       " 'Vila Isabel',\n",
       " 'Vila Matilde',\n",
       " 'Vila Isabel',\n",
       " 'Tatuapé',\n",
       " 'Centro',\n",
       " 'Jardim Paulista',\n",
       " 'Pinheiros',\n",
       " 'Maracanã',\n",
       " 'Bela Vista',\n",
       " 'Vila Mariana',\n",
       " 'Vila Mariana']"
      ]
     },
     "execution_count": 348,
     "metadata": {},
     "output_type": "execute_result"
    }
   ],
   "source": [
    "soup = BeautifulSoup(html)\n",
    "ruas = soup.find_all(\"span\", string = re.compile(\"(Rua|Av)\"))\n",
    "ruas = [i.string for i in ruas]\n",
    "ruas = [re.findall(\"[Rua|Av].*\\n\", i)[0][:-1] for i in ruas]\n",
    "bairros = [re.search(\",.*\", i).group()[2:] for i in ruas]\n",
    "bairros"
   ]
  },
  {
   "cell_type": "code",
   "execution_count": 349,
   "metadata": {},
   "outputs": [
    {
     "data": {
      "text/plain": [
       "['500',\n",
       " '1050',\n",
       " '1150',\n",
       " '880',\n",
       " '830',\n",
       " '1100',\n",
       " '850',\n",
       " '500',\n",
       " '750',\n",
       " '1200',\n",
       " '1000',\n",
       " '1300',\n",
       " '1500',\n",
       " '750',\n",
       " '1500']"
      ]
     },
     "execution_count": 349,
     "metadata": {},
     "output_type": "execute_result"
    }
   ],
   "source": [
    "texto = soup.get_text(strip = True)\n",
    "match = re.findall(\"[0-9.]* Por mês\", texto)\n",
    "precos = [i[:-8] for i in match]\n",
    "precos = [re.sub(\"\\.\", \"\", i) for i in precos]\n",
    "precos"
   ]
  },
  {
   "cell_type": "markdown",
   "metadata": {},
   "source": [
    "# FUNÇÃO"
   ]
  },
  {
   "cell_type": "code",
   "execution_count": null,
   "metadata": {},
   "outputs": [],
   "source": [
    "from bs4 import BeautifulSoup\n",
    "from time import sleep\n",
    "import pandas as pd\n",
    "import requests\n",
    "import re\n",
    "\n",
    "print(\"Define a quantidade de páginas a serem importadas\")\n",
    "def get_sites_roomgo(num):\n",
    "    sites = []\n",
    "    for i in range(1,num):\n",
    "        site = \"https://www.roomgo.com.br/search/rooms/L21122818404351?rmin=0&rmax=5000&bed=1&pic=1&doub=0&furn=0&shor=0&amin=18&amax=99&hideagent=0&pag={numero}&srt=3&mvdt=2021-12-28&rad=20000&lat=-23.5630037&lng=-46.6864347\".format(numero)\n",
    "        sites.append(site)\n",
    "    return(sites)\n",
    "\n",
    "print(\"Obs.: Se Response = 200, o request foi feito com sucesso\")\n",
    "print(\"--------------------------------------------------------\")\n",
    "n = int(input(\"Quantos sites serão importados? \"))\n",
    "urls = get_sites_roomgo(n)\n",
    "\n",
    "total_precos = []\n",
    "total_bairros = []\n",
    "for url in urls:\n",
    "    # Obtendo a n-ésima página\n",
    "    req = requests.get(url)\n",
    "    print(req)\n",
    "    html = req.text\n",
    "    soup = BeautifulSoup(html)\n",
    "    \n",
    "    # Obtendo Bairros\n",
    "    ruas = soup.find_all(\"span\", string = re.compile(\"(Rua|Av)\"))\n",
    "    ruas = [i.string for i in ruas]\n",
    "    ruas = [re.findall(\"[Rua|Av].*\\n\", i)[0][:-1] for i in ruas]\n",
    "    bairros = [re.search(\",.*\", i).group()[2:] for i in ruas]\n",
    "    \n",
    "    # Obtendo preços\n",
    "    texto = soup.get_text(strip = True)\n",
    "    match = re.findall(\"[0-9.]* Por mês\", texto)\n",
    "    precos = [i[:-8] for i in match]\n",
    "    precos = [re.sub(\"\\.\", \"\", i) for i in precos]\n",
    "    \n",
    "    total_precos.append(precos)\n",
    "    total_bairros.append(bairros)    \n",
    "    sleep(1)\n",
    "\n",
    "precos = [int(linha) for coluna in total_precos for linha in coluna]\n",
    "bairros = [linha for coluna in total_bairros for linha in coluna]\n",
    "\n",
    "df = pd.DataFrame({\"Preço\" : precos, \"Bairro\" : bairros})\n",
    "df.to_csv(\"Aluguéis SP por Bairro.csv\")"
   ]
  },
  {
   "cell_type": "markdown",
   "metadata": {},
   "source": [
    "# Análise dos Dados"
   ]
  },
  {
   "cell_type": "code",
   "execution_count": 339,
   "metadata": {},
   "outputs": [
    {
     "data": {
      "text/plain": [
       "[1150, 1000, 1100, 750, 880, 1200, 850, 500, 1300, 1050, 1500, 830]"
      ]
     },
     "execution_count": 339,
     "metadata": {},
     "output_type": "execute_result"
    }
   ],
   "source": [
    "list(set(precos))"
   ]
  },
  {
   "cell_type": "code",
   "execution_count": 340,
   "metadata": {},
   "outputs": [
    {
     "data": {
      "text/html": [
       "<div>\n",
       "<style scoped>\n",
       "    .dataframe tbody tr th:only-of-type {\n",
       "        vertical-align: middle;\n",
       "    }\n",
       "\n",
       "    .dataframe tbody tr th {\n",
       "        vertical-align: top;\n",
       "    }\n",
       "\n",
       "    .dataframe thead th {\n",
       "        text-align: right;\n",
       "    }\n",
       "</style>\n",
       "<table border=\"1\" class=\"dataframe\">\n",
       "  <thead>\n",
       "    <tr style=\"text-align: right;\">\n",
       "      <th></th>\n",
       "      <th>Preço</th>\n",
       "    </tr>\n",
       "  </thead>\n",
       "  <tbody>\n",
       "    <tr>\n",
       "      <th>count</th>\n",
       "      <td>120.000000</td>\n",
       "    </tr>\n",
       "    <tr>\n",
       "      <th>mean</th>\n",
       "      <td>990.666667</td>\n",
       "    </tr>\n",
       "    <tr>\n",
       "      <th>std</th>\n",
       "      <td>301.758803</td>\n",
       "    </tr>\n",
       "    <tr>\n",
       "      <th>min</th>\n",
       "      <td>500.000000</td>\n",
       "    </tr>\n",
       "    <tr>\n",
       "      <th>25%</th>\n",
       "      <td>750.000000</td>\n",
       "    </tr>\n",
       "    <tr>\n",
       "      <th>50%</th>\n",
       "      <td>1000.000000</td>\n",
       "    </tr>\n",
       "    <tr>\n",
       "      <th>75%</th>\n",
       "      <td>1200.000000</td>\n",
       "    </tr>\n",
       "    <tr>\n",
       "      <th>max</th>\n",
       "      <td>1500.000000</td>\n",
       "    </tr>\n",
       "  </tbody>\n",
       "</table>\n",
       "</div>"
      ],
      "text/plain": [
       "             Preço\n",
       "count   120.000000\n",
       "mean    990.666667\n",
       "std     301.758803\n",
       "min     500.000000\n",
       "25%     750.000000\n",
       "50%    1000.000000\n",
       "75%    1200.000000\n",
       "max    1500.000000"
      ]
     },
     "execution_count": 340,
     "metadata": {},
     "output_type": "execute_result"
    }
   ],
   "source": [
    "df.describe()"
   ]
  },
  {
   "cell_type": "markdown",
   "metadata": {},
   "source": [
    "### Média de preços por bairro"
   ]
  },
  {
   "cell_type": "code",
   "execution_count": 330,
   "metadata": {},
   "outputs": [
    {
     "data": {
      "text/plain": [
       "<AxesSubplot:title={'center':'Média do Aluguel por Bairro'}, xlabel='Bairro'>"
      ]
     },
     "execution_count": 330,
     "metadata": {},
     "output_type": "execute_result"
    },
    {
     "data": {
      "image/png": "[encoded data removed]",
      "text/plain": [
       "<Figure size 432x288 with 1 Axes>"
      ]
     },
     "metadata": {
      "needs_background": "light"
     },
     "output_type": "display_data"
    }
   ],
   "source": [
    "df.groupby(\"Bairro\")[\"Preço\"].mean().plot(kind = \"bar\", title = \"Média do Aluguel por Bairro\")"
   ]
  },
  {
   "cell_type": "code",
   "execution_count": 326,
   "metadata": {},
   "outputs": [
    {
     "data": {
      "text/plain": [
       "Bairro\n",
       "Barra da Tijuca    3\n",
       "Bela Vista         6\n",
       "Centro             3\n",
       "Jardim Paulista    3\n",
       "Maracanã           3\n",
       "Pinheiros          3\n",
       "Tatuapé            3\n",
       "Vila Isabel        6\n",
       "Vila Mariana       6\n",
       "Vila Matilde       3\n",
       "Vila Yara          6\n",
       "Name: Preço, dtype: int64"
      ]
     },
     "execution_count": 326,
     "metadata": {},
     "output_type": "execute_result"
    }
   ],
   "source": [
    "df.groupby(\"Bairro\")[\"Preço\"].count()"
   ]
  },
  {
   "cell_type": "code",
   "execution_count": null,
   "metadata": {},
   "outputs": [],
   "source": []
  }
 ],
 "metadata": {
  "kernelspec": {
   "display_name": "Python 3 (ipykernel)",
   "language": "python",
   "name": "python3"
  },
  "language_info": {
   "codemirror_mode": {
    "name": "ipython",
    "version": 3
   },
   "file_extension": ".py",
   "mimetype": "text/x-python",
   "name": "python",
   "nbconvert_exporter": "python",
   "pygments_lexer": "ipython3",
   "version": "3.8.5"
  }
 },
 "nbformat": 4,
 "nbformat_minor": 4
}
