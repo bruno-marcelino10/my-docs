{
 "cells": [
  {
   "cell_type": "markdown",
   "metadata": {},
   "source": [
    "Utilize o conhecimento adquirido até agora sobre expressões regulares e urllib para realizar a seguinte tarefa:\n",
    "\n",
    "- Capture o conteúdo da página \"http://pythonparatodos.com.br/aula.html\" e utilize expressões regulares para encontrar e-mail e número de telefone existentes na página.\n",
    "\n",
    "Obs.: O número de telefone informado na página tem um espaço entre o DDD e o primeiro nove: \"(28) 99948-3074\"."
   ]
  },
  {
   "cell_type": "markdown",
   "metadata": {},
   "source": [
    "### URLLIB"
   ]
  },
  {
   "cell_type": "code",
   "execution_count": 2,
   "metadata": {},
   "outputs": [
    {
     "name": "stdout",
     "output_type": "stream",
     "text": [
      "['contato@pythonparatodos.com.br', 'contato@pythonparatodos.com.br']\n",
      "['(28) 99948-3074']\n"
     ]
    }
   ],
   "source": [
    "import re\n",
    "from urllib.request import urlopen\n",
    "from urllib.request import Request\n",
    "\n",
    "req = Request(\"http://pythonparatodos.com.br/aula.html\",\n",
    "              headers={'User-Agent': 'Mozilla/5.0 (Macintosh; Intel Mac OS X 10_9_3) AppleWebKit/537.36 (KHTML, like Gecko) Chrome/35.0.1916.47 Safari/537.36'})\n",
    "\n",
    "html = urlopen(req)\n",
    "texto = html.read()\n",
    "\n",
    "padrao = r'[\\w.-]+@[\\w.-]+'\n",
    "resultado = re.findall(padrao, str(texto))\n",
    "print(resultado)\n",
    "\n",
    "padrao = r'\\(\\d{2}\\) \\d{5}\\-\\d{4}'\n",
    "resultado = re.findall(padrao, str(texto))\n",
    "print(resultado)"
   ]
  },
  {
   "cell_type": "markdown",
   "metadata": {},
   "source": [
    "### REQUESTS"
   ]
  },
  {
   "cell_type": "code",
   "execution_count": 16,
   "metadata": {},
   "outputs": [
    {
     "name": "stdout",
     "output_type": "stream",
     "text": [
      "['contato@pythonparatodos.com.br', 'contato@pythonparatodos.com.br']\n",
      "['(28) 99948-3074']\n"
     ]
    }
   ],
   "source": [
    "import re\n",
    "import requests\n",
    "\n",
    "req = requests.get(\"http://pythonparatodos.com.br/aula.html\", headers = {'User-Agent': 'Mozilla/5.0 (Macintosh; Intel Mac OS X 10_9_3) AppleWebKit/537.36 (KHTML, like Gecko) Chrome/35.0.1916.47 Safari/537.36'})\n",
    "texto = req.text\n",
    "\n",
    "padrao = r'[\\w.-]+@[\\w.-]+'\n",
    "resultado = re.findall(padrao, str(texto))\n",
    "print(resultado)\n",
    "\n",
    "padrao = r'\\(\\d{2}\\) \\d{5}\\-\\d{4}'\n",
    "resultado = re.findall(padrao, str(texto))\n",
    "print(resultado)"
   ]
  }
 ],
 "metadata": {
  "kernelspec": {
   "display_name": "Python 3 (ipykernel)",
   "language": "python",
   "name": "python3"
  },
  "language_info": {
   "codemirror_mode": {
    "name": "ipython",
    "version": 3
   },
   "file_extension": ".py",
   "mimetype": "text/x-python",
   "name": "python",
   "nbconvert_exporter": "python",
   "pygments_lexer": "ipython3",
   "version": "3.8.5"
  }
 },
 "nbformat": 4,
 "nbformat_minor": 4
}
