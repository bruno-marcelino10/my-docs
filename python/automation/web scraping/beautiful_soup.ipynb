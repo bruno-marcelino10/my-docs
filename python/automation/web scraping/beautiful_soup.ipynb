{
 "cells": [
  {
   "cell_type": "markdown",
   "metadata": {},
   "source": [
    "# BeautifulSoup"
   ]
  },
  {
   "cell_type": "markdown",
   "metadata": {},
   "source": [
    "É uma biblioteca criada para facilitar a análise e extração de dados de documentos HTML e XML dados como strings. "
   ]
  },
  {
   "cell_type": "markdown",
   "metadata": {},
   "source": [
    "Para analisar um documento, devemos passá-lo como argumento dentro de um construtor BeautifulSoup. Você pode passar este argumento como uma string, e o BeautifulSoup então interpreta o documento usando o melhor parser disponível."
   ]
  },
  {
   "cell_type": "markdown",
   "metadata": {},
   "source": [
    "O BeautifulSoup transforma um documento HTML complexo em uma complexa árvore de objetos Python que podem ser acessados a partir do objeto `soup` original"
   ]
  },
  {
   "cell_type": "markdown",
   "metadata": {},
   "source": [
    "**Documentação:** https://www.crummy.com/software/BeautifulSoup/bs4/doc.ptbr/"
   ]
  },
  {
   "cell_type": "markdown",
   "metadata": {},
   "source": [
    "### Tags"
   ]
  },
  {
   "cell_type": "markdown",
   "metadata": {},
   "source": [
    "As tags podem conter strings e outras tags. Estes elementos são as tags filhas (children). O BeautifulSoup oferece diferentes atributos para navegar e iterar sobre as tags filhas."
   ]
  },
  {
   "cell_type": "markdown",
   "metadata": {},
   "source": [
    "São passadas como atributos do objeto `soup`, e possuem métodos e atributos importantes. A primeira ocorrência da tag é revelada. Caso desejamos todas as ocorrências da tag escolhida, utilizamos a função soup.find_all[\"tag\"] que retorna uma lista com cada tag encontrada."
   ]
  },
  {
   "cell_type": "markdown",
   "metadata": {},
   "source": [
    "Métodos das Tags: (Acessáveis com soup.tag)\n",
    "* name: retorna o nome da tag\n",
    "* attrs: retorna os atributos HTML que estão dentro da tag\n",
    "* tag[\"atributo\"]: retorna o valor correspondente a esse atributo HTML dentro da tag\n",
    "* string: retorna o texto escrito dentro de uma tag (NavigableString)\n",
    "* contents: retorna as tags filhas\n",
    "* parent: retorna a tag que engloba a atual"
   ]
  },
  {
   "cell_type": "markdown",
   "metadata": {},
   "source": [
    "### Exemplo:"
   ]
  },
  {
   "cell_type": "code",
   "execution_count": 7,
   "metadata": {},
   "outputs": [],
   "source": [
    "html = \"\"\"<html><head><title>The Dormouse's story</title></head>\n",
    "          <body>\n",
    "          <p class=\"title\"><b>The Dormouse's story</b></p>\n",
    "\n",
    "          <p class=\"story\">Once upon a time there were three little sisters; and their names were\n",
    "          <a href=\"http://example.com/elsie\" class=\"sister\" id=\"link1\">Elsie</a>,\n",
    "          <a href=\"http://example.com/lacie\" class=\"sister\" id=\"link2\">Lacie</a> and\n",
    "          <a href=\"http://example.com/tillie\" class=\"sister\" id=\"link3\">Tillie</a>;\n",
    "          and they lived at the bottom of a well.</p>\n",
    "\n",
    "          <p class=\"story\">...</p>\"\"\""
   ]
  },
  {
   "cell_type": "code",
   "execution_count": 8,
   "metadata": {},
   "outputs": [],
   "source": [
    "from bs4 import BeautifulSoup\n",
    "soup = BeautifulSoup(html, \"html.parser\")"
   ]
  },
  {
   "cell_type": "code",
   "execution_count": 48,
   "metadata": {
    "scrolled": true
   },
   "outputs": [
    {
     "name": "stdout",
     "output_type": "stream",
     "text": [
      "The Dormouse's story\n",
      "\n",
      "The Dormouse's story\n",
      "Once upon a time there were three little sisters; and their names were\n",
      "          Elsie,\n",
      "          Lacie and\n",
      "          Tillie;\n",
      "          and they lived at the bottom of a well.\n",
      "...\n",
      "-------------------------------------------------------\n",
      "<html>\n",
      " <head>\n",
      "  <title>\n",
      "   The Dormouse's story\n",
      "  </title>\n",
      " </head>\n",
      " <body>\n",
      "  <p class=\"title\">\n",
      "   <b>\n",
      "    The Dormouse's story\n",
      "   </b>\n",
      "  </p>\n",
      "  <p class=\"story\">\n",
      "   Once upon a time there were three little sisters; and their names were\n",
      "   <a class=\"sister\" href=\"http://example.com/elsie\" id=\"link1\">\n",
      "    Elsie\n",
      "   </a>\n",
      "   ,\n",
      "   <a class=\"sister\" href=\"http://example.com/lacie\" id=\"link2\">\n",
      "    Lacie\n",
      "   </a>\n",
      "   and\n",
      "   <a class=\"sister\" href=\"http://example.com/tillie\" id=\"link3\">\n",
      "    Tillie\n",
      "   </a>\n",
      "   ;\n",
      "          and they lived at the bottom of a well.\n",
      "  </p>\n",
      "  <p class=\"story\">\n",
      "   ...\n",
      "  </p>\n",
      " </body>\n",
      "</html>\n"
     ]
    }
   ],
   "source": [
    "print(soup.get_text()) # Retorna somente as strings do documento\n",
    "print(\"-------------------------------------------------------\")\n",
    "print(soup.prettify()) # pretty-printing do HTML"
   ]
  },
  {
   "cell_type": "code",
   "execution_count": 62,
   "metadata": {},
   "outputs": [
    {
     "name": "stdout",
     "output_type": "stream",
     "text": [
      "head:  <head><title>The Dormouse's story</title></head>\n",
      "-------------------------------------------------------\n",
      "String:  The Dormouse's story\n",
      "-------------------------------------------------------\n",
      "p:  <p class=\"title\"><b>The Dormouse's story</b></p>\n",
      "-------------------------------------------------------\n",
      "b:  <b>The Dormouse's story</b>\n",
      "-------------------------------------------------------\n",
      "b parente de p:  <p class=\"title\"><b>The Dormouse's story</b></p>\n",
      "-------------------------------------------------------\n",
      "p contém atributo 'classe':  True\n"
     ]
    }
   ],
   "source": [
    "print(\"head: \",soup.head) # primeira ocorrência da tag head\n",
    "print(\"-------------------------------------------------------\")\n",
    "print(\"String: \",soup.title.string) # retorna a string situada dentro da tag\n",
    "print(\"-------------------------------------------------------\")\n",
    "print(\"p: \",soup.p) # primeira ocorrência da tag p\n",
    "print(\"-------------------------------------------------------\")\n",
    "print(\"b: \",soup.p.b) # primeira ocorrência da tag b dentro da tag p\n",
    "print(\"-------------------------------------------------------\")\n",
    "print(\"b parente de p: \",soup.b.parent) # primeira ocorrência da tag b dentro da tag p\n",
    "print(\"-------------------------------------------------------\")\n",
    "print(\"p contém atributo 'classe': \",soup.p.has_attr(\"class\")) # primeira ocorrência da tag b dentro da tag p"
   ]
  },
  {
   "cell_type": "code",
   "execution_count": 52,
   "metadata": {},
   "outputs": [
    {
     "name": "stdout",
     "output_type": "stream",
     "text": [
      "<p class=\"title\"><b>The Dormouse's story</b></p>\n",
      "<p class=\"story\">Once upon a time there were three little sisters; and their names were\n",
      "          <a class=\"sister\" href=\"http://example.com/elsie\" id=\"link1\">Elsie</a>,\n",
      "          <a class=\"sister\" href=\"http://example.com/lacie\" id=\"link2\">Lacie</a> and\n",
      "          <a class=\"sister\" href=\"http://example.com/tillie\" id=\"link3\">Tillie</a>;\n",
      "          and they lived at the bottom of a well.</p>\n",
      "<p class=\"story\">...</p>\n",
      "-------------------------------------------------------\n",
      "body:  <p class=\"title\"><b>The Dormouse's story</b></p>\n"
     ]
    }
   ],
   "source": [
    "for i in soup.body.contents: # lista todas as tags dentro de \"body\"\n",
    "    if i != \"\\n\": # strings vazias\n",
    "        print(i) \n",
    "print(\"-------------------------------------------------------\")\n",
    "print(\"body: \",soup.body.contents[1]) # acessa uma das tags"
   ]
  },
  {
   "cell_type": "markdown",
   "metadata": {},
   "source": [
    "### FIND_ALL( ): Filtrar ocorrências de uma tag ou expressão regular (regex)"
   ]
  },
  {
   "cell_type": "markdown",
   "metadata": {},
   "source": [
    "Argumentos:\n",
    "* name: busca o nome de uma ou mais tags\n",
    "\n",
    "* kwargs: a função reconhece qualquer argumento que não esteja entre os descritos como kwargs. Eles filtram as tags que contém determinada palavra-chave como atributo HTML dentro dela. \n",
    ">Ex.: soup.find_all(id = \"link3\")\n",
    "\n",
    "* attrs: é um dicionário com função idêntica ao dos kwargs. Busca tags que possuem um atributo e um valor associado a ele.\n",
    ">Ex.: soup.find_all(attrs = {\"id\":\"link3\"})\n",
    "\n",
    "* string: permite buscar por strings ao invés de tags\n",
    "\n",
    "* limit: define a quantidade máxima de ocorrências que devemos filtrar e armazenar na lista"
   ]
  },
  {
   "cell_type": "markdown",
   "metadata": {},
   "source": [
    "#### name"
   ]
  },
  {
   "cell_type": "code",
   "execution_count": 59,
   "metadata": {
    "scrolled": true
   },
   "outputs": [
    {
     "name": "stdout",
     "output_type": "stream",
     "text": [
      "<b>The Dormouse's story</b>\n"
     ]
    }
   ],
   "source": [
    "for i in soup.find_all(\"b\"): print(i) # retorna uma lista com as ocorrências da tag \"b\" "
   ]
  },
  {
   "cell_type": "code",
   "execution_count": 61,
   "metadata": {},
   "outputs": [
    {
     "name": "stdout",
     "output_type": "stream",
     "text": [
      "<b>The Dormouse's story</b>\n",
      "<a class=\"sister\" href=\"http://example.com/elsie\" id=\"link1\">Elsie</a>\n",
      "<a class=\"sister\" href=\"http://example.com/lacie\" id=\"link2\">Lacie</a>\n",
      "<a class=\"sister\" href=\"http://example.com/tillie\" id=\"link3\">Tillie</a>\n"
     ]
    }
   ],
   "source": [
    "for i in soup.find_all([\"a\", \"b\"]): print(i) # retorna uma lista com as ocorrências das tags \"a\" ou \"b\" "
   ]
  },
  {
   "cell_type": "code",
   "execution_count": 60,
   "metadata": {},
   "outputs": [
    {
     "name": "stdout",
     "output_type": "stream",
     "text": [
      "<body>\n",
      "<p class=\"title\"><b>The Dormouse's story</b></p>\n",
      "<p class=\"story\">Once upon a time there were three little sisters; and their names were\n",
      "          <a class=\"sister\" href=\"http://example.com/elsie\" id=\"link1\">Elsie</a>,\n",
      "          <a class=\"sister\" href=\"http://example.com/lacie\" id=\"link2\">Lacie</a> and\n",
      "          <a class=\"sister\" href=\"http://example.com/tillie\" id=\"link3\">Tillie</a>;\n",
      "          and they lived at the bottom of a well.</p>\n",
      "<p class=\"story\">...</p></body>\n",
      "<b>The Dormouse's story</b>\n"
     ]
    }
   ],
   "source": [
    "import re \n",
    "for i in soup.find_all(re.compile(\"^b\")): print(i) # retorna uma lista com as tags que começam com a letra b "
   ]
  },
  {
   "cell_type": "markdown",
   "metadata": {},
   "source": [
    "#### kwargs"
   ]
  },
  {
   "cell_type": "code",
   "execution_count": 70,
   "metadata": {},
   "outputs": [
    {
     "name": "stdout",
     "output_type": "stream",
     "text": [
      "<a class=\"sister\" href=\"http://example.com/tillie\" id=\"link3\">Tillie</a>\n"
     ]
    }
   ],
   "source": [
    "for i in soup.find_all(id = \"link3\"): print(i) # tags que possuem o atributo HTML \"id\" como sendo igual a \"link3\" "
   ]
  },
  {
   "cell_type": "code",
   "execution_count": 71,
   "metadata": {},
   "outputs": [
    {
     "name": "stdout",
     "output_type": "stream",
     "text": [
      "<a class=\"sister\" href=\"http://example.com/elsie\" id=\"link1\">Elsie</a>\n",
      "<a class=\"sister\" href=\"http://example.com/lacie\" id=\"link2\">Lacie</a>\n",
      "<a class=\"sister\" href=\"http://example.com/tillie\" id=\"link3\">Tillie</a>\n"
     ]
    }
   ],
   "source": [
    "for i in soup.find_all(id = True): print(i) # tags que possuem o atributo \"id\" não-nulo "
   ]
  },
  {
   "cell_type": "markdown",
   "metadata": {},
   "source": [
    "#### attrs"
   ]
  },
  {
   "cell_type": "code",
   "execution_count": 75,
   "metadata": {},
   "outputs": [
    {
     "name": "stdout",
     "output_type": "stream",
     "text": [
      "<a class=\"sister\" href=\"http://example.com/tillie\" id=\"link3\">Tillie</a>\n"
     ]
    }
   ],
   "source": [
    "for i in soup.find_all(attrs = {\"id\" : \"link3\"}): print(i) # tags que possuem o atributo \"id = link3\""
   ]
  },
  {
   "cell_type": "markdown",
   "metadata": {},
   "source": [
    "#### string"
   ]
  },
  {
   "cell_type": "code",
   "execution_count": 80,
   "metadata": {},
   "outputs": [
    {
     "data": {
      "text/plain": [
       "[<a class=\"sister\" href=\"http://example.com/elsie\" id=\"link1\">Elsie</a>]"
      ]
     },
     "execution_count": 80,
     "metadata": {},
     "output_type": "execute_result"
    }
   ],
   "source": [
    "soup.find_all(\"a\", string = \"Elsie\") # ocorrência da string Elsie dentro da tag \"a\""
   ]
  },
  {
   "cell_type": "markdown",
   "metadata": {},
   "source": [
    "#### limit"
   ]
  },
  {
   "cell_type": "code",
   "execution_count": 79,
   "metadata": {},
   "outputs": [
    {
     "name": "stdout",
     "output_type": "stream",
     "text": [
      "<a class=\"sister\" href=\"http://example.com/elsie\" id=\"link1\">Elsie</a>\n",
      "<a class=\"sister\" href=\"http://example.com/lacie\" id=\"link2\">Lacie</a>\n"
     ]
    }
   ],
   "source": [
    "for i in soup.find_all(\"a\", limit = 2): print(i) # primeiras duas ocorrências da tag \"a\""
   ]
  },
  {
   "cell_type": "code",
   "execution_count": null,
   "metadata": {},
   "outputs": [],
   "source": []
  }
 ],
 "metadata": {
  "kernelspec": {
   "display_name": "Python 3 (ipykernel)",
   "language": "python",
   "name": "python3"
  },
  "language_info": {
   "codemirror_mode": {
    "name": "ipython",
    "version": 3
   },
   "file_extension": ".py",
   "mimetype": "text/x-python",
   "name": "python",
   "nbconvert_exporter": "python",
   "pygments_lexer": "ipython3",
   "version": "3.8.5"
  }
 },
 "nbformat": 4,
 "nbformat_minor": 4
}
