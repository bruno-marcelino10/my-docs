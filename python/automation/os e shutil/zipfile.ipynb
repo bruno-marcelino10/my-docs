{
 "cells": [
  {
   "cell_type": "markdown",
   "metadata": {},
   "source": [
    "# Manipular arquivos em formato ZIP"
   ]
  },
  {
   "cell_type": "markdown",
   "metadata": {},
   "source": [
    "A \"zipagem\" permite comprimir uma pasta inteira (que contém arquivos e outras subpastas) em um só arquivo que é bem mais leve, e facilita a transmissão de arquivos por e-mail ou afins. O pacote `zipfile` permite abrir, extrair e criar arquivos do tipo .zip"
   ]
  },
  {
   "cell_type": "code",
   "execution_count": 1,
   "metadata": {},
   "outputs": [],
   "source": [
    "import os\n",
    "import shutil\n",
    "import zipfile"
   ]
  },
  {
   "cell_type": "markdown",
   "metadata": {},
   "source": [
    "Para criar um objeto do tipo ZipFile (que pode ser acessado de diversas maneiras), utilizamos a função ZipFile"
   ]
  },
  {
   "cell_type": "code",
   "execution_count": 3,
   "metadata": {},
   "outputs": [],
   "source": [
    "arquivo = zipfile.ZipFile(\"example.zip\") "
   ]
  },
  {
   "cell_type": "code",
   "execution_count": 4,
   "metadata": {},
   "outputs": [
    {
     "data": {
      "text/plain": [
       "['spam.txt', 'cats/', 'cats/catnames.txt', 'cats/zophie.jpg']"
      ]
     },
     "execution_count": 4,
     "metadata": {},
     "output_type": "execute_result"
    }
   ],
   "source": [
    "arquivo.namelist() # arquivos dentro do zip"
   ]
  },
  {
   "cell_type": "code",
   "execution_count": 11,
   "metadata": {},
   "outputs": [],
   "source": [
    "sub_arquivo = arquivo.getinfo(\"spam.txt\") # cria objeto do tipo ZipInfo\n"
   ]
  },
  {
   "cell_type": "code",
   "execution_count": 12,
   "metadata": {},
   "outputs": [
    {
     "data": {
      "text/plain": [
       "13908"
      ]
     },
     "execution_count": 12,
     "metadata": {},
     "output_type": "execute_result"
    }
   ],
   "source": [
    "sub_arquivo.file_size"
   ]
  },
  {
   "cell_type": "code",
   "execution_count": 13,
   "metadata": {
    "scrolled": true
   },
   "outputs": [
    {
     "data": {
      "text/plain": [
       "3828"
      ]
     },
     "execution_count": 13,
     "metadata": {},
     "output_type": "execute_result"
    }
   ],
   "source": [
    "sub_arquivo.compress_size"
   ]
  },
  {
   "cell_type": "code",
   "execution_count": 21,
   "metadata": {},
   "outputs": [],
   "source": [
    "arquivo.close() # permite acessar o arquivo de forma diferente"
   ]
  },
  {
   "cell_type": "markdown",
   "metadata": {},
   "source": [
    "### Criar novo ZIP e escrever arquivos nele"
   ]
  },
  {
   "cell_type": "markdown",
   "metadata": {},
   "source": [
    "Ocorre de forma similar ao método write para manipular arquivos de puro-texto (plain-text).\n",
    "\n",
    "Primeiro criamos um objeto ZipFile que possui um nome e abrimos no modo \"write\". Depois, acrescentamos um arquivo nesse objeto com o módulo .write(path) e fechamos. \n",
    "\n",
    "Processo similar necessário para adicionar arquivos a um ZipFile já existente, abrindo-o no modo \"append\" e usando o módulo .write(path)\n",
    "\n",
    "**Obs.:** O tipo de compressão que funciona com todos os arquivos é o `ZIP_DEFLATED`."
   ]
  },
  {
   "cell_type": "code",
   "execution_count": 20,
   "metadata": {},
   "outputs": [
    {
     "name": "stdout",
     "output_type": "stream",
     "text": [
      "Arquivos dentro do zip: ['teste/teste.txt']\n"
     ]
    }
   ],
   "source": [
    "arquivo_novo = zipfile.ZipFile(\"novo.zip\", \"w\")\n",
    "arquivo_novo.write(\"teste\\\\teste.txt\", compress_type = zipfile.ZIP_DEFLATED)\n",
    "\n",
    "print(\"Arquivos dentro do zip:\", arquivo_novo.namelist())\n",
    "arquivo_novo.close()"
   ]
  },
  {
   "cell_type": "markdown",
   "metadata": {},
   "source": [
    "### Extrair arquivos do ZIP"
   ]
  },
  {
   "cell_type": "markdown",
   "metadata": {},
   "source": [
    "* ZipFile.extractall() <- extrai todos os arquivos que estão dentro do ZIP para o cwd\n",
    "\n",
    "\n",
    "* ZipFile.extract(\"arquivo\", \"pasta\") <- extrai o arquivo desejado para a pasta desejada"
   ]
  },
  {
   "cell_type": "code",
   "execution_count": 23,
   "metadata": {},
   "outputs": [],
   "source": [
    "arquivo = zipfile.ZipFile(\"example.zip\") \n",
    "arquivo.extractall()\n",
    "arquivo.close()"
   ]
  },
  {
   "cell_type": "code",
   "execution_count": 24,
   "metadata": {},
   "outputs": [
    {
     "data": {
      "text/plain": [
       "['.ipynb_checkpoints',\n",
       " 'Automate_the_Boring_Stuff_2e_onlinematerials.zip',\n",
       " 'cats',\n",
       " 'example.zip',\n",
       " 'novo.zip',\n",
       " 'paths.ipynb',\n",
       " 'shutil .ipynb',\n",
       " 'spam.txt',\n",
       " 'teste',\n",
       " 'teste2',\n",
       " 'zipfile.ipynb']"
      ]
     },
     "execution_count": 24,
     "metadata": {},
     "output_type": "execute_result"
    }
   ],
   "source": [
    "os.listdir() # spam.txt (estava dentro do zip) aparece no cwd"
   ]
  },
  {
   "cell_type": "code",
   "execution_count": null,
   "metadata": {},
   "outputs": [],
   "source": []
  }
 ],
 "metadata": {
  "kernelspec": {
   "display_name": "Python 3",
   "language": "python",
   "name": "python3"
  },
  "language_info": {
   "codemirror_mode": {
    "name": "ipython",
    "version": 3
   },
   "file_extension": ".py",
   "mimetype": "text/x-python",
   "name": "python",
   "nbconvert_exporter": "python",
   "pygments_lexer": "ipython3",
   "version": "3.8.5"
  }
 },
 "nbformat": 4,
 "nbformat_minor": 4
}
