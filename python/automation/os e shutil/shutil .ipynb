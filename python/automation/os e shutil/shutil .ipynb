{
 "cells": [
  {
   "cell_type": "markdown",
   "metadata": {},
   "source": [
    "# Organização de arquivos\n"
   ]
  },
  {
   "cell_type": "markdown",
   "metadata": {},
   "source": [
    "O módulo ``shutil`` (shell utilities) permite acessar diversas funções que servem para copiar, mover, renomear e deletar arquivos do computador.\n",
    "\n",
    "> shutil.copy(arquivo, destino) <- copiar arquivos para a pasta desejada. \n",
    "\n",
    "> shutil.move(arquivo, destino) <- move arquivos até a pasta desejada\n",
    "\n",
    "> shutil.rmtree(pasta) <- remove pastas e seus conteudos DE FORMA IRREVERSÍVEL\n",
    "\n",
    ">\n",
    "\n",
    "**Obs.:** \n",
    "\n",
    "* Se o path de \"destino\" conter o nome de um arquivo, esse será seu novo nome. Caso somente seja especificada a pasta de destino do arquivo, ele será transportado com o mesmo nome. \n",
    "\n",
    "* As pastas do path inserido deverão existir previamente no PC para que as funções se apliquem corretamente. As funções não criam pastas novas. "
   ]
  },
  {
   "cell_type": "markdown",
   "metadata": {},
   "source": [
    "**Importante**: Para habilitar a visualização das extensões dos arquivos do computador no Windows, basta ir em:\n",
    "\n",
    "> Painel de Controle -> Aparência e Personalização -> Opções do Explorador de Arquivos -> Modo de Exibição -> Ocultar extensões de arquivos conhecidos "
   ]
  },
  {
   "cell_type": "code",
   "execution_count": 2,
   "metadata": {},
   "outputs": [],
   "source": [
    "import shutil\n",
    "import os"
   ]
  },
  {
   "cell_type": "code",
   "execution_count": 12,
   "metadata": {},
   "outputs": [
    {
     "data": {
      "text/plain": [
       "'C:\\\\Users\\\\Bruno Marcelino\\\\Dropbox\\\\Programação\\\\Python\\\\estudos\\\\os e shutil'"
      ]
     },
     "execution_count": 12,
     "metadata": {},
     "output_type": "execute_result"
    }
   ],
   "source": [
    "os.getcwd() # lista o cwd"
   ]
  },
  {
   "cell_type": "code",
   "execution_count": 6,
   "metadata": {},
   "outputs": [
    {
     "data": {
      "text/plain": [
       "['.ipynb_checkpoints', 'paths.ipynb', 'shutil .ipynb', 'teste', 'teste2']"
      ]
     },
     "execution_count": 6,
     "metadata": {},
     "output_type": "execute_result"
    }
   ],
   "source": [
    "os.listdir() # lista os arquivos contidos no cwd (se não tem extensão, é uma pasta)"
   ]
  },
  {
   "cell_type": "markdown",
   "metadata": {},
   "source": [
    "### Copiando arquivos"
   ]
  },
  {
   "cell_type": "code",
   "execution_count": 15,
   "metadata": {},
   "outputs": [
    {
     "data": {
      "text/plain": [
       "'teste2\\\\teste.txt'"
      ]
     },
     "execution_count": 15,
     "metadata": {},
     "output_type": "execute_result"
    }
   ],
   "source": [
    "shutil.copy(\"teste\\\\teste.txt\", \"teste2\") # retorna o nome do arquivo criado"
   ]
  },
  {
   "cell_type": "code",
   "execution_count": 16,
   "metadata": {},
   "outputs": [
    {
     "data": {
      "text/plain": [
       "'teste2\\\\teste2.txt'"
      ]
     },
     "execution_count": 16,
     "metadata": {},
     "output_type": "execute_result"
    }
   ],
   "source": [
    "shutil.copy(\"teste\\\\teste.txt\", \"teste2\\\\teste2.txt\") # Se destino conter o nome de um arquivo, esse será o nome da cópia criada. "
   ]
  },
  {
   "cell_type": "code",
   "execution_count": 18,
   "metadata": {},
   "outputs": [
    {
     "data": {
      "text/plain": [
       "'teste2\\\\teste3'"
      ]
     },
     "execution_count": 18,
     "metadata": {},
     "output_type": "execute_result"
    }
   ],
   "source": [
    "shutil.copytree(\"teste\", \"teste2\\\\teste3\") # copia uma pasta inteira "
   ]
  },
  {
   "cell_type": "markdown",
   "metadata": {},
   "source": [
    "### Movendo arquivos"
   ]
  },
  {
   "cell_type": "code",
   "execution_count": 21,
   "metadata": {},
   "outputs": [
    {
     "data": {
      "text/plain": [
       "'teste2\\\\teste_movido.txt'"
      ]
     },
     "execution_count": 21,
     "metadata": {},
     "output_type": "execute_result"
    }
   ],
   "source": [
    "shutil.move(\"teste2\\\\teste3\\\\teste.txt\", \"teste2\\\\teste_movido.txt\") # cuidado! caso haja um arquivo com o mesmo nome, a função o sobrescreve"
   ]
  },
  {
   "cell_type": "code",
   "execution_count": 23,
   "metadata": {},
   "outputs": [
    {
     "data": {
      "text/plain": [
       "['.ipynb_checkpoints']"
      ]
     },
     "execution_count": 23,
     "metadata": {},
     "output_type": "execute_result"
    }
   ],
   "source": [
    "os.listdir(\"teste2\\\\teste3\") # arquivo foi corretamente removido e deslocado"
   ]
  },
  {
   "cell_type": "markdown",
   "metadata": {},
   "source": [
    "### Remover arquivos\n",
    "\n",
    "* os.unlink(path) = remove um arquivo\n",
    "\n",
    "* os.rmdir(path) = remove uma pasta VAZIA\n",
    "\n",
    "* shutil.rmtree(path) = remove uma pasta e os arquivos dentro dela"
   ]
  },
  {
   "cell_type": "code",
   "execution_count": 25,
   "metadata": {},
   "outputs": [],
   "source": [
    "os.unlink(\"teste2\\\\teste_movido.txt\") # remove arquivos"
   ]
  },
  {
   "cell_type": "code",
   "execution_count": 26,
   "metadata": {},
   "outputs": [
    {
     "data": {
      "text/plain": [
       "['teste.txt', 'teste2.txt', 'teste3']"
      ]
     },
     "execution_count": 26,
     "metadata": {},
     "output_type": "execute_result"
    }
   ],
   "source": [
    "os.listdir(\"teste2\") # arquivo foi corretamente removido"
   ]
  },
  {
   "cell_type": "code",
   "execution_count": 28,
   "metadata": {},
   "outputs": [],
   "source": [
    "shutil.rmtree(\"teste2\\\\teste3\") # remove pastas"
   ]
  },
  {
   "cell_type": "code",
   "execution_count": 29,
   "metadata": {},
   "outputs": [
    {
     "data": {
      "text/plain": [
       "['teste.txt', 'teste2.txt']"
      ]
     },
     "execution_count": 29,
     "metadata": {},
     "output_type": "execute_result"
    }
   ],
   "source": [
    "os.listdir(\"teste2\") # arquivo foi corretamente removido"
   ]
  },
  {
   "cell_type": "markdown",
   "metadata": {},
   "source": [
    "### Bônus: identificar arquivos dentro de um diretório pelo nome"
   ]
  },
  {
   "cell_type": "code",
   "execution_count": 40,
   "metadata": {},
   "outputs": [
    {
     "name": "stdout",
     "output_type": "stream",
     "text": [
      "True\n",
      "False\n"
     ]
    }
   ],
   "source": [
    "# Exemplo\n",
    "string = \"anotaram a data da maratona\"\n",
    "\n",
    "print(string.endswith(\"maratona\")) \n",
    "print(string.startswith(\"maratona\")) "
   ]
  },
  {
   "cell_type": "code",
   "execution_count": 32,
   "metadata": {},
   "outputs": [
    {
     "data": {
      "text/plain": [
       "['teste.txt', 'teste2.txt']"
      ]
     },
     "execution_count": 32,
     "metadata": {},
     "output_type": "execute_result"
    }
   ],
   "source": [
    "os.listdir(\"teste2\") # retorna uma lista de strings"
   ]
  },
  {
   "cell_type": "code",
   "execution_count": 37,
   "metadata": {},
   "outputs": [
    {
     "name": "stdout",
     "output_type": "stream",
     "text": [
      "arquivo preservado\n",
      "arquivo removido\n"
     ]
    }
   ],
   "source": [
    "for arquivo in os.listdir(\"teste2\"): \n",
    "    if arquivo.endswith(\"2.txt\"): \n",
    "        print(\"arquivo removido\")\n",
    "        #os.unlink(arquivo)\n",
    "    else:\n",
    "        print(\"arquivo preservado\")"
   ]
  },
  {
   "cell_type": "markdown",
   "metadata": {},
   "source": [
    "### Localizar elementos de uma pasta\n",
    "\n",
    "> os.walk(pasta) --> cria uma tupla com três elementos principais de uma pasta\n",
    "\n",
    "* Nome da pasta\n",
    "\n",
    "* Nome das subpastas dentro da pasta\n",
    "\n",
    "* Nome dos arquivos dentro da pasta\n",
    "\n",
    "A função cria um objeto único que pode ser acessado via for loop para iterar dentro de várias pastas, ou transformado em lista e depois printado. "
   ]
  },
  {
   "cell_type": "code",
   "execution_count": 49,
   "metadata": {},
   "outputs": [
    {
     "name": "stdout",
     "output_type": "stream",
     "text": [
      "('teste2', [], ['teste.txt', 'teste2.txt'])\n"
     ]
    }
   ],
   "source": [
    "for arquivo in os.walk(\"teste2\"): \n",
    "    print(arquivo)"
   ]
  },
  {
   "cell_type": "code",
   "execution_count": 54,
   "metadata": {},
   "outputs": [
    {
     "name": "stdout",
     "output_type": "stream",
     "text": [
      "[('teste2', [], ['teste.txt', 'teste2.txt'])]\n"
     ]
    }
   ],
   "source": [
    " print(list(os.walk(\"teste2\")))"
   ]
  },
  {
   "cell_type": "code",
   "execution_count": null,
   "metadata": {},
   "outputs": [],
   "source": []
  }
 ],
 "metadata": {
  "kernelspec": {
   "display_name": "Python 3 (ipykernel)",
   "language": "python",
   "name": "python3"
  },
  "language_info": {
   "codemirror_mode": {
    "name": "ipython",
    "version": 3
   },
   "file_extension": ".py",
   "mimetype": "text/x-python",
   "name": "python",
   "nbconvert_exporter": "python",
   "pygments_lexer": "ipython3",
   "version": "3.8.5"
  }
 },
 "nbformat": 4,
 "nbformat_minor": 4
}
