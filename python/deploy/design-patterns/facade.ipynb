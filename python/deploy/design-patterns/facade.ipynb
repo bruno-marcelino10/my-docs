{
 "cells": [
  {
   "cell_type": "markdown",
   "metadata": {},
   "source": [
    "# facade"
   ]
  },
  {
   "cell_type": "markdown",
   "metadata": {},
   "source": [
    "O padrão de projeto Facade (ou Facade Pattern) é um padrão estrutural que fornece uma interface unificada e simplificada para um conjunto de interfaces em um subsistema. Em outras palavras, o padrão Facade fornece uma camada de abstração que simplifica a interação com um sistema complexo ou com um conjunto de interfaces complicadas, permitindo que o cliente acesse funcionalidades complexas de forma mais fácil e direta.\n",
    "\n",
    "## Objetivo do Padrão Facade\n",
    "* Simplificar a Interface: Fornecer uma interface simples e compreensível para um conjunto complexo de interfaces, ocultando a complexidade do sistema.\n",
    "* Desacoplar: Reduzir o acoplamento entre o cliente e o subsistema complexo, tornando o sistema mais modular e fácil de manter.\n",
    "* Facilitar a Usabilidade: Tornar o subsistema mais acessível e fácil de usar, especialmente para clientes que não precisam conhecer todos os detalhes de sua implementação.\n",
    "\n",
    "## Componentes do Facade Pattern\n",
    "* Facade (Fachada): Fornece uma interface simplificada para o subsistema. Ele delega chamadas para as classes apropriadas dentro do subsistema.\n",
    "* Subsystem Classes (Classes do Subsistema): Classes que fazem parte do sistema complexo. Cada uma delas realiza uma parte específica do trabalho, mas podem ter interfaces complicadas.\n",
    "* Client (Cliente): Interage com a fachada para acessar as funcionalidades do subsistema sem precisar lidar diretamente com a complexidade.\n",
    "\n",
    "## Exemplo em Python\n",
    "Vamos construir um exemplo simples usando o padrão Facade para um sistema de home theater. O sistema é complexo e inclui várias partes, como um amplificador, um reprodutor de DVD e uma tela. A fachada simplifica a interação com essas partes."
   ]
  },
  {
   "cell_type": "code",
   "execution_count": null,
   "metadata": {},
   "outputs": [],
   "source": [
    "# Passo 1: Definir as Classes do Subsistema\n",
    "class Amplifier:\n",
    "    def on(self):\n",
    "        print(\"Amplifier is on\")\n",
    "\n",
    "    def off(self):\n",
    "        print(\"Amplifier is off\")\n",
    "\n",
    "    def set_volume(self, level):\n",
    "        print(f\"Amplifier volume set to {level}\")\n",
    "\n",
    "class DVDPlayer:\n",
    "    def on(self):\n",
    "        print(\"DVD Player is on\")\n",
    "\n",
    "    def off(self):\n",
    "        print(\"DVD Player is off\")\n",
    "\n",
    "    def play(self, movie):\n",
    "        print(f\"DVD Player is playing '{movie}'\")\n",
    "\n",
    "    def stop(self):\n",
    "        print(\"DVD Player stopped\")\n",
    "\n",
    "class Screen:\n",
    "    def down(self):\n",
    "        print(\"Screen is down\")\n",
    "\n",
    "    def up(self):\n",
    "        print(\"Screen is up\")\n",
    "\n",
    "# Passo 2: Implementar a Fachada\n",
    "class HomeTheaterFacade:\n",
    "    def __init__(self, amplifier, dvd_player, screen):\n",
    "        self._amplifier = amplifier\n",
    "        self._dvd_player = dvd_player\n",
    "        self._screen = screen\n",
    "\n",
    "    def watch_movie(self, movie):\n",
    "        print(\"Getting ready to watch a movie...\")\n",
    "        self._screen.down()\n",
    "        self._amplifier.on()\n",
    "        self._amplifier.set_volume(10)\n",
    "        self._dvd_player.on()\n",
    "        self._dvd_player.play(movie)\n",
    "\n",
    "    def end_movie(self):\n",
    "        print(\"Shutting down movie...\")\n",
    "        self._dvd_player.stop()\n",
    "        self._dvd_player.off()\n",
    "        self._amplifier.off()\n",
    "        self._screen.up()\n",
    "\n",
    "# Passo 3: Usar a Fachada\n",
    "def main():\n",
    "    # Criar instâncias das partes do sistema complexo\n",
    "    amplifier = Amplifier()\n",
    "    dvd_player = DVDPlayer()\n",
    "    screen = Screen()\n",
    "\n",
    "    # Criar a fachada\n",
    "    home_theater = HomeTheaterFacade(amplifier, dvd_player, screen)\n",
    "\n",
    "    # Usar a fachada para simplificar a interação com o sistema complexo\n",
    "    home_theater.watch_movie(\"Inception\")\n",
    "    home_theater.end_movie()\n",
    "\n",
    "if __name__ == \"__main__\":\n",
    "    main()"
   ]
  },
  {
   "cell_type": "markdown",
   "metadata": {
    "vscode": {
     "languageId": "plaintext"
    }
   },
   "source": [
    "## Como Funciona o Exemplo\n",
    "* Subsystem Classes (Classes do Subsistema): Amplifier, DVDPlayer, e Screen representam partes do sistema complexo de home theater. Cada uma tem métodos específicos e uma interface que pode ser complicada.\n",
    "* Facade (Fachada): HomeTheaterFacade fornece uma interface simplificada para interagir com o sistema de home theater. Ele lida com a complexidade e coordena as ações dos diferentes componentes.\n",
    "* Client (Cliente): O cliente usa HomeTheaterFacade para assistir a um filme e terminar a sessão, sem precisar interagir diretamente com cada componente do subsistema.\n",
    "\n",
    "## Benefícios do Facade Pattern\n",
    "* Simplicidade: Oferece uma interface simplificada para um sistema complexo, tornando-o mais fácil de usar.\n",
    "* Desacoplamento: Reduz o acoplamento entre o cliente e o subsistema, facilitando a manutenção e evolução do sistema.\n",
    "* Organização: Ajuda a organizar o código, agrupando operações relacionadas em um único ponto de acesso.\n",
    "* Facilidade de Integração: Facilita a integração de novos componentes ou subsistemas ao fornecer um ponto de entrada comum.\n",
    "\n",
    "## Variações do Facade Pattern\n",
    "* Adapter Pattern: Pode ser usado para adaptar a interface de um componente para a interface esperada, similar ao Facade, mas com um foco mais específico em adaptar interfaces.\n",
    "* Composite Pattern: Pode ser usado em conjunto com o Facade Pattern para criar estruturas de objetos compostos onde a fachada simplifica o acesso a componentes compostos e individuais.\n",
    "\n",
    "## Conclusão\n",
    "O padrão Facade é uma solução eficaz para simplificar a interação com sistemas complexos, fornecendo uma interface unificada e compreensível. Ele promove o desacoplamento, facilita a manutenção e melhora a usabilidade do sistema ao fornecer um ponto de acesso simples e consistente para funcionalidades complexas. O Facade Pattern é particularmente útil em sistemas grandes e modulares onde a complexidade pode tornar a interação direta com o subsistema difícil e confusa."
   ]
  }
 ],
 "metadata": {
  "language_info": {
   "name": "python"
  }
 },
 "nbformat": 4,
 "nbformat_minor": 2
}
