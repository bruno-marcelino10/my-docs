{
 "cells": [
  {
   "cell_type": "markdown",
   "metadata": {},
   "source": [
    "# iterator"
   ]
  },
  {
   "cell_type": "markdown",
   "metadata": {},
   "source": [
    "O padrão de projeto Iterator (ou Iterator Pattern) é um padrão comportamental que fornece uma maneira de acessar elementos de um agregador (coleção de objetos) sequencialmente sem expor sua representação subjacente. O padrão permite que você itere sobre os elementos de uma coleção de forma uniforme e sem precisar entender a estrutura interna da coleção.\n",
    "\n",
    "## Objetivo do Padrão Iterator\n",
    "O objetivo do Iterator Pattern é:\n",
    "\n",
    "* Acesso Sequencial: Permitir a iteração sobre uma coleção de objetos sem expor a estrutura interna da coleção.\n",
    "* Desacoplamento: Desacoplar a lógica de iteração da coleção que está sendo iterada, facilitando a manutenção e a flexibilidade.\n",
    "* Uniformidade: Fornecer uma interface uniforme para iterar sobre diferentes tipos de coleções.\n",
    "\n",
    "## Componentes do Iterator Pattern\n",
    "* Iterator (Iterador): Define a interface para acessar e percorrer elementos da coleção. Geralmente inclui métodos como has_next() (verifica se há mais elementos) e next() (retorna o próximo elemento).\n",
    "* ConcreteIterator (Iterador Concreto): Implementa a interface do Iterator e fornece a lógica para iterar sobre a coleção.\n",
    "* Aggregate (Agregador): Define uma interface para criar um iterador.\n",
    "ConcreteAggregate (Agregador Concreto): Implementa a interface do Aggregate e cria uma instância de um iterador concreto.\n",
    "\n",
    "## Exemplo em Python\n",
    "Vamos criar um exemplo simples usando o padrão Iterator para iterar sobre uma lista de itens."
   ]
  },
  {
   "cell_type": "code",
   "execution_count": null,
   "metadata": {},
   "outputs": [],
   "source": [
    "# Passo 1: Definir a Interface do Iterador\n",
    "from abc import ABC, abstractmethod\n",
    "\n",
    "class Iterator(ABC):\n",
    "    @abstractmethod\n",
    "    def has_next(self):\n",
    "        pass\n",
    "\n",
    "    @abstractmethod\n",
    "    def next(self):\n",
    "        pass\n",
    "\n",
    "# Passo 2: Implementar o Iterador Concreto\n",
    "class ConcreteIterator(Iterator):\n",
    "    def __init__(self, aggregate):\n",
    "        self._aggregate = aggregate\n",
    "        self._index = 0\n",
    "\n",
    "    def has_next(self):\n",
    "        return self._index < len(self._aggregate)\n",
    "\n",
    "    def next(self):\n",
    "        item = self._aggregate[self._index]\n",
    "        self._index += 1\n",
    "        return item\n",
    "\n",
    "# Passo 3: Definir a Interface do Agregador\n",
    "class Aggregate(ABC):\n",
    "    @abstractmethod\n",
    "    def create_iterator(self):\n",
    "        pass\n",
    "\n",
    "# Passo 4: Implementar o Agregador Concreto\n",
    "class ConcreteAggregate(Aggregate):\n",
    "    def __init__(self):\n",
    "        self._items = []\n",
    "\n",
    "    def add_item(self, item):\n",
    "        self._items.append(item)\n",
    "\n",
    "    def create_iterator(self):\n",
    "        return ConcreteIterator(self._items)\n",
    "\n",
    "# Passo 5: Usar o Padrão Iterator\n",
    "def main():\n",
    "    aggregate = ConcreteAggregate()\n",
    "    aggregate.add_item(\"Item 1\")\n",
    "    aggregate.add_item(\"Item 2\")\n",
    "    aggregate.add_item(\"Item 3\")\n",
    "\n",
    "    iterator = aggregate.create_iterator()\n",
    "\n",
    "    while iterator.has_next():\n",
    "        item = iterator.next()\n",
    "        print(item)\n",
    "\n",
    "if __name__ == \"__main__\":\n",
    "    main()"
   ]
  },
  {
   "cell_type": "markdown",
   "metadata": {
    "vscode": {
     "languageId": "plaintext"
    }
   },
   "source": [
    "## Como Funciona o Exemplo\n",
    "* Iterator (Iterador): A interface Iterator define os métodos para iteração.\n",
    "ConcreteIterator (Iterador Concreto): ConcreteIterator implementa a interface Iterator e fornece a lógica para iterar sobre a coleção ConcreteAggregate.\n",
    "* Aggregate (Agregador): A interface Aggregate define o método create_iterator() para criar um iterador.\n",
    "* ConcreteAggregate (Agregador Concreto): ConcreteAggregate implementa a interface Aggregate e cria o iterador ConcreteIterator para iterar sobre seus itens.\n",
    "\n",
    "## Benefícios do Iterator Pattern\n",
    "* Desacoplamento: O padrão desacopla a coleção dos algoritmos que a utilizam, permitindo que o mesmo algoritmo funcione com diferentes tipos de coleções.\n",
    "* Uniformidade: Oferece uma interface consistente para acessar diferentes tipos de coleções, simplificando o uso e a manutenção.\n",
    "* Separação de Preocupações: Permite que o código de iteração seja separado do código da coleção, tornando o código mais modular e reutilizável.\n",
    "* Facilidade de Navegação: Facilita a navegação e acesso sequencial aos elementos da coleção sem expor sua estrutura interna.\n",
    "\n",
    "## Variações do Iterator Pattern\n",
    "* Composite Iterator: Pode ser usado em conjunto com o padrão Composite para iterar sobre uma estrutura de árvore composta por múltiplos objetos agregados.\n",
    "* Reverse Iterator: Um iterador que permite a navegação em ordem inversa sobre a coleção.\n",
    "* Peek Iterator: Um iterador que permite visualizar o próximo elemento sem avançar o cursor.\n",
    "\n",
    "## Conclusão\n",
    "O padrão Iterator é uma solução eficaz para fornecer acesso sequencial a elementos de uma coleção sem expor sua estrutura interna. Ele promove o desacoplamento, a uniformidade e a modularidade, facilitando a iteração e a manutenção do código. O Iterator Pattern é especialmente útil em sistemas onde é necessário percorrer coleções complexas de forma flexível e organizada."
   ]
  }
 ],
 "metadata": {
  "language_info": {
   "name": "python"
  }
 },
 "nbformat": 4,
 "nbformat_minor": 2
}
