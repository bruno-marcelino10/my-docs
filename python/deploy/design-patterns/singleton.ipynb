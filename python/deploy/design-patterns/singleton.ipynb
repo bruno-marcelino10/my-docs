{
 "cells": [
  {
   "cell_type": "markdown",
   "metadata": {},
   "source": [
    "# singleton"
   ]
  },
  {
   "cell_type": "markdown",
   "metadata": {},
   "source": [
    "O padrão de projeto Singleton (ou Singleton Pattern) é um padrão criacional que garante que uma classe tenha uma única instância e fornece um ponto global de acesso a essa instância. Em outras palavras, o Singleton Pattern assegura que uma classe seja instanciada apenas uma vez durante a execução do programa e oferece um método para obter essa instância única.\n",
    "\n",
    "## Objetivo do Padrão Singleton\n",
    "O objetivo do Singleton Pattern é:\n",
    "\n",
    "* Garantir uma Única Instância: Assegurar que uma classe tenha apenas uma instância em todo o sistema.\n",
    "Fornecer um Ponto Global de Acesso: Oferecer um ponto de acesso global para a instância única da classe.\n",
    "* Controlar o Acesso à Instância: Controlar a criação e o acesso à instância única de forma segura e eficiente.\n",
    "\n",
    "## Componentes do Singleton Pattern\n",
    "* Singleton (Singleton): A classe que tem a única instância. Geralmente, possui um método estático ou de classe para obter a instância.\n",
    "* Private Constructor (Construtor Privado): O construtor da classe é geralmente privado para evitar a criação de instâncias fora da classe.\n",
    "* Instance Variable (Variável de Instância): Armazena a instância única da classe.\n",
    "\n",
    "## Implementação do Singleton Pattern em Python\n",
    "Aqui está uma implementação simples do padrão Singleton em Python:"
   ]
  },
  {
   "cell_type": "code",
   "execution_count": null,
   "metadata": {},
   "outputs": [],
   "source": [
    "class Singleton:\n",
    "    _instance = None\n",
    "\n",
    "    def __new__(cls, *args, **kwargs):\n",
    "        if cls._instance is None:\n",
    "            cls._instance = super(Singleton, cls).__new__(cls, *args, **kwargs)\n",
    "        return cls._instance\n",
    "\n",
    "    def __init__(self, value=None):\n",
    "        self.value = value\n",
    "\n",
    "# Exemplo de uso\n",
    "def main():\n",
    "    singleton1 = Singleton(\"Primeira Instância\")\n",
    "    singleton2 = Singleton(\"Segunda Instância\")\n",
    "\n",
    "    print(f\"Singleton1: {singleton1.value}\")\n",
    "    print(f\"Singleton2: {singleton2.value}\")\n",
    "    print(f\"Singleton1 e Singleton2 são a mesma instância? {'Sim' if singleton1 is singleton2 else 'Não'}\")\n",
    "\n",
    "if __name__ == \"__main__\":\n",
    "    main()"
   ]
  },
  {
   "cell_type": "markdown",
   "metadata": {
    "vscode": {
     "languageId": "plaintext"
    }
   },
   "source": [
    "## Como Funciona o Exemplo\n",
    "* _instance: É uma variável de classe que armazena a instância única da classe Singleton.\n",
    "* __new__: É um método especial em Python que controla a criação de uma nova instância. O método verifica se _instance é None (ou seja, se a instância ainda não foi criada). Se for, cria a instância chamando o método super(). Caso contrário, retorna a instância existente.\n",
    "* __init__: Inicializa a instância, mas seu comportamento não afeta a garantia de uma única instância. A inicialização pode ser feita após a criação da instância única.\n",
    "\n",
    "## Benefícios do Singleton Pattern\n",
    "* Controle de Instância Única: Garante que apenas uma instância de uma classe seja criada, o que pode ser útil para gerenciar recursos compartilhados.\n",
    "* Acesso Global: Oferece um ponto global de acesso à instância, facilitando a coordenação e o controle de recursos em toda a aplicação.\n",
    "* Economia de Recursos: Evita a criação de múltiplas instâncias, economizando memória e outros recursos.\n",
    "\n",
    "## Considerações e Desvantagens\n",
    "* Testabilidade: O uso do Singleton pode dificultar a testabilidade, pois a instância global pode introduzir dependências ocultas.\n",
    "* Concorrência: Em ambientes multithread, a implementação do Singleton pode precisar de mecanismos adicionais para garantir que a instância seja criada de forma segura.\n",
    "* Acoplamento: Pode levar a um alto acoplamento entre classes se muitas partes do código acessarem a instância Singleton diretamente.\n",
    "\n",
    "## Variações e Alternativas\n",
    "* Singleton Thread-Safe: Pode usar mecanismos como bloqueios (locks) para garantir a segurança em ambientes multithread.\n",
    "* Lazy Initialization: A instância é criada somente quando é necessária, ao invés de ser criada no início.\n",
    "* Eager Initialization: A instância é criada assim que a classe é carregada, garantindo que a instância esteja disponível desde o início.\n",
    "\n",
    "## Conclusão\n",
    "O padrão Singleton é uma solução eficaz para garantir que uma classe tenha uma única instância e fornecer um ponto global de acesso a essa instância. Ele é útil em cenários onde um único ponto de controle é necessário, como gerenciadores de configuração, conexões de banco de dados e outros recursos compartilhados. No entanto, deve ser usado com cuidado para evitar problemas de testabilidade e acoplamento excessivo."
   ]
  }
 ],
 "metadata": {
  "language_info": {
   "name": "python"
  }
 },
 "nbformat": 4,
 "nbformat_minor": 2
}
