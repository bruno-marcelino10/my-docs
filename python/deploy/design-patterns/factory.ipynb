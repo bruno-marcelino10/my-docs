{
 "cells": [
  {
   "cell_type": "markdown",
   "metadata": {},
   "source": [
    "# factory"
   ]
  },
  {
   "cell_type": "markdown",
   "metadata": {},
   "source": [
    "O padrão de projeto Factory (ou Factory Pattern) é um padrão criacional que fornece uma interface para criar objetos em uma superclasse, mas permite que as subclasses alterem o tipo de objetos que serão criados. Ele é útil quando você precisa criar objetos de diferentes tipos que compartilham uma interface comum, mas a instância concreta do objeto precisa ser decidida em tempo de execução.\n",
    "\n",
    "## Objetivo do Padrão Factory\n",
    "O objetivo do Factory Pattern é fornecer uma maneira de criar objetos sem expor a lógica de criação ao cliente e sem a necessidade de especificar a classe exata do objeto que será criado. Isso promove a desacoplamento entre a criação de objetos e o uso dos mesmos, facilitando a manutenção e a escalabilidade do código.\n",
    "\n",
    "## Componentes do Factory Pattern\n",
    "* Product: Define a interface para os objetos criados pelo Factory.\n",
    "* ConcreteProduct: Implementa a interface Product.\n",
    "* Creator: Declara o método factory que retorna um objeto Product. Pode também definir um método de fábrica padrão que pode ser substituído por subclasses.\n",
    "* ConcreteCreator: Implementa o método de fábrica, retornando uma instância concreta de ConcreteProduct.\n",
    "\n",
    "## Exemplos em Python\n",
    "Vamos ver um exemplo básico para ilustrar como o Factory Pattern funciona. Vamos criar uma fábrica que produz diferentes tipos de animais com base em uma entrada."
   ]
  },
  {
   "cell_type": "code",
   "execution_count": null,
   "metadata": {},
   "outputs": [],
   "source": [
    "from abc import ABC, abstractmethod\n",
    "\n",
    "# Definição da interface do produto\n",
    "class Animal(ABC):\n",
    "    @abstractmethod\n",
    "    def speak(self):\n",
    "        pass\n",
    "\n",
    "# Implementações concretas dos produtos\n",
    "class Dog(Animal):\n",
    "    def speak(self):\n",
    "        return \"Woof!\"\n",
    "\n",
    "class Cat(Animal):\n",
    "    def speak(self):\n",
    "        return \"Meow!\"\n",
    "\n",
    "# Fábrica que cria objetos de tipo Animal\n",
    "class AnimalFactory:\n",
    "    @staticmethod\n",
    "    def get_animal(animal_type):\n",
    "        if animal_type == \"dog\":\n",
    "            return Dog()\n",
    "        elif animal_type == \"cat\":\n",
    "            return Cat()\n",
    "        else:\n",
    "            raise ValueError(f\"Unknown animal type: {animal_type}\")\n",
    "\n",
    "# Cliente usando a fábrica para criar objetos\n",
    "def main():\n",
    "    animal_type = input(\"Enter the type of animal (dog/cat): \").strip().lower()\n",
    "    animal = AnimalFactory.get_animal(animal_type)\n",
    "    print(animal.speak())\n",
    "\n",
    "if __name__ == \"__main__\":\n",
    "    main()"
   ]
  },
  {
   "cell_type": "markdown",
   "metadata": {},
   "source": [
    "## Como Funciona o Exemplo\n",
    "* Product: Animal é uma interface (ou classe abstrata) que define o método speak().\n",
    "* ConcreteProduct: Dog e Cat são implementações concretas de Animal, cada uma com sua própria versão do método speak().\n",
    "* Creator: AnimalFactory é responsável por criar instâncias de Animal com base no tipo fornecido.\n",
    "* ConcreteCreator: AnimalFactory.get_animal() cria e retorna instâncias de Dog ou Cat conforme o tipo especificado.\n",
    "\n",
    "## Benefícios do Factory Pattern\n",
    "* Desacoplamento: O padrão desacopla o código cliente da criação dos objetos. O cliente não precisa saber sobre a classe concreta que será instanciada.\n",
    "* Centralização da Lógica de Criação: Toda a lógica de criação de objetos está centralizada em um lugar (a fábrica). Isso facilita a manutenção e a modificação da lógica de criação.\n",
    "* Flexibilidade: Facilita a introdução de novas classes de produtos sem alterar o código cliente. Basta adicionar um novo ConcreteProduct e ajustar a fábrica.\n",
    "* Consistência: Garante que os objetos criados estejam sempre configurados corretamente, o que é útil em casos onde a criação do objeto é complexa.\n",
    "\n",
    "## Variações do Padrão Factory\n",
    "* Factory Method: Define uma interface para criar um objeto, mas permite que as subclasses decidam qual classe instanciar. O exemplo acima é um exemplo de Factory Method.\n",
    "* Abstract Factory: Fornece uma interface para criar famílias de objetos relacionados sem especificar suas classes concretas. É útil quando você tem múltiplos produtos que devem ser criados em conjunto.\n",
    "* Singleton Factory: Garante que uma fábrica tenha apenas uma instância durante a execução do programa e fornece um ponto de acesso global a essa instância.\n",
    "\n",
    "## Conclusão\n",
    "O padrão de projeto Factory é uma técnica poderosa para criar objetos de maneira flexível e desacoplada. Ele ajuda a manter o código limpo e fácil de manter, promovendo a escalabilidade e a modularidade do sistema. Ao centralizar a lógica de criação de objetos em uma fábrica, você pode facilmente adicionar novos tipos de objetos sem impactar o código cliente, tornando o sistema mais adaptável a mudanças."
   ]
  }
 ],
 "metadata": {
  "language_info": {
   "name": "python"
  }
 },
 "nbformat": 4,
 "nbformat_minor": 2
}
