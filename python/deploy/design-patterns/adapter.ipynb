{
 "cells": [
  {
   "cell_type": "markdown",
   "metadata": {},
   "source": [
    "# adapter"
   ]
  },
  {
   "cell_type": "markdown",
   "metadata": {},
   "source": [
    "É um padrão estrutural que permite que duas interfaces incompatíveis trabalhem juntas. Em outras palavras, ele atua como um \"adaptador\" que converte a interface de uma classe em outra interface que os clientes esperam, facilitando a colaboração entre classes que não podem se comunicar diretamente devido a diferenças em suas interfaces.\n",
    "\n",
    "## Objetivo\n",
    "O objetivo do Adapter Pattern é permitir que classes com interfaces incompatíveis colaborem. Ele é frequentemente utilizado para:\n",
    "\n",
    "* Reutilizar Código: Adaptar interfaces existentes para que possam ser reutilizadas em novos contextos sem modificar o código original.\n",
    "* Integrar Sistemas: Facilitar a integração de sistemas legados ou de terceiros com sistemas novos.\n",
    "* Promover Flexibilidade: Permitir que classes com interfaces diferentes interajam de forma coesa.\n",
    "\n",
    "## Componentes\n",
    "* Target (Alvo): Define a interface esperada pelos clientes.\n",
    "* Adapter (Adaptador): Converte a interface da classe existente (Adaptee) para a interface esperada (Target).\n",
    "* Adaptee (Adaptado): A classe existente com uma interface que precisa ser adaptada.\n",
    "* Client (Cliente): Utiliza a interface do Target para interagir com o sistema."
   ]
  },
  {
   "cell_type": "markdown",
   "metadata": {},
   "source": [
    "## Exemplo em Python\n",
    "\n",
    "Vamos construir um exemplo de Adapter Pattern onde um sistema usa uma interface antiga (OldSystem) e precisa interagir com uma interface nova (NewSystem). Usaremos um adaptador para fazer a integração entre essas interfaces."
   ]
  },
  {
   "cell_type": "code",
   "execution_count": null,
   "metadata": {},
   "outputs": [],
   "source": [
    "# Passo 1: Definir a Interface Alvo\n",
    "\n",
    "# Interface esperada pelos clientes\n",
    "class Target:\n",
    "    def request(self):\n",
    "        raise NotImplementedError(\"Subclasses devem implementar este método\")\n",
    "    \n",
    "# Passo 2: Implementar a Interface Adaptada\n",
    "# Classe existente com uma interface diferente\n",
    "class Adaptee:\n",
    "    def specific_request(self):\n",
    "        return \"Resultado específico do Adaptee\"\n",
    "    \n",
    "# Passo 3: Implementar o Adaptador\n",
    "# Adaptador que adapta a interface do Adaptee para a interface do Target\n",
    "class Adapter(Target):\n",
    "    def __init__(self, adaptee):\n",
    "        self._adaptee = adaptee\n",
    "\n",
    "    def request(self):\n",
    "        # Adaptar a chamada para a interface do Adaptee\n",
    "        return self._adaptee.specific_request()\n",
    "    \n",
    "# Passo 4: Cliente Usando o Adaptador\n",
    "def client_code(target):\n",
    "    print(target.request())\n",
    "\n",
    "# Criar uma instância do Adaptee\n",
    "adaptee = Adaptee()\n",
    "\n",
    "# Criar um adaptador que adapta o Adaptee para a interface do Target\n",
    "adapter = Adapter(adaptee)\n",
    "\n",
    "# O cliente usa o adaptador como se fosse um Target\n",
    "client_code(adapter)  # Output: Resultado específico do Adaptee"
   ]
  },
  {
   "cell_type": "markdown",
   "metadata": {},
   "source": [
    "## Como Funciona o Exemplo\n",
    "* Target: Define a interface request() que o cliente espera usar.\n",
    "* Adaptee: Tem um método specific_request() que não é compatível com a interface esperada pelo cliente.\n",
    "* Adapter: Implementa a interface Target e utiliza uma instância de Adaptee para adaptar o método specific_request() para a interface request().\n",
    "* Client: Interage com o Adapter através da interface Target, sem precisar conhecer a implementação do Adaptee.\n",
    "\n",
    "## Benefícios do Adapter Pattern\n",
    "* Desacoplamento: Permite que classes com interfaces diferentes interajam sem modificar o código existente.\n",
    "* Reutilização de Código: Facilita a reutilização de classes existentes que têm interfaces incompatíveis com o sistema atual.\n",
    "* Integração: Facilita a integração com sistemas legados ou bibliotecas de terceiros.\n",
    "* Flexibilidade: Permite que o cliente trabalhe com diferentes implementações da mesma interface.\n",
    "\n",
    "## Variações do Adapter Pattern\n",
    "* Adapter de Classe: Usa herança para adaptar a interface de uma classe para a interface esperada.\n",
    "* Adapter de Objeto: Usa composição para adaptar a interface, em vez de herança. Este é o tipo mais comum em Python, onde você cria uma classe adaptadora que possui uma instância de uma classe adaptada.\n",
    "\n",
    "## Conclusão\n",
    "O padrão Adapter é uma solução elegante para o problema de incompatibilidade de interfaces, permitindo que classes que não poderiam interagir diretamente trabalhem juntas. Ele promove o desacoplamento entre o cliente e as classes que implementam a interface, facilitando a integração e a reutilização de código em sistemas que evoluem ao longo do tempo ou que precisam interagir com sistemas legados."
   ]
  }
 ],
 "metadata": {
  "language_info": {
   "name": "python"
  }
 },
 "nbformat": 4,
 "nbformat_minor": 2
}
