{
 "cells": [
  {
   "cell_type": "markdown",
   "metadata": {},
   "source": [
    "# strategy"
   ]
  },
  {
   "cell_type": "markdown",
   "metadata": {},
   "source": [
    "O padrão de projeto Strategy (ou Strategy Pattern) é um padrão comportamental que define uma família de algoritmos, encapsula cada um deles e os torna intercambiáveis. O padrão permite que o algoritmo varie independentemente dos clientes que o utilizam. Em outras palavras, o padrão Strategy permite que você altere o comportamento de um objeto em tempo de execução sem modificar o próprio objeto, simplesmente trocando o algoritmo que ele usa.\n",
    "\n",
    "## Objetivo do Padrão Strategy\n",
    "O objetivo do Strategy Pattern é separar o comportamento de um objeto (algoritmos ou estratégias) de sua implementação, permitindo que diferentes estratégias sejam usadas de forma intercambiável. Isso promove a flexibilidade e a extensibilidade do código, tornando mais fácil a adição de novos comportamentos sem alterar o código existente.\n",
    "\n",
    "## Componentes do Strategy Pattern\n",
    "* Strategy (Estratégia): Define uma interface comum para todos os algoritmos que serão suportados.\n",
    "* ConcreteStrategy (Estratégia Concreta): Implementa a interface Strategy com algoritmos específicos.\n",
    "* Context (Contexto): Mantém uma referência para um objeto Strategy e usa esse objeto para executar o algoritmo. Pode também fornecer um método para alterar a estratégia em tempo de execução.\n",
    "\n",
    "## Exemplo em Python\n",
    "Vamos construir um exemplo básico do Strategy Pattern onde temos um sistema que realiza diferentes tipos de cálculos de descontos em produtos."
   ]
  },
  {
   "cell_type": "code",
   "execution_count": null,
   "metadata": {},
   "outputs": [],
   "source": [
    "# Passo 1: Definir a Interface da Estratégia\n",
    "from abc import ABC, abstractmethod\n",
    "\n",
    "class DiscountStrategy(ABC):\n",
    "    @abstractmethod\n",
    "    def apply_discount(self, amount):\n",
    "        pass\n",
    "\n",
    "# Passo 2: Implementar Estratégias Concretas\n",
    "class NoDiscountStrategy(DiscountStrategy):\n",
    "    def apply_discount(self, amount):\n",
    "        return amount\n",
    "\n",
    "class PercentageDiscountStrategy(DiscountStrategy):\n",
    "    def __init__(self, percentage):\n",
    "        self.percentage = percentage\n",
    "\n",
    "    def apply_discount(self, amount):\n",
    "        return amount * (1 - self.percentage / 100)\n",
    "\n",
    "class FixedDiscountStrategy(DiscountStrategy):\n",
    "    def __init__(self, discount):\n",
    "        self.discount = discount\n",
    "\n",
    "    def apply_discount(self, amount):\n",
    "        return max(amount - self.discount, 0)\n",
    "\n",
    "# Passo 3: Implementar o Contexto\n",
    "class ShoppingCart:\n",
    "    def __init__(self, strategy: DiscountStrategy):\n",
    "        self.strategy = strategy\n",
    "        self.items = []\n",
    "\n",
    "    def add_item(self, item_price):\n",
    "        self.items.append(item_price)\n",
    "\n",
    "    def set_strategy(self, strategy: DiscountStrategy):\n",
    "        self.strategy = strategy\n",
    "\n",
    "    def total_price(self):\n",
    "        total = sum(self.items)\n",
    "        return self.strategy.apply_discount(total)\n",
    "\n",
    "# Passo 4: Usar o Padrão Strategy\n",
    "def main():\n",
    "    # Cria um carrinho de compras com uma estratégia de desconto percentual\n",
    "    cart = ShoppingCart(PercentageDiscountStrategy(10))  # 10% de desconto\n",
    "    cart.add_item(100)\n",
    "    cart.add_item(50)\n",
    "    print(f\"Total com desconto percentual: {cart.total_price()}\")\n",
    "\n",
    "    # Troca para uma estratégia de desconto fixo\n",
    "    cart.set_strategy(FixedDiscountStrategy(30))  # R$30 de desconto\n",
    "    print(f\"Total com desconto fixo: {cart.total_price()}\")\n",
    "\n",
    "    # Troca para uma estratégia sem desconto\n",
    "    cart.set_strategy(NoDiscountStrategy())\n",
    "    print(f\"Total sem desconto: {cart.total_price()}\")\n",
    "\n",
    "if __name__ == \"__main__\":\n",
    "    main()"
   ]
  },
  {
   "cell_type": "markdown",
   "metadata": {
    "vscode": {
     "languageId": "plaintext"
    }
   },
   "source": [
    "## Como Funciona o Exemplo\n",
    "* Strategy (Estratégia): DiscountStrategy define uma interface comum para todos os tipos de estratégias de desconto.\n",
    "* ConcreteStrategy (Estratégias Concretas): NoDiscountStrategy, PercentageDiscountStrategy, e FixedDiscountStrategy são implementações concretas de estratégias de desconto.\n",
    "* Context (Contexto): ShoppingCart usa uma estratégia de desconto para calcular o preço total com base na estratégia aplicada. Ele pode alterar a estratégia em tempo de execução com o método set_strategy().\n",
    "\n",
    "## Benefícios do Strategy Pattern\n",
    "* Flexibilidade: Permite que o comportamento de um objeto (estratégia) seja alterado em tempo de execução.\n",
    "* Desacoplamento: Desacopla o código que usa o algoritmo do código que implementa o algoritmo. Isso facilita a manutenção e a modificação do código.\n",
    "* Extensibilidade: Facilita a adição de novas estratégias sem modificar o código existente.\n",
    "* Princípio do Aberto/Fechado: O padrão segue o princípio de que as classes devem estar abertas para extensão, mas fechadas para modificação.\n",
    "\n",
    "## Variações do Strategy Pattern\n",
    "* State Pattern: Similar ao Strategy Pattern, mas foca em mudar o comportamento de um objeto com base em seu estado interno. O State Pattern é útil quando o comportamento de um objeto muda de acordo com seu estado interno.\n",
    "* Template Method Pattern: Define o esqueleto de um algoritmo na superclasse, mas deixa as subclasses implementarem alguns passos do algoritmo. Isso é útil quando você tem um algoritmo com partes fixas e variáveis.\n",
    "\n",
    "## Conclusão\n",
    "O padrão Strategy é uma solução poderosa para separar algoritmos e comportamentos de um objeto, permitindo que você altere o comportamento de forma flexível e dinâmica. Ele promove a reutilização de código, a extensibilidade e o desacoplamento, tornando o sistema mais modular e adaptável a novas necessidades ou comportamentos."
   ]
  }
 ],
 "metadata": {
  "language_info": {
   "name": "python"
  }
 },
 "nbformat": 4,
 "nbformat_minor": 2
}
