{
 "cells": [
  {
   "cell_type": "markdown",
   "metadata": {},
   "source": [
    "# observer"
   ]
  },
  {
   "cell_type": "markdown",
   "metadata": {},
   "source": [
    "O padrão de projeto Observer (ou Observer Pattern) é um padrão comportamental que define uma dependência um-para-muitos entre objetos. Isso significa que quando um objeto (o sujeito ou \"subject\") muda seu estado, todos os seus dependentes (os observadores ou \"observers\") são notificados e atualizados automaticamente. Esse padrão é particularmente útil em sistemas onde um objeto deve notificar outros objetos sobre mudanças de estado sem acoplamento forte entre eles.\n",
    "\n",
    "## Objetivo do Padrão Observer\n",
    "O objetivo do Observer Pattern é promover a comunicação entre objetos de forma desacoplada, permitindo que um objeto (sujeito) mantenha uma lista de seus dependentes e notifique-os de mudanças de estado. Isso facilita a criação de sistemas reativos e extensíveis, onde a adição ou remoção de observadores pode ser feita de forma dinâmica e independente.\n",
    "\n",
    "## Componentes do Observer Pattern\n",
    "* Subject (Sujeito): Mantém uma lista de observadores e fornece métodos para adicionar e remover observadores. Quando seu estado muda, ele notifica todos os observadores.\n",
    "* Observer (Observador): Define uma interface para receber notificações de mudança de estado do sujeito.\n",
    "* ConcreteSubject (Sujeito Concreto): Implementa o Subject e mantém o estado que os observadores podem querer monitorar.\n",
    "* ConcreteObserver (Observador Concreto): Implementa o Observer e atualiza seu estado de acordo com as mudanças no ConcreteSubject.\n",
    "\n",
    "## Exemplo em Python\n",
    "Vamos criar um exemplo simples de Observer Pattern onde temos um sistema de notificações que informa os observadores sobre mudanças em um objeto Subject."
   ]
  },
  {
   "cell_type": "code",
   "execution_count": null,
   "metadata": {},
   "outputs": [],
   "source": [
    "# Passo 1: Definir a Interface do Sujeito\n",
    "from abc import ABC, abstractmethod\n",
    "\n",
    "class Subject(ABC):\n",
    "    def __init__(self):\n",
    "        self._observers = []\n",
    "\n",
    "    def add_observer(self, observer):\n",
    "        self._observers.append(observer)\n",
    "\n",
    "    def remove_observer(self, observer):\n",
    "        self._observers.remove(observer)\n",
    "\n",
    "    def notify_observers(self):\n",
    "        for observer in self._observers:\n",
    "            observer.update(self)\n",
    "\n",
    "# Passo 2: Definir a Interface do Observador\n",
    "class Observer(ABC):\n",
    "    @abstractmethod\n",
    "    def update(self, subject):\n",
    "        pass\n",
    "\n",
    "# Passo 3: Implementar o Sujeito Concreto\n",
    "class ConcreteSubject(Subject):\n",
    "    def __init__(self):\n",
    "        super().__init__()\n",
    "        self._state = None\n",
    "\n",
    "    @property\n",
    "    def state(self):\n",
    "        return self._state\n",
    "\n",
    "    @state.setter\n",
    "    def state(self, value):\n",
    "        self._state = value\n",
    "        self.notify_observers()\n",
    "\n",
    "# Passo 4: Implementar o Observador Concreto\n",
    "class ConcreteObserver(Observer):\n",
    "    def update(self, subject):\n",
    "        print(f\"Observer notified. Subject's state is now: {subject.state}\")\n",
    "\n",
    "# Passo 5: Usar o Padrão Observer\n",
    "def main():\n",
    "    subject = ConcreteSubject()\n",
    "\n",
    "    observer1 = ConcreteObserver()\n",
    "    observer2 = ConcreteObserver()\n",
    "\n",
    "    subject.add_observer(observer1)\n",
    "    subject.add_observer(observer2)\n",
    "\n",
    "    print(\"Setting state to 'State 1'.\")\n",
    "    subject.state = 'State 1'\n",
    "    \n",
    "    print(\"Setting state to 'State 2'.\")\n",
    "    subject.state = 'State 2'\n",
    "\n",
    "if __name__ == \"__main__\":\n",
    "    main()"
   ]
  },
  {
   "cell_type": "markdown",
   "metadata": {
    "vscode": {
     "languageId": "plaintext"
    }
   },
   "source": [
    "## Como Funciona o Exemplo\n",
    "* Subject (Sujeito): ConcreteSubject mantém uma lista de observadores e notifica-os quando seu estado muda.\n",
    "* Observer (Observador): ConcreteObserver é notificado e reage às mudanças no estado do ConcreteSubject.\n",
    "* ConcreteSubject: Implementa a lógica para notificar todos os observadores quando seu estado é alterado.\n",
    "* ConcreteObserver: Atualiza sua saída quando o estado do ConcreteSubject muda.\n",
    "\n",
    "## Benefícios do Observer Pattern\n",
    "* Desacoplamento: O padrão promove o desacoplamento entre o sujeito e os observadores, permitindo que ambos sejam modificados independentemente.\n",
    "* Flexibilidade: Facilita a adição e remoção de observadores sem modificar o código do sujeito.\n",
    "* Escalabilidade: Permite que novos tipos de observadores sejam adicionados sem alterar o sujeito ou outros observadores.\n",
    "* Reatividade: Torna o sistema reativo a mudanças de estado, o que é útil em sistemas de eventos e notificações.\n",
    "\n",
    "## Variações do Observer Pattern\n",
    "* Event-Listener: Um padrão similar onde o sujeito notifica os ouvintes (listeners) de eventos específicos.\n",
    "* Publish-Subscribe: Um modelo de comunicação onde os editores (publishers) publicam mensagens para um canal e os assinantes (subscribers) se inscrevem para receber mensagens de interesse.\n",
    "\n",
    "## Conclusão\n",
    "O padrão Observer é uma ferramenta poderosa para criar sistemas que precisam notificar múltiplos objetos sobre mudanças de estado de forma desacoplada e eficiente. Ele promove a separação de preocupações, permitindo que objetos interajam de maneira dinâmica e extensível, o que é particularmente útil em sistemas de eventos, interfaces de usuário e outros contextos onde a reatividade e a flexibilidade são importantes."
   ]
  }
 ],
 "metadata": {
  "language_info": {
   "name": "python"
  }
 },
 "nbformat": 4,
 "nbformat_minor": 2
}
