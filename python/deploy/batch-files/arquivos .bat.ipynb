{
 "cells": [
  {
   "cell_type": "markdown",
   "metadata": {},
   "source": [
    "# Como usar arquivos .bat"
   ]
  },
  {
   "cell_type": "markdown",
   "metadata": {},
   "source": [
    "Arquivos .bat são arquivos em lote do windows, que executam comandos no PowerShell (terminal) ao serem abertos. Você pode automatizar tarefas do windows utilizando arquivos .bat para rodar processos em sequência."
   ]
  },
  {
   "cell_type": "markdown",
   "metadata": {},
   "source": [
    "## Tipos de Comandos"
   ]
  },
  {
   "cell_type": "markdown",
   "metadata": {},
   "source": [
    "#### Pause\n",
    "\n",
    "Impede que o terminal seja fechado ao finalizar a execução dos comandos"
   ]
  },
  {
   "cell_type": "markdown",
   "metadata": {},
   "source": [
    "#### echo \n",
    "\n",
    "Printa mensagens na tela\n",
    "\n",
    "echo. -> printa uma linha em branco\n",
    "\n",
    "@echo off -> não mostra os textos de inicialização do terminal"
   ]
  },
  {
   "cell_type": "markdown",
   "metadata": {},
   "source": [
    "#### > nul\n",
    "\n",
    "Impede que o comando mostre mensagens"
   ]
  },
  {
   "cell_type": "markdown",
   "metadata": {},
   "source": [
    "#### set variavel=string\n",
    "\n",
    "Cria uma variavel e armazena seu valor\n",
    "\n",
    "% % -> permite acessar o valor da variável\n",
    "\n",
    "/p -> Permite que o usuario insira um valor, e armazena-o. \n",
    " \n",
    "```\n",
    "# Exemplo usando um input e ifs:\n",
    "if \"%variavel%\" == \"1\" goto opcao1\n",
    "if \"%variavel%\" == \"2\" goto opcao2\n",
    "\n",
    ":op1\n",
    "tarefa\n",
    "goto fim\n",
    "\n",
    ":op2\n",
    "tarefa\n",
    "goto fim\n",
    "\n",
    ":fim\n",
    "pause\n",
    "```"
   ]
  },
  {
   "cell_type": "markdown",
   "metadata": {},
   "source": [
    "# Exemplo criando venv"
   ]
  },
  {
   "cell_type": "code",
   "execution_count": null,
   "metadata": {},
   "outputs": [],
   "source": [
    "@echo off\n",
    "set novo_path_pip=C:\\Users\\Bruno\\AppData\\Roaming\\pip\\\n",
    "set path_pacotes=C:\\Users\\Bruno Marcelino\\Dropbox\\Programação\\Python\\Estudos\\estudos-com-py\\automacao\\pacotes_e_pip_instalados\n",
    "set path_requirements=C:\\Users\\Bruno Marcelino\\Dropbox\\Programação\\Python\\Estudos\\estudos-com-py\\automacao\n",
    "set path_venv=C:\\Users\\Bruno Marcelino\\Dropbox\\Programação\\Python\\Estudos\\estudos-com-py\\automacao\\venv        \n",
    "\n",
    "python -m venv %path_venv% # Construir venv\n",
    "\n",
    "echo ...Instalando pacote x na venv\n",
    "%path_venv%\\Scripts\\pip.exe install %path_pacotes%pacote_x.tar.gz\n",
    "\n",
    "echo ...Instalando outros pacotes na venv\n",
    "%path_venv%\\Scripts\\pip.exe install -r %path_requirements%requirements.txt # .txt contendo os nomes das bibliotecas\n",
    "\n",
    "echo ...Processo finalizado\n",
    "\n",
    "pause"
   ]
  },
  {
   "cell_type": "markdown",
   "metadata": {},
   "source": [
    "# Exemplo atualizando venv"
   ]
  },
  {
   "cell_type": "code",
   "execution_count": null,
   "metadata": {},
   "outputs": [],
   "source": [
    "@echo off\n",
    "set path_requirements=C:\\Users\\Bruno Marcelino\\Dropbox\\Programação\\Python\\Estudos\\estudos-com-py\\automacao\n",
    "set path_venv=C:\\Users\\Bruno Marcelino\\Dropbox\\Programação\\Python\\Estudos\\estudos-com-py\\automacao\\venv\n",
    "\n",
    "echo ...Atualizando outros pacotes na venv\n",
    "%path_venv%\\Scripts\\pip.exe install -r %path_requirements%\\requirements.txt # .txt contendo os nomes das bibliotecas\n",
    "\n",
    "pause"
   ]
  }
 ],
 "metadata": {
  "kernelspec": {
   "display_name": "Python 3 (ipykernel)",
   "language": "python",
   "name": "python3"
  },
  "language_info": {
   "codemirror_mode": {
    "name": "ipython",
    "version": 3
   },
   "file_extension": ".py",
   "mimetype": "text/x-python",
   "name": "python",
   "nbconvert_exporter": "python",
   "pygments_lexer": "ipython3",
   "version": "3.8.5"
  }
 },
 "nbformat": 4,
 "nbformat_minor": 4
}
