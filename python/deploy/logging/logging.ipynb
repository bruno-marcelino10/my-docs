{
 "cells": [
  {
   "cell_type": "markdown",
   "metadata": {},
   "source": [
    "# logging"
   ]
  },
  {
   "cell_type": "markdown",
   "metadata": {},
   "source": [
    "É uma biblioteca nativa do Python que permite realizar a criação, personalização e registro dos `logs` que serão gerados pela aplicação.\n",
    "\n",
    "* **log:** é um evento que ocorre durante a execução de um programa. Envolve desde uma mensagem de aviso até um erro crítico que venha a ocorrer. "
   ]
  },
  {
   "cell_type": "markdown",
   "metadata": {},
   "source": [
    "### Configuração Básica"
   ]
  },
  {
   "cell_type": "markdown",
   "metadata": {},
   "source": [
    "Podemos utilizar o método `basicConfig` para editar o comportamento inicial do logger da aplicação. \n",
    "\n",
    "**Handlers** \n",
    "\n",
    "No exemplo abaixo, ao invés de printar os logs na tela, estamos salvando em um arquivo chamado `debug.log`. Também podemos editar isso para conseguir fazer as duas tarefas também. O basicConfig manipula os Handlers por debaixo dos panos.\n",
    "\n",
    "**Formatters**\n",
    "\n",
    "Também especificamos um template padrão para as mensagens de log.  "
   ]
  },
  {
   "cell_type": "code",
   "execution_count": 1,
   "metadata": {},
   "outputs": [],
   "source": [
    "import logging\n",
    "\n",
    "# Configuração básica do logger\n",
    "logging.basicConfig(\n",
    "  level=logging.DEBUG, # nível mínimo de log que o programa vai mostrar\n",
    "  filename=\"debug.log\", # salva num arquivo\n",
    "  filemode='a', # 'a'=append; 'w'=write (sobrescreve)\n",
    "  encoding='utf-8',\n",
    "  format=\"%(asctime)s - %(filename)s - %(levelname)s - %(message)s\"\n",
    "  )\n",
    "\n",
    "logging.info(\"Mensagem de Log\")"
   ]
  },
  {
   "cell_type": "markdown",
   "metadata": {},
   "source": [
    "### Tipos de logs"
   ]
  },
  {
   "cell_type": "markdown",
   "metadata": {},
   "source": [
    "Os logs são classificados em *nível hierárquico*, do mais brando até o mais grave. São eles:\n",
    "\n",
    "* logging.debug (DEBUG) -> Informação detalhada, cujo interesse envolve apenas o diagnóstico de possíveis problemas em ambientes de teste\n",
    "\n",
    "* logging.info (INFO) -> Eventos informativos que indicam a confirmação de que as coisas estão funcionando como esperado.\n",
    "\n",
    "* logging.warning (WARNING) -> Uma indicação que algo inesperado aconteceu, ou um indicativo que algum problema em um futuro próximo (ex.: ‘pouco espaço em disco’). O software está ainda funcionando como esperado.\n",
    "\n",
    "* logging.error (ERROR) -> Por conta de um problema mais grave, o software não conseguiu executar alguma função.\n",
    "\n",
    "* logging.critical (CRITICAL) -> Um erro grave, indicando que o programa pode não conseguir continuar rodando."
   ]
  },
  {
   "cell_type": "code",
   "execution_count": 2,
   "metadata": {},
   "outputs": [
    {
     "name": "stderr",
     "output_type": "stream",
     "text": [
      "2023-11-21 00:45:48,697 [INFO] 2887450692.py - Mensagem de Log\n",
      "2023-11-21 00:45:48,699 [WARNING] 2887450692.py - Mensagem de Log\n",
      "2023-11-21 00:45:48,701 [ERROR] 2887450692.py - Mensagem de Log\n",
      "2023-11-21 00:45:48,703 [CRITICAL] 2887450692.py - Mensagem de Log Bruno\n"
     ]
    }
   ],
   "source": [
    "import logging\n",
    "logging.basicConfig(level=logging.DEBUG) # Mostra todas as mensagens\n",
    "\n",
    "mensagem = \"Bruno\"\n",
    "\n",
    "# Emite mensagens de log\n",
    "logging.debug(\"Mensagem de Log\")\n",
    "logging.info(\"Mensagem de Log\")\n",
    "logging.warning(\"Mensagem de Log\")\n",
    "logging.error(\"Mensagem de Log\")\n",
    "logging.critical(f\"Mensagem de Log {mensagem}\")"
   ]
  },
  {
   "cell_type": "markdown",
   "metadata": {},
   "source": [
    "### Exemplos"
   ]
  },
  {
   "cell_type": "markdown",
   "metadata": {},
   "source": [
    "##### Criando Logger com 2 Handlers (escreve no arquivo e no console)"
   ]
  },
  {
   "cell_type": "code",
   "execution_count": 1,
   "metadata": {},
   "outputs": [
    {
     "name": "stderr",
     "output_type": "stream",
     "text": [
      "2023-11-21 00:43:55,366 [INFO] 3172626156.py - mensagem\n"
     ]
    }
   ],
   "source": [
    "import logging\n",
    "\n",
    "logging.basicConfig(\n",
    "    level=logging.INFO,\n",
    "    format=\"%(asctime)s [%(levelname)s] %(filename)s - %(message)s\",\n",
    "    handlers=[\n",
    "        logging.FileHandler(\"debug.log\"), # Escreve no arquivo\n",
    "        logging.StreamHandler() # Escreve no shell\n",
    "    ]\n",
    ")\n",
    "\n",
    "logging.info(\"mensagem\")"
   ]
  }
 ],
 "metadata": {
  "kernelspec": {
   "display_name": "Python 3",
   "language": "python",
   "name": "python3"
  },
  "language_info": {
   "codemirror_mode": {
    "name": "ipython",
    "version": 3
   },
   "file_extension": ".py",
   "mimetype": "text/x-python",
   "name": "python",
   "nbconvert_exporter": "python",
   "pygments_lexer": "ipython3",
   "version": "3.11.4"
  }
 },
 "nbformat": 4,
 "nbformat_minor": 2
}
