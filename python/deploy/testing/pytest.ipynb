{
 "cells": [
  {
   "cell_type": "markdown",
   "metadata": {},
   "source": [
    "# pytest"
   ]
  },
  {
   "cell_type": "markdown",
   "metadata": {},
   "source": [
    "O `pytest` é uma biblioteca Python para escrever e executar testes de software de maneira simples e eficaz. Ele oferece uma abordagem flexível e poderosa para realizar testes em comparação com o módulo `unittest`, padrão do Python. Sua flexibilidade e recursos adicionais o tornam uma escolha popular para testes automatizados em Python, sendo amplamente adotado pela comunidade. \n",
    "\n",
    "**Obs.:** Vale ressaltar que é preciso baixar o `pytest` previamente com o `pip`.\n",
    "\n",
    "O pytest também oferece um recurso poderoso chamado *fixtures*, que permite a configuração prévia e limpeza após os testes, facilitando a reutilização de código e a manutenção dos testes."
   ]
  },
  {
   "cell_type": "markdown",
   "metadata": {},
   "source": [
    "### Command Line Interface (CLI)"
   ]
  },
  {
   "cell_type": "markdown",
   "metadata": {},
   "source": [
    "Os testes criados com o `pytest` normalmente são executados como interface de linha de comando (CLI) no terminal, ou com a ferramenta *Testing* do VSCode. Em ambos os cenários, a biblioteca identificará todos os arquivos de teste que tenham nomes prefixados com \"test_\", executando-os em ordem. "
   ]
  },
  {
   "cell_type": "code",
   "execution_count": 9,
   "metadata": {},
   "outputs": [
    {
     "name": "stdout",
     "output_type": "stream",
     "text": [
      "\u001b[1m============================= test session starts ==============================\u001b[0m\n",
      "platform linux -- Python 3.10.12, pytest-7.4.3, pluggy-1.3.0\n",
      "rootdir: /home/brunomarcelino/github/estudos-com-py/deploy/testing\n",
      "collected 0 items                                                              \u001b[0m\n",
      "\n",
      "\u001b[33m============================ \u001b[33mno tests ran\u001b[0m\u001b[33m in 0.00s\u001b[0m\u001b[33m =============================\u001b[0m\n"
     ]
    }
   ],
   "source": [
    "!pytest"
   ]
  },
  {
   "cell_type": "markdown",
   "metadata": {},
   "source": [
    "É possível passar diversos argumentos de linha de comando para o `pytest`. Eles oferecem flexibilidade para personalizar a execução dos testes de acordo com as necessidades do projeto. Dentre eles, os mais comuns são:\n",
    "\n",
    "* Execução de Testes:\n",
    "  * `pytest`: Executa todos os testes na pasta atual e subpastas.\n",
    "  * `pytest nome_do_arquivo.py`: Executa os testes no arquivo específico.\n",
    "  * `pytest -k \"substring\"`: Executa apenas os testes cujos nomes contenham a substring fornecida.\n",
    "  * `pytest -m \"nome_da_marcação\"`: Executa os testes marcados com a marcação específica.\n",
    "\n",
    "* Saída e Relatórios:\n",
    "  * `pytest -v`: Exibe informações detalhadas (verbosas) sobre os testes.\n",
    "  * `pytest --tb=line`: Mostra apenas uma linha para falhas (tracebacks).\n",
    "  * `pytest --junitxml=nome_do_arquivo.xml`: Gera um relatório no formato JUnit XML.\n",
    "  * `pytest --cov=nome_do_pacote`: Calcula a cobertura de código para o pacote especificado.\n",
    "\n",
    "* Marcadores e Seleção de Testes:\n",
    "  * `pytest -m \"not marcação\"`: Executa todos os testes que não possuem a marcação especificada.\n",
    "  * `pytest -k \"not substring\"`: Executa todos os testes cujos nomes não contenham a substring especificada.\n",
    "  * `pytest --lf`: Executa somente os testes falhos da execução anterior.\n",
    "  * `pytest --ff`: Executa somente os testes falhos da execução anterior, reexecutando todos os testes após eles.\n",
    "\n",
    "* Fixtures e Escopos:\n",
    "  * `pytest --fixtures`: Mostra informações sobre todas as fixtures disponíveis.\n",
    "  * `pytest --setup-show`: Mostra as informações de setup/teardown durante a execução dos testes.\n",
    "\n",
    "* Configurações e Plugins:\n",
    "  * `pytest --version`: Exibe a versão do pytest.\n",
    "  * `pytest -p nome_do_plugin`: Adiciona plugins específicos durante a execução dos testes.\n",
    "\n",
    "* Seleção de Classes e Métodos:\n",
    "  * `pytest nome_do_arquivo.py::NomeDaClasse`: Executa os testes apenas para a classe específica.\n",
    "  * `pytest nome_do_arquivo.py::NomeDaClasse::nome_do_metodo`: Executa apenas um método específico dentro de uma classe."
   ]
  },
  {
   "cell_type": "markdown",
   "metadata": {},
   "source": [
    "### Marks"
   ]
  },
  {
   "cell_type": "markdown",
   "metadata": {},
   "source": [
    "Os *marks* (marcadores) no `pytest` são utilizados para marcar funções, classes ou módulos de teste com rótulos específicos, permitindo categorizar e identificar testes de forma a controlar sua execução e aplicar ações específicas. Isso ajuda na execução seletiva e na gestão de testes em projetos grandes ou complexos.\n",
    "\n",
    "Os marcadores geralmente são usados para filtrar a execução de testes, realizar a execução condicional com diferentes configurações ou até mesmo para gerar relatórios específicos (como identificar testes de performance ou integração).\n",
    "\n",
    "Para criar um marcador em uma função de teste, você pode usar o decorador `@pytest.mark.:nome_do_marcador:`."
   ]
  },
  {
   "cell_type": "code",
   "execution_count": 10,
   "metadata": {},
   "outputs": [],
   "source": [
    "import pytest\n",
    "\n",
    "@pytest.mark.fast\n",
    "def test_calculo_rapido():\n",
    "    # código do teste\n",
    "    pass\n",
    "\n",
    "@pytest.mark.slow\n",
    "def test_calculo_lento():\n",
    "    # código do teste\n",
    "    pass"
   ]
  },
  {
   "cell_type": "markdown",
   "metadata": {},
   "source": [
    "Para executar testes com base em marcadores específicos, use o parâmetro `-m` seguido pelo nome do marcador, conforme o exemplo abaixo:\n",
    "\n",
    "```\n",
    "  pytest -m fast  # Executa testes marcados como \"fast\"\n",
    "  pytest -m \"not slow\"  # Executa testes que NÃO estão marcados como \"slow\"\n",
    "```\n",
    "\n",
    "Você também pode definir marcadores personalizados em um arquivo `pytest.ini` ou `setup.cfg`. Por exemplo:\n",
    "\n",
    "```\n",
    "  # pytest.ini\n",
    "  [pytest]\n",
    "  markers =\n",
    "      slow: testes lentos\n",
    "      fast: testes rápidos\n",
    "```\n",
    "\n"
   ]
  },
  {
   "cell_type": "markdown",
   "metadata": {},
   "source": [
    "### Fixtures"
   ]
  },
  {
   "cell_type": "markdown",
   "metadata": {},
   "source": [
    "As fixtures no pytest são funções que ajudam na configuração, fornecendo um **contexto inicial** para os testes e na limpeza após a sua execução. Elas permitem a criação de dados de teste (*mocks*), inicialização de recursos ou configurações específicas para serem usadas em diferentes conjuntos de testes. \n",
    "\n",
    "Uma fixture é definida usando o decorador `@pytest.fixture` em uma função. Quando essa função é nomeada nos argumentos de uma função de teste, o pytest a reconhece e a executa antes do teste."
   ]
  },
  {
   "cell_type": "code",
   "execution_count": 6,
   "metadata": {},
   "outputs": [],
   "source": [
    "import pytest\n",
    "\n",
    "# Definindo uma fixture\n",
    "@pytest.fixture\n",
    "def setup_data():\n",
    "  data = {'key': 'value'}\n",
    "  return data\n",
    "\n",
    "# Utilizando a fixture em um teste\n",
    "def test_data(setup_data):\n",
    "  assert 'key' in setup_data\n",
    "  print(\"Teste Finalizado!\")"
   ]
  },
  {
   "cell_type": "markdown",
   "metadata": {},
   "source": [
    "As fixtures podem ter diferentes escopos, como função, classe, módulo ou sessão. O escopo define por quanto tempo a fixture será mantida. Por padrão, o escopo é função, o que significa que a fixture é executada uma vez por teste. Entretanto, é possível especificar escopos maiores para reutilização entre testes."
   ]
  },
  {
   "cell_type": "code",
   "execution_count": 3,
   "metadata": {},
   "outputs": [],
   "source": [
    "import pytest\n",
    "\n",
    "# Fixture com escopo de classe\n",
    "@pytest.fixture(scope=\"class\")\n",
    "def setup_data():\n",
    "    data = {'key': 'value'}\n",
    "    print(\"\\nSetting up data...\")\n",
    "    return data\n",
    "\n",
    "# Classe de teste\n",
    "class TestClassScope:\n",
    "    # Usando a fixture setup_data nesta classe de teste\n",
    "    def test_data_exists(self, setup_data):\n",
    "        assert 'key' in setup_data\n",
    "        assert setup_data['key'] == 'value'\n",
    "        print(\"Teste Finalizado!\")\n",
    "\n",
    "    def test_data_modified(self, setup_data):\n",
    "        setup_data['new_key'] = 'new_value'\n",
    "        assert 'new_key' in setup_data\n",
    "        assert setup_data['new_key'] == 'new_value'\n",
    "        print(\"Teste Finalizado!\")\n",
    "\n",
    "    def test_data_unmodified(self, setup_data):\n",
    "        assert 'new_key' not in setup_data\n",
    "        print(\"Teste Finalizado!\")"
   ]
  },
  {
   "cell_type": "markdown",
   "metadata": {},
   "source": [
    "Neste exemplo, a fixture `setup_data` é definida com um escopo de classe (scope=\"class\"). Isso significa que a função `setup_data` será executada uma vez para cada classe de teste, fornecendo o mesmo estado inicial para todos os testes dentro dessa classe.\n",
    "\n",
    "As funções de teste (`test_data_exists`, `test_data_modified` e `test_data_unmodified`) recebem a fixture `setup_data` como argumento. Como o escopo é de classe, todas essas funções de teste compartilham o mesmo estado inicial definido pela fixture `setup_data`.\n",
    "\n",
    "Ao executar estes testes, a fixture `setup_data` será executada uma vez para toda a classe de teste, mantendo o mesmo estado inicial para os testes dentro dessa classe."
   ]
  }
 ],
 "metadata": {
  "kernelspec": {
   "display_name": "Python 3",
   "language": "python",
   "name": "python3"
  },
  "language_info": {
   "codemirror_mode": {
    "name": "ipython",
    "version": 3
   },
   "file_extension": ".py",
   "mimetype": "text/x-python",
   "name": "python",
   "nbconvert_exporter": "python",
   "pygments_lexer": "ipython3",
   "version": "3.10.12"
  }
 },
 "nbformat": 4,
 "nbformat_minor": 2
}
