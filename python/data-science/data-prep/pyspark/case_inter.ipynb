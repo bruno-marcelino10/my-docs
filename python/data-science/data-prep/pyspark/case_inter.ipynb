{
 "cells": [
  {
   "cell_type": "code",
   "execution_count": 5,
   "metadata": {
    "colab": {
     "base_uri": "https://localhost:8080/"
    },
    "id": "yMw8-hFn1Z7T",
    "outputId": "fe28f228-ba82-40a6-9a82-eda3b2c6f7f5"
   },
   "outputs": [
    {
     "name": "stdout",
     "output_type": "stream",
     "text": [
      "Looking in indexes: https://pypi.org/simple, https://us-python.pkg.dev/colab-wheels/public/simple/\n",
      "Collecting pyspark\n",
      "  Downloading pyspark-3.3.1.tar.gz (281.4 MB)\n",
      "\u001b[K     |████████████████████████████████| 281.4 MB 46 kB/s \n",
      "\u001b[?25hCollecting py4j==0.10.9.5\n",
      "  Downloading py4j-0.10.9.5-py2.py3-none-any.whl (199 kB)\n",
      "\u001b[K     |████████████████████████████████| 199 kB 46.6 MB/s \n",
      "\u001b[?25hBuilding wheels for collected packages: pyspark\n",
      "  Building wheel for pyspark (setup.py) ... \u001b[?25l\u001b[?25hdone\n",
      "  Created wheel for pyspark: filename=pyspark-3.3.1-py2.py3-none-any.whl size=281845513 sha256=9221dd9e43f9d694041a58d53ad8cf01d13671ff0281e86ecf6d28c9a88bc486\n",
      "  Stored in directory: /root/.cache/pip/wheels/42/59/f5/79a5bf931714dcd201b26025347785f087370a10a3329a899c\n",
      "Successfully built pyspark\n",
      "Installing collected packages: py4j, pyspark\n",
      "Successfully installed py4j-0.10.9.5 pyspark-3.3.1\n"
     ]
    }
   ],
   "source": [
    "# Install pyspark\n",
    "!pip install pyspark"
   ]
  },
  {
   "cell_type": "code",
   "execution_count": 85,
   "metadata": {
    "colab": {
     "base_uri": "https://localhost:8080/",
     "height": 219
    },
    "id": "pcjnr8EP0kCJ",
    "outputId": "96d53079-1f8f-49b1-a9ef-64cd9e0653cf"
   },
   "outputs": [
    {
     "data": {
      "text/html": [
       "\n",
       "            <div>\n",
       "                <p><b>SparkSession - in-memory</b></p>\n",
       "                \n",
       "        <div>\n",
       "            <p><b>SparkContext</b></p>\n",
       "\n",
       "            <p><a href=\"http://914cfd250f0f:4040\">Spark UI</a></p>\n",
       "\n",
       "            <dl>\n",
       "              <dt>Version</dt>\n",
       "                <dd><code>v3.3.1</code></dd>\n",
       "              <dt>Master</dt>\n",
       "                <dd><code>local[*]</code></dd>\n",
       "              <dt>AppName</dt>\n",
       "                <dd><code>pyspark-shell</code></dd>\n",
       "            </dl>\n",
       "        </div>\n",
       "        \n",
       "            </div>\n",
       "        "
      ],
      "text/plain": [
       "<pyspark.sql.session.SparkSession at 0x7f1967ee7a90>"
      ]
     },
     "execution_count": 85,
     "metadata": {},
     "output_type": "execute_result"
    }
   ],
   "source": [
    "import os\n",
    "from datetime import datetime\n",
    "from functools import reduce\n",
    "\n",
    "import pandas as pd\n",
    "import numpy as np\n",
    "\n",
    "from pyspark.sql import SparkSession, Row\n",
    "from pyspark.sql.functions import col\n",
    "import pyspark\n",
    "\n",
    "\n",
    "# Create a Spark Session\n",
    "spark = SparkSession.builder.master(\"local[*]\").getOrCreate()\n",
    "\n",
    "# Check Spark Session Information\n",
    "spark"
   ]
  },
  {
   "cell_type": "code",
   "execution_count": 7,
   "metadata": {
    "id": "HD3ANT-51MSW"
   },
   "outputs": [],
   "source": [
    "# id, nome, sexo, estado, cidade\n",
    "clientes = [\n",
    "    (1, \"Joao\", \"M\", \"MG\", \"Betim\"),\n",
    "    (2, \"Luiza\", \"F\", \"SP\", \"São Caetano\"),\n",
    "    (3, \"Gabriela\", \"F\", \"MG\", \"Belo Horizonte\"),\n",
    "    (4, \"Rafael\", \"M\", \"RJ\", \"Niteroi\"),\n",
    "    (5, \"Jean\", \"M\", \"RJ\", \"Cabo Frio\"),\n",
    "    (6, \"Daniela\", \"F\", \"PR\", \"Curitiba\"),\n",
    "]\n",
    "\n",
    "# id_cliente: (id_conta, dt_criacao)\n",
    "contas = {\n",
    "    2: (191821, 1608987600),\n",
    "    1: (191822, 1608552000),\n",
    "    3: (191823, 1609761600),\n",
    "    6: (191824, 1609769460),\n",
    "    5: (191825, 1610449920),\n",
    "    4: (191826, 1610712000)\n",
    "}\n",
    "\n",
    "# conta_id, fl_cartao_credito, fl_investidor, fl_credito\n",
    "produtos = [\n",
    "    { \"conta_id\": 191821, \"fl_cartao_credito\": 1, \"fl_investidor\": 0, \"fl_credito\": 1},\n",
    "    { \"conta_id\": 191822, \"fl_cartao_credito\": 1, \"fl_investidor\": 1, \"fl_credito\": 0},\n",
    "    { \"conta_id\": 191823, \"fl_cartao_credito\": 0, \"fl_investidor\": 0, \"fl_credito\": 1},\n",
    "    { \"conta_id\": 191824, \"fl_cartao_credito\": 0, \"fl_investidor\": 1, \"fl_credito\": 0},\n",
    "    { \"conta_id\": 191825, \"fl_cartao_credito\": 1, \"fl_investidor\": 1, \"fl_credito\": 1},\n",
    "    { \"conta_id\": 191826, \"fl_cartao_credito\": 1, \"fl_investidor\": 1, \"fl_credito\": 0}\n",
    "]\n",
    "\n",
    "# conta_id, valor, dt_transacao\n",
    "transacoes = [\n",
    "    {\"conta_id\": 191821, \"valor\": 10.0, \"dt_transacao\": \"2021-01-03 16:32:01\"},\n",
    "    {\"conta_id\": 191821, \"valor\": 100.0, \"dt_transacao\": \"2021-01-10 17:00:00\"},\n",
    "    {\"conta_id\": 191821, \"valor\": 300.0, \"dt_transacao\": \"2021-03-03 09:11:12\"},\n",
    "    {\"conta_id\": 191821, \"valor\": 132.0, \"dt_transacao\": \"2021-03-03 10:15:10\"},\n",
    "    {\"conta_id\": 191822, \"valor\": 5.0, \"dt_transacao\": \"2021-01-03 23:12:11\"},\n",
    "    {\"conta_id\": 191822, \"valor\": 2.0, \"dt_transacao\": \"2021-01-03 11:18:19\"},\n",
    "    {\"conta_id\": 191823, \"valor\": 49.99, \"dt_transacao\": \"2021-01-03 15:18:19\"},\n",
    "    {\"conta_id\": 191823, \"valor\": 40.0, \"dt_transacao\": \"2021-01-03 18:19:21\"},\n",
    "    {\"conta_id\": 191823, \"valor\": 9.30, \"dt_transacao\": \"2021-01-03 22:11:10\"},\n",
    "    {\"conta_id\": 191826, \"valor\": 1000.0, \"dt_transacao\": \"2021-01-16 08:12:11\"},\n",
    "    {\"conta_id\": 191825, \"valor\": 23.43, \"dt_transacao\": \"2021-01-03 09:11:56\"},\n",
    "    {\"conta_id\": 191825, \"valor\": 10.09, \"dt_transacao\": \"2021-01-03 18:19:18\"}\n",
    "]\n",
    "\n",
    "# Dataframes\n",
    "df_clientes = spark.createDataFrame(clientes, schema=['id', 'nome', 'sexo', 'estado', 'cidade'])\n",
    "df_contas = spark.createDataFrame([Row(k, *v) for k, v in contas.items()], schema=['cliente_id', 'conta_id', 'dt_criacao']).withColumn('dt_criacao', col('dt_criacao').cast('timestamp'))\n",
    "df_produtos = spark.createDataFrame(produtos)\n",
    "df_transacoes = spark.createDataFrame(transacoes).withColumn('dt_transacao', col('dt_transacao').cast('timestamp'))\n",
    "\n",
    "\n",
    "# SQL\n",
    "df_clientes.createOrReplaceTempView('CLIENTES')\n",
    "df_contas.createOrReplaceTempView('CONTAS')\n",
    "df_produtos.createOrReplaceTempView('PRODUTOS')\n",
    "df_transacoes.createOrReplaceTempView('TRANSACOES')\n",
    "\n",
    "# Pandas\n",
    "pd_clientes = df_clientes.toPandas()\n",
    "pd_contas = df_contas.toPandas()\n",
    "pd_produtos = df_produtos.toPandas()\n",
    "pd_transacoes = df_transacoes.toPandas()"
   ]
  },
  {
   "cell_type": "markdown",
   "metadata": {
    "id": "OmXAtRNR1v7G"
   },
   "source": [
    "# Python"
   ]
  },
  {
   "cell_type": "markdown",
   "metadata": {
    "id": "YqELwLz5EU_p"
   },
   "source": [
    "**1.** Implemente uma função que retorne a soma do valor transacionado.\n",
    "\n",
    "> ```python\n",
    "> # conta_id, valor, dt_transacao\n",
    "> transacoes = [\n",
    ">     {\"conta_id\": 191821, \"valor\": 10.0, \"dt_transacao\": \"2021-01-03 16:32:01\"},\n",
    ">     {\"conta_id\": 191821, \"valor\": 100.0, \"dt_transacao\": \"2021-01-10 17:00:00\"},\n",
    ">     {\"conta_id\": 191821, \"valor\": 300.0, \"dt_transacao\": \"2021-03-03 09:11:12\"},\n",
    ">     {\"conta_id\": 191821, \"valor\": 132.0, \"dt_transacao\": \"2021-03-03 10:15:10\"},\n",
    ">     {\"conta_id\": 191822, \"valor\": 5.0, \"dt_transacao\": \"2021-01-03 23:12:11\"},\n",
    ">     {\"conta_id\": 191822, \"valor\": 2.0, \"dt_transacao\": \"2021-01-03 11:18:19\"},\n",
    ">     {\"conta_id\": 191823, \"valor\": 49.99, \"dt_transacao\": \"2021-01-03 15:18:19\"},\n",
    ">     {\"conta_id\": 191823, \"valor\": 40.0, \"dt_transacao\": \"2021-01-03 18:19:21\"},\n",
    ">     {\"conta_id\": 191823, \"valor\": 9.30, \"dt_transacao\": \"2021-01-03 22:11:10\"},\n",
    ">     {\"conta_id\": 191826, \"valor\": 1000.0, \"dt_transacao\": \"2021-01-16 08:12:11\"},\n",
    ">     {\"conta_id\": 191825, \"valor\": 23.43, \"dt_transacao\": \"2021-01-03 09:11:56\"},\n",
    ">     {\"conta_id\": 191825, \"valor\": 10.09, \"dt_transacao\": \"2021-01-03 18:19:18\"}\n",
    "> ]\n",
    "> ```"
   ]
  },
  {
   "cell_type": "code",
   "execution_count": 8,
   "metadata": {
    "colab": {
     "base_uri": "https://localhost:8080/"
    },
    "id": "GdILI1TBErmV",
    "outputId": "f797304f-cae9-48ec-cc45-8d33c5abfe96"
   },
   "outputs": [
    {
     "data": {
      "text/plain": [
       "1681.81"
      ]
     },
     "execution_count": 8,
     "metadata": {},
     "output_type": "execute_result"
    }
   ],
   "source": [
    "def sum_vl_transacoes(transacoes):\n",
    "  # TODO: Implemente sua solucao aqui\n",
    "\n",
    "  res = 0\n",
    "  for i in transacoes:\n",
    "    res += i[\"valor\"]\n",
    "\n",
    "  return res\n",
    "\n",
    "sum_vl_transacoes(transacoes)"
   ]
  },
  {
   "cell_type": "markdown",
   "metadata": {
    "id": "GhN0s8pO30Pc"
   },
   "source": [
    "# SQL"
   ]
  },
  {
   "cell_type": "markdown",
   "metadata": {
    "id": "kynDHtKh5C63"
   },
   "source": [
    "> CLIENTES\n",
    "> \n",
    "> \n",
    "> |    |   id | nome     | sexo   | estado   | cidade         |\n",
    "> |---:|-----:|:---------|:-------|:---------|:---------------|\n",
    "> |  0 |    1 | Joao     | M      | MG       | Betim          |\n",
    "> |  1 |    2 | Luiza    | F      | SP       | São Caetano    |\n",
    "> |  2 |    3 | Gabriela | F      | MG       | Belo Horizonte |\n",
    "> |  3 |    4 | Rafael   | M      | RJ       | Niteroi        |\n",
    "> |  4 |    5 | Jean     | M      | RJ       | Cabo Frio      |\n",
    "> |  5 |    6 | Daniela  | F      | PR       | Curitiba       |\n",
    "> \n",
    "> CONTAS\n",
    "> \n",
    "> |    |   cliente_id |   conta_id | dt_criacao          |\n",
    "> |---:|-------------:|-----------:|:--------------------|\n",
    "> |  0 |            2 |     191821 | 2020-12-26 13:00:00 |\n",
    "> |  1 |            1 |     191822 | 2020-12-21 12:00:00 |\n",
    "> |  2 |            3 |     191823 | 2021-01-04 12:00:00 |\n",
    "> |  3 |            6 |     191824 | 2021-01-04 14:11:00 |\n",
    "> |  4 |            5 |     191825 | 2021-01-12 11:12:00 |\n",
    "> |  5 |            4 |     191826 | 2021-01-15 12:00:00 |\n",
    "> \n",
    "> PRODUTOS\n",
    "> \n",
    "> |    |   conta_id |   fl_cartao_credito |   fl_credito |   fl_investidor |\n",
    "> |---:|-----------:|--------------------:|-------------:|----------------:|\n",
    "> |  0 |     191821 |                   1 |            1 |               0 |\n",
    "> |  1 |     191822 |                   1 |            0 |               1 |\n",
    "> |  2 |     191823 |                   0 |            1 |               0 |\n",
    "> |  3 |     191824 |                   0 |            0 |               1 |\n",
    "> |  4 |     191825 |                   1 |            1 |               1 |\n",
    "> |  5 |     191826 |                   1 |            0 |               1 |\n",
    "> \n",
    "> \n",
    "> TRANSACOES\n",
    "> \n",
    "> |    |   conta_id | dt_transacao        |   valor |\n",
    "> |---:|-----------:|:--------------------|--------:|\n",
    "> |  0 |     191821 | 2021-01-03 16:32:01 |   10    |\n",
    "> |  1 |     191821 | 2021-01-10 17:00:00 |  100    |\n",
    "> |  2 |     191821 | 2021-03-03 09:11:12 |  300    |\n",
    "> |  3 |     191821 | 2021-03-03 10:15:10 |  132    |\n",
    "> |  4 |     191822 | 2021-01-03 23:12:11 |    5    |\n",
    "> |  5 |     191822 | 2021-01-03 11:18:19 |    2    |\n",
    "> |  6 |     191823 | 2021-01-03 15:18:19 |   49.99 |\n",
    "> |  7 |     191823 | 2021-01-03 18:19:21 |   40    |\n",
    "> |  8 |     191823 | 2021-01-03 22:11:10 |    9.3  |\n",
    "> |  9 |     191826 | 2021-01-16 08:12:11 | 1000    |\n",
    "> | 10 |     191825 | 2021-01-03 09:11:56 |   23.43 |\n",
    "> | 11 |     191825 | 2021-01-03 18:19:18 |   10.09 |\n",
    "\n"
   ]
  },
  {
   "cell_type": "markdown",
   "metadata": {
    "id": "ccXVAKtk5IWN"
   },
   "source": [
    "### Resposta"
   ]
  },
  {
   "cell_type": "markdown",
   "metadata": {
    "id": "1tMsU9Pr9-xl"
   },
   "source": [
    "**1.** Retorne o nome do cliente e a data de criação da conta."
   ]
  },
  {
   "cell_type": "code",
   "execution_count": 13,
   "metadata": {
    "colab": {
     "base_uri": "https://localhost:8080/",
     "height": 238
    },
    "id": "Yi4ymm7O5MR8",
    "outputId": "aedb5307-6c36-4d5a-de89-eaea0593515d"
   },
   "outputs": [
    {
     "data": {
      "text/html": [
       "\n",
       "  <div id=\"df-35d3d153-a5be-440f-a9b5-c54e687cfc7b\">\n",
       "    <div class=\"colab-df-container\">\n",
       "      <div>\n",
       "<style scoped>\n",
       "    .dataframe tbody tr th:only-of-type {\n",
       "        vertical-align: middle;\n",
       "    }\n",
       "\n",
       "    .dataframe tbody tr th {\n",
       "        vertical-align: top;\n",
       "    }\n",
       "\n",
       "    .dataframe thead th {\n",
       "        text-align: right;\n",
       "    }\n",
       "</style>\n",
       "<table border=\"1\" class=\"dataframe\">\n",
       "  <thead>\n",
       "    <tr style=\"text-align: right;\">\n",
       "      <th></th>\n",
       "      <th>nome</th>\n",
       "      <th>dt_criacao</th>\n",
       "    </tr>\n",
       "  </thead>\n",
       "  <tbody>\n",
       "    <tr>\n",
       "      <th>0</th>\n",
       "      <td>Joao</td>\n",
       "      <td>2020-12-21 12:00:00</td>\n",
       "    </tr>\n",
       "    <tr>\n",
       "      <th>1</th>\n",
       "      <td>Jean</td>\n",
       "      <td>2021-01-12 11:12:00</td>\n",
       "    </tr>\n",
       "    <tr>\n",
       "      <th>2</th>\n",
       "      <td>Gabriela</td>\n",
       "      <td>2021-01-04 12:00:00</td>\n",
       "    </tr>\n",
       "    <tr>\n",
       "      <th>3</th>\n",
       "      <td>Rafael</td>\n",
       "      <td>2021-01-15 12:00:00</td>\n",
       "    </tr>\n",
       "    <tr>\n",
       "      <th>4</th>\n",
       "      <td>Daniela</td>\n",
       "      <td>2021-01-04 14:11:00</td>\n",
       "    </tr>\n",
       "    <tr>\n",
       "      <th>5</th>\n",
       "      <td>Luiza</td>\n",
       "      <td>2020-12-26 13:00:00</td>\n",
       "    </tr>\n",
       "  </tbody>\n",
       "</table>\n",
       "</div>\n",
       "      <button class=\"colab-df-convert\" onclick=\"convertToInteractive('df-35d3d153-a5be-440f-a9b5-c54e687cfc7b')\"\n",
       "              title=\"Convert this dataframe to an interactive table.\"\n",
       "              style=\"display:none;\">\n",
       "        \n",
       "  <svg xmlns=\"http://www.w3.org/2000/svg\" height=\"24px\"viewBox=\"0 0 24 24\"\n",
       "       width=\"24px\">\n",
       "    <path d=\"M0 0h24v24H0V0z\" fill=\"none\"/>\n",
       "    <path d=\"M18.56 5.44l.94 2.06.94-2.06 2.06-.94-2.06-.94-.94-2.06-.94 2.06-2.06.94zm-11 1L8.5 8.5l.94-2.06 2.06-.94-2.06-.94L8.5 2.5l-.94 2.06-2.06.94zm10 10l.94 2.06.94-2.06 2.06-.94-2.06-.94-.94-2.06-.94 2.06-2.06.94z\"/><path d=\"M17.41 7.96l-1.37-1.37c-.4-.4-.92-.59-1.43-.59-.52 0-1.04.2-1.43.59L10.3 9.45l-7.72 7.72c-.78.78-.78 2.05 0 2.83L4 21.41c.39.39.9.59 1.41.59.51 0 1.02-.2 1.41-.59l7.78-7.78 2.81-2.81c.8-.78.8-2.07 0-2.86zM5.41 20L4 18.59l7.72-7.72 1.47 1.35L5.41 20z\"/>\n",
       "  </svg>\n",
       "      </button>\n",
       "      \n",
       "  <style>\n",
       "    .colab-df-container {\n",
       "      display:flex;\n",
       "      flex-wrap:wrap;\n",
       "      gap: 12px;\n",
       "    }\n",
       "\n",
       "    .colab-df-convert {\n",
       "      background-color: #E8F0FE;\n",
       "      border: none;\n",
       "      border-radius: 50%;\n",
       "      cursor: pointer;\n",
       "      display: none;\n",
       "      fill: #1967D2;\n",
       "      height: 32px;\n",
       "      padding: 0 0 0 0;\n",
       "      width: 32px;\n",
       "    }\n",
       "\n",
       "    .colab-df-convert:hover {\n",
       "      background-color: #E2EBFA;\n",
       "      box-shadow: 0px 1px 2px rgba(60, 64, 67, 0.3), 0px 1px 3px 1px rgba(60, 64, 67, 0.15);\n",
       "      fill: #174EA6;\n",
       "    }\n",
       "\n",
       "    [theme=dark] .colab-df-convert {\n",
       "      background-color: #3B4455;\n",
       "      fill: #D2E3FC;\n",
       "    }\n",
       "\n",
       "    [theme=dark] .colab-df-convert:hover {\n",
       "      background-color: #434B5C;\n",
       "      box-shadow: 0px 1px 3px 1px rgba(0, 0, 0, 0.15);\n",
       "      filter: drop-shadow(0px 1px 2px rgba(0, 0, 0, 0.3));\n",
       "      fill: #FFFFFF;\n",
       "    }\n",
       "  </style>\n",
       "\n",
       "      <script>\n",
       "        const buttonEl =\n",
       "          document.querySelector('#df-35d3d153-a5be-440f-a9b5-c54e687cfc7b button.colab-df-convert');\n",
       "        buttonEl.style.display =\n",
       "          google.colab.kernel.accessAllowed ? 'block' : 'none';\n",
       "\n",
       "        async function convertToInteractive(key) {\n",
       "          const element = document.querySelector('#df-35d3d153-a5be-440f-a9b5-c54e687cfc7b');\n",
       "          const dataTable =\n",
       "            await google.colab.kernel.invokeFunction('convertToInteractive',\n",
       "                                                     [key], {});\n",
       "          if (!dataTable) return;\n",
       "\n",
       "          const docLinkHtml = 'Like what you see? Visit the ' +\n",
       "            '<a target=\"_blank\" href=https://colab.research.google.com/notebooks/data_table.ipynb>data table notebook</a>'\n",
       "            + ' to learn more about interactive tables.';\n",
       "          element.innerHTML = '';\n",
       "          dataTable['output_type'] = 'display_data';\n",
       "          await google.colab.output.renderOutput(dataTable, element);\n",
       "          const docLink = document.createElement('div');\n",
       "          docLink.innerHTML = docLinkHtml;\n",
       "          element.appendChild(docLink);\n",
       "        }\n",
       "      </script>\n",
       "    </div>\n",
       "  </div>\n",
       "  "
      ],
      "text/plain": [
       "       nome          dt_criacao\n",
       "0      Joao 2020-12-21 12:00:00\n",
       "1      Jean 2021-01-12 11:12:00\n",
       "2  Gabriela 2021-01-04 12:00:00\n",
       "3    Rafael 2021-01-15 12:00:00\n",
       "4   Daniela 2021-01-04 14:11:00\n",
       "5     Luiza 2020-12-26 13:00:00"
      ]
     },
     "execution_count": 13,
     "metadata": {},
     "output_type": "execute_result"
    }
   ],
   "source": [
    "# TODO: Implemente sua solucao aqui\n",
    "spark.sql('''\n",
    "    SELECT DISTINCT nome, dt_criacao\n",
    "    FROM CLIENTES\n",
    "    LEFT JOIN CONTAS ON CLIENTES.id = CONTAS.cliente_id\n",
    "    '''\n",
    ").toPandas()"
   ]
  },
  {
   "cell_type": "markdown",
   "metadata": {
    "id": "BCKww7gJ9S6z"
   },
   "source": [
    "**2.** Retorne o nome dos clientes que possuem pelo menos 2 transações em janeiro de 2021"
   ]
  },
  {
   "cell_type": "code",
   "execution_count": 43,
   "metadata": {
    "colab": {
     "base_uri": "https://localhost:8080/",
     "height": 175
    },
    "id": "AacSMNBL92hi",
    "outputId": "b8017a63-6bb1-40ca-df4b-c29ed9e1f00e"
   },
   "outputs": [
    {
     "data": {
      "text/html": [
       "\n",
       "  <div id=\"df-9d2ff6f0-5d50-41ff-a2af-dd5f96b33ab3\">\n",
       "    <div class=\"colab-df-container\">\n",
       "      <div>\n",
       "<style scoped>\n",
       "    .dataframe tbody tr th:only-of-type {\n",
       "        vertical-align: middle;\n",
       "    }\n",
       "\n",
       "    .dataframe tbody tr th {\n",
       "        vertical-align: top;\n",
       "    }\n",
       "\n",
       "    .dataframe thead th {\n",
       "        text-align: right;\n",
       "    }\n",
       "</style>\n",
       "<table border=\"1\" class=\"dataframe\">\n",
       "  <thead>\n",
       "    <tr style=\"text-align: right;\">\n",
       "      <th></th>\n",
       "      <th>nome</th>\n",
       "      <th>count(dt_transacao)</th>\n",
       "    </tr>\n",
       "  </thead>\n",
       "  <tbody>\n",
       "    <tr>\n",
       "      <th>0</th>\n",
       "      <td>Gabriela</td>\n",
       "      <td>3</td>\n",
       "    </tr>\n",
       "    <tr>\n",
       "      <th>1</th>\n",
       "      <td>Joao</td>\n",
       "      <td>2</td>\n",
       "    </tr>\n",
       "    <tr>\n",
       "      <th>2</th>\n",
       "      <td>Luiza</td>\n",
       "      <td>4</td>\n",
       "    </tr>\n",
       "    <tr>\n",
       "      <th>3</th>\n",
       "      <td>Jean</td>\n",
       "      <td>2</td>\n",
       "    </tr>\n",
       "  </tbody>\n",
       "</table>\n",
       "</div>\n",
       "      <button class=\"colab-df-convert\" onclick=\"convertToInteractive('df-9d2ff6f0-5d50-41ff-a2af-dd5f96b33ab3')\"\n",
       "              title=\"Convert this dataframe to an interactive table.\"\n",
       "              style=\"display:none;\">\n",
       "        \n",
       "  <svg xmlns=\"http://www.w3.org/2000/svg\" height=\"24px\"viewBox=\"0 0 24 24\"\n",
       "       width=\"24px\">\n",
       "    <path d=\"M0 0h24v24H0V0z\" fill=\"none\"/>\n",
       "    <path d=\"M18.56 5.44l.94 2.06.94-2.06 2.06-.94-2.06-.94-.94-2.06-.94 2.06-2.06.94zm-11 1L8.5 8.5l.94-2.06 2.06-.94-2.06-.94L8.5 2.5l-.94 2.06-2.06.94zm10 10l.94 2.06.94-2.06 2.06-.94-2.06-.94-.94-2.06-.94 2.06-2.06.94z\"/><path d=\"M17.41 7.96l-1.37-1.37c-.4-.4-.92-.59-1.43-.59-.52 0-1.04.2-1.43.59L10.3 9.45l-7.72 7.72c-.78.78-.78 2.05 0 2.83L4 21.41c.39.39.9.59 1.41.59.51 0 1.02-.2 1.41-.59l7.78-7.78 2.81-2.81c.8-.78.8-2.07 0-2.86zM5.41 20L4 18.59l7.72-7.72 1.47 1.35L5.41 20z\"/>\n",
       "  </svg>\n",
       "      </button>\n",
       "      \n",
       "  <style>\n",
       "    .colab-df-container {\n",
       "      display:flex;\n",
       "      flex-wrap:wrap;\n",
       "      gap: 12px;\n",
       "    }\n",
       "\n",
       "    .colab-df-convert {\n",
       "      background-color: #E8F0FE;\n",
       "      border: none;\n",
       "      border-radius: 50%;\n",
       "      cursor: pointer;\n",
       "      display: none;\n",
       "      fill: #1967D2;\n",
       "      height: 32px;\n",
       "      padding: 0 0 0 0;\n",
       "      width: 32px;\n",
       "    }\n",
       "\n",
       "    .colab-df-convert:hover {\n",
       "      background-color: #E2EBFA;\n",
       "      box-shadow: 0px 1px 2px rgba(60, 64, 67, 0.3), 0px 1px 3px 1px rgba(60, 64, 67, 0.15);\n",
       "      fill: #174EA6;\n",
       "    }\n",
       "\n",
       "    [theme=dark] .colab-df-convert {\n",
       "      background-color: #3B4455;\n",
       "      fill: #D2E3FC;\n",
       "    }\n",
       "\n",
       "    [theme=dark] .colab-df-convert:hover {\n",
       "      background-color: #434B5C;\n",
       "      box-shadow: 0px 1px 3px 1px rgba(0, 0, 0, 0.15);\n",
       "      filter: drop-shadow(0px 1px 2px rgba(0, 0, 0, 0.3));\n",
       "      fill: #FFFFFF;\n",
       "    }\n",
       "  </style>\n",
       "\n",
       "      <script>\n",
       "        const buttonEl =\n",
       "          document.querySelector('#df-9d2ff6f0-5d50-41ff-a2af-dd5f96b33ab3 button.colab-df-convert');\n",
       "        buttonEl.style.display =\n",
       "          google.colab.kernel.accessAllowed ? 'block' : 'none';\n",
       "\n",
       "        async function convertToInteractive(key) {\n",
       "          const element = document.querySelector('#df-9d2ff6f0-5d50-41ff-a2af-dd5f96b33ab3');\n",
       "          const dataTable =\n",
       "            await google.colab.kernel.invokeFunction('convertToInteractive',\n",
       "                                                     [key], {});\n",
       "          if (!dataTable) return;\n",
       "\n",
       "          const docLinkHtml = 'Like what you see? Visit the ' +\n",
       "            '<a target=\"_blank\" href=https://colab.research.google.com/notebooks/data_table.ipynb>data table notebook</a>'\n",
       "            + ' to learn more about interactive tables.';\n",
       "          element.innerHTML = '';\n",
       "          dataTable['output_type'] = 'display_data';\n",
       "          await google.colab.output.renderOutput(dataTable, element);\n",
       "          const docLink = document.createElement('div');\n",
       "          docLink.innerHTML = docLinkHtml;\n",
       "          element.appendChild(docLink);\n",
       "        }\n",
       "      </script>\n",
       "    </div>\n",
       "  </div>\n",
       "  "
      ],
      "text/plain": [
       "       nome  count(dt_transacao)\n",
       "0  Gabriela                    3\n",
       "1      Joao                    2\n",
       "2     Luiza                    4\n",
       "3      Jean                    2"
      ]
     },
     "execution_count": 43,
     "metadata": {},
     "output_type": "execute_result"
    }
   ],
   "source": [
    "# TODO: Implemente sua solucao aqui\n",
    "spark.sql('''\n",
    "    SELECT nome, COUNT(dt_transacao)\n",
    "    FROM CONTAS\n",
    "    LEFT JOIN CLIENTES ON CLIENTES.id = CONTAS.cliente_id\n",
    "    LEFT JOIN TRANSACOES ON CONTAS.conta_id = TRANSACOES.conta_id\n",
    "    GROUP BY nome HAVING COUNT(dt_transacao) >= 2\n",
    "    '''\n",
    ").toPandas()"
   ]
  },
  {
   "cell_type": "markdown",
   "metadata": {
    "id": "AliCGQy2-Lew"
   },
   "source": [
    "**3.** Retorne a contagem distinta dos clientes ativos (pelo menos uma transação) em janeiro de 2021"
   ]
  },
  {
   "cell_type": "code",
   "execution_count": 67,
   "metadata": {
    "colab": {
     "base_uri": "https://localhost:8080/",
     "height": 206
    },
    "id": "YFWbSVGm-TOz",
    "outputId": "246c96d1-32ca-498b-b500-81d6ef3a696f"
   },
   "outputs": [
    {
     "data": {
      "text/html": [
       "\n",
       "  <div id=\"df-0e598960-06b6-401d-ad6b-2ddc2e380da5\">\n",
       "    <div class=\"colab-df-container\">\n",
       "      <div>\n",
       "<style scoped>\n",
       "    .dataframe tbody tr th:only-of-type {\n",
       "        vertical-align: middle;\n",
       "    }\n",
       "\n",
       "    .dataframe tbody tr th {\n",
       "        vertical-align: top;\n",
       "    }\n",
       "\n",
       "    .dataframe thead th {\n",
       "        text-align: right;\n",
       "    }\n",
       "</style>\n",
       "<table border=\"1\" class=\"dataframe\">\n",
       "  <thead>\n",
       "    <tr style=\"text-align: right;\">\n",
       "      <th></th>\n",
       "      <th>nome</th>\n",
       "    </tr>\n",
       "  </thead>\n",
       "  <tbody>\n",
       "    <tr>\n",
       "      <th>0</th>\n",
       "      <td>Gabriela</td>\n",
       "    </tr>\n",
       "    <tr>\n",
       "      <th>1</th>\n",
       "      <td>Joao</td>\n",
       "    </tr>\n",
       "    <tr>\n",
       "      <th>2</th>\n",
       "      <td>Luiza</td>\n",
       "    </tr>\n",
       "    <tr>\n",
       "      <th>3</th>\n",
       "      <td>Jean</td>\n",
       "    </tr>\n",
       "    <tr>\n",
       "      <th>4</th>\n",
       "      <td>Rafael</td>\n",
       "    </tr>\n",
       "  </tbody>\n",
       "</table>\n",
       "</div>\n",
       "      <button class=\"colab-df-convert\" onclick=\"convertToInteractive('df-0e598960-06b6-401d-ad6b-2ddc2e380da5')\"\n",
       "              title=\"Convert this dataframe to an interactive table.\"\n",
       "              style=\"display:none;\">\n",
       "        \n",
       "  <svg xmlns=\"http://www.w3.org/2000/svg\" height=\"24px\"viewBox=\"0 0 24 24\"\n",
       "       width=\"24px\">\n",
       "    <path d=\"M0 0h24v24H0V0z\" fill=\"none\"/>\n",
       "    <path d=\"M18.56 5.44l.94 2.06.94-2.06 2.06-.94-2.06-.94-.94-2.06-.94 2.06-2.06.94zm-11 1L8.5 8.5l.94-2.06 2.06-.94-2.06-.94L8.5 2.5l-.94 2.06-2.06.94zm10 10l.94 2.06.94-2.06 2.06-.94-2.06-.94-.94-2.06-.94 2.06-2.06.94z\"/><path d=\"M17.41 7.96l-1.37-1.37c-.4-.4-.92-.59-1.43-.59-.52 0-1.04.2-1.43.59L10.3 9.45l-7.72 7.72c-.78.78-.78 2.05 0 2.83L4 21.41c.39.39.9.59 1.41.59.51 0 1.02-.2 1.41-.59l7.78-7.78 2.81-2.81c.8-.78.8-2.07 0-2.86zM5.41 20L4 18.59l7.72-7.72 1.47 1.35L5.41 20z\"/>\n",
       "  </svg>\n",
       "      </button>\n",
       "      \n",
       "  <style>\n",
       "    .colab-df-container {\n",
       "      display:flex;\n",
       "      flex-wrap:wrap;\n",
       "      gap: 12px;\n",
       "    }\n",
       "\n",
       "    .colab-df-convert {\n",
       "      background-color: #E8F0FE;\n",
       "      border: none;\n",
       "      border-radius: 50%;\n",
       "      cursor: pointer;\n",
       "      display: none;\n",
       "      fill: #1967D2;\n",
       "      height: 32px;\n",
       "      padding: 0 0 0 0;\n",
       "      width: 32px;\n",
       "    }\n",
       "\n",
       "    .colab-df-convert:hover {\n",
       "      background-color: #E2EBFA;\n",
       "      box-shadow: 0px 1px 2px rgba(60, 64, 67, 0.3), 0px 1px 3px 1px rgba(60, 64, 67, 0.15);\n",
       "      fill: #174EA6;\n",
       "    }\n",
       "\n",
       "    [theme=dark] .colab-df-convert {\n",
       "      background-color: #3B4455;\n",
       "      fill: #D2E3FC;\n",
       "    }\n",
       "\n",
       "    [theme=dark] .colab-df-convert:hover {\n",
       "      background-color: #434B5C;\n",
       "      box-shadow: 0px 1px 3px 1px rgba(0, 0, 0, 0.15);\n",
       "      filter: drop-shadow(0px 1px 2px rgba(0, 0, 0, 0.3));\n",
       "      fill: #FFFFFF;\n",
       "    }\n",
       "  </style>\n",
       "\n",
       "      <script>\n",
       "        const buttonEl =\n",
       "          document.querySelector('#df-0e598960-06b6-401d-ad6b-2ddc2e380da5 button.colab-df-convert');\n",
       "        buttonEl.style.display =\n",
       "          google.colab.kernel.accessAllowed ? 'block' : 'none';\n",
       "\n",
       "        async function convertToInteractive(key) {\n",
       "          const element = document.querySelector('#df-0e598960-06b6-401d-ad6b-2ddc2e380da5');\n",
       "          const dataTable =\n",
       "            await google.colab.kernel.invokeFunction('convertToInteractive',\n",
       "                                                     [key], {});\n",
       "          if (!dataTable) return;\n",
       "\n",
       "          const docLinkHtml = 'Like what you see? Visit the ' +\n",
       "            '<a target=\"_blank\" href=https://colab.research.google.com/notebooks/data_table.ipynb>data table notebook</a>'\n",
       "            + ' to learn more about interactive tables.';\n",
       "          element.innerHTML = '';\n",
       "          dataTable['output_type'] = 'display_data';\n",
       "          await google.colab.output.renderOutput(dataTable, element);\n",
       "          const docLink = document.createElement('div');\n",
       "          docLink.innerHTML = docLinkHtml;\n",
       "          element.appendChild(docLink);\n",
       "        }\n",
       "      </script>\n",
       "    </div>\n",
       "  </div>\n",
       "  "
      ],
      "text/plain": [
       "       nome\n",
       "0  Gabriela\n",
       "1      Joao\n",
       "2     Luiza\n",
       "3      Jean\n",
       "4    Rafael"
      ]
     },
     "execution_count": 67,
     "metadata": {},
     "output_type": "execute_result"
    }
   ],
   "source": [
    "# TODO: Implemente sua solucao aqui\n",
    "spark.sql('''\n",
    "    SELECT DISTINCT nome\n",
    "    FROM CONTAS\n",
    "    LEFT JOIN CLIENTES ON CLIENTES.id = CONTAS.cliente_id\n",
    "    LEFT JOIN TRANSACOES ON CONTAS.conta_id = TRANSACOES.conta_id\n",
    "    WHERE dt_transacao IS NOT NULL \n",
    "    AND dt_transacao <= \"2021-01-31\" AND dt_transacao >= \"2021-01-01\"\n",
    "    '''\n",
    ").toPandas()"
   ]
  },
  {
   "cell_type": "markdown",
   "metadata": {
    "id": "s3CfD5WI-axK"
   },
   "source": [
    "**4.** Calcular o valor médio de transação por cliente ativo em janeiro de 2021"
   ]
  },
  {
   "cell_type": "code",
   "execution_count": 69,
   "metadata": {
    "colab": {
     "base_uri": "https://localhost:8080/",
     "height": 206
    },
    "id": "HhgCWemU-iwr",
    "outputId": "20ad798d-82b3-4fae-e575-9732b2ce97ee"
   },
   "outputs": [
    {
     "data": {
      "text/html": [
       "\n",
       "  <div id=\"df-e7def212-8a40-4c5a-bc78-77d2da60c70d\">\n",
       "    <div class=\"colab-df-container\">\n",
       "      <div>\n",
       "<style scoped>\n",
       "    .dataframe tbody tr th:only-of-type {\n",
       "        vertical-align: middle;\n",
       "    }\n",
       "\n",
       "    .dataframe tbody tr th {\n",
       "        vertical-align: top;\n",
       "    }\n",
       "\n",
       "    .dataframe thead th {\n",
       "        text-align: right;\n",
       "    }\n",
       "</style>\n",
       "<table border=\"1\" class=\"dataframe\">\n",
       "  <thead>\n",
       "    <tr style=\"text-align: right;\">\n",
       "      <th></th>\n",
       "      <th>nome</th>\n",
       "      <th>avg(valor)</th>\n",
       "    </tr>\n",
       "  </thead>\n",
       "  <tbody>\n",
       "    <tr>\n",
       "      <th>0</th>\n",
       "      <td>Gabriela</td>\n",
       "      <td>33.096667</td>\n",
       "    </tr>\n",
       "    <tr>\n",
       "      <th>1</th>\n",
       "      <td>Joao</td>\n",
       "      <td>3.500000</td>\n",
       "    </tr>\n",
       "    <tr>\n",
       "      <th>2</th>\n",
       "      <td>Luiza</td>\n",
       "      <td>55.000000</td>\n",
       "    </tr>\n",
       "    <tr>\n",
       "      <th>3</th>\n",
       "      <td>Jean</td>\n",
       "      <td>16.760000</td>\n",
       "    </tr>\n",
       "    <tr>\n",
       "      <th>4</th>\n",
       "      <td>Rafael</td>\n",
       "      <td>1000.000000</td>\n",
       "    </tr>\n",
       "  </tbody>\n",
       "</table>\n",
       "</div>\n",
       "      <button class=\"colab-df-convert\" onclick=\"convertToInteractive('df-e7def212-8a40-4c5a-bc78-77d2da60c70d')\"\n",
       "              title=\"Convert this dataframe to an interactive table.\"\n",
       "              style=\"display:none;\">\n",
       "        \n",
       "  <svg xmlns=\"http://www.w3.org/2000/svg\" height=\"24px\"viewBox=\"0 0 24 24\"\n",
       "       width=\"24px\">\n",
       "    <path d=\"M0 0h24v24H0V0z\" fill=\"none\"/>\n",
       "    <path d=\"M18.56 5.44l.94 2.06.94-2.06 2.06-.94-2.06-.94-.94-2.06-.94 2.06-2.06.94zm-11 1L8.5 8.5l.94-2.06 2.06-.94-2.06-.94L8.5 2.5l-.94 2.06-2.06.94zm10 10l.94 2.06.94-2.06 2.06-.94-2.06-.94-.94-2.06-.94 2.06-2.06.94z\"/><path d=\"M17.41 7.96l-1.37-1.37c-.4-.4-.92-.59-1.43-.59-.52 0-1.04.2-1.43.59L10.3 9.45l-7.72 7.72c-.78.78-.78 2.05 0 2.83L4 21.41c.39.39.9.59 1.41.59.51 0 1.02-.2 1.41-.59l7.78-7.78 2.81-2.81c.8-.78.8-2.07 0-2.86zM5.41 20L4 18.59l7.72-7.72 1.47 1.35L5.41 20z\"/>\n",
       "  </svg>\n",
       "      </button>\n",
       "      \n",
       "  <style>\n",
       "    .colab-df-container {\n",
       "      display:flex;\n",
       "      flex-wrap:wrap;\n",
       "      gap: 12px;\n",
       "    }\n",
       "\n",
       "    .colab-df-convert {\n",
       "      background-color: #E8F0FE;\n",
       "      border: none;\n",
       "      border-radius: 50%;\n",
       "      cursor: pointer;\n",
       "      display: none;\n",
       "      fill: #1967D2;\n",
       "      height: 32px;\n",
       "      padding: 0 0 0 0;\n",
       "      width: 32px;\n",
       "    }\n",
       "\n",
       "    .colab-df-convert:hover {\n",
       "      background-color: #E2EBFA;\n",
       "      box-shadow: 0px 1px 2px rgba(60, 64, 67, 0.3), 0px 1px 3px 1px rgba(60, 64, 67, 0.15);\n",
       "      fill: #174EA6;\n",
       "    }\n",
       "\n",
       "    [theme=dark] .colab-df-convert {\n",
       "      background-color: #3B4455;\n",
       "      fill: #D2E3FC;\n",
       "    }\n",
       "\n",
       "    [theme=dark] .colab-df-convert:hover {\n",
       "      background-color: #434B5C;\n",
       "      box-shadow: 0px 1px 3px 1px rgba(0, 0, 0, 0.15);\n",
       "      filter: drop-shadow(0px 1px 2px rgba(0, 0, 0, 0.3));\n",
       "      fill: #FFFFFF;\n",
       "    }\n",
       "  </style>\n",
       "\n",
       "      <script>\n",
       "        const buttonEl =\n",
       "          document.querySelector('#df-e7def212-8a40-4c5a-bc78-77d2da60c70d button.colab-df-convert');\n",
       "        buttonEl.style.display =\n",
       "          google.colab.kernel.accessAllowed ? 'block' : 'none';\n",
       "\n",
       "        async function convertToInteractive(key) {\n",
       "          const element = document.querySelector('#df-e7def212-8a40-4c5a-bc78-77d2da60c70d');\n",
       "          const dataTable =\n",
       "            await google.colab.kernel.invokeFunction('convertToInteractive',\n",
       "                                                     [key], {});\n",
       "          if (!dataTable) return;\n",
       "\n",
       "          const docLinkHtml = 'Like what you see? Visit the ' +\n",
       "            '<a target=\"_blank\" href=https://colab.research.google.com/notebooks/data_table.ipynb>data table notebook</a>'\n",
       "            + ' to learn more about interactive tables.';\n",
       "          element.innerHTML = '';\n",
       "          dataTable['output_type'] = 'display_data';\n",
       "          await google.colab.output.renderOutput(dataTable, element);\n",
       "          const docLink = document.createElement('div');\n",
       "          docLink.innerHTML = docLinkHtml;\n",
       "          element.appendChild(docLink);\n",
       "        }\n",
       "      </script>\n",
       "    </div>\n",
       "  </div>\n",
       "  "
      ],
      "text/plain": [
       "       nome   avg(valor)\n",
       "0  Gabriela    33.096667\n",
       "1      Joao     3.500000\n",
       "2     Luiza    55.000000\n",
       "3      Jean    16.760000\n",
       "4    Rafael  1000.000000"
      ]
     },
     "execution_count": 69,
     "metadata": {},
     "output_type": "execute_result"
    }
   ],
   "source": [
    "# TODO: Implemente sua solucao aqui\n",
    "spark.sql('''\n",
    "    SELECT nome, AVG(valor)\n",
    "    FROM CONTAS\n",
    "    LEFT JOIN CLIENTES ON CLIENTES.id = CONTAS.cliente_id\n",
    "    LEFT JOIN TRANSACOES ON CONTAS.conta_id = TRANSACOES.conta_id\n",
    "    WHERE dt_transacao IS NOT NULL \n",
    "    AND dt_transacao <= \"2021-01-31\" AND dt_transacao >= \"2021-01-01\"\n",
    "    GROUP BY nome\n",
    "    '''\n",
    ").toPandas()"
   ]
  },
  {
   "cell_type": "markdown",
   "metadata": {
    "id": "vqUWgDGM7SVQ"
   },
   "source": [
    "# Pandas"
   ]
  },
  {
   "cell_type": "markdown",
   "metadata": {
    "id": "X-aJwn_i8AVm"
   },
   "source": [
    "```python\n",
    "pd_clientes\n",
    "pd_contas\n",
    "pd_produtos\n",
    "pd_transacoes\n",
    "```"
   ]
  },
  {
   "cell_type": "markdown",
   "metadata": {
    "id": "znJcGkqfBk_u"
   },
   "source": [
    "**1.** Retornar o nome dos clientes que possuem todos os produtos"
   ]
  },
  {
   "cell_type": "code",
   "execution_count": 71,
   "metadata": {
    "colab": {
     "base_uri": "https://localhost:8080/"
    },
    "id": "Cx0MWsISBuXd",
    "outputId": "6842f226-7438-4273-eccb-9450b8637373"
   },
   "outputs": [
    {
     "data": {
      "text/plain": [
       "conta_id\n",
       "191825    Jean\n",
       "Name: nome, dtype: object"
      ]
     },
     "execution_count": 71,
     "metadata": {},
     "output_type": "execute_result"
    }
   ],
   "source": [
    "# TODO: Implemente sua solucao aqui\n",
    "tmp = pd_clientes.set_index(\"id\").join(pd_contas.set_index(\"cliente_id\"))\n",
    "tmp.reset_index(inplace = True)\n",
    "tmp = tmp.set_index(\"conta_id\").join(pd_produtos.set_index(\"conta_id\"))\n",
    "tmp = tmp[(tmp[\"fl_cartao_credito\"] == 1) & (tmp[\"fl_credito\"] == 1) & (tmp[\"fl_investidor\"] == 1)]\n",
    "tmp[\"nome\"]"
   ]
  },
  {
   "cell_type": "markdown",
   "metadata": {
    "id": "rEhXuccKPeGR"
   },
   "source": [
    "**2.** Retorne a soma do valor transacionado por Estado\n",
    "\n"
   ]
  },
  {
   "cell_type": "code",
   "execution_count": 77,
   "metadata": {
    "colab": {
     "base_uri": "https://localhost:8080/"
    },
    "id": "tDILSoJjRdrX",
    "outputId": "3f4b0a5e-e6ad-4cda-ef79-9103badb8422"
   },
   "outputs": [
    {
     "data": {
      "text/plain": [
       "estado\n",
       "MG     106.29\n",
       "PR       0.00\n",
       "RJ    1033.52\n",
       "SP     542.00\n",
       "Name: valor, dtype: float64"
      ]
     },
     "execution_count": 77,
     "metadata": {},
     "output_type": "execute_result"
    }
   ],
   "source": [
    "# TODO: Implemente sua solucao aqui\n",
    "tmp = pd_clientes.set_index(\"id\").join(pd_contas.set_index(\"cliente_id\"))\n",
    "tmp.reset_index(inplace = True)\n",
    "tmp = tmp.set_index(\"conta_id\").join(pd_transacoes.set_index(\"conta_id\"))\n",
    "tmp.reset_index(inplace = True)\n",
    "tmp.groupby(\"estado\").sum()[\"valor\"]"
   ]
  },
  {
   "cell_type": "markdown",
   "metadata": {
    "id": "UyxF2FFE5S6R"
   },
   "source": [
    "# Spark"
   ]
  },
  {
   "cell_type": "markdown",
   "metadata": {
    "id": "Nn1Jib3K5uk7"
   },
   "source": [
    "```python\n",
    "df_clientes\n",
    "df_contas\n",
    "df_produtos\n",
    "df_transacoes\n",
    "```"
   ]
  },
  {
   "cell_type": "markdown",
   "metadata": {
    "id": "yspeI20_CMnN"
   },
   "source": [
    "**1.** Retorne o nome do cliente e a data de criação da conta.\n",
    "\n",
    "> **Dica:** Caso necessário utilize `pyspark.sql.functions.join()`."
   ]
  },
  {
   "cell_type": "code",
   "execution_count": 92,
   "metadata": {
    "colab": {
     "base_uri": "https://localhost:8080/"
    },
    "id": "PmwpQ8GX5wMe",
    "outputId": "cdc36d5a-c198-4248-b6a2-65509c2e39ff"
   },
   "outputs": [
    {
     "name": "stdout",
     "output_type": "stream",
     "text": [
      "+--------+-------------------+\n",
      "|    nome|         dt_criacao|\n",
      "+--------+-------------------+\n",
      "|    Joao|2020-12-21 12:00:00|\n",
      "|   Luiza|2020-12-26 13:00:00|\n",
      "|Gabriela|2021-01-04 12:00:00|\n",
      "|  Rafael|2021-01-15 12:00:00|\n",
      "|    Jean|2021-01-12 11:12:00|\n",
      "| Daniela|2021-01-04 14:11:00|\n",
      "+--------+-------------------+\n",
      "\n"
     ]
    }
   ],
   "source": [
    "# TODO: Implemente sua solucao aqui\n",
    "df_contas.join(df_clientes, df_contas.cliente_id == df_clientes.id, \"inner\").select(\"nome\", \"dt_criacao\").show()"
   ]
  },
  {
   "cell_type": "markdown",
   "metadata": {
    "id": "YV8DNV8PCG5N"
   },
   "source": [
    "**2.** Retornar o nome do cliente que mais gastou no mês de janeiro"
   ]
  },
  {
   "cell_type": "code",
   "execution_count": 148,
   "metadata": {
    "colab": {
     "base_uri": "https://localhost:8080/"
    },
    "id": "1HbgQaIiCve4",
    "outputId": "999795ae-ea36-4cdb-cae3-1a07ce9c0dbe"
   },
   "outputs": [
    {
     "name": "stdout",
     "output_type": "stream",
     "text": [
      "+------+----------+\n",
      "|  nome|sum(valor)|\n",
      "+------+----------+\n",
      "|Rafael|    1000.0|\n",
      "+------+----------+\n",
      "only showing top 1 row\n",
      "\n"
     ]
    }
   ],
   "source": [
    "# TODO: Implemente sua solucao aqui\n",
    "from pyspark.sql.functions import desc\n",
    "df = df_contas.join(df_clientes, df_contas.cliente_id == df_clientes.id, \"inner\").join(df_transacoes, \"conta_id\")\n",
    "df.where(df.dt_transacao <= \"2021-01-31\").where(df.dt_transacao >= \"2021-01-01\").groupby(\"nome\").sum(\"valor\").sort(desc(\"sum(valor)\")).show(1)"
   ]
  }
 ],
 "metadata": {
  "colab": {
   "collapsed_sections": [],
   "provenance": []
  },
  "kernelspec": {
   "display_name": "Python 3 (ipykernel)",
   "language": "python",
   "name": "python3"
  },
  "language_info": {
   "codemirror_mode": {
    "name": "ipython",
    "version": 3
   },
   "file_extension": ".py",
   "mimetype": "text/x-python",
   "name": "python",
   "nbconvert_exporter": "python",
   "pygments_lexer": "ipython3",
   "version": "3.8.5"
  }
 },
 "nbformat": 4,
 "nbformat_minor": 1
}
