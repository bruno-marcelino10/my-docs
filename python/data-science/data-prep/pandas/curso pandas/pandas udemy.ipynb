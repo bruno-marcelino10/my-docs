{
 "cells": [
  {
   "cell_type": "code",
   "execution_count": 1,
   "id": "f1a8c39d",
   "metadata": {},
   "outputs": [],
   "source": [
    "import pandas as pd\n",
    "import numpy as np"
   ]
  },
  {
   "cell_type": "markdown",
   "id": "775507e9",
   "metadata": {},
   "source": [
    "No pandas podemos trabalhar com dois tipos de objetos principais:\n",
    "\n",
    "* Series()\n",
    "* DataFrame()\n",
    "* DatetimeIndex()\n",
    "\n",
    "Ambos os objetos possuem indexadores que definem a escala (data ou números naturais positivos)"
   ]
  },
  {
   "cell_type": "code",
   "execution_count": 20,
   "id": "0349c809",
   "metadata": {},
   "outputs": [
    {
     "name": "stdout",
     "output_type": "stream",
     "text": [
      "0    7\n",
      "1    4\n",
      "2    5\n",
      "3    3\n",
      "Name: nome, dtype: int64\n",
      "0    14\n",
      "1     8\n",
      "2    10\n",
      "3     6\n",
      "Name: nome, dtype: int64\n"
     ]
    },
    {
     "data": {
      "text/plain": [
       "pandas.core.series.Series"
      ]
     },
     "execution_count": 20,
     "metadata": {},
     "output_type": "execute_result"
    }
   ],
   "source": [
    "series = pd.Series([7,4,5,3], name = \"nome\")\n",
    "print(series)\n",
    "\n",
    "series_2 = 2 * series # operações aritméticas funcionam com series\n",
    "print(series_2)\n",
    "\n",
    "type(series)"
   ]
  },
  {
   "cell_type": "markdown",
   "id": "12cdb1c5",
   "metadata": {},
   "source": [
    "Podemos trabalhar com datas no pandas, e criar uma lista (range) com base em critérios"
   ]
  },
  {
   "cell_type": "code",
   "execution_count": 24,
   "id": "ee082701",
   "metadata": {},
   "outputs": [
    {
     "name": "stdout",
     "output_type": "stream",
     "text": [
      "DatetimeIndex(['2018-12-31', '2019-01-31', '2019-02-28', '2019-03-31',\n",
      "               '2019-04-30', '2019-05-31', '2019-06-30', '2019-07-31',\n",
      "               '2019-08-31', '2019-09-30'],\n",
      "              dtype='datetime64[ns]', freq='M')\n"
     ]
    },
    {
     "data": {
      "text/plain": [
       "pandas.core.indexes.datetimes.DatetimeIndex"
      ]
     },
     "execution_count": 24,
     "metadata": {},
     "output_type": "execute_result"
    }
   ],
   "source": [
    "datas = pd.date_range(\"20181231\", periods = 10, freq = \"M\")\n",
    "print(datas)\n",
    "\n",
    "type(datas)"
   ]
  },
  {
   "cell_type": "code",
   "execution_count": 34,
   "id": "67530dd9",
   "metadata": {},
   "outputs": [
    {
     "name": "stdout",
     "output_type": "stream",
     "text": [
      "                data     frame      novo\n",
      "2018-12-31  0.083490  1.330079  0.289239\n",
      "2019-01-31 -0.393984  0.213833 -1.034380\n",
      "2019-02-28 -0.998533  0.263467  1.182122\n",
      "2019-03-31  0.351980 -0.675092  0.067555\n",
      "2019-04-30 -0.925267 -0.114448 -1.857578\n",
      "2019-05-31 -0.236701  0.803052  0.195022\n",
      "2019-06-30 -0.191708 -0.140139 -0.384675\n",
      "2019-07-31  0.379359 -0.164327  0.670691\n",
      "2019-08-31  0.104657  0.309200  0.390564\n",
      "2019-09-30  1.259590 -0.077988  0.650917\n"
     ]
    },
    {
     "data": {
      "text/plain": [
       "pandas.core.frame.DataFrame"
      ]
     },
     "execution_count": 34,
     "metadata": {},
     "output_type": "execute_result"
    }
   ],
   "source": [
    "df = pd.DataFrame(np.random.randn(10,3), # gera uma matriz de números aleatórios que seguem uma distribuição normal padrão\n",
    "                 index = datas,\n",
    "                 columns = [\"data\", \"frame\", \"novo\"]) \n",
    "print(df)\n",
    "type(df)"
   ]
  },
  {
   "cell_type": "code",
   "execution_count": null,
   "id": "10df260a",
   "metadata": {},
   "outputs": [],
   "source": []
  }
 ],
 "metadata": {
  "kernelspec": {
   "display_name": "Python 3",
   "language": "python",
   "name": "python3"
  },
  "language_info": {
   "codemirror_mode": {
    "name": "ipython",
    "version": 3
   },
   "file_extension": ".py",
   "mimetype": "text/x-python",
   "name": "python",
   "nbconvert_exporter": "python",
   "pygments_lexer": "ipython3",
   "version": "3.9.4"
  }
 },
 "nbformat": 4,
 "nbformat_minor": 5
}
