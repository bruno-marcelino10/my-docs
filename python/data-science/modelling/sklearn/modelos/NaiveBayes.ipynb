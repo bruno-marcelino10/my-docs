{
 "cells": [
  {
   "cell_type": "markdown",
   "metadata": {},
   "source": [
    "# Naive Bayes"
   ]
  },
  {
   "attachments": {
    "image-2.png": {
     "image/png": "[encoded data removed]"
    }
   },
   "cell_type": "markdown",
   "metadata": {},
   "source": [
    "Naive Bayes é um algoritmo de aprendizado de máquina supervisionado que utiliza do Teorema de Bayes para realizar inferências com relação à ocorrência de uma variável categórica e dependente (y), com base nos valores estimados para as variáveis independentes. O algoritmo é chamado de \"naive\" (bobo) pois considera que todas as **variáveis aleatórias** envolvidas no modelo são independentes - i.e. $P(A \\cap B) = P(A) \\cdot P(B)$ - o que nem sempre ocorre na prática.\n",
    "\n",
    "### Fórmula\n",
    "\n",
    "![image.png](attachment:image-2.png)\n",
    "\n",
    "Todas as probabilidades do lado direito da equação são calculadas a partir de proporções amostrais, estimadas no conjunto de treinamento do modelo.\n",
    "\n",
    "* $P(X=x_{i}|Y=y_{i})$ é a proporção de observações do tipo $x_{i}$ ocorridas em conjunto com $y_{i}$, em relação ao total de amostras do tipo $y_{i}$ contidas no conjunto de treinamento.\n",
    "\n",
    "* $P(Y=y_{i})$ é a proporção de observações do tipo $y_{i}$ contidas no conjunto de treinamento, em relação ao total de amostras\n",
    "\n",
    "### Previsões\n",
    "\n",
    "Em posse das probabilidades de que cada $Y|_{i = 1}^n$ ocorra dado que $x_{i}$ ocorreu, concluimos que a previsão é dada pela classe Y que tem a **maior probabilidade** de ocorrência, ou seja, que maximiza $P(Y=y_{i}|X=x_{i})$.\n",
    "\n",
    "**Obs.:** Note que o termo $P(X)$ é desconsiderado. Isso acontece pois, no cálculo das probabilidades $P(Y_{i}|X=x_{i})$, ele é constante para todos os termos, e para fins de simplificação, podemos excluí-lo sem perda de comparabilidade entre os resultados."
   ]
  },
  {
   "cell_type": "markdown",
   "metadata": {},
   "source": [
    "# Construindo o Algoritmo"
   ]
  },
  {
   "cell_type": "markdown",
   "metadata": {},
   "source": [
    "### Importação das Bibliotecas e Manipulação dos Dados"
   ]
  },
  {
   "cell_type": "code",
   "execution_count": 17,
   "metadata": {},
   "outputs": [],
   "source": [
    "from sklearn.model_selection import train_test_split\n",
    "from sklearn.metrics import classification_report, confusion_matrix, accuracy_score, roc_curve, auc, RocCurveDisplay\n",
    "from sklearn.naive_bayes import CategoricalNB\n",
    "from sklearn.preprocessing import LabelEncoder\n",
    "\n",
    "import pandas as pd"
   ]
  },
  {
   "cell_type": "code",
   "execution_count": 21,
   "metadata": {},
   "outputs": [
    {
     "data": {
      "text/html": [
       "<div>\n",
       "<style scoped>\n",
       "    .dataframe tbody tr th:only-of-type {\n",
       "        vertical-align: middle;\n",
       "    }\n",
       "\n",
       "    .dataframe tbody tr th {\n",
       "        vertical-align: top;\n",
       "    }\n",
       "\n",
       "    .dataframe thead th {\n",
       "        text-align: right;\n",
       "    }\n",
       "</style>\n",
       "<table border=\"1\" class=\"dataframe\">\n",
       "  <thead>\n",
       "    <tr style=\"text-align: right;\">\n",
       "      <th></th>\n",
       "      <th>SibSp</th>\n",
       "      <th>Embarked</th>\n",
       "      <th>Parch</th>\n",
       "      <th>Sex</th>\n",
       "      <th>Survived</th>\n",
       "    </tr>\n",
       "  </thead>\n",
       "  <tbody>\n",
       "    <tr>\n",
       "      <th>0</th>\n",
       "      <td>1</td>\n",
       "      <td>S</td>\n",
       "      <td>0</td>\n",
       "      <td>male</td>\n",
       "      <td>0</td>\n",
       "    </tr>\n",
       "    <tr>\n",
       "      <th>1</th>\n",
       "      <td>1</td>\n",
       "      <td>C</td>\n",
       "      <td>0</td>\n",
       "      <td>female</td>\n",
       "      <td>1</td>\n",
       "    </tr>\n",
       "    <tr>\n",
       "      <th>2</th>\n",
       "      <td>0</td>\n",
       "      <td>S</td>\n",
       "      <td>0</td>\n",
       "      <td>female</td>\n",
       "      <td>1</td>\n",
       "    </tr>\n",
       "    <tr>\n",
       "      <th>3</th>\n",
       "      <td>1</td>\n",
       "      <td>S</td>\n",
       "      <td>0</td>\n",
       "      <td>female</td>\n",
       "      <td>1</td>\n",
       "    </tr>\n",
       "    <tr>\n",
       "      <th>4</th>\n",
       "      <td>0</td>\n",
       "      <td>S</td>\n",
       "      <td>0</td>\n",
       "      <td>male</td>\n",
       "      <td>0</td>\n",
       "    </tr>\n",
       "  </tbody>\n",
       "</table>\n",
       "</div>"
      ],
      "text/plain": [
       "  SibSp Embarked Parch     Sex Survived\n",
       "0     1        S     0    male        0\n",
       "1     1        C     0  female        1\n",
       "2     0        S     0  female        1\n",
       "3     1        S     0  female        1\n",
       "4     0        S     0    male        0"
      ]
     },
     "execution_count": 21,
     "metadata": {},
     "output_type": "execute_result"
    }
   ],
   "source": [
    "df = pd.read_csv(\"../dados/titanic.csv\")\n",
    "df = df[[\"SibSp\", \"Embarked\", \"Parch\", \"Sex\", \"Survived\"]]\n",
    "df.dropna(inplace = True)\n",
    "df = df.astype(str)\n",
    "df.head() # Alvo Binário: Survived"
   ]
  },
  {
   "cell_type": "code",
   "execution_count": 22,
   "metadata": {},
   "outputs": [],
   "source": [
    "encoder = LabelEncoder()\n",
    "df[\"Embarked\"] = encoder.fit_transform(df[\"Embarked\"])\n",
    "df[\"Sex\"] = encoder.fit_transform(df[\"Sex\"])"
   ]
  },
  {
   "cell_type": "code",
   "execution_count": 23,
   "metadata": {},
   "outputs": [],
   "source": [
    "X = df.drop(\"Survived\", axis = 1)\n",
    "y = df[\"Survived\"]\n",
    "\n",
    "X_train, X_test, y_train, y_test = train_test_split(X, y, random_state = 42)"
   ]
  },
  {
   "cell_type": "markdown",
   "metadata": {},
   "source": [
    "### Ajuste do Modelo"
   ]
  },
  {
   "cell_type": "code",
   "execution_count": 24,
   "metadata": {},
   "outputs": [],
   "source": [
    "modelo = CategoricalNB() \n",
    "modelo.fit(X_train, y_train)\n",
    "y_pred = modelo.predict(X_test)\n",
    "y_pred_train = modelo.predict(X_train)"
   ]
  },
  {
   "cell_type": "markdown",
   "metadata": {},
   "source": [
    "### Métricas de Avaliação"
   ]
  },
  {
   "cell_type": "code",
   "execution_count": 25,
   "metadata": {},
   "outputs": [
    {
     "name": "stdout",
     "output_type": "stream",
     "text": [
      "0.8623853211009175\n"
     ]
    }
   ],
   "source": [
    "# Acurácia\n",
    "print(accuracy_score(y_test, y_pred))"
   ]
  },
  {
   "cell_type": "code",
   "execution_count": 26,
   "metadata": {},
   "outputs": [
    {
     "name": "stdout",
     "output_type": "stream",
     "text": [
      "[[190  18]\n",
      " [ 27  92]]\n"
     ]
    }
   ],
   "source": [
    "# Matriz de Confusão\n",
    "print(confusion_matrix(y_test, y_pred))"
   ]
  },
  {
   "cell_type": "code",
   "execution_count": 27,
   "metadata": {},
   "outputs": [
    {
     "name": "stdout",
     "output_type": "stream",
     "text": [
      "              precision    recall  f1-score   support\n",
      "\n",
      "           0       0.88      0.91      0.89       208\n",
      "           1       0.84      0.77      0.80       119\n",
      "\n",
      "    accuracy                           0.86       327\n",
      "   macro avg       0.86      0.84      0.85       327\n",
      "weighted avg       0.86      0.86      0.86       327\n",
      "\n"
     ]
    }
   ],
   "source": [
    "# Métricas de Avaliação\n",
    "print(classification_report(y_test, y_pred))"
   ]
  }
 ],
 "metadata": {
  "kernelspec": {
   "display_name": "Python 3",
   "language": "python",
   "name": "python3"
  },
  "language_info": {
   "codemirror_mode": {
    "name": "ipython",
    "version": 3
   },
   "file_extension": ".py",
   "mimetype": "text/x-python",
   "name": "python",
   "nbconvert_exporter": "python",
   "pygments_lexer": "ipython3",
   "version": "3.8.5"
  },
  "orig_nbformat": 4
 },
 "nbformat": 4,
 "nbformat_minor": 2
}
