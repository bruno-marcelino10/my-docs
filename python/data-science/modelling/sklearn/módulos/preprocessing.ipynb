{
 "cells": [
  {
   "attachments": {},
   "cell_type": "markdown",
   "metadata": {},
   "source": [
    "# Preprocessing"
   ]
  },
  {
   "attachments": {},
   "cell_type": "markdown",
   "metadata": {},
   "source": [
    "O módulo `preprocessing` do `sklearn` contém diversas funções que realizam a transformações de conjuntos de dados a fim de gerar representações mais favoráveis à estimação dos modelos de aprendizado de máquina. \n",
    "\n",
    "**Padronização:** É um requerimento comum para diversos modelos e transformações lineares. Consiste em escalar todos os dados com base em estatísticas obtidas no período de treinamento dos modelos.\n",
    "\n",
    "**Encoding:** Consiste na transformação de dados categóricos em outras formas que façam mais sentido. Podem ser transformações binárias, representações numéricas das categorias etc. \n",
    "\n",
    "**Fonte:** <https://scikit-learn.org/stable/modules/preprocessing.html>\n",
    "\n",
    "**Obs.:** O método `inverse_transform` realiza a conversão das variáveis transformadas para seus valores originais, na maioria dos casos."
   ]
  },
  {
   "attachments": {},
   "cell_type": "markdown",
   "metadata": {},
   "source": [
    "### Importação dos Dados de Teste"
   ]
  },
  {
   "cell_type": "code",
   "execution_count": 16,
   "metadata": {},
   "outputs": [
    {
     "data": {
      "text/html": [
       "<div>\n",
       "<style scoped>\n",
       "    .dataframe tbody tr th:only-of-type {\n",
       "        vertical-align: middle;\n",
       "    }\n",
       "\n",
       "    .dataframe tbody tr th {\n",
       "        vertical-align: top;\n",
       "    }\n",
       "\n",
       "    .dataframe thead th {\n",
       "        text-align: right;\n",
       "    }\n",
       "</style>\n",
       "<table border=\"1\" class=\"dataframe\">\n",
       "  <thead>\n",
       "    <tr style=\"text-align: right;\">\n",
       "      <th></th>\n",
       "      <th>PassengerId</th>\n",
       "      <th>Survived</th>\n",
       "      <th>Pclass</th>\n",
       "      <th>Sex</th>\n",
       "      <th>Age</th>\n",
       "      <th>SibSp</th>\n",
       "      <th>Parch</th>\n",
       "      <th>Ticket</th>\n",
       "      <th>Fare</th>\n",
       "      <th>Cabin</th>\n",
       "      <th>Embarked</th>\n",
       "    </tr>\n",
       "  </thead>\n",
       "  <tbody>\n",
       "    <tr>\n",
       "      <th>1</th>\n",
       "      <td>2</td>\n",
       "      <td>1</td>\n",
       "      <td>1</td>\n",
       "      <td>female</td>\n",
       "      <td>38.0</td>\n",
       "      <td>1</td>\n",
       "      <td>0</td>\n",
       "      <td>PC 17599</td>\n",
       "      <td>71.2833</td>\n",
       "      <td>C85</td>\n",
       "      <td>C</td>\n",
       "    </tr>\n",
       "    <tr>\n",
       "      <th>3</th>\n",
       "      <td>4</td>\n",
       "      <td>1</td>\n",
       "      <td>1</td>\n",
       "      <td>female</td>\n",
       "      <td>35.0</td>\n",
       "      <td>1</td>\n",
       "      <td>0</td>\n",
       "      <td>113803</td>\n",
       "      <td>53.1000</td>\n",
       "      <td>C123</td>\n",
       "      <td>S</td>\n",
       "    </tr>\n",
       "    <tr>\n",
       "      <th>6</th>\n",
       "      <td>7</td>\n",
       "      <td>0</td>\n",
       "      <td>1</td>\n",
       "      <td>male</td>\n",
       "      <td>54.0</td>\n",
       "      <td>0</td>\n",
       "      <td>0</td>\n",
       "      <td>17463</td>\n",
       "      <td>51.8625</td>\n",
       "      <td>E46</td>\n",
       "      <td>S</td>\n",
       "    </tr>\n",
       "  </tbody>\n",
       "</table>\n",
       "</div>"
      ],
      "text/plain": [
       "   PassengerId  Survived  Pclass     Sex   Age  SibSp  Parch    Ticket  \\\n",
       "1            2         1       1  female  38.0      1      0  PC 17599   \n",
       "3            4         1       1  female  35.0      1      0    113803   \n",
       "6            7         0       1    male  54.0      0      0     17463   \n",
       "\n",
       "      Fare Cabin Embarked  \n",
       "1  71.2833   C85        C  \n",
       "3  53.1000  C123        S  \n",
       "6  51.8625   E46        S  "
      ]
     },
     "execution_count": 16,
     "metadata": {},
     "output_type": "execute_result"
    }
   ],
   "source": [
    "from sklearn.linear_model import LogisticRegression\n",
    "from sklearn.model_selection import train_test_split\n",
    "from sklearn.metrics import classification_report, confusion_matrix, accuracy_score, roc_curve, auc\n",
    "\n",
    "# Manipular dados\n",
    "import pandas as pd\n",
    "import numpy as np\n",
    "import matplotlib.pyplot as plt\n",
    "import seaborn as sns\n",
    "\n",
    "df = pd.read_csv(\"../dados/titanic.csv\")\n",
    "df.drop(\"Name\", axis=1, inplace=True)\n",
    "df.dropna(inplace = True)\n",
    "\n",
    "X = df.drop(\"Survived\", axis = 1)\n",
    "y = df[\"Survived\"]\n",
    "\n",
    "X_train, X_test, y_train, y_test = train_test_split(X, y, random_state = 42)\n",
    "\n",
    "num_features = [\"Age\", \"Fare\"]\n",
    "cat_features = [\"Sex\", \"Embarked\"]\n",
    "\n",
    "df.head(3)"
   ]
  },
  {
   "attachments": {},
   "cell_type": "markdown",
   "metadata": {},
   "source": [
    "## Principais Ferramentas de Padronização"
   ]
  },
  {
   "attachments": {},
   "cell_type": "markdown",
   "metadata": {},
   "source": [
    "#### StandardScaler()\n",
    "\n",
    "Realiza a subtração de cada variável pela sua média e pelo seu desvio-padrão. Cada observação será representada pela distância em relação à média (em desvios-padrão). \n",
    "\n",
    "$$X_{novo} = \\frac{X_{i} - \\mu}{\\sigma}$$\n",
    "\n",
    "Caso as observações sigam uma distribuição normal, as variáveis padronizadas passam a seguir uma distribuição normal-padrão, ou seja:\n",
    "\n",
    "$$X = N (\\mu = 0, \\sigma = 1)$$"
   ]
  },
  {
   "cell_type": "code",
   "execution_count": 5,
   "metadata": {},
   "outputs": [],
   "source": [
    "from sklearn.preprocessing import StandardScaler\n",
    "\n",
    "X_train_num = X_train[num_features]\n",
    "X_test_num = X_test[num_features]\n",
    "\n",
    "scaler = StandardScaler()\n",
    "X_train_num = scaler.fit_transform(X_train_num) # Calcula as estatísticas no treino, e transforma\n",
    "X_test_num = scaler.transform(X_test_num) # Transforma o teste com as estatísticas do treino"
   ]
  },
  {
   "attachments": {},
   "cell_type": "markdown",
   "metadata": {},
   "source": [
    "#### MinMaxScaler()\n",
    "\n",
    "Transforma os dados para que se mantenham dentro de determinado intervalo pré-fixado, mas preservando as distâncias relativas (proporcionalmente) entre as observações. \n",
    "\n",
    "$$X_{novo} = \\frac{X_{i} - min(X)}{max(X) - min(X)}$$"
   ]
  },
  {
   "cell_type": "code",
   "execution_count": 6,
   "metadata": {},
   "outputs": [
    {
     "name": "stderr",
     "output_type": "stream",
     "text": [
      "c:\\Users\\Bruno Marcelino\\AppData\\Local\\Programs\\Python\\Python38\\lib\\site-packages\\sklearn\\base.py:439: UserWarning: X does not have valid feature names, but MinMaxScaler was fitted with feature names\n",
      "  warnings.warn(\n"
     ]
    }
   ],
   "source": [
    "from sklearn.preprocessing import MinMaxScaler\n",
    "\n",
    "X_train_num = X_train[num_features]\n",
    "X_test_num = X_test[num_features]\n",
    "\n",
    "scaler = MinMaxScaler()\n",
    "X_train_num = scaler.fit_transform(X_train_num) # Calcula as estatísticas no treino, e transforma\n",
    "X_test_num = scaler.transform(X_test_num) # Transforma o teste com as estatísticas do treino"
   ]
  },
  {
   "attachments": {},
   "cell_type": "markdown",
   "metadata": {},
   "source": [
    "#### RobustScaler()\n",
    "\n",
    "Realiza processo similar ao `StandardScaler`, porém utiliza estatísticas menos sensíveis à presença de outliers como a mediana e a distância inter-quartil, conhecida como Interquartile Range (Percentil 75% - Percentil 25%).\n",
    "\n",
    "$$X_{novo} = \\frac{X_{i} - med(X)}{IQR}$$"
   ]
  },
  {
   "cell_type": "code",
   "execution_count": 9,
   "metadata": {},
   "outputs": [
    {
     "name": "stderr",
     "output_type": "stream",
     "text": [
      "c:\\Users\\Bruno Marcelino\\AppData\\Local\\Programs\\Python\\Python38\\lib\\site-packages\\sklearn\\base.py:439: UserWarning: X does not have valid feature names, but RobustScaler was fitted with feature names\n",
      "  warnings.warn(\n"
     ]
    }
   ],
   "source": [
    "from sklearn.preprocessing import RobustScaler\n",
    "\n",
    "X_train_num = X_train[num_features]\n",
    "X_test_num = X_test[num_features]\n",
    "\n",
    "scaler = RobustScaler()\n",
    "X_train_num = scaler.fit_transform(X_train_num) # Calcula as estatísticas no treino, e transforma\n",
    "X_test_num = scaler.transform(X_test_num) # Transforma o teste com as estatísticas do treino"
   ]
  },
  {
   "attachments": {},
   "cell_type": "markdown",
   "metadata": {},
   "source": [
    "#### Normalizer()\n",
    "\n",
    "Consiste em escalar cada **vetor de observações** (linha), para que apresente uma norma (comprimento) igual a 1. \n",
    "\n",
    "$$ x_{i}^2 + y_{i}^2 + ... + z_{i}^2 = 1$$"
   ]
  },
  {
   "cell_type": "code",
   "execution_count": 8,
   "metadata": {},
   "outputs": [
    {
     "name": "stderr",
     "output_type": "stream",
     "text": [
      "c:\\Users\\Bruno Marcelino\\AppData\\Local\\Programs\\Python\\Python38\\lib\\site-packages\\sklearn\\base.py:439: UserWarning: X does not have valid feature names, but Normalizer was fitted with feature names\n",
      "  warnings.warn(\n"
     ]
    }
   ],
   "source": [
    "from sklearn.preprocessing import Normalizer\n",
    "\n",
    "X_train_num = X_train[num_features]\n",
    "X_test_num = X_test[num_features]\n",
    "\n",
    "scaler = Normalizer()\n",
    "X_train_num = scaler.fit_transform(X_train_num) # Calcula as estatísticas no treino, e transforma\n",
    "X_test_num = scaler.transform(X_test_num) # Transforma o teste com as estatísticas do treino"
   ]
  },
  {
   "attachments": {},
   "cell_type": "markdown",
   "metadata": {},
   "source": [
    "## Principais Ferramentas de Encoding"
   ]
  },
  {
   "attachments": {},
   "cell_type": "markdown",
   "metadata": {},
   "source": [
    "#### OrdinalEncoder()\n",
    "\n",
    "Associa cada categoria contida em uma variável a um número inteiro. NA's não são convertidos por padrão."
   ]
  },
  {
   "cell_type": "code",
   "execution_count": 21,
   "metadata": {},
   "outputs": [],
   "source": [
    "from sklearn.preprocessing import OrdinalEncoder\n",
    "\n",
    "X_train_cat = X_train[cat_features]\n",
    "X_test_cat = X_test[cat_features]\n",
    "\n",
    "encoder = OrdinalEncoder()\n",
    "X_train_cat = encoder.fit_transform(X_train_cat) # Calcula as estatísticas no treino, e transforma\n",
    "X_test_cat = encoder.transform(X_test_cat) # Transforma o teste com as estatísticas do treino"
   ]
  },
  {
   "attachments": {},
   "cell_type": "markdown",
   "metadata": {},
   "source": [
    "#### OneHotEncoder()\n",
    "\n",
    "Cria variáveis binárias (0 ou 1) que representam a existência de determinada categoria naquela observação. Exemplo imaginando um dataset:\n",
    "\n",
    "$$ \\frac{male}{female} = \\frac{0|1}{1|0}$$\n",
    "\n",
    "No caso, o vetor $x_{1}$ representa a ocorrência de \"female\" e o vetor $x_{2}$ representa a ocorrência de \"male\"."
   ]
  },
  {
   "cell_type": "code",
   "execution_count": 25,
   "metadata": {},
   "outputs": [],
   "source": [
    "from sklearn.preprocessing import OneHotEncoder\n",
    "\n",
    "X_train_cat = X_train[cat_features]\n",
    "X_test_cat = X_test[cat_features]\n",
    "\n",
    "encoder = OneHotEncoder()\n",
    "X_train_cat = encoder.fit_transform(X_train_cat) # Calcula as estatísticas no treino, e transforma\n",
    "X_test_cat = encoder.transform(X_test_cat) # Transforma o teste com as estatísticas do treino"
   ]
  },
  {
   "attachments": {},
   "cell_type": "markdown",
   "metadata": {},
   "source": [
    "#### KBinsDiscretizer\n",
    "\n",
    "Transforma variáveis contínuas em discretas, mapeando-as entre k intervalos. "
   ]
  },
  {
   "cell_type": "code",
   "execution_count": 27,
   "metadata": {},
   "outputs": [],
   "source": [
    "from sklearn.preprocessing import KBinsDiscretizer\n",
    "\n",
    "X_train_num = X_train[num_features]\n",
    "X_test_num = X_test[num_features]\n",
    "\n",
    "encoder = KBinsDiscretizer()\n",
    "X_train_num = encoder.fit_transform(X_train_num) # Calcula as estatísticas no treino, e transforma\n",
    "X_test_num = encoder.transform(X_test_num) # Transforma o teste com as estatísticas do treino"
   ]
  },
  {
   "attachments": {},
   "cell_type": "markdown",
   "metadata": {},
   "source": [
    "#### Binarizer()\n",
    "\n",
    "Classifica as observações como 0 ou 1 caso sejam superiores a determinado ponto de corte."
   ]
  },
  {
   "cell_type": "code",
   "execution_count": 26,
   "metadata": {},
   "outputs": [],
   "source": [
    "from sklearn.preprocessing import Binarizer\n",
    "\n",
    "X_train_num = X_train[num_features]\n",
    "X_test_num = X_test[num_features]\n",
    "\n",
    "encoder = Binarizer()\n",
    "X_train_num = encoder.fit_transform(X_train_num) # Calcula as estatísticas no treino, e transforma\n",
    "X_test_num = encoder.transform(X_test_num) # Transforma o teste com as estatísticas do treino"
   ]
  }
 ],
 "metadata": {
  "kernelspec": {
   "display_name": "Python 3",
   "language": "python",
   "name": "python3"
  },
  "language_info": {
   "codemirror_mode": {
    "name": "ipython",
    "version": 3
   },
   "file_extension": ".py",
   "mimetype": "text/x-python",
   "name": "python",
   "nbconvert_exporter": "python",
   "pygments_lexer": "ipython3",
   "version": "3.8.5"
  },
  "orig_nbformat": 4
 },
 "nbformat": 4,
 "nbformat_minor": 2
}
