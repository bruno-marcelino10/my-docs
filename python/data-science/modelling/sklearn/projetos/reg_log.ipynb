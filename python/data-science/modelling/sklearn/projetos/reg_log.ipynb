{
 "cells": [
  {
   "cell_type": "code",
   "execution_count": 94,
   "metadata": {},
   "outputs": [],
   "source": [
    "import pandas as pd \n",
    "import numpy as np\n",
    "import yfinance as yf\n",
    "import matplotlib.pyplot as plt"
   ]
  },
  {
   "cell_type": "code",
   "execution_count": 49,
   "metadata": {},
   "outputs": [
    {
     "name": "stdout",
     "output_type": "stream",
     "text": [
      "[*********************100%***********************]  1 of 1 completed\n"
     ]
    }
   ],
   "source": [
    "def get_dados(path = \"dados//dados.xlsx\", tipo_target = \"num\"):\n",
    "    variaveis = pd.read_excel(path, sheet_name = \"Dados Bons\")\n",
    "    variaveis.set_index(\"Data\", inplace = True)\n",
    "    variaveis.drop(index = pd.to_datetime(\"2000-01-01\"), inplace = True)\n",
    "    \n",
    "    spy_ohlc_df = yf.download('SPY', start = '2000-01-01', interval = \"3mo\")\n",
    "    spy_ohlc_df.dropna(inplace = True)\n",
    "    spy_ohlc_df[\"Target\"] = spy_ohlc_df[\"Adj Close\"].pct_change(1)\n",
    "    spy_ohlc_df = spy_ohlc_df[\"Target\"]\n",
    "    variaveis = variaveis.join(spy_ohlc_df)\n",
    "    \n",
    "    if tipo_target == \"cat\":\n",
    "        target = variaveis[\"Target\"] > 0\n",
    "        variaveis[\"Retorno\"] = variaveis[\"Target\"]\n",
    "        variaveis.drop(\"Target\", axis = 1, inplace = True)\n",
    "        variaveis[\"Target\"] = target\n",
    "    \n",
    "    return variaveis\n",
    "    \n",
    "df = get_dados(tipo_target = \"cat\")"
   ]
  },
  {
   "cell_type": "code",
   "execution_count": 50,
   "metadata": {},
   "outputs": [
    {
     "data": {
      "text/html": [
       "<div>\n",
       "<style scoped>\n",
       "    .dataframe tbody tr th:only-of-type {\n",
       "        vertical-align: middle;\n",
       "    }\n",
       "\n",
       "    .dataframe tbody tr th {\n",
       "        vertical-align: top;\n",
       "    }\n",
       "\n",
       "    .dataframe thead th {\n",
       "        text-align: right;\n",
       "    }\n",
       "</style>\n",
       "<table border=\"1\" class=\"dataframe\">\n",
       "  <thead>\n",
       "    <tr style=\"text-align: right;\">\n",
       "      <th></th>\n",
       "      <th>T-BOND</th>\n",
       "      <th>GDP Real</th>\n",
       "      <th>Real PCE</th>\n",
       "      <th>M1</th>\n",
       "      <th>Real Disposable</th>\n",
       "      <th>Personal Savings</th>\n",
       "      <th>Exports</th>\n",
       "      <th>Imports</th>\n",
       "      <th>Labor Productivity</th>\n",
       "      <th>NFIB Small Business Optimism</th>\n",
       "      <th>Industrial Production</th>\n",
       "      <th>CPI</th>\n",
       "      <th>Retorno</th>\n",
       "      <th>Target</th>\n",
       "    </tr>\n",
       "    <tr>\n",
       "      <th>Data</th>\n",
       "      <th></th>\n",
       "      <th></th>\n",
       "      <th></th>\n",
       "      <th></th>\n",
       "      <th></th>\n",
       "      <th></th>\n",
       "      <th></th>\n",
       "      <th></th>\n",
       "      <th></th>\n",
       "      <th></th>\n",
       "      <th></th>\n",
       "      <th></th>\n",
       "      <th></th>\n",
       "      <th></th>\n",
       "    </tr>\n",
       "  </thead>\n",
       "  <tbody>\n",
       "    <tr>\n",
       "      <th>2000-04-01</th>\n",
       "      <td>-0.046811</td>\n",
       "      <td>0.0182</td>\n",
       "      <td>0.0068</td>\n",
       "      <td>-0.0016</td>\n",
       "      <td>-0.0026</td>\n",
       "      <td>0.0595</td>\n",
       "      <td>0.0516</td>\n",
       "      <td>0.0737</td>\n",
       "      <td>0.6667</td>\n",
       "      <td>0.0233</td>\n",
       "      <td>0.0139</td>\n",
       "      <td>0.0896</td>\n",
       "      <td>-0.031419</td>\n",
       "      <td>False</td>\n",
       "    </tr>\n",
       "    <tr>\n",
       "      <th>2000-07-01</th>\n",
       "      <td>-0.045872</td>\n",
       "      <td>0.0010</td>\n",
       "      <td>0.0069</td>\n",
       "      <td>-0.0126</td>\n",
       "      <td>0.0218</td>\n",
       "      <td>0.0572</td>\n",
       "      <td>0.0189</td>\n",
       "      <td>0.0570</td>\n",
       "      <td>-0.2500</td>\n",
       "      <td>-0.0227</td>\n",
       "      <td>0.0007</td>\n",
       "      <td>-0.8740</td>\n",
       "      <td>-0.009072</td>\n",
       "      <td>False</td>\n",
       "    </tr>\n",
       "    <tr>\n",
       "      <th>2000-10-01</th>\n",
       "      <td>-0.055430</td>\n",
       "      <td>0.0059</td>\n",
       "      <td>0.0061</td>\n",
       "      <td>0.0030</td>\n",
       "      <td>-0.0166</td>\n",
       "      <td>-0.0547</td>\n",
       "      <td>0.0097</td>\n",
       "      <td>-0.0091</td>\n",
       "      <td>-0.1667</td>\n",
       "      <td>-0.0466</td>\n",
       "      <td>-0.0025</td>\n",
       "      <td>-3.1400</td>\n",
       "      <td>-0.084302</td>\n",
       "      <td>False</td>\n",
       "    </tr>\n",
       "    <tr>\n",
       "      <th>2001-01-01</th>\n",
       "      <td>-0.092814</td>\n",
       "      <td>-0.0032</td>\n",
       "      <td>0.0013</td>\n",
       "      <td>0.0016</td>\n",
       "      <td>0.0235</td>\n",
       "      <td>0.1172</td>\n",
       "      <td>-0.0414</td>\n",
       "      <td>-0.0616</td>\n",
       "      <td>-0.0400</td>\n",
       "      <td>0.0977</td>\n",
       "      <td>-0.0157</td>\n",
       "      <td>-2.2702</td>\n",
       "      <td>-0.107781</td>\n",
       "      <td>False</td>\n",
       "    </tr>\n",
       "    <tr>\n",
       "      <th>2001-04-01</th>\n",
       "      <td>0.043564</td>\n",
       "      <td>0.0062</td>\n",
       "      <td>-0.0004</td>\n",
       "      <td>0.0201</td>\n",
       "      <td>0.0081</td>\n",
       "      <td>-0.0781</td>\n",
       "      <td>-0.0220</td>\n",
       "      <td>-0.0082</td>\n",
       "      <td>-0.0833</td>\n",
       "      <td>0.0142</td>\n",
       "      <td>-0.0135</td>\n",
       "      <td>2.0418</td>\n",
       "      <td>0.053475</td>\n",
       "      <td>True</td>\n",
       "    </tr>\n",
       "  </tbody>\n",
       "</table>\n",
       "</div>"
      ],
      "text/plain": [
       "              T-BOND  GDP Real  Real PCE      M1  Real Disposable  \\\n",
       "Data                                                                \n",
       "2000-04-01 -0.046811    0.0182    0.0068 -0.0016          -0.0026   \n",
       "2000-07-01 -0.045872    0.0010    0.0069 -0.0126           0.0218   \n",
       "2000-10-01 -0.055430    0.0059    0.0061  0.0030          -0.0166   \n",
       "2001-01-01 -0.092814   -0.0032    0.0013  0.0016           0.0235   \n",
       "2001-04-01  0.043564    0.0062   -0.0004  0.0201           0.0081   \n",
       "\n",
       "            Personal Savings  Exports  Imports  Labor Productivity  \\\n",
       "Data                                                                 \n",
       "2000-04-01            0.0595   0.0516   0.0737              0.6667   \n",
       "2000-07-01            0.0572   0.0189   0.0570             -0.2500   \n",
       "2000-10-01           -0.0547   0.0097  -0.0091             -0.1667   \n",
       "2001-01-01            0.1172  -0.0414  -0.0616             -0.0400   \n",
       "2001-04-01           -0.0781  -0.0220  -0.0082             -0.0833   \n",
       "\n",
       "            NFIB Small Business Optimism  Industrial Production     CPI  \\\n",
       "Data                                                                      \n",
       "2000-04-01                        0.0233                 0.0139  0.0896   \n",
       "2000-07-01                       -0.0227                 0.0007 -0.8740   \n",
       "2000-10-01                       -0.0466                -0.0025 -3.1400   \n",
       "2001-01-01                        0.0977                -0.0157 -2.2702   \n",
       "2001-04-01                        0.0142                -0.0135  2.0418   \n",
       "\n",
       "             Retorno  Target  \n",
       "Data                          \n",
       "2000-04-01 -0.031419   False  \n",
       "2000-07-01 -0.009072   False  \n",
       "2000-10-01 -0.084302   False  \n",
       "2001-01-01 -0.107781   False  \n",
       "2001-04-01  0.053475    True  "
      ]
     },
     "execution_count": 50,
     "metadata": {},
     "output_type": "execute_result"
    }
   ],
   "source": [
    "df.head()"
   ]
  },
  {
   "cell_type": "markdown",
   "metadata": {},
   "source": [
    "# REGRESSÃO LOGÍSTICA"
   ]
  },
  {
   "cell_type": "code",
   "execution_count": 86,
   "metadata": {},
   "outputs": [],
   "source": [
    "from sklearn.model_selection import train_test_split\n",
    "from sklearn.linear_model import LogisticRegression\n",
    "from sklearn.metrics import confusion_matrix\n",
    "from sklearn.metrics import roc_curve, auc"
   ]
  },
  {
   "cell_type": "code",
   "execution_count": 81,
   "metadata": {},
   "outputs": [],
   "source": [
    "x = df.drop([\"Target\", \"Retorno\"], axis = 1)\n",
    "y = df[\"Target\"]\n",
    "\n",
    "x_train, x_test, y_train, y_test = train_test_split(x, y, test_size = 0.5, shuffle = False)"
   ]
  },
  {
   "cell_type": "code",
   "execution_count": 83,
   "metadata": {},
   "outputs": [
    {
     "name": "stdout",
     "output_type": "stream",
     "text": [
      "R2:  0.5853658536585366\n"
     ]
    }
   ],
   "source": [
    "modelo = LogisticRegression()\n",
    "modelo.fit(x_train, y_train)\n",
    "y_pred_train = modelo.predict(x_train)\n",
    "y_pred_test = modelo.predict(x_test)\n",
    "print(\"R2: \",modelo.score(x_train, y_train))\n",
    "\n",
    "resultados = pd.DataFrame({\"Previsto\" : y_pred_test, \"Observado\" : y_test})"
   ]
  },
  {
   "cell_type": "code",
   "execution_count": 87,
   "metadata": {},
   "outputs": [
    {
     "name": "stdout",
     "output_type": "stream",
     "text": [
      "Avaliando a base de treinamento:\n",
      "[[ 2 16]\n",
      " [ 1 22]]\n",
      "\n",
      "\n",
      "Avaliando a base de test:\n",
      "[[ 0  8]\n",
      " [ 3 30]]\n"
     ]
    }
   ],
   "source": [
    "print(\"Avaliando a base de treinamento:\")\n",
    "print(confusion_matrix(y_train, y_pred_train))\n",
    "print(\"\\n\")\n",
    "# Avaliando a base de teste\n",
    "print(\"Avaliando a base de test:\")\n",
    "print(confusion_matrix(y_test, y_pred_test))"
   ]
  },
  {
   "cell_type": "code",
   "execution_count": 88,
   "metadata": {},
   "outputs": [
    {
     "name": "stdout",
     "output_type": "stream",
     "text": [
      "AUC - Treinamento : 0.533816\n",
      "Gini - Treinamento:  0.07\n",
      "\n",
      "\n",
      "AUC - Teste : 0.454545\n",
      "Gini - Teste:  -0.09\n"
     ]
    }
   ],
   "source": [
    "# Calculando a ROC e o Gini - Treinamento\n",
    "fpr_train, tpr_train, thresholds_train = roc_curve(y_train, y_pred_train)\n",
    "roc_auc_train = auc(fpr_train, tpr_train)\n",
    "\n",
    "print(\"AUC - Treinamento : %f\" % roc_auc_train)\n",
    "print(\"Gini - Treinamento: \", round(2*roc_auc_train-1,2))\n",
    "print(\"\\n\")\n",
    "\n",
    "# Calculando a ROC e o Gini - Teste\n",
    "fpr_test, tpr_test, thresholds_test = roc_curve(y_test, y_pred_test)\n",
    "roc_auc_test = auc(fpr_test, tpr_test)\n",
    "\n",
    "print(\"AUC - Teste : %f\" % roc_auc_test)\n",
    "print(\"Gini - Teste: \", round(2*roc_auc_test-1,2))"
   ]
  },
  {
   "cell_type": "markdown",
   "metadata": {},
   "source": [
    "### Plot ROC"
   ]
  },
  {
   "cell_type": "code",
   "execution_count": 97,
   "metadata": {},
   "outputs": [
    {
     "data": {
      "image/png": "[encoded data removed]",
      "text/plain": [
       "<Figure size 432x288 with 1 Axes>"
      ]
     },
     "metadata": {
      "needs_background": "light"
     },
     "output_type": "display_data"
    }
   ],
   "source": [
    "#define metrics\n",
    "y_pred_proba = modelo.predict_proba(x_test)[::,1] # Probabilidade de Y = 1 \n",
    "fpr, tpr, _ = roc_curve(y_test,  y_pred_proba)\n",
    "\n",
    "#create ROC curve\n",
    "plt.plot(fpr,tpr)\n",
    "plt.ylabel('True Positive Rate')\n",
    "plt.xlabel('False Positive Rate')\n",
    "plt.title(\"ROC - Receiver operating characteristic\")\n",
    "plt.show()"
   ]
  },
  {
   "cell_type": "markdown",
   "metadata": {},
   "source": [
    "# Backtest"
   ]
  },
  {
   "cell_type": "code",
   "execution_count": 80,
   "metadata": {},
   "outputs": [],
   "source": [
    "x = df.drop(\"Target\", axis = 1)\n",
    "y = df[\"Target\"]\n",
    "\n",
    "x_train, x_test, y_train, y_test = train_test_split(x, y, test_size = 0.5, shuffle = False)"
   ]
  },
  {
   "cell_type": "code",
   "execution_count": 78,
   "metadata": {},
   "outputs": [
    {
     "data": {
      "text/html": [
       "<div>\n",
       "<style scoped>\n",
       "    .dataframe tbody tr th:only-of-type {\n",
       "        vertical-align: middle;\n",
       "    }\n",
       "\n",
       "    .dataframe tbody tr th {\n",
       "        vertical-align: top;\n",
       "    }\n",
       "\n",
       "    .dataframe thead th {\n",
       "        text-align: right;\n",
       "    }\n",
       "</style>\n",
       "<table border=\"1\" class=\"dataframe\">\n",
       "  <thead>\n",
       "    <tr style=\"text-align: right;\">\n",
       "      <th></th>\n",
       "      <th>Previsto</th>\n",
       "      <th>Observado</th>\n",
       "      <th>Retorno</th>\n",
       "      <th>Ret Acumulado</th>\n",
       "      <th>Retorno_BH</th>\n",
       "      <th>Retorno_BH_acum</th>\n",
       "    </tr>\n",
       "    <tr>\n",
       "      <th>Data</th>\n",
       "      <th></th>\n",
       "      <th></th>\n",
       "      <th></th>\n",
       "      <th></th>\n",
       "      <th></th>\n",
       "      <th></th>\n",
       "    </tr>\n",
       "  </thead>\n",
       "  <tbody>\n",
       "    <tr>\n",
       "      <th>2010-07-01</th>\n",
       "      <td>True</td>\n",
       "      <td>True</td>\n",
       "      <td>-0.031419</td>\n",
       "      <td>0.968581</td>\n",
       "      <td>0.110958</td>\n",
       "      <td>0.911984</td>\n",
       "    </tr>\n",
       "    <tr>\n",
       "      <th>2010-10-01</th>\n",
       "      <td>True</td>\n",
       "      <td>True</td>\n",
       "      <td>-0.009072</td>\n",
       "      <td>0.959794</td>\n",
       "      <td>0.107712</td>\n",
       "      <td>1.010216</td>\n",
       "    </tr>\n",
       "    <tr>\n",
       "      <th>2011-01-01</th>\n",
       "      <td>True</td>\n",
       "      <td>True</td>\n",
       "      <td>-0.084302</td>\n",
       "      <td>0.878881</td>\n",
       "      <td>0.059939</td>\n",
       "      <td>1.070767</td>\n",
       "    </tr>\n",
       "    <tr>\n",
       "      <th>2011-04-01</th>\n",
       "      <td>True</td>\n",
       "      <td>False</td>\n",
       "      <td>-0.107781</td>\n",
       "      <td>0.784154</td>\n",
       "      <td>-0.000352</td>\n",
       "      <td>1.070390</td>\n",
       "    </tr>\n",
       "    <tr>\n",
       "      <th>2011-07-01</th>\n",
       "      <td>True</td>\n",
       "      <td>False</td>\n",
       "      <td>0.053475</td>\n",
       "      <td>0.826087</td>\n",
       "      <td>-0.138357</td>\n",
       "      <td>0.922293</td>\n",
       "    </tr>\n",
       "  </tbody>\n",
       "</table>\n",
       "</div>"
      ],
      "text/plain": [
       "            Previsto  Observado   Retorno  Ret Acumulado  Retorno_BH  \\\n",
       "Data                                                                   \n",
       "2010-07-01      True       True -0.031419       0.968581    0.110958   \n",
       "2010-10-01      True       True -0.009072       0.959794    0.107712   \n",
       "2011-01-01      True       True -0.084302       0.878881    0.059939   \n",
       "2011-04-01      True      False -0.107781       0.784154   -0.000352   \n",
       "2011-07-01      True      False  0.053475       0.826087   -0.138357   \n",
       "\n",
       "            Retorno_BH_acum  \n",
       "Data                         \n",
       "2010-07-01         0.911984  \n",
       "2010-10-01         1.010216  \n",
       "2011-01-01         1.070767  \n",
       "2011-04-01         1.070390  \n",
       "2011-07-01         0.922293  "
      ]
     },
     "execution_count": 78,
     "metadata": {},
     "output_type": "execute_result"
    }
   ],
   "source": [
    "retorno = []\n",
    "for i in range(len(resultados[\"Previsto\"])):\n",
    "    if resultados[\"Previsto\"][i] == True:\n",
    "        retorno.append(x[\"Retorno\"][i])\n",
    "    else:\n",
    "        retorno.append(-x[\"Retorno\"][i])\n",
    "\n",
    "resultados[\"Retorno\"] = retorno\n",
    "resultados[\"Ret Acumulado\"] = np.cumprod(1 + np.array(retorno))\n",
    "resultados[\"Retorno_BH_acum\"] = np.cumprod(1 + x[\"Retorno\"])\n",
    "resultados.head()"
   ]
  },
  {
   "cell_type": "code",
   "execution_count": 79,
   "metadata": {
    "scrolled": true
   },
   "outputs": [
    {
     "data": {
      "text/plain": [
       "<AxesSubplot:xlabel='Data'>"
      ]
     },
     "execution_count": 79,
     "metadata": {},
     "output_type": "execute_result"
    },
    {
     "data": {
      "image/png": "[encoded data removed]",
      "text/plain": [
       "<Figure size 432x288 with 1 Axes>"
      ]
     },
     "metadata": {
      "needs_background": "light"
     },
     "output_type": "display_data"
    }
   ],
   "source": [
    "resultados[[\"Ret Acumulado\", \"Retorno_BH_acum\"]].plot()"
   ]
  }
 ],
 "metadata": {
  "kernelspec": {
   "display_name": "Python 3 (ipykernel)",
   "language": "python",
   "name": "python3"
  },
  "language_info": {
   "codemirror_mode": {
    "name": "ipython",
    "version": 3
   },
   "file_extension": ".py",
   "mimetype": "text/x-python",
   "name": "python",
   "nbconvert_exporter": "python",
   "pygments_lexer": "ipython3",
   "version": "3.8.5"
  }
 },
 "nbformat": 4,
 "nbformat_minor": 4
}
