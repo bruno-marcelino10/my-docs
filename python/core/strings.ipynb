{
 "cells": [
  {
   "cell_type": "markdown",
   "metadata": {},
   "source": [
    "# string"
   ]
  },
  {
   "cell_type": "markdown",
   "metadata": {},
   "source": [
    "Os objetos do tipo `string` são cadeias de caracteres, armazenadas em sequência na memória do computador. Para criar um string, podemos utilizar a função `str` ou escrever valores entre aspas."
   ]
  },
  {
   "cell_type": "markdown",
   "metadata": {},
   "source": [
    "Os strings funcionam como listas de caracteres, onde podemos acessar valores específicos com base em seu índice e fatiá-los. "
   ]
  },
  {
   "cell_type": "code",
   "execution_count": 19,
   "metadata": {},
   "outputs": [
    {
     "name": "stdout",
     "output_type": "stream",
     "text": [
      "Indexação: string[início:fim:salto]\n",
      "\n",
      "String:  ABC123\n",
      "Primeira posição:  A\n",
      "Última posição:  3\n",
      "Substring [1:3]: BC\n",
      "String invertido: 321CBA\n",
      "Caracteres ímpares: AC2\n"
     ]
    }
   ],
   "source": [
    "print(\"Indexação: string[início:fim:salto]\\n\")\n",
    "\n",
    "string = \"ABC123\"\n",
    "print(\"String: \", string)\n",
    "print(\"Primeira posição: \", string[0])\n",
    "print(\"Última posição: \", string[-1])\n",
    "\n",
    "print(\"Substring [1:3]:\", string[1:3])\n",
    "print(\"String invertido:\", string[::-1])\n",
    "print(\"Caracteres ímpares:\", string[::2])"
   ]
  },
  {
   "cell_type": "markdown",
   "metadata": {},
   "source": [
    "## Operações com strings"
   ]
  },
  {
   "cell_type": "markdown",
   "metadata": {},
   "source": [
    "Os strings são imutáveis, logo não é possível modificar qualquer caractere diretamente com base em seu índice. A solução geralmente envolve fatiar o string ou utilizar os métodos de formatação disponibilizados para sua classe. Porém, é permitido somar (concatenar) e multiplicar (repetir) strings."
   ]
  },
  {
   "cell_type": "code",
   "execution_count": 7,
   "metadata": {},
   "outputs": [
    {
     "name": "stdout",
     "output_type": "stream",
     "text": [
      "Strings:  ABCDEF e 123456\n",
      "Soma:  ABCDEF123456\n",
      "Produto:  ABCDEFABCDEF\n"
     ]
    }
   ],
   "source": [
    "string_1 = \"ABCDEF\"\n",
    "string_2 = \"123456\"\n",
    "print(\"Strings: \", string_1, \"e\", string_2)\n",
    "print(\"Soma: \", string_1 + string_2)\n",
    "print(\"Produto: \", string_1 * 2)"
   ]
  },
  {
   "cell_type": "markdown",
   "metadata": {},
   "source": [
    "O operador `in` permite verificar se um substring faz parte de um string"
   ]
  },
  {
   "cell_type": "code",
   "execution_count": 28,
   "metadata": {},
   "outputs": [
    {
     "name": "stdout",
     "output_type": "stream",
     "text": [
      "String:  ABC123\n",
      "True\n",
      "False\n"
     ]
    }
   ],
   "source": [
    "print(\"String: \", string)\n",
    "print(\"3\" in string)\n",
    "print(\"C\" not in string)"
   ]
  },
  {
   "cell_type": "markdown",
   "metadata": {},
   "source": [
    "## Funções aplicáveis a strings"
   ]
  },
  {
   "cell_type": "markdown",
   "metadata": {},
   "source": [
    "#### len( )"
   ]
  },
  {
   "cell_type": "markdown",
   "metadata": {},
   "source": [
    "Permite encontrar o tamanho de um string"
   ]
  },
  {
   "cell_type": "code",
   "execution_count": 9,
   "metadata": {},
   "outputs": [
    {
     "name": "stdout",
     "output_type": "stream",
     "text": [
      "Tamanho:  6 caracteres\n"
     ]
    }
   ],
   "source": [
    "print(\"Tamanho: \", len(string_1), \"caracteres\")"
   ]
  },
  {
   "cell_type": "markdown",
   "metadata": {},
   "source": [
    "#### input( )"
   ]
  },
  {
   "cell_type": "markdown",
   "metadata": {},
   "source": [
    "A função `input()` permite que ao rodar o programa, o processo de leitura do código é interrompido até que o usuário digite algo diretamente no console do Python. O valor é lido como string e pode ser atribuído a uma variável. "
   ]
  },
  {
   "cell_type": "code",
   "execution_count": 21,
   "metadata": {},
   "outputs": [
    {
     "name": "stdout",
     "output_type": "stream",
     "text": [
      "Digite um valor: texto\n",
      "Valor imputado:  texto\n"
     ]
    }
   ],
   "source": [
    "entrada = input(\"Digite um valor: \")\n",
    "print(\"Valor imputado: \", entrada)"
   ]
  },
  {
   "cell_type": "markdown",
   "metadata": {},
   "source": [
    "## Métodos Importantes"
   ]
  },
  {
   "cell_type": "markdown",
   "metadata": {},
   "source": [
    "#### Alfanuméricos"
   ]
  },
  {
   "cell_type": "markdown",
   "metadata": {},
   "source": [
    "* string.isalnum() -> verifica se um string só contêm carcateres alfabéticos e numéricos\n",
    "* string.isalpha() -> verifica se um string só contêm carcateres alfabéticos\n",
    "* string.isdigit() -> verifica se um string só contêm os dígitos de 0 a 9\n",
    "* string.isnumeric() -> verifica se um string só contêm carcateres numéricos e representações Unicode de outros dígitos. Ex: \"\\u2153\"\n",
    "\n",
    "\n",
    "* string.lower() -> retorna novo string com os caracteres em formato maiúsculo\n",
    "* string.upper() -> retorna novo string com os caracteres em formato minúsculo"
   ]
  },
  {
   "cell_type": "code",
   "execution_count": 67,
   "metadata": {},
   "outputs": [
    {
     "name": "stdout",
     "output_type": "stream",
     "text": [
      "True\n",
      "False\n",
      "False\n",
      "False\n",
      "abcd1234\n"
     ]
    }
   ],
   "source": [
    "string = \"ABCD1234\"\n",
    "print(string.isalnum())\n",
    "print(string.isalpha())\n",
    "print(string.isdigit())\n",
    "print(string.isnumeric())\n",
    "print(string.lower())"
   ]
  },
  {
   "cell_type": "markdown",
   "metadata": {},
   "source": [
    "#### Alinhamento e ajuste"
   ]
  },
  {
   "cell_type": "markdown",
   "metadata": {},
   "source": [
    "* string.center(quantidade, caracter) -> alinha o texto no centro do string e preenche o entorno com o caractere especificado\n",
    "* string.ljust(quantidade, caracter) -> alinha o texto à esquerda do string e preenche com o caractere especificado\n",
    "* string.rjust(quantidade, caracter) -> alinha o texto à direita do string e preenche com o caractere especificado\n",
    "\n",
    "\n",
    "* string.strip(caracteres) -> remove todos os espaços em branco à esquerda e à direita do início e fim do string, respectivamente. Se passarmos caracteres como parâmetro, remove as suas ocorrências. \n",
    "* string.lstrip() -> remove todos os espaços em branco à esquerda do início do string\n",
    "* string.rstrip() -> remove todos os espaços em branco à direita do fim do string"
   ]
  },
  {
   "cell_type": "code",
   "execution_count": 75,
   "metadata": {},
   "outputs": [
    {
     "name": "stdout",
     "output_type": "stream",
     "text": [
      "  string  \n",
      "**string**\n",
      "string****\n",
      "****string\n"
     ]
    }
   ],
   "source": [
    "string = \"string\"\n",
    "print(string.center(10))\n",
    "print(string.center(10, \"*\"))\n",
    "print(string.ljust(10, \"*\"))\n",
    "print(string.rjust(10, \"*\"))"
   ]
  },
  {
   "cell_type": "code",
   "execution_count": 80,
   "metadata": {},
   "outputs": [
    {
     "name": "stdout",
     "output_type": "stream",
     "text": [
      "***string***\n",
      "string\n",
      "string***   \n",
      "   ***string\n"
     ]
    }
   ],
   "source": [
    "string = \"   ***string***   \"\n",
    "print(string.strip())\n",
    "print(string.strip(\" *\")) # remove tanto os espaços quanto o caractere *\n",
    "print(string.lstrip(\" *\"))\n",
    "print(string.rstrip(\" *\"))"
   ]
  },
  {
   "cell_type": "markdown",
   "metadata": {},
   "source": [
    "#### Localização"
   ]
  },
  {
   "cell_type": "markdown",
   "metadata": {},
   "source": [
    "* string.startswith(\"sub\") -> verifica se o string começa com determinado substring\n",
    "* string.endswith(\"sub\") -> verifica se o string termina com determinado substring\n",
    "\n",
    "\n",
    "* string.count(sub) -> retorna o número de ocorrências de um substring dentro do string original\n",
    "\n",
    "\n",
    "* string.find(sub, inicio, fim) -> retorna a posição da primeira ocorrência do substring procurado, da esquerda para a direita (se não encontrar, retorna -1). Inicio e Fim são as posições a partir das quais a função inicia e termina a procura.\n",
    "* string.rfind() -> retorna a posição da primeira ocorrência do substring procurado, da direita para a esquerda (se não encontrar, retorna -1). Inicio e Fim são as posições a partir das quais a função inicia e termina a procura."
   ]
  },
  {
   "cell_type": "code",
   "execution_count": 84,
   "metadata": {},
   "outputs": [
    {
     "name": "stdout",
     "output_type": "stream",
     "text": [
      "True\n",
      "False\n"
     ]
    }
   ],
   "source": [
    "string = \"ABCDABCD\"\n",
    "print(string.startswith(\"ABC\"))\n",
    "print(string.endswith(\"ABC\"))"
   ]
  },
  {
   "cell_type": "code",
   "execution_count": 87,
   "metadata": {},
   "outputs": [
    {
     "name": "stdout",
     "output_type": "stream",
     "text": [
      "2\n",
      "1\n",
      "5\n"
     ]
    }
   ],
   "source": [
    "string = \"ABCDABCD\"\n",
    "print(string.count(\"ABC\"))\n",
    "print(string.find(\"BCD\"))\n",
    "print(string.rfind(\"BCD\"))"
   ]
  },
  {
   "cell_type": "markdown",
   "metadata": {},
   "source": [
    "#### Substituição"
   ]
  },
  {
   "cell_type": "markdown",
   "metadata": {},
   "source": [
    "* string.replace(sub_antes, sub_depois, numero) -> substitui as ocorrências de um substring por outro, preservando o string original. O parâmetro numérico indica a quantidade máxima de reposições que devem ser feitas, da esquerda para a direita\n",
    "\n",
    "\n",
    "* string.split(caracter) -> divide o string com base em um caractere, criando uma lista de substrings. Para criar uma lista separando cada caractere, usamos a função `list()`. \n",
    "* string.splitlines(numero) -> divide o string com base no substring \"\\n\", que ao ser printado pula uma linha. Se adicionarmos um número maior que zero como parâmetro, ele inclui o caractere ao final de cada divisão. Retorna uma lista de substrings\n",
    "\n",
    "\n",
    "* sep.join(lista) -> concatena os substrings contidos em uma lista ou tupla, com base em um separador"
   ]
  },
  {
   "cell_type": "code",
   "execution_count": 102,
   "metadata": {},
   "outputs": [
    {
     "name": "stdout",
     "output_type": "stream",
     "text": [
      "string: ABCDEABCD\n",
      "FBCDEFBCD\n",
      "['ABCD', 'ABCD']\n"
     ]
    }
   ],
   "source": [
    "string_1 = \"ABCDEABCD\"\n",
    "print(\"string:\", string_1)\n",
    "print(string_1.replace(\"A\", \"F\", 2))\n",
    "print(string_1.split(\"E\"))"
   ]
  },
  {
   "cell_type": "code",
   "execution_count": 104,
   "metadata": {},
   "outputs": [
    {
     "name": "stdout",
     "output_type": "stream",
     "text": [
      "string: ['A', 'B', 'C', 'D', 'E', 'A', 'B', 'C', 'D']\n",
      "A B C D E A B C D\n"
     ]
    }
   ],
   "source": [
    "lista = list(string_1)\n",
    "print(\"string:\", lista)\n",
    "print(\" \".join(lista))"
   ]
  },
  {
   "cell_type": "code",
   "execution_count": 108,
   "metadata": {},
   "outputs": [
    {
     "name": "stdout",
     "output_type": "stream",
     "text": [
      "['ABCDE', 'ABCD']\n",
      "['ABCDE\\n', 'ABCD']\n"
     ]
    }
   ],
   "source": [
    "string_2 = \"ABCDE\\nABCD\"\n",
    "print(string_2.splitlines())\n",
    "print(string_2.splitlines(1))"
   ]
  },
  {
   "cell_type": "markdown",
   "metadata": {},
   "source": [
    "#### Formatação de strings"
   ]
  },
  {
   "cell_type": "markdown",
   "metadata": {},
   "source": [
    "##### string.format( )"
   ]
  },
  {
   "cell_type": "markdown",
   "metadata": {},
   "source": [
    "O método `string.format()` indica os valores do string a serem substituídos, com um inteiro entre chaves indicando onde serão encaixados os parâmetros a serem passados ao método format(), que podem ser tanto substrings quanto valores numéricos.\n",
    "\n",
    "Caso sejam colocados números entre as chaves, eles se referirão a qual parâmetro deverá ser encaixado naquele local. Ex: {0} -> O número 0 se refere ao primeiro parâmetro."
   ]
  },
  {
   "cell_type": "code",
   "execution_count": 36,
   "metadata": {},
   "outputs": [
    {
     "data": {
      "text/plain": [
       "'ABC par_1 DEF12 par_0 3456'"
      ]
     },
     "execution_count": 36,
     "metadata": {},
     "output_type": "execute_result"
    }
   ],
   "source": [
    "\"ABC{1}DEF12{0}3456\".format(\" par_0 \", \" par_1 \")"
   ]
  },
  {
   "cell_type": "markdown",
   "metadata": {},
   "source": [
    "Se incluirmos uma lista como parâmetro, podemos indicar o índice do elemento a ser colocado dentro do string original. Ex: {0[0]}"
   ]
  },
  {
   "cell_type": "code",
   "execution_count": 47,
   "metadata": {},
   "outputs": [
    {
     "name": "stdout",
     "output_type": "stream",
     "text": [
      "String original: ABCD1234\n"
     ]
    },
    {
     "data": {
      "text/plain": [
       "'ABC3D12234'"
      ]
     },
     "execution_count": 47,
     "metadata": {},
     "output_type": "execute_result"
    }
   ],
   "source": [
    "print(\"String original: ABCD1234\")\n",
    "\"ABC{1}D12{0[1]}34\".format([\"1\", \"2\"], \"3\")"
   ]
  },
  {
   "cell_type": "markdown",
   "metadata": {},
   "source": [
    "Dentro das chaves também pode ser especificado o tamanho desejado para o string que vamos colocar no lugar das chaves. Isso é feito com `:` após indicar a qual parâmetro nos referimos, se desejado. Se indicarmos um valor maior do que a quantidade de caracteres contida no parâmetro, o restante será preenchido à sua direita. Ex: {0:10}."
   ]
  },
  {
   "cell_type": "code",
   "execution_count": 42,
   "metadata": {},
   "outputs": [
    {
     "data": {
      "text/plain": [
       "'string      '"
      ]
     },
     "execution_count": 42,
     "metadata": {},
     "output_type": "execute_result"
    }
   ],
   "source": [
    "\"{0:12}\".format(\"string\")"
   ]
  },
  {
   "cell_type": "markdown",
   "metadata": {},
   "source": [
    "Os valores utilizados como preenchimento podem ser especificados após os dois-pontos, e depois deles podemos indicar também se o preenchimento ocorrerá à direita `<` do substring, à esquerda `>` ou ambos `^` (um a um, da direita para a esquerda). Ex: {:.^10}"
   ]
  },
  {
   "cell_type": "code",
   "execution_count": 43,
   "metadata": {},
   "outputs": [
    {
     "data": {
      "text/plain": [
       "'******string'"
      ]
     },
     "execution_count": 43,
     "metadata": {},
     "output_type": "execute_result"
    }
   ],
   "source": [
    "\"{0:*>12}\".format(\"string\")"
   ]
  },
  {
   "cell_type": "markdown",
   "metadata": {},
   "source": [
    "Formatação exclusiva de números:\n",
    "\n",
    "\n",
    "* {0:03} -> especifica a quantidade de zeros a serem incluídos à esquerda do número, para preenchimento do tamanho desejado\n",
    "* {0:,} -> define agruplamento por milhar\n",
    "* {0:+} -> mostra o sinal existente\n",
    "\n",
    "* {0:d} -> para inserir o número em outra base, utilizamos letras antes do tamanho.\n",
    "    * d: base decimal\n",
    "    * b: binário\n",
    "    * o: octal\n",
    "    * x: hexadecimal minúsculo\n",
    "    * X: hexadecimal maiúsculo\n",
    "    * c: caractere UNICODE\n",
    "\n",
    "* {0:.5f} -> impressão de número com 5 casas decimais\n",
    "    * f: float\n",
    "    * e: notação científica com `e` minúsculo\n",
    "    * E: notação científica com `e` maiúsculo\n",
    "    * %: converte o valor para porcentagem. Ex: 9,87 = 987%"
   ]
  },
  {
   "cell_type": "code",
   "execution_count": 65,
   "metadata": {},
   "outputs": [
    {
     "name": "stdout",
     "output_type": "stream",
     "text": [
      "Preenchimento com 10 zeros: 0000123456\n",
      "Separador de milhar: 123,456\n",
      "Mostrar o sinal: +123456\n",
      "Base Binária: 11110001001000000\n",
      "Notação científica com 5 casas decimais: 1.23456e+05\n"
     ]
    }
   ],
   "source": [
    "print(\"Preenchimento com 10 zeros:\", \"{0:010}\".format(123456))\n",
    "print(\"Separador de milhar:\", \"{0:,}\".format(123456))\n",
    "print(\"Mostrar o sinal:\", \"{0:+}\".format(123456))\n",
    "print(\"Base Binária:\", \"{0:b}\".format(123456))\n",
    "print(\"Notação científica com 5 casas decimais:\", \"{0:.5e}\".format(123456))"
   ]
  },
  {
   "cell_type": "markdown",
   "metadata": {},
   "source": [
    "##### f-strings"
   ]
  },
  {
   "cell_type": "markdown",
   "metadata": {},
   "source": [
    "Uma forma mais rápida de formatar strings ocorre utilizando `f` atrás da string. Isso possibilita que sejam incluídos os valores desejados dentro das chaves como se fossem os parâmetros da função format. Os valores dentro das chaves podem ser chamadas de funções, operações matemáticas, nomes de variáveis já criadas etc."
   ]
  },
  {
   "cell_type": "code",
   "execution_count": 66,
   "metadata": {},
   "outputs": [
    {
     "name": "stdout",
     "output_type": "stream",
     "text": [
      "texto\n"
     ]
    }
   ],
   "source": [
    "string = \"texto\"\n",
    "print(f\"{string}\")"
   ]
  }
 ],
 "metadata": {
  "kernelspec": {
   "display_name": "Python 3 (ipykernel)",
   "language": "python",
   "name": "python3"
  },
  "language_info": {
   "codemirror_mode": {
    "name": "ipython",
    "version": 3
   },
   "file_extension": ".py",
   "mimetype": "text/x-python",
   "name": "python",
   "nbconvert_exporter": "python",
   "pygments_lexer": "ipython3",
   "version": "3.8.5"
  }
 },
 "nbformat": 4,
 "nbformat_minor": 4
}
