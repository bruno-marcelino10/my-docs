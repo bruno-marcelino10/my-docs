{
 "cells": [
  {
   "cell_type": "markdown",
   "metadata": {},
   "source": [
    "# Passos para criação de um bom Projeto de Data Science"
   ]
  },
  {
   "cell_type": "markdown",
   "metadata": {},
   "source": [
    "1: Trabalhar com dados reais, de preferência atualizados em tempo real"
   ]
  },
  {
   "cell_type": "markdown",
   "metadata": {},
   "source": [
    "2: Utilizar tecnologias modernas como API's conhecidas na indústria para obter dados. Ex: Twitter, Google Analytics, Youtube, Netflix, Amazon\n",
    "\n",
    "Habilidades a desenvolver:\n",
    "* Configurar API's no código (como trabalhar com tokens)\n",
    "* Aprender a utilizar bibliotecas que ajudam a chamar API's\n",
    "* Trabalhar com estruturas JSON e dicionários"
   ]
  },
  {
   "cell_type": "markdown",
   "metadata": {},
   "source": [
    "3: Salvar a base de dados coletada em um servidor de nuvem (Data Pipeline). Ex: Amazon Web Services, Google Cloud\n",
    "\n",
    "Habilidades a desenvolver:\n",
    "* Trabalhar com dados armazenados em nuvem"
   ]
  },
  {
   "cell_type": "markdown",
   "metadata": {},
   "source": [
    "4: Criar modelos de machine learning. Ex: Kaggle\n",
    "\n",
    "O importante é entender as decisões a serem tomadas e porquê foram tomadas ao se criar o modelo.\n",
    "* Porquê escolher esse modelo?\n",
    "* Como limpar os dados?\n",
    "* Qual teste de validação performar nos dados antes de inclui-los no modelo?\n",
    "* Quais os pressupostos inerentes ao modelo?\n",
    "* Como o modelo foi otimizado?\n",
    "* Como foi implementada a divisão treinamento-teste?\n",
    "* Como a matemática por trás do modelo funciona?"
   ]
  },
  {
   "cell_type": "markdown",
   "metadata": {},
   "source": [
    "5: Gerar impacto que dê validação ao modelo, gerando insights que as pessoas encontrem interessantes\n",
    "\n",
    "* Compartilhar o código com pessoas fora da área de data science\n",
    "* Criar e compartilhar visualizações de dados que comprovem a tese\n",
    "* Desenvolver uma aplicação com frameworks como Django ou Flask usando um servidor em nuvem para mostrar os insights. Ex: dashboard do plotly ou API simples que pode ser acessada por outras pessoas"
   ]
  }
 ],
 "metadata": {
  "kernelspec": {
   "display_name": "Python 3 (ipykernel)",
   "language": "python",
   "name": "python3"
  },
  "language_info": {
   "codemirror_mode": {
    "name": "ipython",
    "version": 3
   },
   "file_extension": ".py",
   "mimetype": "text/x-python",
   "name": "python",
   "nbconvert_exporter": "python",
   "pygments_lexer": "ipython3",
   "version": "3.8.5"
  }
 },
 "nbformat": 4,
 "nbformat_minor": 4
}
