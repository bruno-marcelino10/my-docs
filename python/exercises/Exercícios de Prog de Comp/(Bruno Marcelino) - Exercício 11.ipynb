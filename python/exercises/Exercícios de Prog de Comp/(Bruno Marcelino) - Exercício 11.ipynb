{
 "cells": [
  {
   "cell_type": "markdown",
   "metadata": {},
   "source": [
    "# Exercício 1"
   ]
  },
  {
   "cell_type": "code",
   "execution_count": 267,
   "metadata": {},
   "outputs": [],
   "source": [
    "def exercicio_1(string, n):\n",
    "    \n",
    "    dicionario = dict()\n",
    "    for i in string:\n",
    "        dicionario[i] = dicionario.get(i, 0) + 1\n",
    "    \n",
    "    if n == 1: \n",
    "        lista_1, lista_2 = [], [] \n",
    "        for i in dicionario:\n",
    "            lista_1.append(i)\n",
    "            lista_2.append(dicionario[i])\n",
    "        return (lista_1, lista_2)\n",
    "    elif n == 2:\n",
    "        lista = []\n",
    "        for i in dicionario:\n",
    "            lista.append(i)\n",
    "            lista.append(dicionario[i])\n",
    "        return lista\n",
    "    elif n == 3:\n",
    "        return list(dicionario.items())\n",
    "    else:\n",
    "        return None"
   ]
  },
  {
   "cell_type": "markdown",
   "metadata": {},
   "source": [
    "# Exercício 2"
   ]
  },
  {
   "cell_type": "code",
   "execution_count": 268,
   "metadata": {},
   "outputs": [],
   "source": [
    "def exercicio_2(rep):\n",
    "    vogais = list(\"AEIOUaeiou\")\n",
    "    consoantes = list(\"BCDFGHJKLMNPQRSTVWXYZbcdfghjklmnpqrstvwxyz\")\n",
    "    soma_vogais, soma_consoantes = 0, 0\n",
    "    \n",
    "    # rep 2\n",
    "    if len(rep[0]) == 1:\n",
    "        for i in rep[::2]:\n",
    "            if i in vogais:\n",
    "                soma_vogais += 1\n",
    "            if i in consoantes:\n",
    "                soma_consoantes += 1\n",
    "    \n",
    "    # rep 3\n",
    "    elif len(rep[0]) == 2:\n",
    "        for i,j in rep:\n",
    "            if i in vogais:\n",
    "                soma_vogais += 1\n",
    "            if i in consoantes:\n",
    "                soma_consoantes += 1\n",
    "    # rep 1\n",
    "    else:\n",
    "        for i in rep[0]:\n",
    "            if i in vogais:\n",
    "                soma_vogais += 1\n",
    "            if i in consoantes:\n",
    "                soma_consoantes += 1\n",
    "                \n",
    "    return (soma_vogais, soma_consoantes)"
   ]
  },
  {
   "cell_type": "markdown",
   "metadata": {},
   "source": [
    "# Exercício 3"
   ]
  },
  {
   "cell_type": "code",
   "execution_count": 269,
   "metadata": {},
   "outputs": [],
   "source": [
    "def exercicio_3_1(rep):\n",
    "    vogais = list(\"AEIOUaeiou\")\n",
    "    consoantes = list(\"BCDFGHJKLMNPQRSTVWXYZbcdfghjklmnpqrstvwxyz\")\n",
    "    dict_vogais, dict_consoantes = dict(), dict()\n",
    "    \n",
    "    # rep 2\n",
    "    if len(rep[0]) == 1:\n",
    "        for i in range(len(rep)):\n",
    "            if rep[i] in vogais:\n",
    "                dict_vogais[rep[i]] = rep[i+1]\n",
    "            if rep[i] in consoantes:\n",
    "                dict_consoantes[rep[i]] = rep[i+1]\n",
    "    \n",
    "    # rep 3\n",
    "    elif len(rep[0]) == 2:\n",
    "        for i,j in rep:\n",
    "            if i in vogais:\n",
    "                dict_vogais[i] = j\n",
    "            if i in consoantes:\n",
    "                dict_consoantes[i] = j\n",
    "    # rep 1\n",
    "    else:\n",
    "        for i in range(len(rep[0])):\n",
    "            if rep[0][i] in vogais:\n",
    "                dict_vogais[rep[0][i]] = rep[1][i]\n",
    "            if rep[0][i] in consoantes:\n",
    "                dict_consoantes[rep[0][i]] = rep[1][i]\n",
    "                \n",
    "    lista_vogais = list(dict_vogais.items())\n",
    "    lista_vogais.sort()\n",
    "    lista_consoantes = list(dict_consoantes.items())\n",
    "    lista_consoantes.sort()\n",
    "    return (lista_vogais, lista_consoantes)"
   ]
  },
  {
   "cell_type": "code",
   "execution_count": 270,
   "metadata": {},
   "outputs": [],
   "source": [
    "def exercicio_3_2(rep, letra):\n",
    "    # rep 2\n",
    "    if len(rep[0]) == 1:\n",
    "        for i in range(len(rep)):\n",
    "            if rep[i] == letra:\n",
    "                return rep[i+1]\n",
    "                \n",
    "    # rep 3\n",
    "    elif len(rep[0]) == 2:\n",
    "        for i,j in rep:\n",
    "            if i == letra:\n",
    "                return i\n",
    "\n",
    "    # rep 1\n",
    "    else:\n",
    "        for i in range(len(rep[0])):\n",
    "            if rep[0][i] == letra:\n",
    "                return rep[1][i]"
   ]
  },
  {
   "cell_type": "code",
   "execution_count": 271,
   "metadata": {},
   "outputs": [],
   "source": [
    "def exercicio_3_3(rep, letra, codigo):\n",
    "    # rep 2\n",
    "    if len(rep[0]) == 1:\n",
    "        for i in rep:\n",
    "            if i == letra:\n",
    "                idx = rep.index(i)\n",
    "                if codigo == 0:\n",
    "                    rep[idx+1] = 0\n",
    "                if codigo == -1:\n",
    "                    rep.pop(idx)\n",
    "                    rep.pop(idx)\n",
    "    # rep 3\n",
    "    elif len(rep[0]) == 2:\n",
    "        for i,j in rep:\n",
    "            if i == letra:\n",
    "                idx = rep.index((i,j))\n",
    "                if codigo == 0:\n",
    "                    rep[idx] = letra, 0               \n",
    "                if codigo == -1:\n",
    "                    rep.pop(idx)\n",
    "\n",
    "    # rep 1\n",
    "    else:\n",
    "        for i in rep[0]:\n",
    "            if i == letra:\n",
    "                idx = rep[0].index(i)\n",
    "                if codigo == 0:\n",
    "                    rep[1][idx] = 0\n",
    "                if codigo == -1:\n",
    "                    rep[0].pop(idx)\n",
    "                    rep[1].pop(idx)            \n",
    "\n",
    "    return rep"
   ]
  },
  {
   "cell_type": "markdown",
   "metadata": {},
   "source": [
    "# Exercício 4"
   ]
  },
  {
   "cell_type": "code",
   "execution_count": 272,
   "metadata": {},
   "outputs": [],
   "source": [
    "def exercicio_4_1(string):\n",
    "    vogais = list(\"AEIOUaeiou\")\n",
    "    consoantes = list(\"BCDFGHJKLMNPQRSTVWXYZbcdfghjklmnpqrstvwxyz\")\n",
    "    \n",
    "    dict_vogais, dict_consoantes = dict(), dict()\n",
    "    for letra in string:\n",
    "        if letra in vogais:\n",
    "            dict_vogais[letra] = dict_vogais.get(letra, 0) + 1\n",
    "        if letra in consoantes:\n",
    "            dict_consoantes[letra] = dict_consoantes.get(letra, 0) + 1\n",
    "    \n",
    "    return list(dict_vogais.items()), list(dict_consoantes.items())"
   ]
  },
  {
   "cell_type": "code",
   "execution_count": 273,
   "metadata": {},
   "outputs": [],
   "source": [
    "def exercicio_4_2(dicionario, letra):\n",
    "    return dicionario.get(letra, None)"
   ]
  },
  {
   "cell_type": "code",
   "execution_count": 274,
   "metadata": {},
   "outputs": [],
   "source": [
    "def exercicio_4_3(dicionario, letra, codigo):\n",
    "    if codigo == 0:\n",
    "        if letra in dicionario.keys():\n",
    "            dicionario[letra] = 0\n",
    "    if codigo == -1:\n",
    "        if letra in dicionario.keys():\n",
    "            dicionario.pop(letra)\n",
    "    return dicionario"
   ]
  },
  {
   "cell_type": "markdown",
   "metadata": {},
   "source": [
    "# Exercício 5"
   ]
  },
  {
   "cell_type": "code",
   "execution_count": 275,
   "metadata": {},
   "outputs": [],
   "source": [
    "def gerar_agenda():\n",
    "    import random\n",
    "    letras = list(\"abcdefghijklmnopqrstuvwxyzABCDEFGHIJKLMNOPQRSTUVWXYZ\")\n",
    "    digitos = list(\"0123456789\")\n",
    "    \n",
    "    agenda = dict()\n",
    "    for i in range(26):\n",
    "        palavra = \"\".join(random.sample(letras, 5))\n",
    "        n_telefones = random.choice(list(range(1,5)))\n",
    "        \n",
    "        lista_telefonica = []\n",
    "        for i in range(n_telefones):\n",
    "            telefone = \"\".join(random.sample(digitos, 5))\n",
    "            lista_telefonica.append(telefone)\n",
    "            \n",
    "        agenda[palavra] = lista_telefonica\n",
    "        \n",
    "    return agenda"
   ]
  },
  {
   "cell_type": "code",
   "execution_count": 276,
   "metadata": {},
   "outputs": [],
   "source": [
    "agenda = gerar_agenda()"
   ]
  },
  {
   "cell_type": "code",
   "execution_count": 277,
   "metadata": {},
   "outputs": [],
   "source": [
    "def exercicio_5_1(agenda, nome, numero):\n",
    "    if (len(nome) or len(numero)) == 0:\n",
    "        return agenda\n",
    "    else:\n",
    "        agenda[nome] = [numero]\n",
    "        return agenda"
   ]
  },
  {
   "cell_type": "code",
   "execution_count": 278,
   "metadata": {},
   "outputs": [],
   "source": [
    "def exercicio_5_2(agenda, nome, numero):\n",
    "    if len(nome) == 0 and len(numero) == 0:\n",
    "        return None\n",
    "    elif len(nome) == 0:\n",
    "        pops = []\n",
    "        for i in agenda:\n",
    "            if numero in agenda[i]:\n",
    "                if agenda[i] == [numero]:\n",
    "                    pops.append(i)\n",
    "        for j in pops:\n",
    "            agenda.pop(j)\n",
    "            \n",
    "        for i in agenda:\n",
    "            if numero in agenda[i]:\n",
    "                if agenda[i] != [numero]:\n",
    "                    idx = agenda[i].index(numero)\n",
    "                    agenda[i].pop(idx)      \n",
    "        return agenda\n",
    "    \n",
    "    elif len(numero) == 0:\n",
    "        agenda[nome] = []\n",
    "        return agenda       "
   ]
  },
  {
   "cell_type": "code",
   "execution_count": 279,
   "metadata": {},
   "outputs": [],
   "source": [
    "def exercicio_5_4(agenda):\n",
    "    string = \"\"\n",
    "    for nome in agenda:\n",
    "        telefones = agenda[nome]\n",
    "        linha = f\"{nome}: \"\n",
    "        for i in telefones:\n",
    "            linha += f\"{i}; \"\n",
    "        linha += \"\\n\"\n",
    "        string += linha\n",
    "    return string[:-2]"
   ]
  },
  {
   "cell_type": "code",
   "execution_count": 280,
   "metadata": {},
   "outputs": [],
   "source": [
    "def exercicio_5_5(agenda, nome):\n",
    "    if nome in agenda:\n",
    "        telefones = agenda[nome]\n",
    "        string = f\"{nome}: \"\n",
    "        for i in telefones:\n",
    "            string += f\"{i}; \"\n",
    "        return string[:-1]\n",
    "    else: \n",
    "        return None"
   ]
  }
 ],
 "metadata": {
  "kernelspec": {
   "display_name": "Python 3 (ipykernel)",
   "language": "python",
   "name": "python3"
  },
  "language_info": {
   "codemirror_mode": {
    "name": "ipython",
    "version": 3
   },
   "file_extension": ".py",
   "mimetype": "text/x-python",
   "name": "python",
   "nbconvert_exporter": "python",
   "pygments_lexer": "ipython3",
   "version": "3.8.5"
  }
 },
 "nbformat": 4,
 "nbformat_minor": 4
}
