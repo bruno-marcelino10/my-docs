{
 "cells": [
  {
   "cell_type": "markdown",
   "metadata": {},
   "source": [
    "# QUESTÃO 1:"
   ]
  },
  {
   "cell_type": "code",
   "execution_count": 1,
   "metadata": {},
   "outputs": [
    {
     "name": "stdout",
     "output_type": "stream",
     "text": [
      "Primeiro valor: 1\n",
      "Segundo valor: 2\n",
      "O segundo número é o maior\n"
     ]
    }
   ],
   "source": [
    "a = int(input(\"Primeiro valor: \"))\n",
    "b = int(input(\"Segundo valor: \"))\n",
    "\n",
    "if a > b:\n",
    "    print(\"O primeiro número é o maior\")\n",
    "elif a < b:\n",
    "    print(\"O segundo número é o maior\")\n",
    "else:\n",
    "    print(\"Os números são iguais\")"
   ]
  },
  {
   "cell_type": "markdown",
   "metadata": {},
   "source": [
    "# QUESTÃO 2:"
   ]
  },
  {
   "cell_type": "code",
   "execution_count": 1,
   "metadata": {
    "scrolled": true
   },
   "outputs": [
    {
     "name": "stdout",
     "output_type": "stream",
     "text": [
      "O salário de R$ 10450 pagará R$ 2004.3892500000002 de impostos\n",
      "O imposto efetivo é de 19.180758373205745%\n"
     ]
    }
   ],
   "source": [
    "salário = 10450\n",
    "\n",
    "base_de_cálculo = salário\n",
    "imposto = 0 # imposto é um acumulador aditivo\n",
    "\n",
    "if base_de_cálculo > 4664.68:\n",
    "    imposto = imposto + (base_de_cálculo - 4664.68) * 0.275\n",
    "    base_de_cálculo = 4664.68\n",
    "if base_de_cálculo > 3751.05:\n",
    "    imposto = imposto + (base_de_cálculo - 3751.06) * 0.225\n",
    "    base_de_cálculo = 3751.06\n",
    "if base_de_cálculo > 2826.64:\n",
    "    imposto = imposto + (base_de_cálculo - 2826.65) * 0.15\n",
    "    base_de_cálculo = 2826.65\n",
    "if base_de_cálculo > 1903.97:\n",
    "    imposto = imposto + (base_de_cálculo - 1903.98) * 0.075\n",
    "\n",
    "print(\"O salário de R$ {} pagará R$ {} de impostos\".format(salário,imposto))\n",
    "print(\"O imposto efetivo é de {}%\".format(imposto/salário*100))"
   ]
  },
  {
   "cell_type": "code",
   "execution_count": 6,
   "metadata": {},
   "outputs": [
    {
     "name": "stdout",
     "output_type": "stream",
     "text": [
      "O salário de R$ 50000 pagará R$ 12880.639250000002 de impostos\n",
      "O imposto efetivo é de 25.761278500000007%\n"
     ]
    }
   ],
   "source": [
    "salário = 50000\n",
    "\n",
    "base_de_cálculo = salário\n",
    "imposto = 0 # imposto é um acumulador aditivo\n",
    "\n",
    "if base_de_cálculo > 4664.68:\n",
    "    imposto = imposto + (base_de_cálculo - 4664.68) * 0.275\n",
    "    base_de_cálculo = 4664.68\n",
    "if base_de_cálculo > 3751.05:\n",
    "    imposto = imposto + (base_de_cálculo - 3751.06) * 0.225\n",
    "    base_de_cálculo = 3751.06\n",
    "if base_de_cálculo > 2826.64:\n",
    "    imposto = imposto + (base_de_cálculo - 2826.65) * 0.15\n",
    "    base_de_cálculo = 2826.65\n",
    "if base_de_cálculo > 1903.97:\n",
    "    imposto = imposto + (base_de_cálculo - 1903.98) * 0.075\n",
    "\n",
    "print(\"O salário de R$ {} pagará R$ {} de impostos\".format(salário,imposto))\n",
    "print(\"O imposto efetivo é de {}%\".format(imposto/salário*100))"
   ]
  },
  {
   "cell_type": "code",
   "execution_count": 7,
   "metadata": {},
   "outputs": [
    {
     "name": "stdout",
     "output_type": "stream",
     "text": [
      "O salário de R$ 100000 pagará R$ 26630.639250000004 de impostos\n",
      "O imposto efetivo é de 26.630639250000005%\n"
     ]
    }
   ],
   "source": [
    "salário = 100000\n",
    "\n",
    "base_de_cálculo = salário\n",
    "imposto = 0 # imposto é um acumulador aditivo\n",
    "\n",
    "if base_de_cálculo > 4664.68:\n",
    "    imposto = imposto + (base_de_cálculo - 4664.68) * 0.275\n",
    "    base_de_cálculo = 4664.68\n",
    "if base_de_cálculo > 3751.05:\n",
    "    imposto = imposto + (base_de_cálculo - 3751.06) * 0.225\n",
    "    base_de_cálculo = 3751.06\n",
    "if base_de_cálculo > 2826.64:\n",
    "    imposto = imposto + (base_de_cálculo - 2826.65) * 0.15\n",
    "    base_de_cálculo = 2826.65\n",
    "if base_de_cálculo > 1903.97:\n",
    "    imposto = imposto + (base_de_cálculo - 1903.98) * 0.075\n",
    "\n",
    "print(\"O salário de R$ {} pagará R$ {} de impostos\".format(salário,imposto))\n",
    "print(\"O imposto efetivo é de {}%\".format(imposto/salário*100))"
   ]
  },
  {
   "cell_type": "code",
   "execution_count": 8,
   "metadata": {},
   "outputs": [
    {
     "name": "stdout",
     "output_type": "stream",
     "text": [
      "O salário de R$ 500000 pagará R$ 136630.63925 de impostos\n",
      "O imposto efetivo é de 27.326127850000002%\n"
     ]
    }
   ],
   "source": [
    "salário = 500000\n",
    "\n",
    "base_de_cálculo = salário\n",
    "imposto = 0 # imposto é um acumulador aditivo\n",
    "\n",
    "if base_de_cálculo > 4664.68:\n",
    "    imposto = imposto + (base_de_cálculo - 4664.68) * 0.275\n",
    "    base_de_cálculo = 4664.68\n",
    "if base_de_cálculo > 3751.05:\n",
    "    imposto = imposto + (base_de_cálculo - 3751.06) * 0.225\n",
    "    base_de_cálculo = 3751.06\n",
    "if base_de_cálculo > 2826.64:\n",
    "    imposto = imposto + (base_de_cálculo - 2826.65) * 0.15\n",
    "    base_de_cálculo = 2826.65\n",
    "if base_de_cálculo > 1903.97:\n",
    "    imposto = imposto + (base_de_cálculo - 1903.98) * 0.075\n",
    "\n",
    "print(\"O salário de R$ {} pagará R$ {} de impostos\".format(salário,imposto))\n",
    "print(\"O imposto efetivo é de {}%\".format(imposto/salário*100))"
   ]
  },
  {
   "cell_type": "code",
   "execution_count": 9,
   "metadata": {},
   "outputs": [
    {
     "name": "stdout",
     "output_type": "stream",
     "text": [
      "O salário de R$ 1000000 pagará R$ 274130.63924999995 de impostos\n",
      "O imposto efetivo é de 27.413063924999996%\n"
     ]
    }
   ],
   "source": [
    "salário = 1000000\n",
    "\n",
    "base_de_cálculo = salário\n",
    "imposto = 0 # imposto é um acumulador aditivo\n",
    "\n",
    "if base_de_cálculo > 4664.68:\n",
    "    imposto = imposto + (base_de_cálculo - 4664.68) * 0.275\n",
    "    base_de_cálculo = 4664.68\n",
    "if base_de_cálculo > 3751.05:\n",
    "    imposto = imposto + (base_de_cálculo - 3751.06) * 0.225\n",
    "    base_de_cálculo = 3751.06\n",
    "if base_de_cálculo > 2826.64:\n",
    "    imposto = imposto + (base_de_cálculo - 2826.65) * 0.15\n",
    "    base_de_cálculo = 2826.65\n",
    "if base_de_cálculo > 1903.97:\n",
    "    imposto = imposto + (base_de_cálculo - 1903.98) * 0.075\n",
    "\n",
    "print(\"O salário de R$ {} pagará R$ {} de impostos\".format(salário,imposto))\n",
    "print(\"O imposto efetivo é de {}%\".format(imposto/salário*100))"
   ]
  },
  {
   "cell_type": "code",
   "execution_count": 10,
   "metadata": {},
   "outputs": [
    {
     "name": "stdout",
     "output_type": "stream",
     "text": [
      "O salário de R$ 100000000 pagará R$ 27499130.63925 de impostos\n",
      "O imposto efetivo é de 27.499130639249998%\n"
     ]
    }
   ],
   "source": [
    "salário = 100000000\n",
    "\n",
    "base_de_cálculo = salário\n",
    "imposto = 0 # imposto é um acumulador aditivo\n",
    "\n",
    "if base_de_cálculo > 4664.68:\n",
    "    imposto = imposto + (base_de_cálculo - 4664.68) * 0.275\n",
    "    base_de_cálculo = 4664.68\n",
    "if base_de_cálculo > 3751.05:\n",
    "    imposto = imposto + (base_de_cálculo - 3751.06) * 0.225\n",
    "    base_de_cálculo = 3751.06\n",
    "if base_de_cálculo > 2826.64:\n",
    "    imposto = imposto + (base_de_cálculo - 2826.65) * 0.15\n",
    "    base_de_cálculo = 2826.65\n",
    "if base_de_cálculo > 1903.97:\n",
    "    imposto = imposto + (base_de_cálculo - 1903.98) * 0.075\n",
    "\n",
    "print(\"O salário de R$ {} pagará R$ {} de impostos\".format(salário,imposto))\n",
    "print(\"O imposto efetivo é de {}%\".format(imposto/salário*100))"
   ]
  },
  {
   "cell_type": "markdown",
   "metadata": {},
   "source": [
    "O imposto efetivo (% de imposto pago em relação ao salário total do indivíduo) tende a aumentar até chegar bem próximo do valor da alíquota máxima de 27,5%, incidente sobre a porcentagem de salário que excede R$ 4664,68. "
   ]
  },
  {
   "cell_type": "markdown",
   "metadata": {},
   "source": [
    "# QUESTÃO 3: "
   ]
  },
  {
   "cell_type": "markdown",
   "metadata": {},
   "source": [
    "A solução seria criar alíquotas cada vez maiores a serem pagas por pessoas que obtenham salários maiores do que R$ 4664,68. Assim, os mais pobres continuam pagando menos e os mais ricos pagam mais. "
   ]
  },
  {
   "cell_type": "code",
   "execution_count": 13,
   "metadata": {},
   "outputs": [
    {
     "name": "stdout",
     "output_type": "stream",
     "text": [
      "O salário de R$ 10000000 pagará R$ 3123868.13925 de impostos\n",
      "O imposto efetivo é de 31.238681392500002%\n"
     ]
    }
   ],
   "source": [
    "salário = 10000000\n",
    "\n",
    "base_de_cálculo = salário\n",
    "imposto = 0 # imposto é um acumulador aditivo\n",
    "\n",
    "if base_de_cálculo > 9000:\n",
    "    imposto = imposto + (base_de_cálculo - 9000) * 0.3125    \n",
    "    base_de_cálculo = 9000\n",
    "if base_de_cálculo > 6000:\n",
    "    imposto = imposto + (base_de_cálculo - 6000) * 0.300\n",
    "    base_de_cálculo = 6000    \n",
    "if base_de_cálculo > 4664.68:\n",
    "    imposto = imposto + (base_de_cálculo - 4664.68) * 0.275\n",
    "    base_de_cálculo = 4664.68\n",
    "if base_de_cálculo > 3751.05:\n",
    "    imposto = imposto + (base_de_cálculo - 3751.06) * 0.225\n",
    "    base_de_cálculo = 3751.06\n",
    "if base_de_cálculo > 2826.64:\n",
    "    imposto = imposto + (base_de_cálculo - 2826.65) * 0.15\n",
    "    base_de_cálculo = 2826.65\n",
    "if base_de_cálculo > 1903.97:\n",
    "    imposto = imposto + (base_de_cálculo - 1903.98) * 0.075\n",
    "\n",
    "print(\"O salário de R$ {} pagará R$ {} de impostos\".format(salário,imposto))\n",
    "print(\"O imposto efetivo é de {}%\".format(imposto/salário*100))"
   ]
  },
  {
   "cell_type": "markdown",
   "metadata": {},
   "source": [
    "# QUESTÃO 4:"
   ]
  },
  {
   "cell_type": "code",
   "execution_count": 21,
   "metadata": {},
   "outputs": [
    {
     "name": "stdout",
     "output_type": "stream",
     "text": [
      "Digite a categoria: 5\n",
      "O preço do produto é R$ 52\n"
     ]
    }
   ],
   "source": [
    "categoria = int(input(\"Digite a categoria: \"))\n",
    "preço = \"desconhecido\"\n",
    "\n",
    "if categoria == 1:\n",
    "    preço = 17\n",
    "elif categoria == 2:\n",
    "    preço = 21\n",
    "elif categoria == 3:\n",
    "    preço = 23\n",
    "elif categoria == 4:\n",
    "    preço = 26\n",
    "elif categoria == 5:\n",
    "    preço = 52\n",
    "else:\n",
    "    print(\"Categoria inválida! Digite um valor entre 1 e 5!\")\n",
    "    \n",
    "if 1 <= categoria <= 5:\n",
    "    print(\"O preço do produto é R$ {}\".format(preço))"
   ]
  },
  {
   "cell_type": "markdown",
   "metadata": {},
   "source": [
    "# QUESTÃO 5:"
   ]
  },
  {
   "cell_type": "markdown",
   "metadata": {},
   "source": [
    "Dados três números distintos (a, b e c) podemos fazer uma árvore de decisão de dois nós:\n",
    "\n",
    "```\n",
    "SE a < b: \n",
    "    SE a < c:\n",
    "        O menor número é A (engloba os conjuntos A < B < C e A < C < B)\n",
    "    CASO CONTRÁRIO:\n",
    "        O menor número é C (engloba o conjunto C < A < B) \n",
    "\n",
    " CASO CONTRÁRIO:\n",
    "    SE b < c:\n",
    "        O menor número é B (engloba os conjuntos B < A < C  e B < C < A)\n",
    "    CASO CONTRÁRIO:\n",
    "        O menor número é C (engloba o conjunto C < B < A)\n",
    "```"
   ]
  },
  {
   "cell_type": "markdown",
   "metadata": {},
   "source": [
    "# QUESTÃO 6:"
   ]
  },
  {
   "cell_type": "markdown",
   "metadata": {},
   "source": [
    "Dados três números [a,b,c], o primeiro passo é classificá-los como ímpar ou não, e isso pode ser feito dividindo-o por dois e encontrando seu resto. Se a divisão por 2 resultar em um resto diferente de zero, o número é ímpar. \n",
    "\n",
    "```\n",
    "SE o número de ímpares no conjunto for igual a zero, não realizamos nenhuma operação. \n",
    "\n",
    "CASO CONTRÁRIO, SE o número de ímpares distintos for igual a 1, retornamos o único número ímpar.\n",
    "\n",
    "CASO CONTRÁRIO, SE o número de ímpares distintos for igual a 2, comparamos os dois da seguinte forma\n",
    "    SE o número ímpar X for maior que o número ímpar Y:\n",
    "        o número X é maior\n",
    "    CASO CONTRÁRIO:\n",
    "        o número Y é maior \n",
    "\n",
    "CASO CONTRÁRIO, SE os três números forem ímpares distintos, podemos realizar processo quase idêntico ao realizado na questão anterior para encontrar o maior número utilizando uma árvore de decisão de dois nós:\n",
    "\n",
    "    SE a > b: \n",
    "        SE a > c:\n",
    "            O maior número é A (engloba os conjuntos C < B < A e B < C < A)\n",
    "        CASO CONTRÁRIO:\n",
    "            O maior número é C (engloba o conjunto B < A < C) \n",
    "\n",
    "     CASO CONTRÁRIO:\n",
    "        SE b > c:\n",
    "            O maior número é B (engloba os conjuntos C < A < B  e A < C < B)\n",
    "        CASO CONTRÁRIO:\n",
    "            O maior número é C (engloba o conjunto A < B < C)\n",
    "```"
   ]
  },
  {
   "cell_type": "markdown",
   "metadata": {},
   "source": [
    "# QUESTÃO 7:"
   ]
  },
  {
   "cell_type": "markdown",
   "metadata": {},
   "source": [
    "Dado que os últimos anos bissextos foram 2000, 2004, 2008 etc. Podemos concluir que se o ano é um múltiplo de 4, ele é bissexto.\n",
    "\n",
    "Assim, se o resto da divisão do ano por 4 for igual a zero, ele é bissexto. "
   ]
  },
  {
   "cell_type": "code",
   "execution_count": 40,
   "metadata": {},
   "outputs": [
    {
     "name": "stdout",
     "output_type": "stream",
     "text": [
      "Digite um ano: 2003\n",
      "O ano não é bissexto\n"
     ]
    }
   ],
   "source": [
    "ano = int(input(\"Digite um ano: \"))\n",
    "\n",
    "if ano % 4 == 0:\n",
    "    print(\"O ano é bissexto\")\n",
    "else: \n",
    "    print(\"O ano não é bissexto\")"
   ]
  },
  {
   "cell_type": "markdown",
   "metadata": {},
   "source": [
    "# QUESTÃO 8:"
   ]
  },
  {
   "cell_type": "code",
   "execution_count": 45,
   "metadata": {},
   "outputs": [
    {
     "name": "stdout",
     "output_type": "stream",
     "text": [
      "Digite um número real: 1.75\n",
      "0 <= n <= 2\n",
      "1 <= n <= 3\n"
     ]
    }
   ],
   "source": [
    "n = float(input(\"Digite um número real: \"))\n",
    "\n",
    "if n <= -2: \n",
    "    print(\"n <= -2\")\n",
    "if -3 <= n <= -1:\n",
    "    print(\"-3 <= n <= -1\")\n",
    "if 0 <= n <= 2:\n",
    "    print(\"0 <= n <= 2\")\n",
    "if 1 <= n <= 3:\n",
    "    print(\"1 <= n <= 3\")\n",
    "if 4 <= n:\n",
    "    print(\"4 <= n\")"
   ]
  }
 ],
 "metadata": {
  "kernelspec": {
   "display_name": "Python 3 (ipykernel)",
   "language": "python",
   "name": "python3"
  },
  "language_info": {
   "codemirror_mode": {
    "name": "ipython",
    "version": 3
   },
   "file_extension": ".py",
   "mimetype": "text/x-python",
   "name": "python",
   "nbconvert_exporter": "python",
   "pygments_lexer": "ipython3",
   "version": "3.8.5"
  }
 },
 "nbformat": 4,
 "nbformat_minor": 4
}
