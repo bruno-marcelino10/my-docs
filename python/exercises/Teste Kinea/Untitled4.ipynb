{
 "cells": [
  {
   "cell_type": "code",
   "execution_count": 5,
   "metadata": {},
   "outputs": [
    {
     "name": "stdout",
     "output_type": "stream",
     "text": [
      "55\n",
      "55\n"
     ]
    }
   ],
   "source": [
    "# RECURSÃO:\n",
    "def fibonacci_recursivo(n):\n",
    "\n",
    "    if n < 0:\n",
    "        resultado = None\n",
    "    elif n == 0:\n",
    "        resultado = 0\n",
    "    elif n == 1:\n",
    "        resultado = 1\n",
    "    else:\n",
    "        resultado = fibonacci_recursivo(n-1) + fibonacci_recursivo(n-2)\n",
    "        \n",
    "    return(resultado)\n",
    "\n",
    "# PROGRAMAÇÃO DINÂMICA: (usa lista)\n",
    "def fibonacci_iterativo(n):\n",
    "    \n",
    "    if n < 0:\n",
    "        resultado = None\n",
    "    elif n == 0:\n",
    "        resultado = 0\n",
    "    elif n == 1:\n",
    "        resultado = 1\n",
    "    else:\n",
    "        i = 2\n",
    "        lista = [0,1]\n",
    "        while i <= n:\n",
    "            lista.append(lista[i-1] + lista[i-2])\n",
    "            i = i + 1\n",
    "    return(lista[n])\n",
    "\n",
    "print(fibonacci_recursivo(10)) # décimo elemento\n",
    "print(fibonacci_iterativo(10))"
   ]
  },
  {
   "cell_type": "code",
   "execution_count": null,
   "metadata": {},
   "outputs": [],
   "source": []
  }
 ],
 "metadata": {
  "kernelspec": {
   "display_name": "Python 3 (ipykernel)",
   "language": "python",
   "name": "python3"
  },
  "language_info": {
   "codemirror_mode": {
    "name": "ipython",
    "version": 3
   },
   "file_extension": ".py",
   "mimetype": "text/x-python",
   "name": "python",
   "nbconvert_exporter": "python",
   "pygments_lexer": "ipython3",
   "version": "3.8.5"
  }
 },
 "nbformat": 4,
 "nbformat_minor": 4
}
