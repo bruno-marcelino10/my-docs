{
 "cells": [
  {
   "cell_type": "code",
   "execution_count": 2,
   "metadata": {},
   "outputs": [
    {
     "name": "stdout",
     "output_type": "stream",
     "text": [
      "Digite um Jogador: David\n",
      "Deseja continuar? (s/n)s\n",
      "Digite um Jogador: Bruno\n",
      "Deseja continuar? (s/n)s\n",
      "Digite um Jogador: Marcos\n",
      "Deseja continuar? (s/n)n\n",
      "Os jogadores cadastrados são: ['David', 'Bruno', 'Marcos']\n"
     ]
    }
   ],
   "source": [
    "continuar = True\n",
    "jogadores = []\n",
    "\n",
    "while continuar:\n",
    "    jogador = str(input(\"Digite um Jogador: \"))\n",
    "    jogadores.append(jogador)\n",
    "    \n",
    "    fechar = str(input(\"Deseja continuar? (s/n)\"))\n",
    "    if fechar == \"n\":\n",
    "        continuar = False\n",
    "\n",
    "print(\"\")\n",
    "print(\"Os jogadores cadastrados são:\", jogadores)"
   ]
  }
 ],
 "metadata": {
  "kernelspec": {
   "display_name": "Python 3 (ipykernel)",
   "language": "python",
   "name": "python3"
  },
  "language_info": {
   "codemirror_mode": {
    "name": "ipython",
    "version": 3
   },
   "file_extension": ".py",
   "mimetype": "text/x-python",
   "name": "python",
   "nbconvert_exporter": "python",
   "pygments_lexer": "ipython3",
   "version": "3.8.5"
  }
 },
 "nbformat": 4,
 "nbformat_minor": 4
}
