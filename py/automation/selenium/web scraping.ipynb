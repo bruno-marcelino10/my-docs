{
 "cells": [
  {
   "cell_type": "markdown",
   "metadata": {},
   "source": [
    "# Automação de Processos com Selenium"
   ]
  },
  {
   "cell_type": "markdown",
   "metadata": {},
   "source": [
    "## Funcionalidades do ChromeDriver\n",
    "\n",
    "O Webdriver tem por objetivo simular de forma automática todos os passos que o ser humano faria no navegador a fim de realizar determinada tarefa. Podemos localizar os elementos presentes no HTML de um site por meio de seus atributos (XPath, nome da classe, ID, CSS Selector etc.) e interagir com eles. Essas interações incluem: \n",
    "\n",
    "> Interações diretas, como clicar com o método `.click()`, enviar teclas com o método `send_keys()`\n",
    "\n",
    "> Extrair o código HTML que constrói aquele objeto na página web, com destaque para a extração de tabelas com o get_attribute(\"outerHTML\") e a função `pd.read_html` \n",
    "\n",
    "Ao fazer a busca por um elemento na página web, o Selenium retorna um objeto do tipo \"WebElement\". Ele funciona de forma semelhante a uma lista do Python, contendo cada elemento encontrado que possui o atributo pesquisado, um em cada posição. Podemos acessar o elemento que desejamos pelo índice da lista (Ex: html[0]), para realizar as operações em cima dele. "
   ]
  },
  {
   "cell_type": "markdown",
   "metadata": {},
   "source": [
    "## Processos comuns para utilização do Webdriver: "
   ]
  },
  {
   "cell_type": "markdown",
   "metadata": {},
   "source": [
    "#### Importar Bibliotecas\n",
    "\n",
    " > **from** selenium **import** webdriver \n",
    " >\n",
    " > **from** selenium.webdriver.common.keys **import** Keys # permite especificar qual tecla pressionar (Ex: Keys.RETURN)\n",
    "  \n",
    "#### Abrir o ChromeDriver\n",
    "\n",
    "Antes de tudo, devemos instalar o `chromedriver.exe` e requerir o seu PATH (dada sua versão do Google Chrome), para abrir o aplicativo de teste automatizado.\n",
    "\n",
    "    driver = webdriver.Chrome(\"chromedriver.exe\")\n",
    "   \n",
    "#### Abrir o navegador automatizado\n",
    "\n",
    "    driver.get(\"link\")\n",
    "    \n",
    "#### Incluir pausas\n",
    "\n",
    "Importante para pausar a execução do código por determinado período, e aguardar o navegador carregar a ação feita anteriormente. Incluímos pausas com o módulo `time`\n",
    "\n",
    " > **from** time **import** sleep\n",
    " \n",
    "    sleep(segundos)\n",
    "\n",
    "#### Fechar o navegador automatizado\n",
    "\n",
    "    driver.quit()"
   ]
  },
  {
   "cell_type": "markdown",
   "metadata": {},
   "source": [
    "# Exemplos Práticos"
   ]
  },
  {
   "cell_type": "markdown",
   "metadata": {},
   "source": [
    "### Importação dos títulos das notícias da Reuters"
   ]
  },
  {
   "cell_type": "code",
   "execution_count": 18,
   "metadata": {},
   "outputs": [],
   "source": [
    "from selenium import webdriver"
   ]
  },
  {
   "cell_type": "code",
   "execution_count": 25,
   "metadata": {},
   "outputs": [
    {
     "name": "stdout",
     "output_type": "stream",
     "text": [
      "Brazil's federal police open probe into Bolsonaro over vaccine deal - source\n",
      "At a Rio cafe, cats and coffee combine for a cause\n",
      "Brazil registers 745 COVID-19 deaths on Monday\n",
      "Majority of Brazilians support impeaching Bolsonaro, poll shows\n",
      "Brazil 2022 election will take place; 'It's that simple,' says Senate president\n",
      "Brazil COVID-19 case count tops 19 million, death toll 531,688 -Health Ministry\n",
      "Brazilian TV presenter declares himself presidential hopeful on air\n",
      "Picky \"vaccine sommeliers\" undermine Brazil inoculation campaign, experts say\n",
      "Eyeing presidency, gay Brazilian governor braces for anti-LGBT+ jibes\n",
      "Deforestation in Brazil's Amazon rainforest rises for fourth straight month\n",
      "Former U.S. drug agency informant arrested in Haiti assassination, DEA source says\n",
      "Japan warns of crisis over Taiwan, growing risks from U.S.-China rivalry\n",
      "Cuba arrests activists as government blames unrest on U.S. interference\n",
      "Living with COVID-19: Israel changes strategy as Delta variant hits\n",
      "Polish ruling on primacy of EU law may worsen row with Brussels\n"
     ]
    }
   ],
   "source": [
    "driver = webdriver.Chrome(\"./chromedriver.exe\")\n",
    "\n",
    "driver.get(\"https://www.reuters.com/places/brazil\")\n",
    "\n",
    "titulos = driver.find_elements_by_class_name(\"story-title\")\n",
    "\n",
    "for i in titulos: \n",
    "    print(i.text)\n",
    "\n",
    "driver.quit()"
   ]
  },
  {
   "cell_type": "markdown",
   "metadata": {},
   "source": [
    "### Importação de dados da B3"
   ]
  },
  {
   "cell_type": "code",
   "execution_count": null,
   "metadata": {},
   "outputs": [],
   "source": [
    "from selenium import webdriver\n",
    "import pandas as pd\n",
    "import matplotlib.pyplot as plt"
   ]
  },
  {
   "cell_type": "code",
   "execution_count": 32,
   "metadata": {},
   "outputs": [],
   "source": [
    "driver = webdriver.Chrome(\"./chromedriver.exe\")\n",
    "\n",
    "driver.get(\"http://www2.bmf.com.br/pages/portal/bmfbovespa/lumis/lum-taxas-referenciais-bmf-ptBR.asp\")\n",
    "\n",
    "html = driver.find_element_by_xpath('//*[@id=\"tb_principal1\"]').get_attribute(\"outerHTML\") \n",
    "        \n",
    "# Alternativamente: html = driver.find_element_by_class_name('responsive').get_attribute(\"outerHTML\")\n",
    "    \n",
    "df = pd.read_html(html, decimal = \",\", thousands = \".\")[0]\n",
    "\n",
    "driver.quit()"
   ]
  },
  {
   "cell_type": "code",
   "execution_count": 35,
   "metadata": {
    "scrolled": false
   },
   "outputs": [
    {
     "data": {
      "text/html": [
       "<div>\n",
       "<style scoped>\n",
       "    .dataframe tbody tr th:only-of-type {\n",
       "        vertical-align: middle;\n",
       "    }\n",
       "\n",
       "    .dataframe tbody tr th {\n",
       "        vertical-align: top;\n",
       "    }\n",
       "\n",
       "    .dataframe thead th {\n",
       "        text-align: right;\n",
       "    }\n",
       "</style>\n",
       "<table border=\"1\" class=\"dataframe\">\n",
       "  <thead>\n",
       "    <tr style=\"text-align: right;\">\n",
       "      <th></th>\n",
       "      <th>Dias Corridos</th>\n",
       "      <th>Dólar Ano Útil</th>\n",
       "      <th>Dólar Ano Corrente</th>\n",
       "    </tr>\n",
       "  </thead>\n",
       "  <tbody>\n",
       "    <tr>\n",
       "      <th>0</th>\n",
       "      <td>1</td>\n",
       "      <td>4.15</td>\n",
       "      <td>0.00</td>\n",
       "    </tr>\n",
       "    <tr>\n",
       "      <th>1</th>\n",
       "      <td>3</td>\n",
       "      <td>4.16</td>\n",
       "      <td>5.99</td>\n",
       "    </tr>\n",
       "    <tr>\n",
       "      <th>2</th>\n",
       "      <td>4</td>\n",
       "      <td>4.16</td>\n",
       "      <td>6.00</td>\n",
       "    </tr>\n",
       "    <tr>\n",
       "      <th>3</th>\n",
       "      <td>7</td>\n",
       "      <td>4.16</td>\n",
       "      <td>4.25</td>\n",
       "    </tr>\n",
       "    <tr>\n",
       "      <th>4</th>\n",
       "      <td>10</td>\n",
       "      <td>4.16</td>\n",
       "      <td>4.77</td>\n",
       "    </tr>\n",
       "  </tbody>\n",
       "</table>\n",
       "</div>"
      ],
      "text/plain": [
       "   Dias Corridos  Dólar Ano Útil  Dólar Ano Corrente\n",
       "0              1            4.15                0.00\n",
       "1              3            4.16                5.99\n",
       "2              4            4.16                6.00\n",
       "3              7            4.16                4.25\n",
       "4             10            4.16                4.77"
      ]
     },
     "execution_count": 35,
     "metadata": {},
     "output_type": "execute_result"
    }
   ],
   "source": [
    "df.columns = [\"Dias Corridos\", \"Dólar Ano Útil\", \"Dólar Ano Corrente\"]\n",
    "\n",
    "df.head()"
   ]
  },
  {
   "cell_type": "code",
   "execution_count": 9,
   "metadata": {
    "scrolled": true
   },
   "outputs": [
    {
     "data": {
      "image/png": "[encoded data removed]",
      "text/plain": [
       "<Figure size 432x288 with 1 Axes>"
      ]
     },
     "metadata": {
      "needs_background": "light"
     },
     "output_type": "display_data"
    }
   ],
   "source": [
    "plt.plot(df[\"Dias Corridos\"], df[\"Ano Corrente\"], label = \"Dólar Futuro\", color = \"green\", linewidth = 2) \n",
    "plt.xlabel(\"Dias Corridos\", fontsize = 12)\n",
    "plt.title(\"Dólar Futuro\")\n",
    "plt.show()"
   ]
  },
  {
   "cell_type": "markdown",
   "metadata": {},
   "source": [
    "### Baixando arquivos da web clicando em botão de \"Download\""
   ]
  },
  {
   "cell_type": "code",
   "execution_count": 10,
   "metadata": {},
   "outputs": [],
   "source": [
    "from selenium import webdriver\n",
    "import pandas as pd\n",
    "from time import sleep"
   ]
  },
  {
   "cell_type": "code",
   "execution_count": 9,
   "metadata": {},
   "outputs": [],
   "source": [
    "driver = webdriver.Chrome(\"./chromedriver.exe\")\n",
    "\n",
    "driver.get(\"https://sistemaswebb3-listados.b3.com.br/investorProfilePage/range?language=pt-br\")\n",
    "\n",
    "sleep(3)\n",
    "\n",
    "driver.find_element_by_link_text('Download').click() # Clicar em download\n",
    "\n",
    "sleep(3)\n",
    "\n",
    "driver.quit()"
   ]
  },
  {
   "cell_type": "code",
   "execution_count": 17,
   "metadata": {},
   "outputs": [
    {
     "data": {
      "text/html": [
       "<div>\n",
       "<style scoped>\n",
       "    .dataframe tbody tr th:only-of-type {\n",
       "        vertical-align: middle;\n",
       "    }\n",
       "\n",
       "    .dataframe tbody tr th {\n",
       "        vertical-align: top;\n",
       "    }\n",
       "\n",
       "    .dataframe thead th {\n",
       "        text-align: right;\n",
       "    }\n",
       "</style>\n",
       "<table border=\"1\" class=\"dataframe\">\n",
       "  <thead>\n",
       "    <tr style=\"text-align: right;\">\n",
       "      <th></th>\n",
       "      <th>Perfil PF por Faixa Etária</th>\n",
       "      <th>HOMENS</th>\n",
       "      <th>MULHERES</th>\n",
       "      <th>TOTAL</th>\n",
       "      <th>HOMENS.1</th>\n",
       "      <th>MULHERES.1</th>\n",
       "      <th>TOTAL.1</th>\n",
       "      <th>%</th>\n",
       "    </tr>\n",
       "  </thead>\n",
       "  <tbody>\n",
       "    <tr>\n",
       "      <th>0</th>\n",
       "      <td>Até 15 anos</td>\n",
       "      <td>10641</td>\n",
       "      <td>8478</td>\n",
       "      <td>19119</td>\n",
       "      <td>0.37</td>\n",
       "      <td>0.32</td>\n",
       "      <td>0.69</td>\n",
       "      <td>0.13</td>\n",
       "    </tr>\n",
       "    <tr>\n",
       "      <th>1</th>\n",
       "      <td>De 16 a 25 anos</td>\n",
       "      <td>333054</td>\n",
       "      <td>107305</td>\n",
       "      <td>440359</td>\n",
       "      <td>4.01</td>\n",
       "      <td>1.46</td>\n",
       "      <td>5.47</td>\n",
       "      <td>1.01</td>\n",
       "    </tr>\n",
       "    <tr>\n",
       "      <th>2</th>\n",
       "      <td>De 26 a 35 anos</td>\n",
       "      <td>881955</td>\n",
       "      <td>336061</td>\n",
       "      <td>1218016</td>\n",
       "      <td>34.71</td>\n",
       "      <td>9.67</td>\n",
       "      <td>44.38</td>\n",
       "      <td>8.24</td>\n",
       "    </tr>\n",
       "    <tr>\n",
       "      <th>3</th>\n",
       "      <td>De 36 a 45 anos</td>\n",
       "      <td>776812</td>\n",
       "      <td>274682</td>\n",
       "      <td>1051494</td>\n",
       "      <td>77.42</td>\n",
       "      <td>17.36</td>\n",
       "      <td>94.77</td>\n",
       "      <td>17.59</td>\n",
       "    </tr>\n",
       "    <tr>\n",
       "      <th>4</th>\n",
       "      <td>De 46 a 55 anos</td>\n",
       "      <td>347014</td>\n",
       "      <td>138706</td>\n",
       "      <td>485720</td>\n",
       "      <td>83.49</td>\n",
       "      <td>20.42</td>\n",
       "      <td>103.91</td>\n",
       "      <td>19.28</td>\n",
       "    </tr>\n",
       "    <tr>\n",
       "      <th>5</th>\n",
       "      <td>De 56 a 65 anos</td>\n",
       "      <td>225136</td>\n",
       "      <td>107931</td>\n",
       "      <td>333067</td>\n",
       "      <td>90.06</td>\n",
       "      <td>27.49</td>\n",
       "      <td>117.55</td>\n",
       "      <td>21.81</td>\n",
       "    </tr>\n",
       "    <tr>\n",
       "      <th>6</th>\n",
       "      <td>Maior de 66 anos</td>\n",
       "      <td>165947</td>\n",
       "      <td>77554</td>\n",
       "      <td>243501</td>\n",
       "      <td>134.41</td>\n",
       "      <td>37.69</td>\n",
       "      <td>172.09</td>\n",
       "      <td>31.94</td>\n",
       "    </tr>\n",
       "    <tr>\n",
       "      <th>7</th>\n",
       "      <td>TOTAL</td>\n",
       "      <td>2740559</td>\n",
       "      <td>1050717</td>\n",
       "      <td>3791276</td>\n",
       "      <td>424.47</td>\n",
       "      <td>114.41</td>\n",
       "      <td>538.86</td>\n",
       "      <td>NaN</td>\n",
       "    </tr>\n",
       "  </tbody>\n",
       "</table>\n",
       "</div>"
      ],
      "text/plain": [
       "  Perfil PF por Faixa Etária   HOMENS  MULHERES    TOTAL  HOMENS.1  \\\n",
       "0                Até 15 anos    10641      8478    19119      0.37   \n",
       "1            De 16 a 25 anos   333054    107305   440359      4.01   \n",
       "2            De 26 a 35 anos   881955    336061  1218016     34.71   \n",
       "3            De 36 a 45 anos   776812    274682  1051494     77.42   \n",
       "4            De 46 a 55 anos   347014    138706   485720     83.49   \n",
       "5            De 56 a 65 anos   225136    107931   333067     90.06   \n",
       "6           Maior de 66 anos   165947     77554   243501    134.41   \n",
       "7                      TOTAL  2740559   1050717  3791276    424.47   \n",
       "\n",
       "   MULHERES.1  TOTAL.1      %  \n",
       "0        0.32     0.69   0.13  \n",
       "1        1.46     5.47   1.01  \n",
       "2        9.67    44.38   8.24  \n",
       "3       17.36    94.77  17.59  \n",
       "4       20.42   103.91  19.28  \n",
       "5       27.49   117.55  21.81  \n",
       "6       37.69   172.09  31.94  \n",
       "7      114.41   538.86    NaN  "
      ]
     },
     "execution_count": 17,
     "metadata": {},
     "output_type": "execute_result"
    }
   ],
   "source": [
    "df = pd.read_csv(\"D:\\\\Downloads\\\\Perfil Investidores Faixa Etária_Jun2021.csv\", sep = \"|\", encoding = \"latin1\", skiprows = 2)\n",
    "\n",
    "df"
   ]
  }
 ],
 "metadata": {
  "kernelspec": {
   "display_name": "Python 3 (ipykernel)",
   "language": "python",
   "name": "python3"
  },
  "language_info": {
   "codemirror_mode": {
    "name": "ipython",
    "version": 3
   },
   "file_extension": ".py",
   "mimetype": "text/x-python",
   "name": "python",
   "nbconvert_exporter": "python",
   "pygments_lexer": "ipython3",
   "version": "3.8.5"
  }
 },
 "nbformat": 4,
 "nbformat_minor": 4
}
