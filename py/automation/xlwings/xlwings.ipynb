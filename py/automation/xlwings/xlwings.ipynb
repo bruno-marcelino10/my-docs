{
 "cells": [
  {
   "cell_type": "markdown",
   "metadata": {},
   "source": [
    "# xlwings"
   ]
  },
  {
   "cell_type": "markdown",
   "metadata": {},
   "source": [
    "É uma biblioteca open-source de automação de planilhas, que serve de alternativa às automações de planilhas e UDFs (user-defined functions) e funciona em arquivos do Excel e Google Sheets.\n",
    "\n",
    "Os recursos do `xlwings` permitem a interação em tempo real com planilhas Excel, a fim de realizar a automação de tarefas, construção de relatórios, entre outros."
   ]
  },
  {
   "cell_type": "code",
   "execution_count": 1,
   "metadata": {},
   "outputs": [],
   "source": [
    "import xlwings as xw\n",
    "import pandas as pd\n",
    "import numpy as np"
   ]
  },
  {
   "cell_type": "markdown",
   "metadata": {},
   "source": [
    "### Conexão com Arquivo Excel (workbook)\n",
    "\n",
    "É o primeiro passo para conseguir manipular um arquivo Excel. A palavra reservada `with` é comumente utilizada para fazer a criação de uma instância de conexão que deve ser fechada após o uso, com app.close() ou app.quit()\n",
    "\n",
    "Pode ser feita por três formas:"
   ]
  },
  {
   "cell_type": "markdown",
   "metadata": {},
   "source": [
    "##### xw.Book()"
   ]
  },
  {
   "cell_type": "code",
   "execution_count": 5,
   "metadata": {},
   "outputs": [],
   "source": [
    "wb = xw.Book()  # Cria um novo arquivo excel\n",
    "#wb = xw.Book('tmp.xlsx')  # Conecta a um arquivo que está aberto ou na mesma pasta\n",
    "#wb = xw.Book(r'C:\\path\\to\\file.xlsx')  # Conecta a um arquivo existente\n",
    "\n",
    "# A opção visible=False faz com que a conexão seja estabelecida sem abrir o arquivo no computador do usuário"
   ]
  },
  {
   "cell_type": "markdown",
   "metadata": {},
   "source": [
    "##### wb.save()\n",
    "\n",
    "Salva as alterações no arquivo atual. \n",
    "\n",
    "Caso especifique um caminho dentro da função, é similar ao comando \"Save As\" do Excel."
   ]
  },
  {
   "cell_type": "code",
   "execution_count": 6,
   "metadata": {},
   "outputs": [],
   "source": [
    "wb.save(\"tmp.xlsx\") "
   ]
  },
  {
   "cell_type": "markdown",
   "metadata": {},
   "source": [
    "##### wb.close()\n",
    "\n",
    "Fecha o arquivo Excel"
   ]
  },
  {
   "cell_type": "code",
   "execution_count": 7,
   "metadata": {},
   "outputs": [],
   "source": [
    "wb.close()"
   ]
  },
  {
   "cell_type": "markdown",
   "metadata": {},
   "source": [
    "### Interação com Dados da Planilha"
   ]
  },
  {
   "cell_type": "code",
   "execution_count": 8,
   "metadata": {},
   "outputs": [],
   "source": [
    "wb = xw.Book(\"tmp.xlsx\")"
   ]
  },
  {
   "cell_type": "markdown",
   "metadata": {},
   "source": [
    "##### wb.sheets()\n",
    "\n",
    "Seleciona uma planilha Excel como objeto, que pode ser manipulado para interagir com os dados da planilha\n",
    "\n",
    "Atributos importantes:\n",
    "\n",
    "* value -> seleciona os valores contidos em um conjunto de dados da planilha. \n",
    "\n",
    "Métodos importantes:\n",
    "\n",
    "* clear_contents() -> apaga os dados das células\n",
    "\n",
    "* range() -> seleciona células pelo nome\n",
    "\n",
    "* cells() -> seleciona células pelas coordenadas \n",
    "\n",
    "* options() -> trata os valores que entram e saem da planilha durante as operações\n",
    "\n",
    "    * convert -> transporta os dados em determinada estrutura (dict, list, np.array, pd.Series, pd.DataFrame etc.). No caso de DataFrames, os argumentos index e header podem ser passados para indicar se esses valores serão transportados para a planilha também. \n",
    "\n",
    "    * ndim -> puxa os dados com determinadas dimensões\n",
    " \n",
    "    * numbers -> converte os números para determinado tipo\n",
    "\n",
    "    * dates -> converte as datas para determinado formato\n",
    "\n",
    "    * empty -> converte os NA's para determinado formato (default=None)\n",
    "\n",
    "    * transpose -> transpõe os dados da planilha\n",
    "\n",
    "    * expand -> expande a seleção para os valores à direita e/ou abaixo da célula especificada. Opções: (\"table\", \"vertical\", \"horizontal\"). É melhor que o método expand() pois atualiza mais rápido conforme os dados são alterados diretamente na planilha.\n",
    "\n",
    "* wb.sheets[ws].api.Visible = False -> oculta a planilha"
   ]
  },
  {
   "cell_type": "code",
   "execution_count": 9,
   "metadata": {},
   "outputs": [],
   "source": [
    "# Salva a planilha como um objeto do Python\n",
    "plan = wb.sheets[\"Plan1\"]"
   ]
  },
  {
   "cell_type": "code",
   "execution_count": 24,
   "metadata": {},
   "outputs": [
    {
     "name": "stdout",
     "output_type": "stream",
     "text": [
      "[[1000.0, 10.0], [20.0, 30.0]]\n",
      "[20.0, 30.0]\n"
     ]
    }
   ],
   "source": [
    "# Atribuindo valores às células da planilha\n",
    "plan.range(\"A1\").value = 1000\n",
    "plan.range(\"A3\").value = [[1000, 10], [20, 30]] # expande para as outras células\n",
    "plan.cells(6,1).value = 300 # Manipula a planilha por meio de coordenadas (linha, coluna)\n",
    "\n",
    "print(plan.range(\"A3\").value) # mostra o valor da célula e seus vizinhos (direita e abaixo)\n",
    "print(plan.range(\"A3\").expand().value) # mostra o valor da célula e seus vizinhos (direita e abaixo)\n",
    "print(plan.range(\"A4\").expand().value)"
   ]
  },
  {
   "cell_type": "code",
   "execution_count": null,
   "metadata": {},
   "outputs": [],
   "source": [
    "# Opções de tratamento dos dados da planilha\n"
   ]
  },
  {
   "cell_type": "code",
   "execution_count": null,
   "metadata": {},
   "outputs": [],
   "source": [
    "# Formatando os dados da planilha\n"
   ]
  },
  {
   "cell_type": "code",
   "execution_count": 22,
   "metadata": {},
   "outputs": [],
   "source": [
    "# Apagando valores da planilha\n",
    "plan.cells.clear_contents()"
   ]
  },
  {
   "cell_type": "markdown",
   "metadata": {},
   "source": [
    "### Interação Direta com Jupyter Notebooks\n",
    "\n",
    "Pode ser realizada com os métodos: \n",
    "* xw.view() -> mostra um pandas.DataFrame no Excel\n",
    "* xw.load() -> carrega dados do Excel em um pandas.DataFrame"
   ]
  },
  {
   "cell_type": "markdown",
   "metadata": {},
   "source": [
    "### Tratamento de Erros\n",
    "\n",
    "Permite visualizar os resultados dos erros vindos do `xlwings`"
   ]
  },
  {
   "cell_type": "code",
   "execution_count": 6,
   "metadata": {},
   "outputs": [
    {
     "data": {
      "text/plain": [
       "'Índice inválido.\\r\\n'"
      ]
     },
     "execution_count": 6,
     "metadata": {},
     "output_type": "execute_result"
    }
   ],
   "source": [
    "import win32api\n",
    "win32api.FormatMessage(-2147352565)"
   ]
  },
  {
   "cell_type": "markdown",
   "metadata": {},
   "source": []
  }
 ],
 "metadata": {
  "kernelspec": {
   "display_name": "Python 3",
   "language": "python",
   "name": "python3"
  },
  "language_info": {
   "codemirror_mode": {
    "name": "ipython",
    "version": 3
   },
   "file_extension": ".py",
   "mimetype": "text/x-python",
   "name": "python",
   "nbconvert_exporter": "python",
   "pygments_lexer": "ipython3",
   "version": "3.8.5"
  },
  "orig_nbformat": 4
 },
 "nbformat": 4,
 "nbformat_minor": 2
}
