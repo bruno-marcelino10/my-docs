{
 "cells": [
  {
   "cell_type": "markdown",
   "metadata": {},
   "source": [
    "# Manipulação de arquivos"
   ]
  },
  {
   "cell_type": "markdown",
   "metadata": {},
   "source": [
    "**Path:** caminho até um arquivo. Todo o caminho é composto por pastas, que são feitas para organizar os arquivos.\n",
    "\n",
    "Ex: `C:\\Users\\Bruno Marcelino`"
   ]
  },
  {
   "cell_type": "code",
   "execution_count": 71,
   "metadata": {},
   "outputs": [],
   "source": [
    "import os"
   ]
  },
  {
   "cell_type": "markdown",
   "metadata": {},
   "source": [
    "## Importar diretório de trabalho:\n",
    "\n",
    "Usualmente é o diretório em que o código está inserido. Podemos alterá-lo também\n",
    "\n",
    "> **Caminho Relativo**: importante pois podemos referenciar o local dos arquivos a partir do diretório de trabalho corrente.\n",
    "\n",
    "> **Caminho Absoluto**: é todo o caminho desde a \"root folder\" até o seu arquivo. "
   ]
  },
  {
   "cell_type": "code",
   "execution_count": 72,
   "metadata": {
    "scrolled": true
   },
   "outputs": [
    {
     "data": {
      "text/plain": [
       "'C:\\\\Users\\\\Bruno Marcelino\\\\Dropbox\\\\Programação\\\\Python\\\\estudos\\\\os'"
      ]
     },
     "execution_count": 72,
     "metadata": {},
     "output_type": "execute_result"
    }
   ],
   "source": [
    "os.getcwd() # current working directory ou diretório de trabalho corrente\n",
    "\n",
    "# Nota: usa-se duas barras invertidas pois o Python reconhece a \\ como um operador de strings. Para que o código ignore-a,\n",
    "# usamos outra barra. "
   ]
  },
  {
   "cell_type": "code",
   "execution_count": 73,
   "metadata": {},
   "outputs": [
    {
     "data": {
      "text/plain": [
       "'usr\\\\bin\\\\spam'"
      ]
     },
     "execution_count": 73,
     "metadata": {},
     "output_type": "execute_result"
    }
   ],
   "source": [
    "os.path.join('usr', 'bin', 'spam') \n",
    "\n",
    "# cria um path conforme o sistema operacional utilizado (no Linux, as barras não são invertidas)"
   ]
  },
  {
   "cell_type": "code",
   "execution_count": 74,
   "metadata": {},
   "outputs": [],
   "source": [
    "os.makedirs(\"teste2\") # cria uma pasta no cwd"
   ]
  },
  {
   "cell_type": "code",
   "execution_count": 75,
   "metadata": {},
   "outputs": [
    {
     "name": "stdout",
     "output_type": "stream",
     "text": [
      "C:\\Users\\Bruno Marcelino\\Dropbox\\Programação\\Python\\estudos\\os\\teste\n",
      "C:\\Users\\Bruno Marcelino\\Dropbox\\Programação\\Python\\estudos\\os\n",
      "C:\\Users\\Bruno Marcelino\\Dropbox\\Programação\\Python\\estudos\\os\n"
     ]
    }
   ],
   "source": [
    "os.chdir(\".\\\\teste\") # altera o cwd\n",
    "print(os.getcwd())\n",
    "\n",
    "os.chdir(\"..\\\\\") # dois pontos referenciam à pasta anterior\n",
    "print(os.getcwd())\n",
    "\n",
    "os.chdir(\".\\\\\") #  um ponto referencia à pasta atual\n",
    "print(os.getcwd())"
   ]
  },
  {
   "cell_type": "code",
   "execution_count": 76,
   "metadata": {},
   "outputs": [
    {
     "data": {
      "text/plain": [
       "'C:\\\\Users\\\\Bruno Marcelino\\\\Dropbox\\\\Programação\\\\Python\\\\estudos\\\\os'"
      ]
     },
     "execution_count": 76,
     "metadata": {},
     "output_type": "execute_result"
    }
   ],
   "source": [
    "os.path.abspath(\".\") # converte path relativo em absoluto"
   ]
  },
  {
   "cell_type": "code",
   "execution_count": 77,
   "metadata": {},
   "outputs": [
    {
     "data": {
      "text/plain": [
       "'Bruno Marcelino\\\\Dropbox'"
      ]
     },
     "execution_count": 77,
     "metadata": {},
     "output_type": "execute_result"
    }
   ],
   "source": [
    "os.path.relpath(\"C:\\\\Users\\\\Bruno Marcelino\\\\Dropbox\", \"C:\\\\Users\") # retorna o caminho relativo do segundo argumento até o primeiro"
   ]
  },
  {
   "cell_type": "code",
   "execution_count": 78,
   "metadata": {},
   "outputs": [
    {
     "data": {
      "text/plain": [
       "'C:\\\\Users\\\\Bruno Marcelino'"
      ]
     },
     "execution_count": 78,
     "metadata": {},
     "output_type": "execute_result"
    }
   ],
   "source": [
    "os.path.dirname(\"C:\\\\Users\\\\Bruno Marcelino\\\\Dropbox\") # retorna o camiho até o arquivo ou pasta ao qual o path referencia"
   ]
  },
  {
   "cell_type": "code",
   "execution_count": 79,
   "metadata": {},
   "outputs": [
    {
     "data": {
      "text/plain": [
       "'Dropbox'"
      ]
     },
     "execution_count": 79,
     "metadata": {},
     "output_type": "execute_result"
    }
   ],
   "source": [
    "os.path.basename(\"C:\\\\Users\\\\Bruno Marcelino\\\\Dropbox\") # retorna o nome do arquivo ou pasta ao qual o path referencia"
   ]
  },
  {
   "cell_type": "code",
   "execution_count": 80,
   "metadata": {},
   "outputs": [
    {
     "data": {
      "text/plain": [
       "('C:\\\\Users\\\\Bruno Marcelino', 'Dropbox')"
      ]
     },
     "execution_count": 80,
     "metadata": {},
     "output_type": "execute_result"
    }
   ],
   "source": [
    "os.path.split(\"C:\\\\Users\\\\Bruno Marcelino\\\\Dropbox\") # cria uma tupla que separa o dirname e o basename, um após o outro"
   ]
  },
  {
   "cell_type": "code",
   "execution_count": 81,
   "metadata": {},
   "outputs": [
    {
     "data": {
      "text/plain": [
       "['.dropbox',\n",
       " '.dropbox.cache',\n",
       " 'Aplicativos',\n",
       " 'Aulas do quantitativo',\n",
       " 'desktop.ini',\n",
       " 'Pessoais',\n",
       " 'Primeiros Passos com Dropbox.pdf',\n",
       " 'Programação',\n",
       " 'UFMG']"
      ]
     },
     "execution_count": 81,
     "metadata": {},
     "output_type": "execute_result"
    }
   ],
   "source": [
    "os.listdir(\"C:\\\\Users\\\\Bruno Marcelino\\\\Dropbox\") # retorna uma lista com o conteúdo da pasta (pastas e arquivos)"
   ]
  },
  {
   "cell_type": "code",
   "execution_count": 82,
   "metadata": {},
   "outputs": [
    {
     "name": "stdout",
     "output_type": "stream",
     "text": [
      "False\n",
      "True\n"
     ]
    }
   ],
   "source": [
    "print(os.path.exists('C:\\\\nao_existe')) \n",
    "print(os.path.exists('C:\\\\Users\\\\Bruno Marcelino\\\\Dropbox'))\n",
    "\n",
    "# retornam se o path existe ou não no computador"
   ]
  },
  {
   "cell_type": "markdown",
   "metadata": {},
   "source": [
    "# Escrever e ler arquivos em \"plaintext\" (sem formatação)\n",
    "\n",
    "São arquivos que contém somente caracteres básicos, como scripts ou blocos de notas"
   ]
  },
  {
   "cell_type": "code",
   "execution_count": 83,
   "metadata": {},
   "outputs": [
    {
     "data": {
      "text/plain": [
       "'C:\\\\Users\\\\Bruno Marcelino\\\\Dropbox\\\\Programação\\\\Python\\\\estudos\\\\os'"
      ]
     },
     "execution_count": 83,
     "metadata": {},
     "output_type": "execute_result"
    }
   ],
   "source": [
    "os.getcwd()"
   ]
  },
  {
   "cell_type": "markdown",
   "metadata": {},
   "source": [
    "### Função open(path, \"argumentos\")\n",
    "\n",
    "Permite a leitura e escrita de arquivos, e retorna um objeto da classe `File`. \n",
    "\n",
    "Se o arquivo não existir, ele será criado em branco.\n",
    "\n",
    "Apresenta três argumentos básicos:\n",
    "\n",
    "* \"r\" = read (padrão): arquivo é aberto no modo de leitura, não pode ser escrito. Pode ser lido com read()\n",
    "\n",
    "\n",
    "* \"a\" = append: abre o arquivo em modo de escrita de novos valores. Pode ser escrito com write()\n",
    "\n",
    "\n",
    "* \"w\" = write: abre o arquivo em modo de sobrescrição dos valores. Pode ser escrito com write()\n",
    "\n",
    "**Obs:** read() e write() também são métodos pertencentes à classe `File`. "
   ]
  },
  {
   "cell_type": "code",
   "execution_count": 84,
   "metadata": {},
   "outputs": [
    {
     "name": "stdout",
     "output_type": "stream",
     "text": [
      "\"Arquivo de teste 0321\"\n",
      "\n",
      "\"linha 2\"\n"
     ]
    },
    {
     "data": {
      "text/plain": [
       "'\"Arquivo de teste 0321\"\\n\\n\"linha 2\"'"
      ]
     },
     "execution_count": 84,
     "metadata": {},
     "output_type": "execute_result"
    }
   ],
   "source": [
    "arquivo = open('teste\\\\teste.txt').read() # lê o conteúdo do arquivo e separa as linhas com \\n (quebra de linha)\n",
    "\n",
    "print(arquivo) # a função print() lê a quebra de linha\n",
    "\n",
    "arquivo # o arquivo lido ainda é uma string normal porém com quebras de linha entre as linhas"
   ]
  },
  {
   "cell_type": "code",
   "execution_count": 85,
   "metadata": {},
   "outputs": [
    {
     "name": "stdout",
     "output_type": "stream",
     "text": [
      "['\"Arquivo de teste 0321\"\\n', '\\n', '\"linha 2\"']\n"
     ]
    }
   ],
   "source": [
    "arquivo = open('teste\\\\teste.txt').readlines() # Separa os conteúdos contidos em cada linha, numa lista\n",
    "\n",
    "print(arquivo)"
   ]
  },
  {
   "cell_type": "code",
   "execution_count": 86,
   "metadata": {},
   "outputs": [
    {
     "data": {
      "text/plain": [
       "'\\n Outra linha!'"
      ]
     },
     "execution_count": 86,
     "metadata": {},
     "output_type": "execute_result"
    }
   ],
   "source": [
    "arquivo = open('teste\\\\teste.txt', \"w\") # abre em modo write. As alterações feitas sobrescrevem o conteúdo do arquivo\n",
    "\n",
    "arquivo.write(\"\\n Outra linha!\")\n",
    "\n",
    "arquivo.close() # fecha o arquivo, permite entrar em outro modo\n",
    "\n",
    "open('teste\\\\teste.txt').read()"
   ]
  },
  {
   "cell_type": "code",
   "execution_count": 87,
   "metadata": {},
   "outputs": [
    {
     "data": {
      "text/plain": [
       "'\\n Outra linha!\\n Outra linha!'"
      ]
     },
     "execution_count": 87,
     "metadata": {},
     "output_type": "execute_result"
    }
   ],
   "source": [
    "arquivo = open('teste\\\\teste.txt', \"a\") # abre em modo append. As alterações feitas adicionam conteúdo ao arquivo original\n",
    "\n",
    "arquivo.write(\"\\n Outra linha!\")\n",
    "\n",
    "arquivo.close() # fecha o arquivo, permite entrar em outro modo\n",
    "\n",
    "open('teste\\\\teste.txt').read()"
   ]
  }
 ],
 "metadata": {
  "kernelspec": {
   "display_name": "Python 3 (ipykernel)",
   "language": "python",
   "name": "python3"
  },
  "language_info": {
   "codemirror_mode": {
    "name": "ipython",
    "version": 3
   },
   "file_extension": ".py",
   "mimetype": "text/x-python",
   "name": "python",
   "nbconvert_exporter": "python",
   "pygments_lexer": "ipython3",
   "version": "3.8.5"
  }
 },
 "nbformat": 4,
 "nbformat_minor": 4
}
