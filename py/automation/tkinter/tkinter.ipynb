{
 "cells": [
  {
   "cell_type": "markdown",
   "metadata": {},
   "source": [
    "# tkinter"
   ]
  },
  {
   "cell_type": "markdown",
   "metadata": {},
   "source": [
    "TK é um pacote implementado em C que adiciona comandos personalizados para criar e manipular widgets. Os widgets do Tk são altamente personalizáveis, em troca de uma aparência desatualizada.\n",
    "\n",
    "O `tkinter` é uma biblioteca que permite criar uma janela a partir de uma interface TK simples, habilitando a comunicação com o usuário de forma mais interativa.\n",
    "\n",
    "Guia: https://realpython.com/python-gui-tkinter/"
   ]
  },
  {
   "cell_type": "markdown",
   "metadata": {},
   "source": [
    "### Tk( )\n",
    "\n",
    "Instancia um objeto da classe Tk(), um Tk widget de alto nível, sendo essa a janela principal de uma aplicação, e inicializa um interpretador Tcl para esse widget.\n",
    "\n",
    "* title() -> define o nome da janela\n",
    "\n",
    "* destroy() -> método que fecha a janela Tk.\n",
    "\n",
    "* mainloop() -> o Tkinter reage à entrada do usuário, muda de seu programa, e até mesmo atualiza a tela ao executar o mainloop. Caso contrário, a interface de usuário não será atualizada.\n",
    "\n",
    "* columnconfigure(coluna, weight, minsize) -> configura o menor valor que um elemento pode ter, e a proporção pelo qual ele é responsivo em relação ao tamanho da janela\n",
    "\n",
    "* rowconfigure(linnha, weight, minsize) -> semelhante ao colunmconfigure()\n"
   ]
  },
  {
   "cell_type": "markdown",
   "metadata": {},
   "source": [
    "### widgets\n",
    "\n",
    "A interface de usuário do Tkinter é composta de widgets individuais.\n",
    "\n",
    "- tk.Label() -> mostra texto ou imagens\n",
    "\n",
    "> Ex: tk.Label(janela, text=\"Hello, Tkinter\", foreground=\"white\", background=\"black\", width=10, height=10)\n",
    "\n",
    "- tk.Button() -> botão que contém texto e performa uma ação definida no atributo `command`\n",
    "\n",
    ">  Ex: tk.Button(janela, text=\"Hello, Tkinter\", command=funcao)\n",
    "\n",
    "- tk.Entry() -> permite escrever texto de uma linha. Apresenta métodos get(), delete() e insert().\n",
    "\n",
    "> Ex: entrada = tk.Entry()\n",
    "\n",
    "> entrada.delete(0, tk.END) # Apaga o texto completo, do caractere de índice 0 até o último caractere\n",
    "\n",
    "- tk.Text() -> permite escrever texto de várias linhas\n",
    "\n",
    "> Ex: texto = tk.Text()\n",
    "\n",
    "> texto.get(\"1.0\", \"1.5\") # Retorna do caractere da linha 1 [1:n] e posição 0 [0:n-1] até o caractere da mesma linha e posição 5\n",
    "\n",
    "**Obs.:** Se não especificarmos um método .grid(), precisamos usar pack() para ver o widget na tela\n",
    "\n",
    "- tk.Frame() -> região retangular que engloba outros widgets"
   ]
  },
  {
   "cell_type": "code",
   "execution_count": 2,
   "metadata": {},
   "outputs": [],
   "source": [
    "from tkinter import *\n",
    "from tkinter import ttk\n",
    "root = Tk()\n",
    "frm = ttk.Frame(root, padding=10)\n",
    "frm.grid()\n",
    "ttk.Label(frm, text=\"Hello World!\").grid(column=0, row=0)\n",
    "ttk.Button(frm, text=\"Quit\", command=root.destroy).grid(column=1, row=0) # no comando podemos incluir uma função \n",
    "root.mainloop()"
   ]
  },
  {
   "cell_type": "markdown",
   "metadata": {},
   "source": [
    "### geometria\n",
    "\n",
    "Os widgets não são automaticamente adicionados à interface de usuário quando eles são criados. Um gerenciador de geometria controla sua localização. \n",
    "\n",
    "* pack() -> ocupa o espaço necessário para a figura de forma responsiva, centralizando-a. Métodos podem ser utilizados para alargar até o final da janela. \n",
    "\n",
    "> Ex: frame.pack(fill=tk.Y, side=tk.LEFT, expand = True)\n",
    "\n",
    "> `fill` = tk.X, tk.Y ou tk.BOTH -> tornam a janela responsiva\n",
    "\n",
    "> `side` = tk.TOP, tk.BOTTOM, tk.LEFT, tk.RIGHT\n",
    "\n",
    "* place() -> escolhe a localização exata onde o objeto estará, não é responsivo\n",
    "\n",
    "> Ex: frame.place(x=0, y=0)\n",
    "\n",
    "* grid() -> divide a janela em linhas e colunas, e posiciona os objetos de forma relativa.\n",
    "\n",
    "> Ex: frame.grid(row=0, column=0, padx=5, pady=5)\n",
    "\n",
    "> padx ou pady = espaço em branco em volta dos objetos"
   ]
  },
  {
   "cell_type": "code",
   "execution_count": 16,
   "metadata": {},
   "outputs": [],
   "source": [
    "import tkinter as tk\n",
    "\n",
    "window = tk.Tk()\n",
    "\n",
    "frame1 = tk.Frame(master=window, width=200, height=100, bg=\"red\")\n",
    "frame1.pack(fill=tk.BOTH, side=tk.LEFT, expand=True)\n",
    "\n",
    "frame2 = tk.Frame(master=window, width=100, bg=\"yellow\")\n",
    "frame2.pack(fill=tk.BOTH, side=tk.LEFT, expand=True)\n",
    "\n",
    "frame3 = tk.Frame(master=window, width=50, bg=\"blue\")\n",
    "frame3.pack(fill=tk.BOTH, side=tk.LEFT, expand=True)\n",
    "\n",
    "window.mainloop()"
   ]
  },
  {
   "cell_type": "markdown",
   "metadata": {},
   "source": [
    "# Exemplo aumentando e reduzindo um valor"
   ]
  },
  {
   "cell_type": "code",
   "execution_count": 20,
   "metadata": {},
   "outputs": [],
   "source": [
    "import tkinter as tk\n",
    "\n",
    "def increase():\n",
    "    value = int(lbl_value[\"text\"])\n",
    "    lbl_value[\"text\"] = f\"{value + 1}\"\n",
    "\n",
    "def decrease():\n",
    "    value = int(lbl_value[\"text\"])\n",
    "    lbl_value[\"text\"] = f\"{value - 1}\"\n",
    "    \n",
    "window = tk.Tk()\n",
    "window.rowconfigure(0, minsize=50, weight=1)\n",
    "window.columnconfigure([0, 1, 2], minsize=50, weight=1)\n",
    "\n",
    "btn_decrease = tk.Button(master=window, text=\"-\", command=decrease)\n",
    "btn_decrease.grid(row=0, column=0, sticky=\"nsew\")\n",
    "\n",
    "lbl_value = tk.Label(master=window, text=\"0\")\n",
    "lbl_value.grid(row=0, column=1)\n",
    "\n",
    "btn_increase = tk.Button(master=window, text=\"+\", command=increase)\n",
    "btn_increase.grid(row=0, column=2, sticky=\"nsew\")\n",
    "\n",
    "window.mainloop()"
   ]
  },
  {
   "cell_type": "markdown",
   "metadata": {},
   "source": [
    "# Exemplo com requisições em uma API"
   ]
  },
  {
   "cell_type": "code",
   "execution_count": 17,
   "metadata": {},
   "outputs": [],
   "source": [
    "import requests\n",
    "from tkinter import *\n",
    "\n",
    "def pegar_cotacoes():\n",
    "    requisicao = requests.get(\"https://economia.awesomeapi.com.br/last/USD-BRL,EUR-BRL,BTC-BRL\")\n",
    "\n",
    "    requisicao_dic = requisicao.json()\n",
    "\n",
    "    cotacao_dolar = requisicao_dic['USDBRL']['bid']\n",
    "    cotacao_euro = requisicao_dic['EURBRL']['bid']\n",
    "    cotacao_btc = requisicao_dic['BTCBRL']['bid']\n",
    "\n",
    "    texto_resposta['text'] = f'''\n",
    "    Dólar: {cotacao_dolar}\n",
    "    Euro: {cotacao_euro}\n",
    "    BTC: {cotacao_btc}'''\n",
    "\n",
    "janela = Tk()\n",
    "janela.title(\"Cotação Atual de Moedas\")\n",
    "texto = Label(janela, text=\"Clique no botão para ver as cotações de moedas\")\n",
    "texto.grid(column=0, row=0, padx=10, pady=10)\n",
    "\n",
    "botao = Button(janela, text=\"Buscar cotações\", command=pegar_cotacoes)\n",
    "botao.grid(column=0, row=1, padx=10, pady=10)\n",
    "\n",
    "texto_resposta = Label(janela, text=\"\")\n",
    "texto_resposta.grid(column=0, row=2, padx=10, pady=10)\n",
    "\n",
    "janela.mainloop()"
   ]
  },
  {
   "cell_type": "markdown",
   "metadata": {},
   "source": [
    "# Exemplo conversor de temperatura"
   ]
  },
  {
   "cell_type": "code",
   "execution_count": 22,
   "metadata": {},
   "outputs": [],
   "source": [
    "import tkinter as tk\n",
    "\n",
    "def fahrenheit_to_celsius():\n",
    "    \"\"\"Convert the value for Fahrenheit to Celsius and insert the\n",
    "    result into lbl_result.\n",
    "    \"\"\"\n",
    "    fahrenheit = ent_temperature.get()\n",
    "    celsius = (5 / 9) * (float(fahrenheit) - 32)\n",
    "    lbl_result[\"text\"] = f\"{round(celsius, 2)} \\N{DEGREE CELSIUS}\"\n",
    "\n",
    "window = tk.Tk()\n",
    "window.title(\"Temperature Converter\")\n",
    "window.resizable(width=False, height=False)\n",
    "\n",
    "frm_entry = tk.Frame(master=window)\n",
    "ent_temperature = tk.Entry(master=frm_entry, width=10)\n",
    "lbl_temp = tk.Label(master=frm_entry, text=\"\\N{DEGREE FAHRENHEIT}\")\n",
    "\n",
    "ent_temperature.grid(row=0, column=0, sticky=\"e\")\n",
    "lbl_temp.grid(row=0, column=1, sticky=\"w\")\n",
    "\n",
    "btn_convert = tk.Button(master=window, text=\"\\N{RIGHTWARDS BLACK ARROW}\", command=fahrenheit_to_celsius)\n",
    "lbl_result = tk.Label(master=window, text=\"\\N{DEGREE CELSIUS}\")\n",
    "\n",
    "frm_entry.grid(row=0, column=0, padx=10)\n",
    "btn_convert.grid(row=0, column=1, pady=10)\n",
    "lbl_result.grid(row=0, column=2, padx=10)\n",
    "\n",
    "window.mainloop()"
   ]
  }
 ],
 "metadata": {
  "kernelspec": {
   "display_name": "Python 3 (ipykernel)",
   "language": "python",
   "name": "python3"
  },
  "language_info": {
   "codemirror_mode": {
    "name": "ipython",
    "version": 3
   },
   "file_extension": ".py",
   "mimetype": "text/x-python",
   "name": "python",
   "nbconvert_exporter": "python",
   "pygments_lexer": "ipython3",
   "version": "3.8.5"
  }
 },
 "nbformat": 4,
 "nbformat_minor": 4
}
