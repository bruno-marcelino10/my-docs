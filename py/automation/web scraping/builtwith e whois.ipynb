{
 "cells": [
  {
   "cell_type": "markdown",
   "metadata": {},
   "source": [
    "# Builtwith:"
   ]
  },
  {
   "cell_type": "markdown",
   "metadata": {},
   "source": [
    "O objetivo dessa biblioteca é analisar a URL informada e retornar as tecnologias utilizadas pelo site. \n",
    "\n",
    "Web-Scraping é mais fácil em ferramentas que não utilizam as seguintes ferramentas:\n",
    "* Frameworks diferenciadas do JavaScript\n",
    "* Sessões\n",
    "* Formulários"
   ]
  },
  {
   "cell_type": "code",
   "execution_count": 3,
   "metadata": {},
   "outputs": [
    {
     "data": {
      "text/plain": [
       "{'web-servers': ['Nginx'],\n",
       " 'advertising-networks': ['AppNexus'],\n",
       " 'font-scripts': ['Google Font API'],\n",
       " 'miscellaneous': ['Gravatar'],\n",
       " 'cms': ['WordPress'],\n",
       " 'programming-languages': ['PHP'],\n",
       " 'blogs': ['PHP', 'WordPress'],\n",
       " 'video-players': ['YouTube'],\n",
       " 'javascript-frameworks': ['jQuery']}"
      ]
     },
     "execution_count": 3,
     "metadata": {},
     "output_type": "execute_result"
    }
   ],
   "source": [
    "import builtwith \n",
    "\n",
    "url = \"https://evaldowolkers.wordpress.com/\"\n",
    "builtwith.parse(url)"
   ]
  },
  {
   "cell_type": "markdown",
   "metadata": {},
   "source": [
    "# Python-Whois"
   ]
  },
  {
   "cell_type": "markdown",
   "metadata": {},
   "source": [
    "Essa biblioteca retorna os proprietários de um site específico. \n",
    "\n",
    "É importante saber se a empresa proprietária do site é conhecida por bloquear web crawlers"
   ]
  },
  {
   "cell_type": "code",
   "execution_count": 5,
   "metadata": {},
   "outputs": [
    {
     "data": {
      "text/plain": [
       "{'domain_name': ['WORDPRESS.COM', 'wordpress.com'],\n",
       " 'registrar': 'MarkMonitor, Inc.',\n",
       " 'whois_server': 'whois.markmonitor.com',\n",
       " 'referral_url': None,\n",
       " 'updated_date': datetime.datetime(2020, 2, 1, 10, 18, 28),\n",
       " 'creation_date': datetime.datetime(2000, 3, 3, 12, 13, 23),\n",
       " 'expiration_date': [datetime.datetime(2022, 3, 3, 12, 13, 23),\n",
       "  datetime.datetime(2022, 3, 3, 8, 0)],\n",
       " 'name_servers': ['NS1.WORDPRESS.COM',\n",
       "  'NS2.WORDPRESS.COM',\n",
       "  'NS3.WORDPRESS.COM',\n",
       "  'NS4.WORDPRESS.COM',\n",
       "  'ns4.wordpress.com',\n",
       "  'ns3.wordpress.com',\n",
       "  'ns2.wordpress.com',\n",
       "  'ns1.wordpress.com'],\n",
       " 'status': ['clientDeleteProhibited https://icann.org/epp#clientDeleteProhibited',\n",
       "  'clientTransferProhibited https://icann.org/epp#clientTransferProhibited',\n",
       "  'clientUpdateProhibited https://icann.org/epp#clientUpdateProhibited',\n",
       "  'serverDeleteProhibited https://icann.org/epp#serverDeleteProhibited',\n",
       "  'serverTransferProhibited https://icann.org/epp#serverTransferProhibited',\n",
       "  'serverUpdateProhibited https://icann.org/epp#serverUpdateProhibited',\n",
       "  'clientUpdateProhibited (https://www.icann.org/epp#clientUpdateProhibited)',\n",
       "  'clientTransferProhibited (https://www.icann.org/epp#clientTransferProhibited)',\n",
       "  'clientDeleteProhibited (https://www.icann.org/epp#clientDeleteProhibited)',\n",
       "  'serverUpdateProhibited (https://www.icann.org/epp#serverUpdateProhibited)',\n",
       "  'serverTransferProhibited (https://www.icann.org/epp#serverTransferProhibited)',\n",
       "  'serverDeleteProhibited (https://www.icann.org/epp#serverDeleteProhibited)'],\n",
       " 'emails': ['abusecomplaints@markmonitor.com', 'whoisrequest@markmonitor.com'],\n",
       " 'dnssec': 'unsigned',\n",
       " 'name': None,\n",
       " 'org': 'Automattic, Inc.',\n",
       " 'address': None,\n",
       " 'city': None,\n",
       " 'state': 'CA',\n",
       " 'zipcode': None,\n",
       " 'country': 'US'}"
      ]
     },
     "execution_count": 5,
     "metadata": {},
     "output_type": "execute_result"
    }
   ],
   "source": [
    "import whois \n",
    "\n",
    "url = \"https://evaldowolkers.wordpress.com/\"\n",
    "whois.whois(url)"
   ]
  }
 ],
 "metadata": {
  "kernelspec": {
   "display_name": "Python 3 (ipykernel)",
   "language": "python",
   "name": "python3"
  },
  "language_info": {
   "codemirror_mode": {
    "name": "ipython",
    "version": 3
   },
   "file_extension": ".py",
   "mimetype": "text/x-python",
   "name": "python",
   "nbconvert_exporter": "python",
   "pygments_lexer": "ipython3",
   "version": "3.8.5"
  }
 },
 "nbformat": 4,
 "nbformat_minor": 4
}
