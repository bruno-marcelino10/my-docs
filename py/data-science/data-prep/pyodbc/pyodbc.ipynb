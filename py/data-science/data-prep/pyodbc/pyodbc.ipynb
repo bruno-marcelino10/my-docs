{
 "cells": [
  {
   "cell_type": "markdown",
   "metadata": {},
   "source": [
    "# pyodbc"
   ]
  },
  {
   "cell_type": "markdown",
   "metadata": {},
   "source": [
    "Um driver ODBC (Open Database Connectivity) utiliza uma interface de conectividade aberta com bases de dados que permite que aplicações acessem o SGBD (Sistema Gerenciador de Banco de Dados) utilizando de SQL. ODBC permite que uma mesma aplicação possa acessar diferentes SGBDs, e diferentes aplicações podem acessar drivers de bases de dados ODBC para conectar a um banco de dados. "
   ]
  },
  {
   "cell_type": "markdown",
   "metadata": {},
   "source": [
    "### Conectando ao banco de dados"
   ]
  },
  {
   "cell_type": "markdown",
   "metadata": {},
   "source": [
    "Local do servidor, nome do banco de dados, ID de logon, senha e diversas opções de driver ODBC que descrevem como se conectar à fonte de dados são exemplos de informações de conexão, e podem ser obtidas com o administrador do banco de dados ao qual você deseja se conectar.\n",
    "\n",
    "Exemplo:\n",
    "```\n",
    "import pyodbc\n",
    "\n",
    "# Inserindo especificações diretamente\n",
    "cnxn = pyodbc.connect('DRIVER={ODBC Driver 17 for SQL Server};SERVER=localhost;DATABASE=testdb;UID=me;PWD=pass')\n",
    "\n",
    "# Using a DSN, but providing a password as well\n",
    "cnxn = pyodbc.connect('DSN=test;PWD=password')\n",
    "\n",
    "# Create a cursor from the connection\n",
    "cursor = cnxn.cursor()\n",
    "```"
   ]
  },
  {
   "cell_type": "markdown",
   "metadata": {},
   "source": [
    "### Realizando consultas"
   ]
  },
  {
   "cell_type": "markdown",
   "metadata": {},
   "source": [
    "Podemos inserir parâmetros com interrogações ao longo da query realizada, como argumentos após a query."
   ]
  },
  {
   "cell_type": "markdown",
   "metadata": {},
   "source": [
    "#### SELECT"
   ]
  },
  {
   "cell_type": "code",
   "execution_count": null,
   "metadata": {},
   "outputs": [],
   "source": [
    "import pyodbc\n",
    "cursor.execute(\"\"\"\n",
    "    select user_id, user_name\n",
    "      from users\n",
    "     where last_logon < ?\n",
    "       and bill_overdue = ?\n",
    "\"\"\", [datetime.date(2001, 1, 1), 'y'])"
   ]
  },
  {
   "cell_type": "markdown",
   "metadata": {},
   "source": [
    "#### INSERT INTO"
   ]
  },
  {
   "cell_type": "code",
   "execution_count": null,
   "metadata": {},
   "outputs": [],
   "source": [
    "import pyodbc\n",
    "cursor.execute(\"insert into products(id, name) values (?, ?)\", 'pyodbc', 'awesome library')\n",
    "cnxn.commit()"
   ]
  },
  {
   "cell_type": "markdown",
   "metadata": {},
   "source": [
    "#### DELETE"
   ]
  },
  {
   "cell_type": "code",
   "execution_count": null,
   "metadata": {},
   "outputs": [],
   "source": [
    "cursor.execute(\"delete from products where id <> ?\", 'pyodbc')\n",
    "print(cursor.rowcount, 'products deleted') # Retorna as linhas deletadas\n",
    "cnxn.commit()"
   ]
  },
  {
   "cell_type": "markdown",
   "metadata": {},
   "source": [
    "#### Retornar os valores da consulta"
   ]
  },
  {
   "cell_type": "code",
   "execution_count": null,
   "metadata": {},
   "outputs": [],
   "source": [
    "cursor.execute(\"select user_id, user_name from users\")\n",
    "rows = cursor.fetchall()"
   ]
  },
  {
   "cell_type": "markdown",
   "metadata": {},
   "source": [
    "# Exemplo SQL Server -> Pandas"
   ]
  },
  {
   "cell_type": "code",
   "execution_count": null,
   "metadata": {},
   "outputs": [],
   "source": [
    "import pyobdc\n",
    "\n",
    "query = \"SELECT * FROM tabela\"\n",
    "database = \"DATABASE\"\n",
    "server = \"SERVER\"\n",
    "infos = f\"Driver=[SQL Server Native Client 11.0]; Server={server};Database={database};Trusted_Connection=yes\"\n",
    "\n",
    "conexao = pyobdc.connect(infos)\n",
    "cursor = conexao.cursor()\n",
    "tabela = pd.read_sql(query, conexao)"
   ]
  },
  {
   "cell_type": "markdown",
   "metadata": {},
   "source": [
    "# Exemplo Criando Tabela e Acessando"
   ]
  },
  {
   "cell_type": "markdown",
   "metadata": {},
   "source": [
    "Passo 1: Baixar e instalar o SSMS (SQL Server Management Studio) -> IDE p/ SQL Server\n",
    "\n",
    "Passo 2: Instalar \n",
    "\n",
    "Passo 3: Criar banco de dados, abrindo uma query e rodando:\n",
    "\n",
    "```\n",
    "CREATE DATABASE Nome_Banco_Dados\n",
    "```\n",
    "\n",
    "Passo 4: Criar tabela, usando:\n",
    "\n",
    "```\n",
    "USE Nome_Banco_Dados\n",
    "CREATE TABLE Vendas(\n",
    "    id_venda int,\n",
    "    cliente varchar(50),\n",
    "    produto varchar(50),\n",
    "    data_venda date,\n",
    "    preco decimal(6, 2),\n",
    "    quantidade int,\n",
    "    )\n",
    "```\n",
    "\n",
    "Passo 5: Adicionar 1 valor exemplo:\n",
    "\n",
    "```\n",
    "INSERT INTO Vendas(id_venda, cliente, produto, data_venda, preco, quantidade)\n",
    "VALUES\n",
    "    (1, 'Lira', 'PC', '15/02/2021', 8000, 1)\n",
    "```"
   ]
  },
  {
   "cell_type": "code",
   "execution_count": null,
   "metadata": {},
   "outputs": [],
   "source": [
    "import pyodbc\n",
    "\n",
    "dados_conexao = (\n",
    "    \"Driver={SQL Server};\"\n",
    "    \"Server=DESKTOP-T2JV7P5;\"\n",
    "    \"Database=PythonSQL;\"\n",
    ")\n",
    "\n",
    "conexao = pyodbc.connect(dados_conexao)\n",
    "print(\"Conexão Bem Sucedida\")\n",
    "\n",
    "cursor = conexao.cursor()\n",
    "\n",
    "id = 3\n",
    "cliente = \"Lira Python\"\n",
    "produto = \"Carro\"\n",
    "data = \"25/08/2021\"\n",
    "preco = 5000\n",
    "quantidade = 1\n",
    "\n",
    "comando = f\"\"\"INSERT INTO Vendas(id_venda, cliente, produto, data_venda, preco, quantidade)\n",
    "VALUES\n",
    "    ({id}, '{cliente}', '{produto}', '{data}', {preco}, {quantidade})\"\"\"\n",
    "\n",
    "cursor.execute(comando)\n",
    "cursor.commit() # Necessário para consolidar "
   ]
  },
  {
   "cell_type": "markdown",
   "metadata": {},
   "source": [
    "# Exemplo CRUD (integração Python <-> MySQL)"
   ]
  },
  {
   "cell_type": "code",
   "execution_count": null,
   "metadata": {},
   "outputs": [],
   "source": [
    "from mysql.connector import connect\n",
    "\n",
    "conexao = connect(host='localhost', user='root', password='123456', database='bdyoutube')\n",
    "cursor = conexao.cursor()\n",
    "\n",
    "# CREATE\n",
    "nome_produto = \"chocolate\"\n",
    "valor = 15\n",
    "comando = f'INSERT INTO vendas (nome_produto, valor) VALUES (\"{nome_produto}\", {valor})'\n",
    "cursor.execute(comando)\n",
    "conexao.commit() # edita o banco de dados\n",
    "\n",
    "# READ\n",
    "comando = f'SELECT * FROM vendas'\n",
    "cursor.execute(comando)\n",
    "resultado = cursor.fetchall() # ler o banco de dados\n",
    "print(resultado)\n",
    "\n",
    "# UPDATE\n",
    "nome_produto = \"todynho\"\n",
    "valor = 6\n",
    "comando = f'UPDATE vendas SET valor = {valor} WHERE nome_produto = \"{nome_produto}\"'\n",
    "cursor.execute(comando)\n",
    "conexao.commit() # edita o banco de dados\n",
    "\n",
    "# DELETE\n",
    "nome_produto = \"todynho\"\n",
    "comando = f'DELETE FROM vendas WHERE nome_produto = \"{nome_produto}\"'\n",
    "cursor.execute(comando)\n",
    "conexao.commit() # edita o banco de dados\n",
    "\n",
    "# Finaliza o programa\n",
    "cursor.close()\n",
    "conexao.close()"
   ]
  }
 ],
 "metadata": {
  "kernelspec": {
   "display_name": "Python 3 (ipykernel)",
   "language": "python",
   "name": "python3"
  },
  "language_info": {
   "codemirror_mode": {
    "name": "ipython",
    "version": 3
   },
   "file_extension": ".py",
   "mimetype": "text/x-python",
   "name": "python",
   "nbconvert_exporter": "python",
   "pygments_lexer": "ipython3",
   "version": "3.8.5"
  }
 },
 "nbformat": 4,
 "nbformat_minor": 4
}
