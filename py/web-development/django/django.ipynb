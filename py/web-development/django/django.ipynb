{
 "cells": [
  {
   "cell_type": "markdown",
   "metadata": {},
   "source": [
    "# django"
   ]
  },
  {
   "cell_type": "markdown",
   "metadata": {},
   "source": [
    "É uma framework web com função semelhante à do Flask, porém com padrões de design de aplicações previamente estabelecidos. \n",
    "\n",
    "O padrão adotado pelo Django se chama MVT (Model, View, Template), e as aplicações são montadas de forma semelhante a um \"Microfrontend\", onde cada pasta contém uma rota (ou conjunto de rotas) da aplicação que será mostrado. A mesma pasta contém as \"templates\" que armazena (html), as \"views\" (funções que renderizam a view quando o usuário chama a URL) e os \"models\" (que são as interações com o banco de dados). "
   ]
  },
  {
   "cell_type": "markdown",
   "metadata": {},
   "source": [
    "## Django CLI\n",
    "\n",
    "É a interface de linha de comando disponibilizada pelo Django, que permite automatizar a criação de novas rotas para a aplicação. Além disso, o Django fornece diversos arquivos iniciais para organizar a aplicação como um todo. \n",
    "\n",
    "Para criar uma nova aplicação, basta rodar ```python -m django-admin new``` (python -m permite que um python execute uma função dentro de um modulo)\n",
    "\n",
    "Quando cria uma nova aplicação, o Django cria a sua própria CLI no arquivo `manage.py`. Para criar uma nova rota dentro da aplicação, rodamos ```python manage.py new```.\n",
    "\n",
    "\n",
    "Para instanciar a aplicação web Django em uma porta do servidor, basta rodar ```python manage.py start```\n",
    "\n",
    "##### Arquivos iniciais\n",
    "\n",
    "* wsgi: Web Server Gateway Interface -> \n",
    "* asgi: Asyncronous Server Gateway Interface -> \n",
    "* routes: \n",
    "* config: \n",
    "\n",
    "\n",
    "\n",
    "**Obs:** Podemos configurar os comportamentos padrão do arquivo `manage.py` alterando as suas variáveis declaradas. Algumas alterações comuns, são:\n",
    "\n",
    "* TEMPLATE_ROOT: pasta onde o Django busca os templatesa\n",
    "* "
   ]
  },
  {
   "cell_type": "markdown",
   "metadata": {},
   "source": []
  }
 ],
 "metadata": {
  "language_info": {
   "name": "python"
  }
 },
 "nbformat": 4,
 "nbformat_minor": 2
}
