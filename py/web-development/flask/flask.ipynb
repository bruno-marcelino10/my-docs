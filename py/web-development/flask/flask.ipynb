{
 "cells": [
  {
   "cell_type": "markdown",
   "metadata": {},
   "source": [
    "# Flask"
   ]
  },
  {
   "cell_type": "markdown",
   "metadata": {},
   "source": [
    "É um framework que contém sua própria coleção de módulos para desenvolvimento de aplicações a partir de regras e formatos pré-definidos. No caso do Flask, fica a cargo do desenvolvedor importar novos pacotes e funcionalidades criadas por outros usuários para compor o site. \n",
    "\n",
    "O Flask pode ser caracterizado como \"micro-framework full-stack\" por possuir todos os requisitos para desenvolvimento de aplicações web, desde a definição do template do site até a ligação com os bancos de dados que interagem com as aplicações e fornecem informações."
   ]
  },
  {
   "cell_type": "markdown",
   "metadata": {},
   "source": [
    "#### Sintaxe Básica"
   ]
  },
  {
   "cell_type": "code",
   "execution_count": 7,
   "metadata": {},
   "outputs": [
    {
     "name": "stdout",
     "output_type": "stream",
     "text": [
      " * Serving Flask app \"__main__\" (lazy loading)\n",
      " * Environment: production\n",
      "   WARNING: This is a development server. Do not use it in a production deployment.\n",
      "   Use a production WSGI server instead.\n",
      " * Debug mode: off\n"
     ]
    },
    {
     "name": "stderr",
     "output_type": "stream",
     "text": [
      " * Running on http://127.0.0.1:5000/ (Press CTRL+C to quit)\n"
     ]
    }
   ],
   "source": [
    "from flask import Flask\n",
    "\n",
    "app = Flask(__name__)\n",
    "\n",
    "@app.route(\"/\") # cria uma página para o site\n",
    "def home():\n",
    "    return \"Página Inicial\" # HTML da página\n",
    "\n",
    "if __name__ == \"__main__\":\n",
    "    app.run() # Roda o código. Setar \"debug = True\" permite atualizar a página enquanto adicionamos novas funcionalidades."
   ]
  },
  {
   "attachments": {},
   "cell_type": "markdown",
   "metadata": {},
   "source": [
    "#### Interação com Front-end\n",
    "\n",
    "Os códigos-fonte HTML, CSS e JavaScript estilizam as páginas da aplicação web. O Flask recomenda que arquivos de marcação (HTML), que definem a estrutura das páginas, sejam inseridos dentro do projeto em uma pasta chamada \"templates\". Os códigos que realizam scripts (JS) e estilizações (CSS) devem ser inseridos em uma pasta denominada \"static\", em conjunto com os demais arquivos que serão introduzidos de forma \"fixa\" no projeto.\n",
    "\n",
    "O Flask também permite inserir parte do código e variáveis criadas em Python direto do back-end para dentro do HTML da página, com a utilização de chaves duplas do tipo `{{}}`. Além disso, também há suporte para o Jinja2, que permite a utilização de outras funcionalidades, como `for` statements, `if` statements e o `block`, utilizando {% %}. \n",
    "\n",
    "É dado destaque aos blocks, pois permitem a herança de código entre templates, ou seja, utilizar um mesmo template como base para a criação de outros, preenchendo lacunas predefinidas dele (ou blocks). Segue abaixo o exemplo:"
   ]
  },
  {
   "attachments": {},
   "cell_type": "markdown",
   "metadata": {},
   "source": [
    "```\n",
    "# Arquivo base.html\n",
    "<!doctype html>\n",
    "<html>\n",
    "  <head>\n",
    "    {% block head %}\n",
    "    **INSIRA O CÓDIGO AQUI**\n",
    "    {% endblock %}\n",
    "  </head>\n",
    "  <body>\n",
    "    <div id=\"content\">{% block content %}{% endblock %}</div>\n",
    "    <div id=\"footer\">\n",
    "      {% block footer %}\n",
    "      **INSIRA O CODIGO AQUI**\n",
    "      {% endblock %}\n",
    "    </div>\n",
    "  </body>\n",
    "</html>\n",
    "\n",
    "# Arquivo página.html\n",
    "\n",
    "{% extends \"base.html\" %}\n",
    "\n",
    "{% block main %}\n",
    "**PREENCHE MAIN**\n",
    "{% endblock %}\n",
    "\n",
    "{% block footer %}\n",
    "**PREENCHE FOOTER**\n",
    "{% endblock %}\n",
    "```"
   ]
  },
  {
   "attachments": {},
   "cell_type": "markdown",
   "metadata": {},
   "source": [
    "#### Sessions\n",
    "\n",
    "As sessões são iniciadas a partir do momento em que acessamos o site em determinado navegador, e finalizadas quando saímos dele. Sessions permitem armazenar variáveis obtidas a partir do momento em que o usuário interagiu com determinado template, e utilizar as informações em outros pontos do site. Exemplo:\n",
    "\n",
    "```\n",
    "@app.route(\"/login\")\n",
    "def login():\n",
    "    if request.method == \"POST\":\n",
    "        email = request.form[\"email\"]\n",
    "        senha = request.form[\"senha\"]\n",
    "\n",
    "        login_existente = users.query.filter_by(email = email, senha = senha).first()\n",
    "        if login_existente:\n",
    "            session[\"email\"] = email\n",
    "            session[\"senha\"] = senha\n",
    "            return redirect(url_for(\"admin\"))                       \n",
    "        else:\n",
    "            flash(\"E-mail ou senha incorretos!\", \"info\")\n",
    "            return render_template(\"login.html\")\n",
    "            \n",
    "    else: # caso em que request.method = \"GET\"\n",
    "            return render_template(\"login.html\")\n",
    "\n",
    "@app.route(\"/login/admin\") \n",
    "def admin(): # só pode acessar se já estiver logado\n",
    "    if \"email\" in session and \"senha\" in session:\n",
    "        email = session[\"email\"]\n",
    "        senha = session[\"senha\"]\n",
    "        return render_template(\"admin.html\")\n",
    "    else:\n",
    "        return redirect(url_for(\"login.html\"))\n",
    "```"
   ]
  },
  {
   "attachments": {},
   "cell_type": "markdown",
   "metadata": {},
   "source": [
    "Para manipular sessions, é necessário definir uma chave secreta para a criptografia dos dados armazenados, conforme exemplo abaixo:"
   ]
  },
  {
   "attachments": {},
   "cell_type": "markdown",
   "metadata": {},
   "source": [
    "```app.secret_key = \"key\"```"
   ]
  },
  {
   "attachments": {},
   "cell_type": "markdown",
   "metadata": {},
   "source": [
    "#### Flash Messages\n",
    "\n",
    "São mensagens que fornecem feedback ao usuário caso interaja com o site em certas situações. Podem ser criadas utilizando a função `flash` no Python, e acessadas como lista no template HTML com o comando `{% with messages in get_flashed_messages() %}`.\n",
    "\n",
    "Exemplo:\n",
    "```\n",
    "{% with messages = get_flashed_messages() %}\n",
    "  {% if messages %}\n",
    "    {% for message in messages}\n",
    "        <p>{{message}} </p>\n",
    "    {% endfor %}\n",
    "  {% endif %}\n",
    "{% endwith %}\n",
    "\n",
    "```"
   ]
  },
  {
   "attachments": {},
   "cell_type": "markdown",
   "metadata": {},
   "source": [
    "#### SQLAlchemy e integração com SQLite3"
   ]
  },
  {
   "attachments": {},
   "cell_type": "markdown",
   "metadata": {},
   "source": [
    "O Flask possui um ORM (Object Relationship Mapper) próprio denominado `flask_sqlalchemy`, que permite a realização de consultas a bancos de dados de maneira bem simples, com Programação Orientada a Objetos. Por padrão, o ORM utiliza conexões com o SQLite3, que já possui suporte para o Python. Para configurar a base de dados que armazenará nossas tabelas, é necessária a definição de certos parâmetros, como:\n",
    "\n"
   ]
  },
  {
   "attachments": {},
   "cell_type": "markdown",
   "metadata": {},
   "source": [
    "```\n",
    "from flask_sqlalchemy import SQLAlchemy\n",
    "\n",
    "app.config[\"SQLALCHEMY_DATABASE_URI\"] = \"sqlite:///database.sqlite3\"\n",
    "db = SQLAlchemy(app)\n",
    "\n",
    "with app.app_context():\n",
    "        db.create_all()\n",
    "```"
   ]
  },
  {
   "cell_type": "markdown",
   "metadata": {},
   "source": [
    "Com o SQLAlchemy é possível criar um banco de dados do tipo .db dentro da pasta do projeto e acessá-lo de maneira simples. Cada tabela dentro do banco de dados é definida como uma classe, e as suas características (colunas) são atributos de classe. As linhas da tabela são acessadas como instâncias dessa classe, e possuem características (colunas) que podem ser acessadas conforme o exemplo:\n"
   ]
  },
  {
   "attachments": {},
   "cell_type": "markdown",
   "metadata": {},
   "source": [
    "```\n",
    "class users(db.Model): # cria tabela users\n",
    "    \n",
    "    id = db.Column(\"id\", db.Integer, primary_key = True)\n",
    "    email = db.Column(\"email\", db.String(100))\n",
    "    senha = db.Column(\"senha\", db.String(100))\n",
    "\n",
    "    def __init__(self, email, senha):\n",
    "        self.email = email\n",
    "        self.senha = senha\n",
    "\n",
    "@app.route(\"/login/admin/lista_admins\")\n",
    "def lista_admins(): # Realiza um GET na base de dados\n",
    "    return render_template(\"lista_admins.html\", values = users.query.all()) # cria uma lista com objetos da classe Users e passa como variável para o template\n",
    "\n",
    "# No template HTML...\n",
    "{% for usuario in values %}\n",
    "    <p>E-mail: {{usuario.email}}, Senha: {{usuario.senha}}</p> \n",
    "{% endfor %}\n",
    "\n",
    "\n",
    "```"
   ]
  }
 ],
 "metadata": {
  "kernelspec": {
   "display_name": "Python 3",
   "language": "python",
   "name": "python3"
  },
  "language_info": {
   "codemirror_mode": {
    "name": "ipython",
    "version": 3
   },
   "file_extension": ".py",
   "mimetype": "text/x-python",
   "name": "python",
   "nbconvert_exporter": "python",
   "pygments_lexer": "ipython3",
   "version": "3.8.5"
  },
  "vscode": {
   "interpreter": {
    "hash": "72bf47092338eed38b0780b83b91fd9a109f9b0b6603c4f71c3497fbd9ba9af9"
   }
  }
 },
 "nbformat": 4,
 "nbformat_minor": 4
}
