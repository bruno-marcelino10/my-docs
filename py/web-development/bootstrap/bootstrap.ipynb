{
 "cells": [
  {
   "cell_type": "markdown",
   "metadata": {},
   "source": [
    "# Bootstrap"
   ]
  },
  {
   "attachments": {},
   "cell_type": "markdown",
   "metadata": {},
   "source": [
    "É uma framework do CSS que permite aos usuários utilizar estilização pré-programada para o desenvolvimento web. Por isso, o bootstrap fornece diversas classes que podem ser incorporadas às tags por meio de classes, e que realizam todas as estilizações, alinhamentos e organização dos conteúdos para o desenvolvedor. \n",
    "\n",
    "Além disso, as classes do bootstrap também adicionam ferramentas que permitem modelar o comportamento do código para diferentes tamanhos de tela (breakpoints) e utilizar recursos de acessibilidade no site."
   ]
  }
 ],
 "metadata": {
  "language_info": {
   "name": "python"
  },
  "orig_nbformat": 4
 },
 "nbformat": 4,
 "nbformat_minor": 2
}
