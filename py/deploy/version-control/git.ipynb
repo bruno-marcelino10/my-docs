{
 "cells": [
  {
   "attachments": {},
   "cell_type": "markdown",
   "metadata": {},
   "source": [
    "# Git e GitHub"
   ]
  },
  {
   "attachments": {},
   "cell_type": "markdown",
   "metadata": {},
   "source": [
    "GitHub é um serviço em nuvem que hospeda um sistema de controle de versão (VCS) chamado Git, e foi criado para facilitar o seu uso. O GitHub permite que diversos desenvolvedores trabalhem em um mesmo projeto, mantendo um registro detalhado das alterações realizadas e permitindo a restauração de códigos removidos ou modificados. \n",
    "\n",
    "Todos os comandos do Git podem ser feitos tanto pelo site do GitHub quanto pela linha de comando. O terminal comumente utilizado para isso é o Git Bash, mas para utilizar o Git é necessária a sua instalação em <https://git-scm.com/>. "
   ]
  },
  {
   "attachments": {},
   "cell_type": "markdown",
   "metadata": {},
   "source": [
    "Para subir um projeto para o GitHub, devemos criar um repositório, ou *repo*. Ele funcionará como um diretório (pasta) que contém todos os arquivos do projeto, além de um arquivo oculto `.git` que faz o controle de todas as alterações realizadas no projeto. Podemos adicionar também um arquivo `.gitignore`, que contém os arquivos locais que não devem ser sincronizados com o repositório armazenado na nuvem do GitHub, e um arquivo `README.md`, que contém informações sobre o repositório em formato Markdown, e é mostrado no site do GitHub."
   ]
  },
  {
   "attachments": {},
   "cell_type": "markdown",
   "metadata": {},
   "source": [
    "Podemos adicionar outros usuários para que sejam colaboradores do nosso projeto. Isso significa que ele também poderá editar o repositório, sem a necessidade de conceder novas permissões. Sendo assim, ambos terão o repositório em seus perfis, como se fossem donos dele. Fazemos isso na página do repositório, depois inserindo o nome do perfil do outro usuário em `Settings > Collaborators`. Ele receberá um e-mail de convite para participar do repositório, e uma notificação no próprio GitHub."
   ]
  },
  {
   "attachments": {},
   "cell_type": "markdown",
   "metadata": {},
   "source": [
    "**Manual de Git de um professor da Alura:** <https://github.com/guilhermeonrails/manual-do-git-e-github> (abrir pelo GitHub Pages)"
   ]
  },
  {
   "attachments": {},
   "cell_type": "markdown",
   "metadata": {},
   "source": [
    "# Principais Comandos do Git"
   ]
  },
  {
   "attachments": {},
   "cell_type": "markdown",
   "metadata": {},
   "source": [
    "### Clone\n",
    "\n",
    "É o primeiro comando a ser realizado trabalhar um repositório que está presente no GitHub, mas não de forma local (no seu computador). Ele permite que seja criada uma cópia local do repositório, onde podemos fazer alterações que podem ser sincronizadas novamente com a nuvem do GitHub.\n",
    "\n",
    "O primeiro passo para realizar um `clone` é copiar a URL que está na aba `Code > HTTPS`, ao acessar o seu repositório pelo GitHub via web. Posteriormente, rodamos o comando abaixo:\n",
    "\n",
    "**Sintaxe:**\n",
    "```\n",
    "git clone <url> <diretório>\n",
    "```\n",
    "\n",
    "**Obs.:** Os campos `<>` devem ser preenchidos sem `<>`.\n",
    "\n",
    "**Obs 2.:** O campo `<diretorio>` é opcional.\n",
    "\n",
    "* Podemos clonar o repositório a partir de uma branch específica também, sem importar as outras, utilizando:\n",
    "\n",
    "```\n",
    "git clone -branch <nome_da_branch> <url>\n",
    "```"
   ]
  },
  {
   "attachments": {},
   "cell_type": "markdown",
   "metadata": {},
   "source": [
    "### Pull (puxar)\n",
    "\n",
    "Funciona da mesma maneira que o clone, porém sincroniza o repositório local (já baixado) com base no repositório que está atualmente localizado na nuvem do GitHub, ou seja, incorporando atualizações da nuvem.\n",
    "\n",
    "**Sintaxe:**\n",
    "```\n",
    "# Na pasta onde o repositório está localizado:\n",
    "git pull <url>\n",
    "```\n",
    "\n",
    "**Obs.:** Os campos `<>` devem ser preenchidos sem `<>`.\n",
    "\n",
    "**Obs 2.:** O campo `<url>` é opcional.\n"
   ]
  },
  {
   "attachments": {},
   "cell_type": "markdown",
   "metadata": {},
   "source": [
    "### Status\n",
    "\n",
    "Verifica todas as alterações que já foram realizadas no projeto, desde a última sincronização com o repositório existente no GitHub.\n",
    "\n",
    "**Sintaxe:**\n",
    "```\n",
    "# Na pasta onde o repositório está localizado:\n",
    "git status\n",
    "```"
   ]
  },
  {
   "attachments": {},
   "cell_type": "markdown",
   "metadata": {},
   "source": [
    "### Add (adicionar)\n",
    "\n",
    "Quando adicionamos um arquivo novo em nosso repositório local que não existia desde a última sincronização com o GitHub, suas modificações não são incluídas e analisadas pelo sistema de versionamento. \n",
    "\n",
    "Para isso, utilizamos o comando `add`, que adiciona um novo arquivo ao repositório local que está sendo constantemente atualizado, e permite que suas alterações sejam acompanhadas no status, commitadas e sincronizadas com a nuvem.\n",
    "\n",
    "**Sintaxe:**\n",
    "```\n",
    "# Na pasta onde o repositório está localizado:\n",
    "git add <arquivo_1> <arquivo_2> <arquivo_n>\n",
    "```\n",
    "**Obs.:** Os campos `<>` devem ser preenchidos sem `<>`.\n",
    "\n",
    "**Obs 2.:** Podemos incluir um `.` no lugar dos arquivos, para adicionar todos os arquivos incluídos no repositório até então."
   ]
  },
  {
   "attachments": {},
   "cell_type": "markdown",
   "metadata": {},
   "source": [
    "### Commit\n",
    "\n",
    "O `commit` é uma ação muito importante do Git para nos ajudar no controle da versão do nosso projeto. Um commit pode ser considerado como um marco ao longo do cronograma de um projeto. Quando realizamos um commit, estamos marcando as alterações mais recentes do projeto para que sejam adicionadas ao GitHub de forma organizada.\n",
    "\n",
    "Geralmente o commit é acompanhado de uma mensagem que descreve as alterações realizadas de forma sucinta. \n",
    "\n",
    "**Sintaxe:**\n",
    "```\n",
    "# Na pasta onde o repositório:\n",
    "git commit <arquivo_1> <arquivo_2> <arquivo_n> -m \"<mensagem>\"\n",
    "```\n",
    "\n",
    "**Obs.:** Os campos `<>` devem ser preenchidos sem `<>`.\n",
    "\n",
    "**Obs 2.:** Podemos incluir um `.` no lugar dos arquivos, para commitar todas as alterações feitas no repositório até então."
   ]
  },
  {
   "attachments": {},
   "cell_type": "markdown",
   "metadata": {},
   "source": [
    "### Log (registro)\n",
    "\n",
    "O comando `log` permite visualizar o histórico de alterações feitas em um repositório. Ele retorna um hash (código) que identifica o commit, nome do autor, a descrição e a mensagem do commit.\n",
    "\n",
    "**Sintaxe:**\n",
    "```\n",
    "# Na pasta onde o repositório está localizado:\n",
    "git log\n",
    "```\n",
    "\n",
    "**Obs.:** Para sair da tela de log, basta apertar a tecla `q`\n",
    "\n",
    "* Caso desejamos visualizar todas as alterações de forma sucinta, devemos digitar: \n",
    "\n",
    "```\n",
    "git log --oneline\n",
    "```\n",
    "\n",
    "* Também podemos localizar somente as alterações do commit:\n",
    "\n",
    "```\n",
    "git log -p\n",
    "```\n",
    "\n",
    "* Ou filtrar com base no autor dos commits:\n",
    "\n",
    "```\n",
    "git log --author=\"<usuario>\"\n",
    "```\n",
    "\n",
    "* E filtrar por data:\n",
    "\n",
    "```\n",
    "git log --since=1.month.ago --until=1.day.ago\n",
    "```"
   ]
  },
  {
   "attachments": {},
   "cell_type": "markdown",
   "metadata": {},
   "source": [
    "### Restore (restaurar)\n",
    "\n",
    "Caso seja necessário voltar um arquivo contido no repositório local para uma versão criada em determinado commit, podemos usar o comando `restore`. \n",
    "\n",
    "**Sintaxe:**\n",
    "```\n",
    "# Na pasta onde o repositório está localizado:\n",
    "git restore --source <hash do commit> <arquivo_1> <arquivo_2> <arquivo_n>\n",
    "```\n",
    "\n",
    "**Obs.:** Os campos `<>` devem ser preenchidos sem `<>`.\n",
    "\n",
    "**Obs 2.:** Podemos incluir um `.` no lugar dos arquivos, para restaurar todas as alterações feitas no repositório até então.\n",
    "\n",
    "**Obs 3.:** O hash (código identificador) de determinado commit pode ser obtido tanto pela página web do GitHub, quanto pelo comando `log`.\n",
    "\n",
    "**Obs 4.:** Devemos realizar um novo `commit` para salvar as alterações e posteriormente sincronizá-las com o repositório da nuvem GitHub.\n",
    "\n",
    "* Para restaurar o repositório local de acordo com o último commit:\n",
    "```\n",
    "# Na pasta onde o repositório está localizado:\n",
    "git restore <arquivo_1> <arquivo_2> <arquivo_n>\n",
    "```\n",
    "\n"
   ]
  },
  {
   "attachments": {},
   "cell_type": "markdown",
   "metadata": {},
   "source": [
    "### Diff (diferença)\n",
    "\n",
    "Também é possível ver o \"diff\" de um commit em específico, que mostra uma comparação entre o arquivo antigo e o atual, ou entre branches (falaremos mais tarde), incluindo todas as alterações realizadas.\n",
    "\n",
    "**Sintaxe:**\n",
    "```\n",
    "# Na pasta onde o repositório está localizado:\n",
    "```"
   ]
  },
  {
   "attachments": {},
   "cell_type": "markdown",
   "metadata": {},
   "source": [
    "### Push (empurrar)\n",
    "\n",
    "É o comando do Git que seleciona os commits realizados e sincroniza com a nuvem, adicionando todas as alterações ao repositório que está no GitHub disponível para todos os usuários do projeto.\n",
    "\n",
    "**Sintaxe:**\n",
    "```\n",
    "# Na pasta onde o repositório está localizado:\n",
    "git push origin <branch>\n",
    "```\n",
    "\n",
    "**Obs.:** Os campos `<>` devem ser preenchidos sem `<>`.\n",
    "\n",
    "**Obs 2.:** A branch principal e criada por padrão se chama `main`."
   ]
  },
  {
   "attachments": {},
   "cell_type": "markdown",
   "metadata": {},
   "source": [
    "### Trabalhando com Múltiplas Branches (ramificações)\n",
    "\n",
    "Em casos de projetos que envolvem múltiplos programadores trabalhando em uma mesma aplicação que já está funcional, podemos criar outras `branches`, que são versões paralelas do projeto principal (`main`) criadas a partir de determinado estado da main. \n",
    "\n",
    "Isso significa que ao criar uma nova `branch`, estamos copiando a `main`, mas as novas alterações feitas na `main` a partir desse ponto não serão adicionadas à nossa branch nova. Futuramente, podemos fazer um `merge` ou `pull request`, que consiste em trazer todas as alterações feitas em uma branch para outra, a fim de sincronizar o nosso projeto paralelo com a aplicação original.\n",
    "\n",
    "No mundo real, geralmente existem duas `branches` principais: a `main` e a `develop`. Na `main` consta a aplicação em seu estado final, funcionando. Cada nova atualização, correção de bugs, feature (ferramenta, funcionalidade) etc. que será adicionada ou modificada na aplicação principal é desenvolvida em uma `branch` criada pelo próprio usuário. Ao finalizar os testes na sua `branch` pessoal, o desenvolvedor realiza um `merge` para a branch `develop`, que é uma versão \"beta\" da `main` a fim de testar e verificar se as suas alterações afetam o funcionamento da aplicação em seu estado atual, ou não. Caso não hajam mais problemas, o administrador da aplicação realiza um `merge` da `develop` com a `main` e adiciona a nova feature à aplicação.\n",
    "\n",
    "* Para criar uma nova `branch`, basta realizar o seguinte comando:\n",
    "```\n",
    "git branch nome-da-branch\n",
    "```\n",
    "**Obs.:** Os campos `<>` devem ser preenchidos sem `<>`.\n",
    "\n",
    "**Obs 2.:** Enquanto não alterarmos nada na `branch` nova, ela não aparecerá no site do GitHub.\n",
    "\n",
    "* Todas as branches e alterações realizadas em cada uma estão armazenadas de forma local, graças ao arquivo `.git`. Para entrar em outra `branch` e passar a realizar alterações somente nela, digitamos:\n",
    "```\n",
    "git switch <nome_da_branch>\n",
    "```\n",
    "* Para visualizar as `branches` criadas e disponíveis no repositório, digitamos:\n",
    "```\n",
    "git branch \n",
    "```\n",
    "**Obs.:** A branch que estamos editando é marcada com um `*`.\n",
    "\n",
    "* Para criar uma nova `branch` e entrar nela automaticamente, digitamos:\n",
    "```\n",
    "git checkout -b <nome_da_branch>\n",
    "```"
   ]
  },
  {
   "attachments": {},
   "cell_type": "markdown",
   "metadata": {},
   "source": [
    "### Merge (unir)\n",
    "\n",
    "Para sincronizar os arquivos de duas `branches`, utilizamos o comando `merge`. A partir daí, os arquivos que foram criados e alterados por meio de `commits` na `branch` que estamos editando serão criados e alterados na outra `branch` também.\n",
    "\n",
    "O comando `merge` também pode ser realizado no GitHub, por meio de `Pull Requests`. Lá temos uma interface mais amigável que permite visualizar as `diffs` entre a branch atual e o projeto original. Se algum dos colaboradores iniciais aprovarem o `pull request`, o merge é realizado.\n",
    "\n",
    "**Sintaxe:**\n",
    "```\n",
    "# Na pasta onde o repositório está localizado:\n",
    "# Considerando <branch_atual> <-- <outra_branch>\n",
    "git merge <outra_branch>\n",
    "```\n",
    "**Obs.:** Os campos `<>` devem ser preenchidos sem `<>`.\n",
    "\n",
    "**Obs 2.:** Devemos entrar na `branch` inalterada, ou seja, que queremos modificar para adicionar as novas alterações (comando `git switch`), e digitar o comando substituindo o parâmetro `<outra branch>` pela `branch` que editamos e contém as novas atualizações. Posteriormente, realizamos um push para adicionar as novas atualizações na `branch` que foi alterada com o `merge`.\n",
    "\n"
   ]
  }
 ],
 "metadata": {
  "kernelspec": {
   "display_name": "Python 3",
   "language": "python",
   "name": "python3"
  },
  "language_info": {
   "codemirror_mode": {
    "name": "ipython",
    "version": 3
   },
   "file_extension": ".py",
   "mimetype": "text/x-python",
   "name": "python",
   "nbconvert_exporter": "python",
   "pygments_lexer": "ipython3",
   "version": "3.8.5"
  },
  "orig_nbformat": 4,
  "vscode": {
   "interpreter": {
    "hash": "72bf47092338eed38b0780b83b91fd9a109f9b0b6603c4f71c3497fbd9ba9af9"
   }
  }
 },
 "nbformat": 4,
 "nbformat_minor": 2
}
