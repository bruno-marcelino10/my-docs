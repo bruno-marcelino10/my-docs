{
 "cells": [
  {
   "cell_type": "markdown",
   "metadata": {},
   "source": [
    "# Trabalho Final - Aplicação dos Conceitos da Disciplina\n",
    "\n",
    "* Aluno: Bruno Marcelino\n",
    "* Data: 03/02/2022\n",
    "* Discente: José Neto"
   ]
  },
  {
   "cell_type": "markdown",
   "metadata": {},
   "source": [
    "# 1.  Algoritmos"
   ]
  },
  {
   "cell_type": "markdown",
   "metadata": {},
   "source": [
    "### Questão 1:\n",
    "\n",
    "São apresentados dois problemas importantes ao se realizar o cálculo da soma por algarismo: \n",
    "* Os cálculos são feitos da direita para a esquerda, partindo das unidades;\n",
    "* Caso a soma entre dois algarismos resulte em um número maior do que 10, devemos adicionar 1 à soma do algarismo seguinte (\"vai 1\").\n",
    "\n",
    "Assim, a função percorrerá as duas listas da direita para a esquerda, e deverá realizar a soma de cada elemento de índice i da primeira lista com o elemento de mesmo índice da segunda lista.\n",
    "\n",
    "Além disso, caso a soma dos valores seja maior do que 10, armazenamos essa informação booleana uma lista de \"vai 1\". Caso o valor de índice i-1 do vetor de vai_1 seja verdadeiro, adicionamos 1 à soma dos elementos de índice i."
   ]
  },
  {
   "cell_type": "markdown",
   "metadata": {},
   "source": [
    "### Questão 2:\n",
    "\n",
    "Os valores candidatos a pertencerem à sequência de farey relativa a n são combinações de todas as n x n frações possíveis contendo os numeradores e denominadores de 1:n. Entretanto, caso uma fração apresente numerador e denominador que são ambos múltiplos de outra (e compartilhem mesmo quociente), ela não entrará na sequência de Farey pois pode ser redutível. \n",
    "\n",
    "Realizamos dois for's iterando em duas sequências i e j que variam de 1 até n. Realizamos a divisão de i por j de forma a encontrar o quociente resultante da fração, e seguimos a seguinte condição: \n",
    "* Caso ele ainda não exista no vetor de quocientes, ele será armazenado em conjunto com os numeradores e denominadores que o compõem, todos compartilham de um mesmo índice.\n",
    "* Caso ele já exista, verificamos se o numerador e denominador testados são algum múltiplo de 1:n do numerador e denominador da fração que originou o quociente que já está armazenado. Caso isso seja verdade, nada será feito pois concluimos que essa fração é redutível. Caso contrário, apagamos o numerador, denominador e quociente antigos e adicionamos os testados nas listas.\n",
    "\n",
    "Ao final, devemos ordenar as frações de forma crescente para exibi-los. Para isso, utilizei a função `zip` para armazenar os valores das três listas (quocientes, denominadores e numeradores) juntos em uma lista, com cada elemento i sendo uma tupla com os elementos i de cada vetor (Ex.: lista[i] = (quo[i], den[i], num[i]). Assim, podemos aplicar o método sort() para ordenar com base no vetor de quocientes, preservando a ordem dos numeradores e denominadores que o geram. \n",
    "\n",
    "Ao final, dado que a sequência de Farey só apresenta divisões entre 0 e 1, apagamos os numeradores e denominadores cujos quocientes resultem em valores maiores que 1."
   ]
  },
  {
   "cell_type": "markdown",
   "metadata": {},
   "source": [
    "### Questão 3:\n",
    "\n",
    "Para verificar se uma palavra é palíndroma, basta verificar se cada letra na posição [i] é igual à letra da sua posição oposta correspondente, [-(i+1)]. Entretanto, no caso de números estrobogramáticos a igualdade se dá em verificar se o dígito da esquerda corresponde ao seu **par invertível** definido pelo problema.\n",
    "\n",
    "Para cada número em um intervalo de 1:n, verificamos se ele é estrobogramático ou não. Para isso, iniciamos uma variável booleana com o valor True, e iteramos dentro dos índices do número para verificar se algum dos dígitos da posição [i] não corresponde ao seu par invertível em [-(i+1)]. \n",
    "* Caso isso aconteça em qualquer um dos dígitos, o número não é estrobogramático e armazenamos False;\n",
    "* Caso contrário, a variável permanece como True e ao final do for, se ela for True, salvamos o número na lista de valores estrobogramáticos. "
   ]
  },
  {
   "cell_type": "markdown",
   "metadata": {},
   "source": [
    "# 2. Organização do Programa"
   ]
  },
  {
   "cell_type": "markdown",
   "metadata": {},
   "source": [
    "### Questão 1:\n",
    "\n",
    "> entrada_soma() \n",
    "\n",
    "Realiza a verificação de entrada para definir entre duas coisas. As operações realizadas nos Casos somente ocorrem após serem definidas as condições de A) e B).\n",
    "\n",
    "A) se os números a serem somados serão imputados pelo usuário ou não, sendo assim gerados de forma aleatória.\n",
    "\n",
    "    -> Primeiro Caso: dada a quantidade máxima de algarismos contidos em cada número, realizaremos um for onde o usuário imputa cada algarismo separadamente, na ordem: \"1ª algarismo do nº 1, 1ª algarismo do nº 2, 2ª algarismo do nº 1... etc)    \n",
    "    \n",
    "    -> Segundo Caso: utilizaremos o método `sample` do módulo built-in do python chamado `random`, para escolher cada dígito de cada número como um valor aleatório entre 0 e 9 que segue distribuição uniforme, até o limite de algarismos definido pelo usuário.\n",
    "\n",
    "B) a quantidade de algarismos que os números conterão\n",
    "\n",
    "A função entrada_soma() retorna uma tupla com listas contendo os algarismos do primeiro e segundo número, respectivamente.\n",
    "\n",
    "> soma(parcela1, parcela_2)\n",
    "\n",
    "Realiza a soma entre duas listas contendo os algarismos dos números retornados em entrada_soma() e retorna o resultado.\n",
    "\n",
    "\n",
    "> exibe_soma(resultado) \n",
    "\n",
    "Exibe os dois números utilizados e o resultado obtido em soma(), no formato de uma soma convencional feita no papel."
   ]
  },
  {
   "cell_type": "markdown",
   "metadata": {},
   "source": [
    "### Questão 2:\n",
    "\n",
    "> farey(n)\n",
    "\n",
    "Calcula a sequência de Farey relativa a n, e retorna uma tupla contendo duas listas, sendo uma com os numeradores e outra com os denominadores dos elementos, de forma ordenada.\n",
    "\n",
    "> exibe_farey(numeradores, denominadores)\n",
    "\n",
    "Utiliza o resultado da função farey() para mostrar na tela a sequência de frações em ordem crescente. "
   ]
  },
  {
   "cell_type": "markdown",
   "metadata": {},
   "source": [
    "### Questão 3:\n",
    "\n",
    "> estrobogramatico(n)\n",
    "\n",
    "Armazena todos os números estrobogramáticos de 1:n em uma lista, que é retornada no final da função. "
   ]
  },
  {
   "cell_type": "markdown",
   "metadata": {},
   "source": [
    "# 3. Códigos"
   ]
  },
  {
   "cell_type": "markdown",
   "metadata": {},
   "source": [
    "### Questão 1:"
   ]
  },
  {
   "cell_type": "code",
   "execution_count": 15,
   "metadata": {},
   "outputs": [],
   "source": [
    "def entrada_soma():\n",
    "    \"\"\"\n",
    "    Realiza a verificação de entrada para definir entre duas coisas.\n",
    "    A) se os números a serem somados serão imputados pelo usuário ou não, sendo assim gerados de forma aleatória\n",
    "    B) quantidade de algarismos que os números conterão\n",
    "    \n",
    "    Posteriormente, o usuário poderá imputar ou não o valor dos dois números.\n",
    "    \"\"\"\n",
    "    # Define se a entrada será uma sequência de inteiros ou número aleatório\n",
    "    input_errado = True \n",
    "    while input_errado: # Verificação de entrada\n",
    "        entrada_1 = input(\"Deseja entrar com uma sequência de inteiros? ([Ss]/Nn) \")\n",
    "        if entrada_1 == \"S\" or entrada_1 == \"s\" or entrada_1 == \"\":\n",
    "            input_errado = False\n",
    "            entrada_1 = \"sequência\"\n",
    "        elif entrada_1 == \"N\" or entrada_1 == \"n\":\n",
    "            input_errado = False\n",
    "            entrada_1 = \"aleatório\"\n",
    "        else:\n",
    "            print(\"Você não digitou uma resposta válida!\")    \n",
    "    \n",
    "    # Quantidade de dígitos em cada parcela \n",
    "    input_errado = True\n",
    "    while input_errado: # Verificação de entrada\n",
    "        try:\n",
    "            n = int(input(\"\\nDigite o número de inteiros que cada sequência terá: \"))\n",
    "            if n > 0:\n",
    "                input_errado = False\n",
    "            else:\n",
    "                print(\"Você não digitou uma resposta válida!\")\n",
    "        except ValueError:\n",
    "            print(\"Você não digitou um número inteiro!\")\n",
    "            \n",
    "    # Caso 2: Geração de parcelas aleatórias\n",
    "    if entrada_1 == \"aleatório\":\n",
    "        import random\n",
    "        valores_possiveis = [0,1,2,3,4,5,6,7,8,9]\n",
    "        parcela_1 = random.sample(valores_possiveis, n)\n",
    "        parcela_2 = random.sample(valores_possiveis, n)\n",
    "        \n",
    "    # Caso 1: Input manual das parcelas\n",
    "    if entrada_1 == \"sequência\":\n",
    "        parcela_1, parcela_2 = [], []\n",
    "        for i in range(n):\n",
    "            for j in range(2):\n",
    "                \n",
    "                input_errado = True\n",
    "                while input_errado: # Verificação de entrada\n",
    "                    try:\n",
    "                        digito = int(input(f\"Digite o {i+1}º dígito da {j+1}ª parcela: \"))\n",
    "                        digitos = [0,1,2,3,4,5,6,7,8,9]\n",
    "                        if digito in digitos:\n",
    "                        input_errado = False\n",
    "                        else:\n",
    "                            print(\"Você não digitou uma resposta válida!\")\n",
    "                    \n",
    "                    except ValueError:\n",
    "                        print(\"Você não digitou um inteiro!\")\n",
    "\n",
    "                if j == 0:\n",
    "                    parcela_1.append(digito)\n",
    "                else:\n",
    "                    parcela_2.append(digito)\n",
    "                    \n",
    "    return parcela_1, parcela_2"
   ]
  },
  {
   "cell_type": "code",
   "execution_count": null,
   "metadata": {},
   "outputs": [],
   "source": [
    "def soma(parcela_1, parcela_2):\n",
    "    \"\"\"\n",
    "    Realiza a soma entre duas listas contendo os algarismos de cada parcela\n",
    "    \"\"\"\n",
    "    vai_1 = []\n",
    "    resultado = []\n",
    "    for i in range(len(parcela_1)): # iterando entre cada algarismo\n",
    "                    \n",
    "        # somando os dígitos do mesmo algarismo, da direita para a esquerda\n",
    "        soma = parcela_1[-(i+1)] + parcela_2[-(i+1)]\n",
    "        \n",
    "        # verificando se a a soma do algarismo anterior retornou um vai 1. \n",
    "        # Caso ocorra, adicionamos 1 à soma\n",
    "        if len(vai_1) > 0:\n",
    "            if vai_1[i-1] == True: # Caso \n",
    "                soma += 1\n",
    "        \n",
    "        # Caso não seja o último número do resultado (pois ele tem os dois dígitos da soma e não vai_1)\n",
    "        if i != len(parcela_1)-1:\n",
    "        \n",
    "            # adicionando o dígito obtido ao número final de resultado\n",
    "            if soma < 10:\n",
    "                resultado.append(soma)\n",
    "                vai_1.append(False)\n",
    "            else:\n",
    "                # Caso a soma seja maior do que dez, armazenamos True no vetor de vai_1.\n",
    "                # Isso garante que adicionaremos 1 na próxima soma\n",
    "                soma = soma - 10\n",
    "                resultado.append(soma)\n",
    "                vai_1.append(True) \n",
    "        else:\n",
    "            # Caso este seja o último número do resultado, somamos e retornamos o valor cheio\n",
    "            digitos_finais = []\n",
    "            \n",
    "            # Como não sabemos se a última soma retorna um número de 1 ou 2 dígitos,\n",
    "            # realizo um for que independe disso para funcionar\n",
    "            for i in str(soma):\n",
    "                digitos_finais.append(i) \n",
    "            digitos_finais = digitos_finais[::-1] # o resultado foi calculado de maneira invertida \n",
    "            \n",
    "            for i in digitos_finais:\n",
    "                resultado.append(int(i))\n",
    "        \n",
    "    return resultado[::-1] # o resultado foi calculado de maneira invertida "
   ]
  },
  {
   "cell_type": "code",
   "execution_count": null,
   "metadata": {},
   "outputs": [],
   "source": [
    "def exibe_soma(parcela1, parcela2, resultado):\n",
    "    \"\"\"\n",
    "    Exibe os dois números somados, com o resultado, no formato de uma soma convencional feita no papel.\n",
    "    \"\"\"\n",
    "    \n",
    "    # printando a linha da primeira parcela, adicionando cada dígito em um string\n",
    "    string_1 = \" \"\n",
    "    for i in parcela1:\n",
    "        string_1 += \" \" + str(i) \n",
    "    string_1 += \"\\n\" # pula linha\n",
    "    \n",
    "    # printando a linha da segunda parcela, adicionando cada dígito em um string\n",
    "    string_2 = \"+\"\n",
    "    for i in parcela2:\n",
    "        string_2 += \" \" + str(i)\n",
    "    string_2 += \"\\n\" # pula linha\n",
    "    \n",
    "    # printando a barra do resultado, com base na quantidade de algarismos\n",
    "    string_3 = ((2*(len(parcela1)+1))-1) * \"-\"  + \"\\n\" \n",
    "    \n",
    "    # printando a parcela do resultado, adicionando cada dígito em um string\n",
    "    if len(resultado) == len(parcela1): # adiciona mais espaço caso o o resultado tenha um dígito a mais que as parcelas\n",
    "        string_4 = \"  \"\n",
    "    else:\n",
    "        string_4 = \"\"\n",
    "    for i in resultado:\n",
    "        string_4 += str(i) + \" \" \n",
    "    string_4 = string_4[:-1] # apaga o último espaço\n",
    "    \n",
    "    return string_1 + string_2 + string_3 + string_4"
   ]
  },
  {
   "cell_type": "markdown",
   "metadata": {},
   "source": [
    "### Questão 2:"
   ]
  },
  {
   "cell_type": "code",
   "execution_count": 2,
   "metadata": {},
   "outputs": [],
   "source": [
    "def farey(n):\n",
    "    \"\"\"\n",
    "    Calcula a sequência de Farey relativa a n, e retorna uma tupla contendo duas listas,\n",
    "    sendo uma com os numeradores e outra com os denominadores dos elementos, de forma ordenada.\n",
    "    \"\"\"\n",
    "    if n < 0:\n",
    "        print(\"Insira um argumento válido!\")\n",
    "        return None\n",
    "    else:\n",
    "        numeradores = []\n",
    "        denominadores = []\n",
    "        num_testados, den_testados, quocientes = [], [], []\n",
    "\n",
    "        # Testa combinações dos numeradores e denominadores possíveis de 1:n\n",
    "        for num in list(range(n+1)): \n",
    "            for den in list(range(1,n+1)):            \n",
    "                quociente = num/den # calcula o quociente  \n",
    "\n",
    "                if quociente in quocientes: # se já calculamos outra fração que resulta nesse quociente, salvamos seu índice\n",
    "                    pos = quocientes.index(quociente)\n",
    "\n",
    "                    for i in range(n): # verificamos se o numerador e denominador da fração testada são multiplos dos da fração já testada \n",
    "                        if (numeradores[pos], denominadores[pos]) == (i*num, i*den):\n",
    "\n",
    "                            # Caso o numerador anterior seja múltiplo do atual, apagamos seu valor e adicionamos os novos\n",
    "                            numeradores.pop(pos)\n",
    "                            denominadores.pop(pos)\n",
    "                            quocientes.pop(pos)\n",
    "\n",
    "                            numeradores.append(num)\n",
    "                            denominadores.append(den)\n",
    "                            quocientes.append(quociente)\n",
    "\n",
    "                else:\n",
    "                    # Caso não tenhamos calculado nenhuma fração com esse quociente\n",
    "                    numeradores.append(num)\n",
    "                    denominadores.append(den)\n",
    "                    quocientes.append(quociente)\n",
    "\n",
    "        # Armazena o resultado em tuplas de mesmo índice, juntos em uma lista, \n",
    "        # com cada elemento i sendo uma tupla com os elementos i de cada vetor (Ex.: lista[i] = (quo[i], den[i], num[i]).\n",
    "        resultado_em_tuplas = list(zip(quocientes, denominadores, numeradores))\n",
    "\n",
    "        # Ordenando com base no quociente, mantendo a ordem do seu numerador e denominador associado\n",
    "        resultado_em_tuplas.sort()\n",
    "\n",
    "        # Desempacotando a tupla anterior para obter os numeradores ordenados\n",
    "        num_ordenado = [k for i,j,k in resultado_em_tuplas]\n",
    "        # Desempacotando a tupla anterior para obter os denominadores ordenados\n",
    "        den_ordenado = [j for i,j,k in resultado_em_tuplas]\n",
    "\n",
    "        # Como a sequência de Farey só apresenta divisões entre 0 e 1, apagamos os numeradores e denominadores\n",
    "        # cujos quocientes resultem em valores maiores que 1.\n",
    "        menores_que_1 = True \n",
    "        i = 0\n",
    "        while menores_que_1:\n",
    "            if num_ordenado[i] / den_ordenado[i] > 1:\n",
    "                num_ordenado = num_ordenado[:i]\n",
    "                den_ordenado = den_ordenado[:i]\n",
    "                menores_que_1 = False\n",
    "            else:\n",
    "                i += 1\n",
    "\n",
    "        return num_ordenado, den_ordenado\n",
    "\n",
    "def exibe_farey(numeradores, denominadores):\n",
    "    \"\"\"\n",
    "    Mostra a sequência de Farey na tela, em ordem crescente.\n",
    "    \"\"\"\n",
    "    # printando a linha dos numeradores, adicionando cada dígito em um string\n",
    "    string_1 = \"\"\n",
    "    for i in numeradores:\n",
    "        string_1 += str(i) + \" \"\n",
    "    string_1 = string_1[:-1] # apaga o último espaço\n",
    "    string_1 += \"\\n\" # pula linha\n",
    "    \n",
    "    # printando a linha que divide numerador e denominador, adicionando cada dígito em um string\n",
    "    string_2 = \"\"\n",
    "    for i in denominadores:\n",
    "        string_2 += \"-\" + \" \"\n",
    "    string_2 = string_2[:-1] # apaga o último espaço\n",
    "    string_2 += \"\\n\" # pula linha\n",
    "    \n",
    "    # printando a linha dos denominadores, adicionando cada dígito em um string\n",
    "    string_3 = \"\"\n",
    "    for i in denominadores:\n",
    "        string_3 += str(i) + \" \"\n",
    "    string_3 = string_3[:-1] # apaga o último espaço\n",
    "    \n",
    "    return string_1 + string_2 + string_3"
   ]
  },
  {
   "cell_type": "markdown",
   "metadata": {},
   "source": [
    "### Questão 3:"
   ]
  },
  {
   "cell_type": "code",
   "execution_count": 8,
   "metadata": {},
   "outputs": [],
   "source": [
    "def estrobogramatico(n):\n",
    "    \"\"\"\n",
    "    Retorna uma lista contendo todos os números estrobogramáticos de 1:n\n",
    "    \"\"\"\n",
    "    if n < 0:\n",
    "        print(\"Insira um argumento válido!\")\n",
    "        return None\n",
    "    else:\n",
    "        # Definimos os pares invertíveis em formato chave-valor (preferi utilizar tuplas, mas pode ser feito com dicionários também)\n",
    "        pares_invertiveis = [(\"0\",\"0\"), (\"1\",\"1\"), (\"2\",\"2\"), (\"5\",\"5\"), (\"6\",\"9\"), (\"8\",\"8\"), (\"9\",\"6\")]    \n",
    "\n",
    "        # Cria uma lista com todos os números de 1 a n em formato de string (para iterarmos entre os dígitos)\n",
    "        numeros = [str(i) for i in list(range(n+1))]\n",
    "        resultado = []\n",
    "\n",
    "        for num in numeros: # para cada número de 1 a n\n",
    "            estrobo = True\n",
    "            for i in range(len(num)): # posicoes dos digitos dentro do número\n",
    "                par = (num[i], num[-(i+1)]) # compara o dígito com o seu oposto correspondente\n",
    "                if par not in pares_invertiveis: # se forem dígitos que, invertidos, não são iguais, o número não pode ser estrobogramático\n",
    "                    estrobo = False\n",
    "\n",
    "            if estrobo: # armazena o número caso ele seja estrobogramático\n",
    "                resultado.append(int(num))\n",
    "\n",
    "        return resultado"
   ]
  },
  {
   "cell_type": "markdown",
   "metadata": {},
   "source": [
    "# 4. Utilização do Programa"
   ]
  },
  {
   "cell_type": "markdown",
   "metadata": {},
   "source": [
    "### Questão 1:\n",
    "\n",
    "Iniciamos o programa com a função `entrada_soma()`, que faz duas perguntas, e a partir daí há dois casos distintos.\n",
    "\n",
    "* se os números a serem somados serão imputados pelo usuário ou não -> As respostas possíveis são [Ss]/Nn, e caso o usuário digite uma resposta que não está nesse intervalo, o loop while não termina e a questão pergunta novamente. \n",
    "* a quantidade de algarismos que os números conterão -> As respostas possíveis são qualquer inteiro maior do que zero, realizando o mesmo tipo de verificação de entrada anterior\n",
    "\n",
    "\n",
    "Caso o usuário deseje imputar os algarismos na mão:\n",
    "* o usuário imputa cada algarismo separadamente, em ordem -> As respostas possíveis são números inteiros entre 0 e 9, realizando o mesmo tipo de verificação de entrada anterior.\n",
    "\n",
    "Caso o usuário deseje gerar números aleatórios, são geradas duas parcelas aleatórias.\n",
    "\n",
    "A função entrada_soma() retorna uma tupla com duas listas: no índice 0, os algarismos da primeira parcela, no índice 1, os da segunda. \n",
    "\n",
    "A função soma() exige as duas listas que representam as duas parcelas, que são os resultados [0] e [1] da função de entrada_soma(). Ela retorna uma lista com os algarismos do número resultante da soma. \n",
    "\n",
    "A função exibe_soma() recebe as listas com os valores das duas parcelas e o valor da resultante da soma, e retorna um string que pode ser printado para exibir no formato desejado.\n"
   ]
  },
  {
   "cell_type": "markdown",
   "metadata": {},
   "source": [
    "### Questão 2:\n",
    "\n",
    "A função farey() recebe um número inteiro como parâmetro, para calcular a sequência de Farey relativa a ele. Caso o argumento imputado não seja o desejado, a função printa uma mensagem dizendo que não foi inserido um valor válido.\n",
    "\n",
    "farey() retorna uma tupla com duas listas: uma com os numeradores das frações componentes da sequência de Farey, e outra com os denominadores.\n",
    "\n",
    "A função exibe_farey() recebe os valores do vetor de numeradores e denominadores (que podem ser acessados a partir do índice [0] e [1] do valor retornado por farey(n), e exibe as frações em ordem crescente. "
   ]
  },
  {
   "cell_type": "markdown",
   "metadata": {},
   "source": [
    "### Questão 3:\n",
    "\n",
    "A função deve receber um número inteiro n maior do que zero como argumento, e retornar uma lista com todos os números estrobogramáticos de 1 até n. Caso o argumento imputado não seja o desejado, a função printa uma mensagem dizendo que não foi inserido um valor válido."
   ]
  },
  {
   "cell_type": "markdown",
   "metadata": {},
   "source": [
    "# 5. Testes"
   ]
  },
  {
   "cell_type": "markdown",
   "metadata": {},
   "source": [
    "### Questão 1:"
   ]
  },
  {
   "cell_type": "code",
   "execution_count": 21,
   "metadata": {},
   "outputs": [
    {
     "name": "stdout",
     "output_type": "stream",
     "text": [
      "Deseja entrar com uma sequência de inteiros? ([Ss]/Nn) s\n",
      "\n",
      "Digite o número de inteiros que cada sequência terá: 3\n",
      "Digite o 1º dígito da 1ª parcela: 1\n",
      "Digite o 1º dígito da 2ª parcela: 2\n",
      "Digite o 2º dígito da 1ª parcela: 3\n",
      "Digite o 2º dígito da 2ª parcela: 4\n",
      "Digite o 3º dígito da 1ª parcela: 5\n",
      "Digite o 3º dígito da 2ª parcela: 6\n",
      "\n",
      "  1 3 5\n",
      "+ 2 4 6\n",
      "-------\n",
      "  3 8 1\n"
     ]
    }
   ],
   "source": [
    "# Caso 1: usuário entra com os valores das parcelas\n",
    "parcelas = entrada_soma()\n",
    "resultado = soma(parcelas[0], parcelas[1])\n",
    "print()\n",
    "print(exibe_soma(parcelas[0], parcelas[1], resultado))"
   ]
  },
  {
   "cell_type": "code",
   "execution_count": 23,
   "metadata": {},
   "outputs": [
    {
     "name": "stdout",
     "output_type": "stream",
     "text": [
      "Deseja entrar com uma sequência de inteiros? ([Ss]/Nn) n\n",
      "\n",
      "Digite o número de inteiros que cada sequência terá: 4\n",
      "\n",
      "  5 6 4 7\n",
      "+ 7 3 6 4\n",
      "---------\n",
      "1 3 0 1 1\n"
     ]
    }
   ],
   "source": [
    "# Caso 2: os valores das parcelas são gerados automaticamente\n",
    "parcelas = entrada_soma()\n",
    "resultado = soma(parcelas[0], parcelas[1])\n",
    "print()\n",
    "print(exibe_soma(parcelas[0], parcelas[1], resultado))"
   ]
  },
  {
   "cell_type": "markdown",
   "metadata": {},
   "source": [
    "### Questão 2:"
   ]
  },
  {
   "cell_type": "code",
   "execution_count": 6,
   "metadata": {},
   "outputs": [
    {
     "name": "stdout",
     "output_type": "stream",
     "text": [
      "0 1 1 1 1 1 2 1 2 1 3 2 3 4 1 5 4 3 5 2 5 3 7 4 5 6 7 8 1\n",
      "- - - - - - - - - - - - - - - - - - - - - - - - - - - - -\n",
      "1 9 8 7 6 5 9 4 7 3 8 5 7 9 2 9 7 5 8 3 7 4 9 5 6 7 8 9 1\n"
     ]
    }
   ],
   "source": [
    "n = 9 \n",
    "sequencia = farey(n)\n",
    "print(exibe_farey(sequencia[0], sequencia[1]))"
   ]
  },
  {
   "cell_type": "markdown",
   "metadata": {},
   "source": [
    "### Questão 3:"
   ]
  },
  {
   "cell_type": "code",
   "execution_count": 9,
   "metadata": {},
   "outputs": [
    {
     "name": "stdout",
     "output_type": "stream",
     "text": [
      "[0, 1, 2, 5, 8, 11, 22, 55, 69, 88, 96, 101, 111, 121, 151, 181, 202, 212, 222, 252, 282, 505, 515, 525, 555, 585, 609, 619, 629, 659, 689]\n"
     ]
    }
   ],
   "source": [
    "n = 689\n",
    "print(estrobogramatico(n))"
   ]
  },
  {
   "cell_type": "markdown",
   "metadata": {},
   "source": [
    "# 6. Conclusão"
   ]
  },
  {
   "cell_type": "markdown",
   "metadata": {},
   "source": [
    "O trabalho me ajudou a entender mais sobre listas, e realizar operações vetorizadas sem a dependência de bibliotecas como pandas ou arrays NumPy. Além disso, aprendemos sobre manipulação de strings e operações percorrendo diversas listas ao mesmo tempo (como for's aninhados). "
   ]
  }
 ],
 "metadata": {
  "kernelspec": {
   "display_name": "Python 3 (ipykernel)",
   "language": "python",
   "name": "python3"
  },
  "language_info": {
   "codemirror_mode": {
    "name": "ipython",
    "version": 3
   },
   "file_extension": ".py",
   "mimetype": "text/x-python",
   "name": "python",
   "nbconvert_exporter": "python",
   "pygments_lexer": "ipython3",
   "version": "3.8.5"
  }
 },
 "nbformat": 4,
 "nbformat_minor": 4
}
