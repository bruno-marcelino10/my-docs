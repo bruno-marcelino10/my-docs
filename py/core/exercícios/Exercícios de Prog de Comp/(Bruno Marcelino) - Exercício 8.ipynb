{
 "cells": [
  {
   "cell_type": "markdown",
   "metadata": {},
   "source": [
    "# Exercício 1"
   ]
  },
  {
   "cell_type": "code",
   "execution_count": 1,
   "metadata": {},
   "outputs": [],
   "source": [
    "def exercicio_1(lista):\n",
    "    if len(lista) == 0:\n",
    "        return None\n",
    "    else:\n",
    "        resultado = 0\n",
    "        for i in lista:\n",
    "            resultado = resultado + i\n",
    "        return resultado"
   ]
  },
  {
   "cell_type": "markdown",
   "metadata": {},
   "source": [
    "# Exercício 2"
   ]
  },
  {
   "cell_type": "code",
   "execution_count": 5,
   "metadata": {},
   "outputs": [],
   "source": [
    "def exercicio_2(lista):\n",
    "    if len(lista) == 0:\n",
    "        return None\n",
    "    else:\n",
    "        soma = 0\n",
    "        for i in lista:\n",
    "            soma += i\n",
    "            \n",
    "        media = soma/len(lista)\n",
    "        return media"
   ]
  },
  {
   "cell_type": "markdown",
   "metadata": {},
   "source": [
    "# Exercício 3"
   ]
  },
  {
   "cell_type": "code",
   "execution_count": 30,
   "metadata": {},
   "outputs": [],
   "source": [
    "def exercicio_3(lista):\n",
    "    if len(lista) == 0:\n",
    "        return None, None\n",
    "    else:\n",
    "        maior = lista[0]\n",
    "        menor = lista[0]\n",
    "        for i in lista:\n",
    "            if i > maior: \n",
    "                maior = i\n",
    "        for j in lista:\n",
    "            if j < menor:\n",
    "                menor = j\n",
    "        return menor, maior"
   ]
  },
  {
   "cell_type": "markdown",
   "metadata": {},
   "source": [
    "# Exercício 4"
   ]
  },
  {
   "cell_type": "code",
   "execution_count": 1,
   "metadata": {},
   "outputs": [],
   "source": [
    "def exercicio_4(lista):\n",
    "    if len(lista) == 0:\n",
    "        return 0\n",
    "    else: \n",
    "        resultado = 0\n",
    "        for i in lista:\n",
    "            if i[0] == i[-1] and len(i) >= 2:\n",
    "                resultado += 1\n",
    "        return resultado"
   ]
  },
  {
   "cell_type": "markdown",
   "metadata": {},
   "source": [
    "# Exercício 5"
   ]
  },
  {
   "cell_type": "code",
   "execution_count": 32,
   "metadata": {},
   "outputs": [],
   "source": [
    "def exercicio_5(lista):\n",
    "    copia = lista.copy()\n",
    "    return copia"
   ]
  },
  {
   "cell_type": "markdown",
   "metadata": {},
   "source": [
    "# Exercício 6"
   ]
  },
  {
   "cell_type": "code",
   "execution_count": 34,
   "metadata": {},
   "outputs": [],
   "source": [
    "def exercicio_6(lista1, lista2):\n",
    "    resultado = False\n",
    "    for i in lista1:\n",
    "        if i in lista2:\n",
    "            resultado = True\n",
    "    return resultado"
   ]
  },
  {
   "cell_type": "markdown",
   "metadata": {},
   "source": [
    "# Exercício 7"
   ]
  },
  {
   "cell_type": "code",
   "execution_count": 1,
   "metadata": {},
   "outputs": [],
   "source": [
    "def exercicio_7(linhas):\n",
    "    if linhas <= 0:\n",
    "        return None\n",
    "    else:\n",
    "        num_stars = []\n",
    "        for i in range(1, linhas+1):\n",
    "            num_stars.append((2*i)-1)\n",
    "            \n",
    "        num_char = num_stars[-1]\n",
    "        \n",
    "        num_espacos = []\n",
    "        for i in num_stars:\n",
    "            num_espacos.append(num_char - i)\n",
    "        \n",
    "        resultado = []\n",
    "        for i in range(linhas):\n",
    "            resultado.append((int(num_espacos[i]/2) * \" \") + (num_stars[i] * \"*\") + \"\\n\")\n",
    "        \n",
    "        string = \"\"\n",
    "        for i in resultado:\n",
    "            string += i\n",
    "        \n",
    "        return string[:-1]"
   ]
  },
  {
   "cell_type": "markdown",
   "metadata": {},
   "source": [
    "# Exercício 8"
   ]
  },
  {
   "cell_type": "code",
   "execution_count": 27,
   "metadata": {},
   "outputs": [],
   "source": [
    "def exercicio_8(linhas):\n",
    "    if linhas <= 0:\n",
    "        return None\n",
    "    else:\n",
    "        # Gallhos\n",
    "        num_stars = []\n",
    "        for i in range(1, linhas+1):\n",
    "            num_stars.append((2*i)-1)\n",
    "            \n",
    "        # Invertendo Galhos\n",
    "        num_stars = num_stars[::-1]\n",
    "        num_char = num_stars[0]\n",
    "        \n",
    "        # Espaços em Branco\n",
    "        num_espacos = []\n",
    "        for i in num_stars:\n",
    "            num_espacos.append(num_char - i)\n",
    "        \n",
    "        # Construindo as linhas da árvore\n",
    "        resultado = []\n",
    "        for i in range(linhas):\n",
    "            resultado.append((int(num_espacos[i]/2) * \" \") + (num_stars[i] * \"*\") + \"\\n\")\n",
    "        \n",
    "        # Concatenando as strings em uma só\n",
    "        string = \"\"\n",
    "        for i in resultado:\n",
    "            string += i\n",
    "        \n",
    "        # Não sei se a string pode terminar com um espaço em branco ou um asterisco, então ela termina em asterisco\n",
    "        return string[:-1]"
   ]
  },
  {
   "cell_type": "markdown",
   "metadata": {},
   "source": [
    "# Exercício 9"
   ]
  },
  {
   "cell_type": "code",
   "execution_count": 46,
   "metadata": {},
   "outputs": [],
   "source": [
    "def exercicio_9(linhas):\n",
    "    if linhas <= 0:\n",
    "        return None\n",
    "    else:\n",
    "        # Galhos\n",
    "        num_stars = []\n",
    "        for i in range(1, linhas+1):\n",
    "            num_stars.append((2*i)-1)\n",
    "            \n",
    "        # Base\n",
    "        num_stars_base = num_stars[linhas//2:linhas-1]\n",
    "        \n",
    "        # Somando\n",
    "        num_stars = num_stars + num_stars_base\n",
    "        num_char = max(num_stars)\n",
    "        \n",
    "        # Espaços em Branco\n",
    "        num_espacos = []\n",
    "        for i in num_stars:\n",
    "            num_espacos.append(num_char - i)\n",
    "        \n",
    "        # Construindo as linhas da árvore\n",
    "        resultado = []\n",
    "        for i in range(len(num_stars)):\n",
    "            resultado.append((int(num_espacos[i]/2) * \" \") + (num_stars[i] * \"*\") + \"\\n\")\n",
    "        \n",
    "        # Concatenando as strings em uma só\n",
    "        string = \"\"\n",
    "        for i in resultado:\n",
    "            string += i\n",
    "        \n",
    "        return string[:-1]"
   ]
  }
 ],
 "metadata": {
  "kernelspec": {
   "display_name": "Python 3 (ipykernel)",
   "language": "python",
   "name": "python3"
  },
  "language_info": {
   "codemirror_mode": {
    "name": "ipython",
    "version": 3
   },
   "file_extension": ".py",
   "mimetype": "text/x-python",
   "name": "python",
   "nbconvert_exporter": "python",
   "pygments_lexer": "ipython3",
   "version": "3.8.5"
  }
 },
 "nbformat": 4,
 "nbformat_minor": 4
}
