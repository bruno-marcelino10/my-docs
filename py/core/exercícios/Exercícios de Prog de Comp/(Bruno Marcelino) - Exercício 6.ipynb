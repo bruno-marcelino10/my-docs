{
 "cells": [
  {
   "cell_type": "markdown",
   "metadata": {},
   "source": [
    "# Exercício 1"
   ]
  },
  {
   "cell_type": "markdown",
   "metadata": {},
   "source": [
    "MATRÍCULA: 2019013155 -> 0 e 5 iniciais"
   ]
  },
  {
   "cell_type": "markdown",
   "metadata": {},
   "source": [
    "string = \"0190131525\" \n",
    "\n",
    "fatia = string[::1]\n",
    "\n",
    "```\n",
    "|------------------------------------------------------>                                              \n",
    "(0)   (1)   (2)   (3)   (4)   (5)   (6)   (7)   (8)   (9)\n",
    " 0  -  1  -  9  -  0  -  1  -  3  -  1  -  5  -  2  -  5 \n",
    "(-10) (-9)  (-8)  (-7)  (-6)  (-5)  (-4)  (-3)  (-2)  (-1)\n",
    "                                                \n",
    "```\n",
    "\n",
    "**RESPOSTA:** fatia = \"0190131525\""
   ]
  },
  {
   "cell_type": "markdown",
   "metadata": {},
   "source": [
    "string = \"0190131525\" \n",
    "\n",
    "fatia = string[0:7]\n",
    "\n",
    "```\n",
    "|------------------------------------>                                              \n",
    "(0)   (1)   (2)   (3)   (4)   (5)   (6)   (7)   (8)   (9)\n",
    " 0  -  1  -  9  -  0  -  1  -  3  -  1  -  5  -  2  -  5 \n",
    "(-10) (-9)  (-8)  (-7)  (-6)  (-5)  (-4)  (-3)  (-2)  (-1)\n",
    "                                                \n",
    "```\n",
    "\n",
    "**RESPOSTA:** fatia = \"0190131\""
   ]
  },
  {
   "cell_type": "markdown",
   "metadata": {},
   "source": [
    "string = \"0190131525\" \n",
    "\n",
    "fatia = string[-9:7]\n",
    "\n",
    "```\n",
    "                                                    \n",
    "(0)   (1)   (2)   (3)   (4)   (5)   (6)   (7)   (8)   (9)\n",
    " 0  -  1  -  9  -  0  -  1  -  3  -  1  -  5  -  2  -  5 \n",
    "(-10) (-9)  (-8)  (-7)  (-6)  (-5)  (-4)  (-3)  (-2)  (-1)\n",
    "      |------------------------------>                                          \n",
    "```\n",
    "\n",
    "**RESPOSTA:** fatia = \"190131\""
   ]
  },
  {
   "cell_type": "markdown",
   "metadata": {},
   "source": [
    "string = \"0190131525\" \n",
    "\n",
    "fatia = string[1:-1]\n",
    "\n",
    "```\n",
    "      |------------------------------------------>                                              \n",
    "(0)   (1)   (2)   (3)   (4)   (5)   (6)   (7)   (8)   (9)\n",
    " 0  -  1  -  9  -  0  -  1  -  3  -  1  -  5  -  2  -  5 \n",
    "(-10) (-9)  (-8)  (-7)  (-6)  (-5)  (-4)  (-3)  (-2)  (-1)\n",
    "                                                \n",
    "```\n",
    "\n",
    "**RESPOSTA:** fatia = \"19013152\""
   ]
  },
  {
   "cell_type": "markdown",
   "metadata": {},
   "source": [
    "string = \"0190131525\" \n",
    "\n",
    "fatia = string[-10:-5]\n",
    "\n",
    "```\n",
    "                                     \n",
    "(0)   (1)   (2)   (3)   (4)   (5)   (6)   (7)   (8)   (9)\n",
    " 0  -  1  -  9  -  0  -  1  -  3  -  1  -  5  -  2  -  5 \n",
    "(-10) (-9)  (-8)  (-7)  (-6)  (-5)  (-4)  (-3)  (-2)  (-1)\n",
    "|------------------------>                                                \n",
    "```\n",
    "\n",
    "**RESPOSTA:** fatia = \"01901\""
   ]
  },
  {
   "cell_type": "markdown",
   "metadata": {},
   "source": [
    "string = \"0190131525\" \n",
    "\n",
    "fatia = string[::-1]\n",
    "\n",
    "```\n",
    "|------------------------------------------------------>                               \n",
    "(0)   (1)   (2)   (3)   (4)   (5)   (6)   (7)   (8)   (9)\n",
    " 0  -  1  -  9  -  0  -  1  -  3  -  1  -  5  -  2  -  5 \n",
    "(-10) (-9)  (-8)  (-7)  (-6)  (-5)  (-4)  (-3)  (-2)  (-1)\n",
    "                                                \n",
    "```\n",
    "\n",
    "**RESPOSTA:** fatia = \"0190131525\""
   ]
  },
  {
   "cell_type": "markdown",
   "metadata": {},
   "source": [
    "string = \"0190131525\" \n",
    "\n",
    "fatia = string[3:8:-1]\n",
    "\n",
    "```\n",
    "                         <-----------------------|      \n",
    "(0)   (1)   (2)   (3)   (4)   (5)   (6)   (7)   (8)   (9)\n",
    " 0  -  1  -  9  -  0  -  1  -  3  -  1  -  5  -  2  -  5 \n",
    "(-10) (-9)  (-8)  (-7)  (-6)  (-5)  (-4)  (-3)  (-2)  (-1)\n",
    "                                                                     \n",
    "```\n",
    "\n",
    "**RESPOSTA:** fatia = \"25131\""
   ]
  },
  {
   "cell_type": "markdown",
   "metadata": {},
   "source": [
    "string = \"0190131525\" \n",
    "\n",
    "fatia = string[2:-9:-1]\n",
    "\n",
    "```\n",
    "      <------|      \n",
    "(0)   (1)   (2)   (3)   (4)   (5)   (6)   (7)   (8)   (9)\n",
    " 0  -  1  -  9  -  0  -  1  -  3  -  1  -  5  -  2  -  5 \n",
    "(-10) (-9)  (-8)  (-7)  (-6)  (-5)  (-4)  (-3)  (-2)  (-1)\n",
    "                                                                     \n",
    "```\n",
    "\n",
    "**RESPOSTA:** fatia = \"9\""
   ]
  },
  {
   "cell_type": "markdown",
   "metadata": {},
   "source": [
    "string = \"0190131525\" \n",
    "\n",
    "fatia = string[-2:-5:-1]\n",
    "\n",
    "```\n",
    "           \n",
    "(0)   (1)   (2)   (3)   (4)   (5)   (6)   (7)   (8)   (9)\n",
    " 0  -  1  -  9  -  0  -  1  -  3  -  1  -  5  -  2  -  5 \n",
    "(-10) (-9)  (-8)  (-7)  (-6)  (-5)  (-4)  (-3)  (-2)  (-1)\n",
    "                               <------------------|                        \n",
    "```\n",
    "\n",
    "**RESPOSTA:** fatia = \"251\""
   ]
  },
  {
   "cell_type": "markdown",
   "metadata": {},
   "source": [
    "string = \"0190131525\" \n",
    "\n",
    "fatia = string[-5:1:-1]\n",
    "\n",
    "```\n",
    "           \n",
    "(0)   (1)   (2)   (3)   (4)   (5)   (6)   (7)   (8)   (9)\n",
    " 0  -  1  -  9  -  0  -  1  -  3  -  1  -  5  -  2  -  5 \n",
    "(-10) (-9)  (-8)  (-7)  (-6)  (-5)  (-4)  (-3)  (-2)  (-1)\n",
    "             <-----------------|                        \n",
    "```\n",
    "\n",
    "**RESPOSTA:** fatia = \"3109\""
   ]
  },
  {
   "cell_type": "markdown",
   "metadata": {},
   "source": [
    "# Exercício 2"
   ]
  },
  {
   "cell_type": "markdown",
   "metadata": {},
   "source": [
    "s = \"0123456789\" ;\n",
    "\n",
    "s[-2,-1] = \"8\" (não inclui o 9 pois o fim é um conjunto aberto)\n",
    "\n",
    "```\n",
    "                                                <--- [8: 7: -1]  \n",
    "(0)   (1)   (2)   (3)   (4)   (5)   (6)   (7)   (8)   (9)\n",
    " 0  -  1  -  2  -  3  -  4  -  5  -  6  -  7  -  8  -  9 \n",
    "(-10) (-9)  (-8)  (-7)  (-6)  (-5)  (-4)  (-3)  (-2)  (-1)\n",
    "                                                ---> [-2: -1: 1]\n",
    "```\n",
    "\n",
    "**RESPOSTA:** [8: 7: -1] = [-2: -1: 1]\n"
   ]
  },
  {
   "cell_type": "markdown",
   "metadata": {},
   "source": [
    "# Exercício 3"
   ]
  },
  {
   "cell_type": "code",
   "execution_count": 77,
   "metadata": {},
   "outputs": [],
   "source": [
    "def exercicio_3(string):\n",
    "\n",
    "    if string == string[::-1]:\n",
    "        palindromo = True\n",
    "    else:\n",
    "        palindromo = False\n",
    "    \n",
    "    return palindromo"
   ]
  },
  {
   "cell_type": "markdown",
   "metadata": {},
   "source": [
    "# Exercício 4"
   ]
  },
  {
   "cell_type": "code",
   "execution_count": 1,
   "metadata": {},
   "outputs": [],
   "source": [
    "def exercicio_4_1(string):\n",
    "    if len(string) <= 1:\n",
    "        return True\n",
    "    else:\n",
    "        if string[0] != string[-1]:\n",
    "            return True\n",
    "        else:\n",
    "            string = string[1:-1]\n",
    "            return exercicio_4_1(string)"
   ]
  },
  {
   "cell_type": "code",
   "execution_count": 79,
   "metadata": {},
   "outputs": [],
   "source": [
    "def exercicio_4_2(string):\n",
    "\n",
    "    palindromo = True\n",
    "    for i in range(len(string)):\n",
    "        if string[i] != string[-(i+1)]:\n",
    "            palindromo = False\n",
    "\n",
    "    return palindromo"
   ]
  },
  {
   "cell_type": "markdown",
   "metadata": {},
   "source": [
    "# Exercício 5"
   ]
  },
  {
   "cell_type": "code",
   "execution_count": 81,
   "metadata": {},
   "outputs": [],
   "source": [
    "def exercicio_5(hora1, hora2):\n",
    "    \n",
    "    hora1_split = hora1.split(\":\")\n",
    "    hora2_split = hora2.split(\":\")\n",
    "    \n",
    "    # Separando as horas\n",
    "    horas_1 = hora1_split[0]\n",
    "    horas_2 = hora2_split[0]\n",
    "    \n",
    "    # Separando os minutos\n",
    "    minutos_1 = hora1_split[1]\n",
    "    minutos_2 = hora2_split[1]\n",
    "    \n",
    "    # Convertendo todos para float\n",
    "    horas_1 = float(horas_1)\n",
    "    horas_2 = float(horas_2)\n",
    "    minutos_1 = float(minutos_1)\n",
    "    minutos_2 = float(minutos_2)\n",
    "    \n",
    "    # Qual hora é maior:\n",
    "    if horas_1 > horas_2:\n",
    "        maior = 1\n",
    "    elif horas_1 < horas_2:\n",
    "        maior = 2\n",
    "    elif horas_1 == horas_2 and minutos_1 > minutos_2:\n",
    "        maior = 1\n",
    "    elif horas_1 == horas_2 and minutos_1 < minutos_2:\n",
    "        maior = 2\n",
    "    elif horas_1 == horas_2 and minutos_1 == minutos_2:\n",
    "        maior = 0\n",
    "        \n",
    "    # Diferença em segundos\n",
    "    if maior == 2:    \n",
    "        segundos_1 = (horas_1 * 3600) + (minutos_1 * 60)\n",
    "        segundos_2 = (horas_2 * 3600) + (minutos_2 * 60)\n",
    "        diff_segundos = segundos_2 - segundos_1\n",
    "    elif maior == 1:\n",
    "        segundos_2 = (horas_2 * 3600) + (minutos_2 * 60)\n",
    "        segundos_1 = ((23 - horas_1) * 3600) + ((60 - minutos_1) * 60)\n",
    "        diff_segundos = segundos_2 + segundos_1\n",
    "    else:\n",
    "        diff_segundos = 0\n",
    "    \n",
    "    # Diferença em minutos\n",
    "    if maior == 2 or maior == 1:    \n",
    "        diff_minutos = diff_segundos/60\n",
    "    else:\n",
    "        diff_minutos = 0    \n",
    "        \n",
    "    # Diferença em Horas e Minutos\n",
    "    if maior == 2 or maior == 1:    \n",
    "        horas = int(diff_segundos/3600)\n",
    "        horas = str(horas)\n",
    "        \n",
    "        minutos = int((diff_segundos % 3600)/60)\n",
    "        minutos = str(minutos)\n",
    "        if len(minutos) != 2:\n",
    "            minutos = \"0\" + str(minutos)\n",
    "            \n",
    "        diff_horas = horas + \":\" + minutos            \n",
    "    else:\n",
    "        diff_horas = \"0:00\"    \n",
    "    \n",
    "    diff_minutos = str(int(diff_minutos))\n",
    "    diff_segundos = str(int(diff_segundos))\n",
    "    \n",
    "    return diff_horas + \";\" + diff_minutos + \";\" + diff_segundos"
   ]
  },
  {
   "cell_type": "markdown",
   "metadata": {},
   "source": [
    "# Exercícios 6"
   ]
  },
  {
   "cell_type": "code",
   "execution_count": 82,
   "metadata": {},
   "outputs": [],
   "source": [
    "def exercicio_6(a, b, c):\n",
    "     # a = comprimento\n",
    "     # b = largura\n",
    "     # c = altura\n",
    "\n",
    "    L1 = ((a**2) + (b**2)) ** 0.5\n",
    "    L2 = ((b**2) + (c**2)) ** 0.5\n",
    "    L3 = ((a**2) + (c**2)) ** 0.5\n",
    "    D = ((L1**2) + (c**2)) ** 0.5\n",
    "    \n",
    "    return (D, L1, L2, L3)"
   ]
  }
 ],
 "metadata": {
  "kernelspec": {
   "display_name": "Python 3 (ipykernel)",
   "language": "python",
   "name": "python3"
  },
  "language_info": {
   "codemirror_mode": {
    "name": "ipython",
    "version": 3
   },
   "file_extension": ".py",
   "mimetype": "text/x-python",
   "name": "python",
   "nbconvert_exporter": "python",
   "pygments_lexer": "ipython3",
   "version": "3.8.5"
  }
 },
 "nbformat": 4,
 "nbformat_minor": 4
}
