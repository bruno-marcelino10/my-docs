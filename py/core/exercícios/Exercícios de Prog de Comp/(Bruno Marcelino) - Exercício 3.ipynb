{
 "cells": [
  {
   "cell_type": "markdown",
   "metadata": {},
   "source": [
    "### QUESTÃO 1: Tipos de Operações Lógicas"
   ]
  },
  {
   "cell_type": "markdown",
   "metadata": {},
   "source": [
    "x > y ou x = y"
   ]
  },
  {
   "cell_type": "markdown",
   "metadata": {},
   "source": [
    "x < y ou x = y"
   ]
  },
  {
   "cell_type": "markdown",
   "metadata": {},
   "source": [
    "não(x = y)"
   ]
  },
  {
   "cell_type": "markdown",
   "metadata": {},
   "source": [
    "(0 < x ou 0 = x) e (x < Inf ou x = Inf) "
   ]
  },
  {
   "cell_type": "markdown",
   "metadata": {},
   "source": [
    "não(x > 0) ou (y > 0 ou y = 0)"
   ]
  },
  {
   "cell_type": "markdown",
   "metadata": {},
   "source": [
    "(não(x < 0 ou x = 0) ou (y > 0 ou y = 0)) e (não(y > 0 ou y = 0) ou (x < 0 ou x = 0))"
   ]
  },
  {
   "cell_type": "markdown",
   "metadata": {},
   "source": [
    "### QUESTÃO 2: Tabelas da Verdade"
   ]
  },
  {
   "cell_type": "markdown",
   "metadata": {},
   "source": [
    "#### Tabela x >= y"
   ]
  },
  {
   "cell_type": "markdown",
   "metadata": {},
   "source": [
    "x   y   x >= y \n",
    "1   3   False\n",
    "1   1   True\n",
    "3   3   True\n",
    "3   1   True"
   ]
  },
  {
   "cell_type": "markdown",
   "metadata": {},
   "source": [
    "#### Tabela x <= y"
   ]
  },
  {
   "cell_type": "markdown",
   "metadata": {},
   "source": [
    "x   y   x <= y \n",
    "1   3   True\n",
    "1   1   True\n",
    "3   3   True\n",
    "3   1   False"
   ]
  },
  {
   "cell_type": "markdown",
   "metadata": {},
   "source": [
    "#### Tabela x != y"
   ]
  },
  {
   "cell_type": "markdown",
   "metadata": {},
   "source": [
    "x   y   x != y \n",
    "1   3   True\n",
    "1   1   False\n",
    "3   3   False\n",
    "3   1   True"
   ]
  },
  {
   "cell_type": "markdown",
   "metadata": {},
   "source": [
    "#### Tabela 0 <= x and x <= Inf"
   ]
  },
  {
   "cell_type": "markdown",
   "metadata": {},
   "source": [
    "x   0 <= x and x <= Inf \n",
    "1   True\n",
    "3   True"
   ]
  },
  {
   "cell_type": "markdown",
   "metadata": {},
   "source": [
    "#### Tabela x > 0  ->  y >= 0 "
   ]
  },
  {
   "cell_type": "markdown",
   "metadata": {},
   "source": [
    "x > 0   y >= 0   x > 0 -> y >= 0 \n",
    "True       True        True\n",
    "True       True        True\n",
    "True       True        True\n",
    "True       True        True"
   ]
  },
  {
   "cell_type": "markdown",
   "metadata": {},
   "source": [
    "### Tabela x <= 0 é <-> y >= 0"
   ]
  },
  {
   "cell_type": "markdown",
   "metadata": {},
   "source": [
    "x <= 0   y >= 0   x <= 0 <-> y >= 0 \n",
    "False       True        True\n",
    "False       True        True\n",
    "False       True        True\n",
    "False       True        True"
   ]
  },
  {
   "cell_type": "markdown",
   "metadata": {},
   "source": [
    "### QUESTÃO 3: XOR"
   ]
  },
  {
   "cell_type": "markdown",
   "metadata": {},
   "source": [
    "#### 5.1:"
   ]
  },
  {
   "cell_type": "markdown",
   "metadata": {},
   "source": [
    "x       y      x XOR y \n",
    "True    False  True\n",
    "True    True   False\n",
    "False   False  False\n",
    "False   True   True"
   ]
  },
  {
   "cell_type": "markdown",
   "metadata": {},
   "source": [
    "#### 5.2:"
   ]
  },
  {
   "cell_type": "markdown",
   "metadata": {},
   "source": [
    "x e não(y) ou não(x) e y"
   ]
  },
  {
   "cell_type": "markdown",
   "metadata": {},
   "source": [
    "### QUESTÃO 4: Comparação entre EQUIVALE A e XOR"
   ]
  },
  {
   "cell_type": "markdown",
   "metadata": {},
   "source": [
    "x       y      x XOR y  x <-> y \n",
    "True    False  True     True\n",
    "True    True   False    False\n",
    "False   False  False    False\n",
    "False   True   True     True"
   ]
  },
  {
   "cell_type": "markdown",
   "metadata": {},
   "source": [
    "### QUESTÃO 5: Expressões Lógicas"
   ]
  },
  {
   "cell_type": "markdown",
   "metadata": {},
   "source": [
    "não(x) < y ou não(x) = y"
   ]
  },
  {
   "cell_type": "markdown",
   "metadata": {},
   "source": [
    "não(x) > y"
   ]
  },
  {
   "cell_type": "markdown",
   "metadata": {},
   "source": [
    "(x > y ou x = y) e (x < y)"
   ]
  },
  {
   "cell_type": "markdown",
   "metadata": {},
   "source": [
    "(x < y ou x = y) ou (x > y)"
   ]
  },
  {
   "cell_type": "markdown",
   "metadata": {},
   "source": [
    "0 < x ou 0 = x ou x < 10 ou x = 10"
   ]
  },
  {
   "cell_type": "markdown",
   "metadata": {},
   "source": [
    "não(a) e b"
   ]
  },
  {
   "cell_type": "markdown",
   "metadata": {},
   "source": [
    "a ou b "
   ]
  },
  {
   "cell_type": "markdown",
   "metadata": {},
   "source": [
    "a ou não(b)"
   ]
  },
  {
   "cell_type": "markdown",
   "metadata": {},
   "source": [
    "a ou b"
   ]
  },
  {
   "cell_type": "markdown",
   "metadata": {},
   "source": [
    "### QUESTÃO 6: Verificação das Expressões"
   ]
  },
  {
   "cell_type": "code",
   "execution_count": 42,
   "metadata": {},
   "outputs": [
    {
     "name": "stdout",
     "output_type": "stream",
     "text": [
      "a       b      não(a V não(b)) \n",
      "True    False  False\n",
      "True    True   False\n",
      "False   False  False\n",
      "False   True   True\n"
     ]
    }
   ],
   "source": [
    "print(\"a       b      não(a V não(b)) \") #cabeçalho\n",
    "a = True; b = False\n",
    "print(a,\"  \",b,\"\", not(a or not(b))) #linha 1\n",
    "a = True; b = True\n",
    "print(a,\"  \",b,\" \", not(a or not(b))) #linha 2\n",
    "a = False;  b = False\n",
    "print(a,\" \",b,\"\", not(a or not(b))) #linha 3\n",
    "a = False;  b = True\n",
    "print(a,\" \",b,\" \", not(a or not(b))) #linha 4"
   ]
  },
  {
   "cell_type": "code",
   "execution_count": 44,
   "metadata": {},
   "outputs": [
    {
     "name": "stdout",
     "output_type": "stream",
     "text": [
      "a       b      não(a) -> b \n",
      "True    False  True\n",
      "True    True   True\n",
      "False   False  False\n",
      "False   True   True\n"
     ]
    }
   ],
   "source": [
    "print(\"a       b      não(a) -> b \") #cabeçalho\n",
    "a = True; b = False\n",
    "print(a,\"  \",b,\"\", not(not(a)) or b) #linha 1\n",
    "a = True; b = True\n",
    "print(a,\"  \",b,\" \", not(not(a)) or b) #linha 2\n",
    "a = False;  b = False\n",
    "print(a,\" \",b,\"\", not(not(a)) or b) #linha 3\n",
    "a = False;  b = True\n",
    "print(a,\" \",b,\" \", not(not(a)) or b) #linha 4"
   ]
  },
  {
   "cell_type": "code",
   "execution_count": 45,
   "metadata": {},
   "outputs": [
    {
     "name": "stdout",
     "output_type": "stream",
     "text": [
      "a       b      não(a -> b) \n",
      "True    False  True\n",
      "True    True   False\n",
      "False   False  False\n",
      "False   True   False\n"
     ]
    }
   ],
   "source": [
    "print(\"a       b      não(a -> b) \") #cabeçalho\n",
    "a = True; b = False\n",
    "print(a,\"  \",b,\"\", not(not(a) or b)) #linha 1\n",
    "a = True; b = True\n",
    "print(a,\"  \",b,\" \", not(not(a) or b)) #linha 2\n",
    "a = False;  b = False\n",
    "print(a,\" \",b,\"\", not(not(a) or b)) #linha 3\n",
    "a = False;  b = True\n",
    "print(a,\" \",b,\" \", not(not(a) or b)) #linha 4"
   ]
  },
  {
   "cell_type": "code",
   "execution_count": 46,
   "metadata": {},
   "outputs": [
    {
     "name": "stdout",
     "output_type": "stream",
     "text": [
      "a       b      não(não(a) e não(b)) \n",
      "True    False  True\n",
      "True    True   True\n",
      "False   False  False\n",
      "False   True   True\n"
     ]
    }
   ],
   "source": [
    "print(\"a       b      não(não(a) e não(b)) \") #cabeçalho\n",
    "a = True; b = False\n",
    "print(a,\"  \",b,\"\", not(not(a) and not(b))) #linha 1\n",
    "a = True; b = True\n",
    "print(a,\"  \",b,\" \", not(not(a) and not(b))) #linha 2\n",
    "a = False;  b = False\n",
    "print(a,\" \",b,\"\", not(not(a) and not(b))) #linha 3\n",
    "a = False;  b = True\n",
    "print(a,\" \",b,\" \", not(not(a) and not(b))) #linha 4"
   ]
  },
  {
   "cell_type": "markdown",
   "metadata": {},
   "source": [
    "### QUESTÃO 7: "
   ]
  },
  {
   "cell_type": "markdown",
   "metadata": {},
   "source": [
    "As expressões 5.7 e 5.9 são equivalentes entre si. "
   ]
  },
  {
   "cell_type": "markdown",
   "metadata": {},
   "source": [
    "### QUESTÃO 8: "
   ]
  },
  {
   "cell_type": "code",
   "execution_count": 52,
   "metadata": {},
   "outputs": [
    {
     "name": "stdout",
     "output_type": "stream",
     "text": [
      "x       y      não(x e y)  não(x) ou não(y) \n",
      "True    False  True        True\n",
      "True    True   False       False\n",
      "False   False  True        True\n",
      "False   True   True        True\n"
     ]
    }
   ],
   "source": [
    "print(\"x       y      não(x e y)  não(x) ou não(y) \") #cabeçalho\n",
    "x = True; y = False\n",
    "print(x,\"  \",y,\"\", not(x and y),\"      \", not(x) or not(y)) #linha 1\n",
    "x = True; y = True\n",
    "print(x,\"  \",y,\" \", not(x and y),\"     \", not(x) or not(y)) #linha 2\n",
    "x = False;  y = False\n",
    "print(x,\" \",y,\"\", not(x and y),\"      \", not(x) or not(y)) #linha 3\n",
    "x = False;  y = True\n",
    "print(x,\" \",y,\" \", not(x and y),\"      \", not(x) or not(y)) #linha 4"
   ]
  },
  {
   "cell_type": "code",
   "execution_count": 54,
   "metadata": {},
   "outputs": [
    {
     "name": "stdout",
     "output_type": "stream",
     "text": [
      "x       y      não(x ou y)  não(x) e não(y) \n",
      "True    False  False        False\n",
      "True    True   False        False\n",
      "False   False  True         True\n",
      "False   True   False        False\n"
     ]
    }
   ],
   "source": [
    "print(\"x       y      não(x ou y)  não(x) e não(y) \") #cabeçalho\n",
    "x = True; y = False\n",
    "print(x,\"  \",y,\"\", not(x or y),\"      \", not(x) and not(y)) #linha 1\n",
    "x = True; y = True\n",
    "print(x,\"  \",y,\" \", not(x or y),\"      \", not(x) and not(y)) #linha 2\n",
    "x = False;  y = False\n",
    "print(x,\" \",y,\"\", not(x or y),\"       \", not(x) and not(y)) #linha 3\n",
    "x = False;  y = True\n",
    "print(x,\" \",y,\" \", not(x or y),\"      \", not(x) and not(y)) #linha 4"
   ]
  },
  {
   "cell_type": "code",
   "execution_count": null,
   "metadata": {},
   "outputs": [],
   "source": []
  }
 ],
 "metadata": {
  "kernelspec": {
   "display_name": "Python 3",
   "language": "python",
   "name": "python3"
  },
  "language_info": {
   "codemirror_mode": {
    "name": "ipython",
    "version": 3
   },
   "file_extension": ".py",
   "mimetype": "text/x-python",
   "name": "python",
   "nbconvert_exporter": "python",
   "pygments_lexer": "ipython3",
   "version": "3.8.5"
  }
 },
 "nbformat": 4,
 "nbformat_minor": 4
}
