{
 "cells": [
  {
   "cell_type": "markdown",
   "metadata": {},
   "source": [
    "# Exercício 1"
   ]
  },
  {
   "cell_type": "code",
   "execution_count": 38,
   "metadata": {},
   "outputs": [],
   "source": [
    "def exercicio_1(data):\n",
    "    meses = [\"Janeiro\", \"Fevereiro\", \"Março\", \"Abril\", \"Maio\", \"Junho\", \"Julho\", \"Agosto\", \"Setembro\", \"Outubro\", \"Novembro\", \"Dezembro\"]\n",
    "    try:\n",
    "        elementos = data.split(\"/\")\n",
    "        elementos[1] = meses[int(elementos[1])-1]\n",
    "        string = \"{0[0]} de {0[1]} de {0[2]}\".format(elementos)\n",
    "        return string\n",
    "    except:\n",
    "        return None"
   ]
  },
  {
   "cell_type": "markdown",
   "metadata": {},
   "source": [
    "# Exercício 2"
   ]
  },
  {
   "cell_type": "code",
   "execution_count": 2,
   "metadata": {},
   "outputs": [],
   "source": [
    "def localizar(caracteres, texto):\n",
    "\n",
    "    localizados = []\n",
    "    for i in texto:\n",
    "        if i in caracteres:\n",
    "            localizados.append(i)\n",
    "    \n",
    "    ocorrencias = []\n",
    "    for i in caracteres:\n",
    "        ocorrencias.append(localizados.count(str(i)))\n",
    "    \n",
    "    resultado = []\n",
    "    for i in range(len(caracteres)):\n",
    "        if ocorrencias[i] > 0:\n",
    "            resultado.append((caracteres[i],ocorrencias[i]))\n",
    "            \n",
    "    return resultado\n",
    "\n",
    "def exercicio_2(texto):\n",
    "    # espaços\n",
    "    espacos = localizar(\" \", texto)\n",
    "    \n",
    "    # vogais \n",
    "    vogais = localizar(\"AEIOUaeiou\", texto)\n",
    "    \n",
    "    # consoantes\n",
    "    consoantes = localizar(\"BCDFGHJKLMNPQRSTVWXYZbcdfghjklmnpqrstvwxyz\", texto)\n",
    "    \n",
    "    # pontuação\n",
    "    pontuacao = localizar(\"?!.,:;\\n\", texto)\n",
    "    \n",
    "    return espacos, vogais, consoantes, pontuacao"
   ]
  },
  {
   "cell_type": "markdown",
   "metadata": {},
   "source": [
    "# Exercício 3"
   ]
  },
  {
   "cell_type": "code",
   "execution_count": 240,
   "metadata": {},
   "outputs": [],
   "source": [
    "def exercicio_3(cpf):\n",
    "    import re \n",
    "    padrao = \"\\d\\d\\d\\.\\d\\d\\d.\\d\\d\\d-\\d\\d\"\n",
    "    match = re.match(padrao, cpf)\n",
    "    \n",
    "    if match:\n",
    "        digitos = \"\".join(re.findall(\"\\d\", cpf))\n",
    "        \n",
    "        # validação do digito 1\n",
    "        seq = list(range(10,1,-1))\n",
    "        soma = 0\n",
    "        for i in range(len(digitos)-2):\n",
    "            soma += int(digitos[i]) * seq[i]\n",
    "        val_1 = 11 - (soma % 11)\n",
    "        if val_1 < 10:\n",
    "            digito_1 = val_1\n",
    "        else:\n",
    "            digito_1 = 0\n",
    "        \n",
    "        # validação do digito 2 \n",
    "        seq = list(range(11,1,-1))\n",
    "        soma = 0\n",
    "        for i in range(len(digitos)-1):\n",
    "            soma += int(digitos[i]) * seq[i]\n",
    "        val_2 = 11 - (soma % 11)\n",
    "        if val_2 < 10:\n",
    "            digito_2 = val_2\n",
    "        else:\n",
    "            digito_2 = 0\n",
    "            \n",
    "        if digitos[9] == str(digito_1) and digitos[10] == str(digito_2):\n",
    "            return True\n",
    "        else:\n",
    "            return False\n",
    "    else: \n",
    "        return None"
   ]
  },
  {
   "cell_type": "markdown",
   "metadata": {},
   "source": [
    "# Exercício 4"
   ]
  },
  {
   "cell_type": "code",
   "execution_count": 241,
   "metadata": {},
   "outputs": [],
   "source": [
    "def exercicio_4(n):\n",
    "    numeros = [\"zero\", \"um\", \"dois\", \"tres\", \"quatro\", \"cinco\", \"seis\", \"sete\", \"oito\", \"nove\"]\n",
    "    mais_de_10 = [\"dez\", \"onze\", \"doze\", \"treze\", \"quatorze\", \"quinze\", \"dezesseis\", \"dezessete\", \"dezoito\", \"dezenove\"]\n",
    "    dezenas = [\"vinte\", \"trinta\", \"quarenta\", \"cinquenta\", \"sessenta\", \"setenta\", \"oitenta\", \"noventa\"]\n",
    "    \n",
    "    if n < 0:\n",
    "        return None\n",
    "    elif n == 100:\n",
    "        return \"cem\"\n",
    "    elif 0 <= n <= 9:\n",
    "        return numeros[n]\n",
    "    elif 10 <= n <= 19:\n",
    "        return mais_de_10[n-10]\n",
    "    else:\n",
    "        num_split = list(str(n))\n",
    "        if int(num_split[1]) != 0:\n",
    "            dezena = dezenas[int(num_split[0])-2]\n",
    "            unidade = numeros[int(num_split[1])]\n",
    "            return \"{} e {}\".format(dezena, unidade)\n",
    "        else:\n",
    "            return dezenas[int(num_split[0])-2]"
   ]
  },
  {
   "cell_type": "markdown",
   "metadata": {},
   "source": [
    "# Exercício 5"
   ]
  },
  {
   "cell_type": "code",
   "execution_count": 242,
   "metadata": {},
   "outputs": [],
   "source": [
    "def exercicio_5_1():\n",
    "    tabela = \"\"\n",
    "    for i in range(2,10):\n",
    "        colunas = \"\" \n",
    "        for j in range(1,10):\n",
    "            string = \"{0} x {1} = {2}\\t\".format(i, j, i*j)\n",
    "            colunas += string\n",
    "        tabela += colunas[:-1] + \"\\n\"\n",
    "        \n",
    "    return tabela[:-1]"
   ]
  },
  {
   "cell_type": "code",
   "execution_count": 243,
   "metadata": {},
   "outputs": [],
   "source": [
    "def exercicio_5_2():\n",
    "    tabela = \"\"\n",
    "    for i in range(1,21):\n",
    "        colunas = \"\"\n",
    "        for j in range(1, 5):\n",
    "            string = f\"{i**j}\".rjust(7)\n",
    "            colunas += string\n",
    "        tabela += colunas + \"\\n\"\n",
    "    \n",
    "    return tabela[:-1]"
   ]
  },
  {
   "cell_type": "code",
   "execution_count": 2,
   "metadata": {},
   "outputs": [],
   "source": [
    "def exercicio_5_3(n):\n",
    "    if n <= 0:\n",
    "        return None\n",
    "    elif n == 1:\n",
    "        return 1\n",
    "    elif n == 2:\n",
    "        return \"\\t1\\t\\n1\\t\\t1\"\n",
    "    else:\n",
    "        linhas = [[1], [1,1]]\n",
    "        for i in range(n-1):\n",
    "            linha_ant = linhas[-1]\n",
    "\n",
    "            linha_nova = [1]\n",
    "            for j in range(i+1):\n",
    "                num = linha_ant[j] + linha_ant[j+1]\n",
    "                linha_nova.append(num)\n",
    "            linha_nova.append(1)   \n",
    "\n",
    "            linhas.append(linha_nova)\n",
    "\n",
    "        string = \"\"\n",
    "        for linha in linhas:\n",
    "            linha_nova = \"\"\n",
    "            for num in linha:\n",
    "                linha_nova += str(num) + \"\\t\\t\"\n",
    "            linha_nova = linha_nova[:-2]\n",
    "\n",
    "            if len(linha) != n+1: # GAMBIARRA\n",
    "                num_tabs_antes = n - len(linha) # tab = /t\n",
    "                linha_nova = (\"\\t\"*(num_tabs_antes+1)) + linha_nova + (\"\\t\"*num_tabs_antes)\n",
    "\n",
    "                string += linha_nova + \"\\n\"\n",
    "            else:\n",
    "                num_tabs_antes = n - len(linha) # tab = /t\n",
    "                linha_nova = (\"\\t\"*(num_tabs_antes)) + linha_nova + (\"\\t\"*num_tabs_antes)\n",
    "\n",
    "                string += linha_nova + \"\\n\"\n",
    "\n",
    "        return string[:-1]"
   ]
  }
 ],
 "metadata": {
  "kernelspec": {
   "display_name": "Python 3 (ipykernel)",
   "language": "python",
   "name": "python3"
  },
  "language_info": {
   "codemirror_mode": {
    "name": "ipython",
    "version": 3
   },
   "file_extension": ".py",
   "mimetype": "text/x-python",
   "name": "python",
   "nbconvert_exporter": "python",
   "pygments_lexer": "ipython3",
   "version": "3.8.5"
  }
 },
 "nbformat": 4,
 "nbformat_minor": 4
}
