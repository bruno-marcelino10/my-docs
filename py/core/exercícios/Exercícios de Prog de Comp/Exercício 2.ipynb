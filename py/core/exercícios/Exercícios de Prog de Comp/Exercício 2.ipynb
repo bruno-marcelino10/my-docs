{
 "cells": [
  {
   "cell_type": "markdown",
   "metadata": {},
   "source": [
    "## Exercício 2 - Ponto Flutuante e IEEE754"
   ]
  },
  {
   "cell_type": "markdown",
   "metadata": {},
   "source": [
    "A conversão consiste em:\n",
    " * Multiplicar continuamente um número decimal por 2, até que ele se torne um número 1 inteiro.\n",
    " * Caso o resultado da multiplicação seja maior do que 1, subtraímos 1 e continuamos as multiplicações até que a condição anterior seja satisfeita.\n",
    " \n",
    "Cada algarismo do número binário associado ao número decimal que estamos convertendo pode ser obtido separando o primeiro valor a esquerda da vírgula obtido em cada multiplicação. "
   ]
  },
  {
   "cell_type": "code",
   "execution_count": 10,
   "metadata": {},
   "outputs": [],
   "source": [
    "matricula = [0,1,3,1,5,5]"
   ]
  },
  {
   "cell_type": "code",
   "execution_count": 203,
   "metadata": {},
   "outputs": [
    {
     "name": "stdout",
     "output_type": "stream",
     "text": [
      "Número em Base Decimal:  0.3015\n",
      "10 Primeiras Operações Realizadas:  [0.603, 1.206, 0.412, 0.824, 1.648, 1.296, 0.592, 1.184, 0.368, 0.736]\n",
      "Número em Base Binária:  0.01001101001011110001101010011111101111100111011011001\n"
     ]
    }
   ],
   "source": [
    "# GERADOR DE NÚMEROS DE 4 CASAS DECIMAIS com minha matrícula\n",
    "import random\n",
    "def gerar_numero(matricula, casas):\n",
    "    \n",
    "    amostra = random.sample(matricula, casas)\n",
    "\n",
    "    # Criação de um número decimal de 4 algarismos estritamente menor do que 1\n",
    "    numero = []\n",
    "    [numero.append(str(i)) for i in amostra]\n",
    "\n",
    "    numero.insert(0, \"0\")\n",
    "    numero.insert(1, \".\")\n",
    "    numero = \"\".join(numero)\n",
    "    return(float(numero))\n",
    "\n",
    "numero = gerar_numero(matricula, casas = 4)\n",
    "\n",
    "# CONVERSÃO DECIMAL -> BINÁRIO pelo método manual\n",
    "def conversao(num, casas):\n",
    "    \n",
    "    lista = [num]\n",
    "    n = 0\n",
    "    while n <= casas:\n",
    "        n = n + 1\n",
    "        if num < 1:\n",
    "            num = num * 2\n",
    "        else: \n",
    "            num = (num - 1) * 2\n",
    "          \n",
    "        if num == 0: # não é necessário continuar fazendo operações caso o resultado seja finito.\n",
    "            break\n",
    "            \n",
    "        lista.append(round(num, 4)) # lista com as operações realizadas\n",
    "        \n",
    "    lista = lista[1:] \n",
    "    algarismos = []\n",
    "    for i in lista:\n",
    "        i = str(int(i)) # Obtém o primeiro o valor a esquerda da vírgula quando convertemos float para inteiro\n",
    "        algarismos.append(i)\n",
    "    \n",
    "    algarismos.insert(0, \"0\") # Inseri os valores que sempre ficam à esquerda da vírgula, \"0.<algarismos>\"\n",
    "    algarismos.insert(1, \".\")\n",
    "    \n",
    "    binario = \"\".join(algarismos) # Juntamos os algarismos binários e retornamos um número binário\n",
    "    return(binario, lista)\n",
    "\n",
    "print(\"Número em Base Decimal: \", numero)\n",
    "print(\"10 Primeiras Operações Realizadas: \", conversao(numero, casas = 150)[1][:10])\n",
    "print(\"Número em Base Binária: \", conversao(numero, casas = 150)[0])"
   ]
  },
  {
   "cell_type": "markdown",
   "metadata": {},
   "source": [
    "## Gerando 10 números aleatórios e convertendo pelo método manual"
   ]
  },
  {
   "cell_type": "code",
   "execution_count": 205,
   "metadata": {
    "scrolled": true
   },
   "outputs": [
    {
     "name": "stdout",
     "output_type": "stream",
     "text": [
      "Número 1 em Base Decimal:  0.0131\n",
      "Número 1 e as 10 Primeiras Operações Realizadas:  [0.0262, 0.0524, 0.1048, 0.2096, 0.4192, 0.8384, 1.6768, 1.3536, 0.7072, 1.4144]\n",
      "Número 1 em Base Binária:  0.00000011010110101000010110000111100100111101110110011\n",
      "\n",
      "Número 2 em Base Decimal:  0.0135\n",
      "Número 2 e as 10 Primeiras Operações Realizadas:  [0.027, 0.054, 0.108, 0.216, 0.432, 0.864, 1.728, 1.456, 0.912, 1.824]\n",
      "Número 2 em Base Binária:  0.00000011011101001011110001101010011111101111100111011011001\n",
      "\n",
      "Número 3 em Base Decimal:  0.3015\n",
      "Número 3 e as 10 Primeiras Operações Realizadas:  [0.603, 1.206, 0.412, 0.824, 1.648, 1.296, 0.592, 1.184, 0.368, 0.736]\n",
      "Número 3 em Base Binária:  0.01001101001011110001101010011111101111100111011011001\n",
      "\n",
      "Número 4 em Base Decimal:  0.0351\n",
      "Número 4 e as 10 Primeiras Operações Realizadas:  [0.0702, 0.1404, 0.2808, 0.5616, 1.1232, 0.2464, 0.4928, 0.9856, 1.9712, 1.9424]\n",
      "Número 4 em Base Binária:  0.000010001111110001010000010010000001011011110000000001101\n",
      "\n",
      "Número 5 em Base Decimal:  0.1035\n",
      "Número 5 e as 10 Primeiras Operações Realizadas:  [0.207, 0.414, 0.828, 1.656, 1.312, 0.624, 1.248, 0.496, 0.992, 1.984]\n",
      "Número 5 em Base Binária:  0.00011010011111101111100111011011001000101101000011100101\n",
      "\n",
      "Número 6 em Base Decimal:  0.1055\n",
      "Número 6 e as 10 Primeiras Operações Realizadas:  [0.211, 0.422, 0.844, 1.688, 1.376, 0.752, 1.504, 1.008, 0.016, 0.032]\n",
      "Número 6 em Base Binária:  0.00011011000000100000110001001001101110100101111000110101\n",
      "\n",
      "Número 7 em Base Decimal:  0.3515\n",
      "Número 7 e as 10 Primeiras Operações Realizadas:  [0.703, 1.406, 0.812, 1.624, 1.248, 0.496, 0.992, 1.984, 1.968, 1.936]\n",
      "Número 7 em Base Binária:  0.010110011111101111100111011011001000101101000011100101\n",
      "\n",
      "Número 8 em Base Decimal:  0.1103\n",
      "Número 8 e as 10 Primeiras Operações Realizadas:  [0.2206, 0.4412, 0.8824, 1.7648, 1.5296, 1.0592, 0.1184, 0.2368, 0.4736, 0.9472]\n",
      "Número 8 em Base Binária:  0.00011100001111001001111011101100101111111011000101011011\n",
      "\n",
      "Número 9 em Base Decimal:  0.5101\n",
      "Número 9 e as 10 Primeiras Operações Realizadas:  [1.0202, 0.0404, 0.0808, 0.1616, 0.3232, 0.6464, 1.2928, 0.5856, 1.1712, 0.3424]\n",
      "Número 9 em Base Binária:  0.100000101001010111101001111000011011000010001001101\n",
      "\n",
      "Número 10 em Base Decimal:  0.1351\n",
      "Número 10 e as 10 Primeiras Operações Realizadas:  [0.2702, 0.5404, 1.0808, 0.1616, 0.3232, 0.6464, 1.2928, 0.5856, 1.1712, 0.3424]\n",
      "Número 10 em Base Binária:  0.001000101001010111101001111000011011000010001001101\n",
      "\n"
     ]
    }
   ],
   "source": [
    "# Realização do processo com 10 números diferentes\n",
    "for i in range(10):\n",
    "    numero = gerar_numero(matricula, 4)\n",
    "    print(\"Número\", i+1, \"em Base Decimal: \", numero)\n",
    "    print(\"Número\", i+1, \"e as 10 Primeiras Operações Realizadas: \", conversao(numero, casas = 150)[1][:10])\n",
    "    print(\"Número\", i+1, \"em Base Binária: \", conversao(numero, casas = 150)[0])\n",
    "    print()"
   ]
  },
  {
   "cell_type": "markdown",
   "metadata": {},
   "source": [
    "## Localizador de dízima periódica em binário, com precisão de 52 casas decimais"
   ]
  },
  {
   "cell_type": "code",
   "execution_count": 194,
   "metadata": {},
   "outputs": [
    {
     "name": "stdout",
     "output_type": "stream",
     "text": [
      "Número 0.1 em Base Decimal:  0.1\n",
      "Número 0.1 e as 30 Primeiras Operações Realizadas:  [0.2, 0.4, 0.8, 1.6, 1.2, 0.4, 0.8, 1.6, 1.2, 0.4, 0.8, 1.6, 1.2, 0.4, 0.8, 1.6, 1.2, 0.4, 0.8, 1.6, 1.2, 0.4, 0.8, 1.6, 1.2, 0.4, 0.8, 1.6, 1.2, 0.4]\n",
      "Número 0.1 em Base Binária:  0.0001100110011001100110011001100110011001100110011001101\n",
      "\n",
      "O número 0.1 é uma dízima!\n"
     ]
    }
   ],
   "source": [
    "numero = 0.1\n",
    "print(\"Número\", numero, \"em Base Decimal: \", numero)\n",
    "print(\"Número\", numero, \"e as 30 Primeiras Operações Realizadas: \", conversao(numero, casas = 150)[1][:30])\n",
    "print(\"Número\", numero, \"em Base Binária: \", conversao(numero, casas = 150)[0])\n",
    "print()\n",
    "\n",
    "# Utilizando o vetor com as operações realizadas para ver se elas se repetem\n",
    "if len(conversao(numero, casas = 150)[1][:100]) != len(set(conversao(numero, casas = 150)[1][:100])):\n",
    "    print(\"O número\", numero, \"é uma dízima!\") \n",
    "\n",
    "else: \n",
    "    print(\"O número\", numero, \"não é uma dízima!\")"
   ]
  },
  {
   "cell_type": "markdown",
   "metadata": {},
   "source": [
    "## Exemplos de multiplicações com resultado inexato:"
   ]
  },
  {
   "cell_type": "code",
   "execution_count": 191,
   "metadata": {},
   "outputs": [
    {
     "data": {
      "text/plain": [
       "46.796800000000005"
      ]
     },
     "execution_count": 191,
     "metadata": {},
     "output_type": "execute_result"
    }
   ],
   "source": [
    "print(0.0064 * 7312)\n",
    "print(0.65 ** 2)\n",
    "print()"
   ]
  },
  {
   "cell_type": "markdown",
   "metadata": {},
   "source": [
    "## Geração de pares de números aleatórios com 3 casas decimais"
   ]
  },
  {
   "cell_type": "code",
   "execution_count": 222,
   "metadata": {},
   "outputs": [
    {
     "name": "stdout",
     "output_type": "stream",
     "text": [
      "Número 1 em Base Decimal:  113\n",
      "Número 2 em Base Decimal:  315\n"
     ]
    }
   ],
   "source": [
    "def gerar_inteiro(matricula, casas):\n",
    "    \n",
    "    amostra = random.sample(matricula, casas)\n",
    "\n",
    "    # Criação de um número inteiro de 3 algarismos estritamente menor do que 1\n",
    "    numero = []\n",
    "    [numero.append(str(i)) for i in amostra]\n",
    "\n",
    "    numero = \"\".join(numero)\n",
    "    return(int(numero))\n",
    "\n",
    "num_1 = gerar_inteiro(matricula, 3)\n",
    "num_2 = gerar_inteiro(matricula, 3)\n",
    "\n",
    "print(\"Número 1 em Base Decimal: \", num_1)\n",
    "print(\"Número 2 em Base Decimal: \", num_2)"
   ]
  },
  {
   "cell_type": "code",
   "execution_count": null,
   "metadata": {},
   "outputs": [],
   "source": []
  }
 ],
 "metadata": {
  "kernelspec": {
   "display_name": "Python 3 (ipykernel)",
   "language": "python",
   "name": "python3"
  },
  "language_info": {
   "codemirror_mode": {
    "name": "ipython",
    "version": 3
   },
   "file_extension": ".py",
   "mimetype": "text/x-python",
   "name": "python",
   "nbconvert_exporter": "python",
   "pygments_lexer": "ipython3",
   "version": "3.8.5"
  }
 },
 "nbformat": 4,
 "nbformat_minor": 4
}
