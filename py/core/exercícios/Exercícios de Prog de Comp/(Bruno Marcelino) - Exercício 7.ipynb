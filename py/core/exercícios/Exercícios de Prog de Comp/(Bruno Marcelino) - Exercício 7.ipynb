{
 "cells": [
  {
   "cell_type": "markdown",
   "metadata": {},
   "source": [
    "# Exercício 1"
   ]
  },
  {
   "cell_type": "code",
   "execution_count": 1,
   "metadata": {},
   "outputs": [],
   "source": [
    "def exercicio_1_1(n):\n",
    "    \n",
    "    if n <= 0:\n",
    "        return None\n",
    "    \n",
    "    else:\n",
    "        possiveis = [\"S\", \"s\", \"N\", \"n\", \"\"]\n",
    "        i = 0\n",
    "        print(i)\n",
    "\n",
    "        continuar = True\n",
    "        while continuar:\n",
    "            var = input(\"Quer continuar? ([Ss]/Nn)\") \n",
    "            if var not in possiveis:\n",
    "                continuar = False\n",
    "                return None\n",
    "            else:\n",
    "                if var == \"S\" or var == \"s\" or var == \"\":\n",
    "                    if i < n-1:\n",
    "                        i += 1\n",
    "                        print(i) \n",
    "                    else:\n",
    "                        i = 0\n",
    "                        print(i) \n",
    "\n",
    "                elif var == \"N\" or var == \"n\":\n",
    "                    continuar = False\n",
    "                    print(\"Fim\")\n",
    "\n",
    "        return None"
   ]
  },
  {
   "cell_type": "code",
   "execution_count": 5,
   "metadata": {},
   "outputs": [],
   "source": [
    "def exercicio_1_2(n):\n",
    "    \n",
    "    if n <= 0:\n",
    "        return None\n",
    "    \n",
    "    else:\n",
    "        possiveis = [\"S\", \"s\", \"N\", \"n\", \"\"]\n",
    "        continuar = True\n",
    "        while continuar:\n",
    "            for i in range(n):\n",
    "                var = input(\"Quer continuar? ([Ss]/Nn)\") \n",
    "                if var not in possiveis:\n",
    "                    continuar = False\n",
    "                    return None\n",
    "                if var == \"S\" or var == \"s\" or var == \"\":\n",
    "                    print(i)\n",
    "                elif var == \"N\" or var == \"n\":\n",
    "                    continuar = False\n",
    "                    break\n",
    "        print(\"Fim\")\n",
    "        return None"
   ]
  },
  {
   "cell_type": "markdown",
   "metadata": {},
   "source": [
    "# Exercício 2"
   ]
  },
  {
   "cell_type": "code",
   "execution_count": 119,
   "metadata": {},
   "outputs": [],
   "source": [
    "def exercicio_2_1(n):\n",
    "    if n < 0:\n",
    "        return None\n",
    "    else:\n",
    "        resultado = 0\n",
    "        while n > 0:\n",
    "            resultado += n\n",
    "            n -= 1\n",
    "        return resultado"
   ]
  },
  {
   "cell_type": "code",
   "execution_count": 120,
   "metadata": {},
   "outputs": [],
   "source": [
    "def exercicio_2_2(n):\n",
    "    if n < 0:\n",
    "        return None\n",
    "    else:\n",
    "        resultado = 0\n",
    "        for i in range(n+1):\n",
    "            resultado += i\n",
    "        return resultado    "
   ]
  },
  {
   "cell_type": "markdown",
   "metadata": {},
   "source": [
    "# Exercício 3"
   ]
  },
  {
   "cell_type": "code",
   "execution_count": 121,
   "metadata": {},
   "outputs": [],
   "source": [
    "def exercicio_3_1(n):\n",
    "    if n < 0:\n",
    "        return None\n",
    "    else:\n",
    "        soma_pares = 0\n",
    "        soma_impares = 0\n",
    "        while n > 0:\n",
    "            if n % 2 == 0:\n",
    "                soma_pares += n\n",
    "            else:\n",
    "                soma_impares += n\n",
    "            n -= 1\n",
    "\n",
    "        return soma_pares, soma_impares"
   ]
  },
  {
   "cell_type": "code",
   "execution_count": 122,
   "metadata": {},
   "outputs": [],
   "source": [
    "def exercicio_3_2(n):\n",
    "    if n < 0:\n",
    "        return None\n",
    "    else:\n",
    "        soma_pares = 0\n",
    "        soma_impares = 0\n",
    "        for i in range(n+1):\n",
    "            if i % 2 == 0:\n",
    "                soma_pares += i\n",
    "            else:\n",
    "                soma_impares += i\n",
    "        return soma_pares, soma_impares"
   ]
  },
  {
   "cell_type": "markdown",
   "metadata": {},
   "source": [
    "# Exercício 4"
   ]
  },
  {
   "cell_type": "code",
   "execution_count": 123,
   "metadata": {},
   "outputs": [],
   "source": [
    "def exercicio_4(n):\n",
    "    if n <= 0:\n",
    "        return None\n",
    "    else:\n",
    "        lista = []\n",
    "        for i in range(1,n+1):\n",
    "            if n % i == 0:\n",
    "                lista.append(str(i))\n",
    "\n",
    "        string = \" \".join(lista)\n",
    "        return string"
   ]
  },
  {
   "cell_type": "markdown",
   "metadata": {},
   "source": [
    "# Exercício 5"
   ]
  },
  {
   "cell_type": "code",
   "execution_count": 124,
   "metadata": {},
   "outputs": [],
   "source": [
    "def exercicio_5_1(n):\n",
    "    if n <= 0:\n",
    "        return None\n",
    "    else:\n",
    "        valores = []\n",
    "        while len(valores) < n:\n",
    "            valor = int(input(\"Digite um número: \"))\n",
    "            valores.append(valor)\n",
    "            \n",
    "        minimo = min(valores)\n",
    "        maximo = max(valores)\n",
    "        \n",
    "        return maximo, minimo"
   ]
  },
  {
   "cell_type": "code",
   "execution_count": 13,
   "metadata": {},
   "outputs": [],
   "source": [
    "def exercicio_5_2(n):\n",
    "    valores = []\n",
    "    continuar = True\n",
    "    \n",
    "    while continuar:\n",
    "        valor = int(input(f\"Digite um número: (A sentinela equivale a {n})\"))\n",
    "        if valor == n:\n",
    "            continuar = False\n",
    "        else:\n",
    "            valores.append(valor)\n",
    "\n",
    "    if len(valores) > 0:\n",
    "        minimo = min(valores)\n",
    "        maximo = max(valores)\n",
    "        return maximo, minimo\n",
    "    else:\n",
    "        return None"
   ]
  },
  {
   "cell_type": "code",
   "execution_count": 14,
   "metadata": {},
   "outputs": [
    {
     "name": "stdout",
     "output_type": "stream",
     "text": [
      "Digite um número: (A sentinela equivale a 99)1\n",
      "Digite um número: (A sentinela equivale a 99)99\n"
     ]
    },
    {
     "data": {
      "text/plain": [
       "(1, 1)"
      ]
     },
     "execution_count": 14,
     "metadata": {},
     "output_type": "execute_result"
    }
   ],
   "source": [
    "exercicio_5_2(99)"
   ]
  },
  {
   "cell_type": "code",
   "execution_count": 126,
   "metadata": {},
   "outputs": [],
   "source": [
    "def exercicio_5_3(n):\n",
    "    valores = []\n",
    "    continuar = True\n",
    "    \n",
    "    while continuar:\n",
    "        valor = int(input(f\"Digite um número: (A sentinela equivale a {n})\"))\n",
    "        if valor == n:\n",
    "            continuar = False\n",
    "        else:\n",
    "            valores.append(valor)\n",
    "\n",
    "    if len(valores) > 0:\n",
    "        minimo = min(valores)\n",
    "        maximo = max(valores)\n",
    "        return maximo, minimo\n",
    "    else:\n",
    "        return None"
   ]
  },
  {
   "cell_type": "markdown",
   "metadata": {},
   "source": [
    "# Exercício 6"
   ]
  },
  {
   "attachments": {
    "image.png": {
     "image/png": "[encoded data removed]"
    }
   },
   "cell_type": "markdown",
   "metadata": {},
   "source": [
    "![image.png](attachment:image.png)"
   ]
  },
  {
   "cell_type": "code",
   "execution_count": 127,
   "metadata": {},
   "outputs": [],
   "source": [
    "def exercicio_6_1(n1 = 99, n2 = 50):\n",
    "    if n1 == 1 and n2 == 1:\n",
    "        return 1\n",
    "    else:\n",
    "        return (n1/n2) + exercicio_6_1(n1-2, n2-1)"
   ]
  },
  {
   "cell_type": "code",
   "execution_count": 128,
   "metadata": {},
   "outputs": [],
   "source": [
    "def exercicio_6_2():\n",
    "    num = list(range(1, 100, 2))\n",
    "    den = list(range(1, 51, 1))\n",
    "    resultado = 0\n",
    "    \n",
    "    for i in range(len(den)):\n",
    "        resultado += (num[i]/den[i])\n",
    "    return resultado "
   ]
  },
  {
   "cell_type": "markdown",
   "metadata": {},
   "source": [
    "# Exercício 7"
   ]
  },
  {
   "cell_type": "code",
   "execution_count": 129,
   "metadata": {},
   "outputs": [],
   "source": [
    "def exercicio_7_1(n):\n",
    "    if n < 1: \n",
    "        return None\n",
    "    if n == 1:\n",
    "        return 1\n",
    "    else:\n",
    "        n1 = (2*n) - 1\n",
    "        n2 = n\n",
    "        return (n1/n2) + exercicio_7_1(n-1)"
   ]
  },
  {
   "cell_type": "code",
   "execution_count": 130,
   "metadata": {},
   "outputs": [],
   "source": [
    "def exercicio_7_2(n):\n",
    "    num = list(range(1, (2*n)+2, 2))\n",
    "    den = list(range(1, n+1, 1))\n",
    "    resultado = 0\n",
    "    \n",
    "    for i in range(len(den)):\n",
    "        resultado += (num[i]/den[i])\n",
    "    return resultado "
   ]
  },
  {
   "cell_type": "markdown",
   "metadata": {},
   "source": [
    "# Exercício 8"
   ]
  },
  {
   "cell_type": "code",
   "execution_count": 131,
   "metadata": {},
   "outputs": [],
   "source": [
    "def exercicio_8_1(a, b):\n",
    "    if a > b:\n",
    "        return None\n",
    "    else:\n",
    "        a = a + 1\n",
    "        if a == 5:\n",
    "            return None\n",
    "        else: \n",
    "            return a"
   ]
  },
  {
   "cell_type": "code",
   "execution_count": 132,
   "metadata": {},
   "outputs": [],
   "source": [
    "def exercicio_8_2(a, b):\n",
    "    if a > b or a == 4:\n",
    "        return None\n",
    "    else:    \n",
    "        return a + 1"
   ]
  }
 ],
 "metadata": {
  "kernelspec": {
   "display_name": "Python 3 (ipykernel)",
   "language": "python",
   "name": "python3"
  },
  "language_info": {
   "codemirror_mode": {
    "name": "ipython",
    "version": 3
   },
   "file_extension": ".py",
   "mimetype": "text/x-python",
   "name": "python",
   "nbconvert_exporter": "python",
   "pygments_lexer": "ipython3",
   "version": "3.8.5"
  }
 },
 "nbformat": 4,
 "nbformat_minor": 4
}
