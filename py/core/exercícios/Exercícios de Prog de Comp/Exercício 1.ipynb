{
 "cells": [
  {
   "cell_type": "markdown",
   "metadata": {},
   "source": [
    "## EXERCÍCIO 1 - Insertion Sort"
   ]
  },
  {
   "cell_type": "code",
   "execution_count": 68,
   "metadata": {},
   "outputs": [],
   "source": [
    "import time"
   ]
  },
  {
   "cell_type": "code",
   "execution_count": 1,
   "metadata": {},
   "outputs": [],
   "source": [
    "# GERAÇÃO DE NUMEROS ALEATORIOS\n",
    "# lista = random.sample(range(0, 10000), 10000)"
   ]
  },
  {
   "cell_type": "code",
   "execution_count": 80,
   "metadata": {},
   "outputs": [],
   "source": [
    "# LISTA PADRÃO\n",
    "lista = [5,2,4,3,1]"
   ]
  },
  {
   "cell_type": "code",
   "execution_count": 81,
   "metadata": {},
   "outputs": [
    {
     "name": "stdout",
     "output_type": "stream",
     "text": [
      "situação atual da lista:  [2, 5, 4, 3, 1]\n",
      "situação atual da lista:  [2, 4, 5, 3, 1]\n",
      "situação atual da lista:  [2, 3, 4, 5, 1]\n",
      "situação atual da lista:  [1, 2, 3, 4, 5]\n",
      "tempo em s:  0.001\n"
     ]
    }
   ],
   "source": [
    "inicio = time.time()\n",
    "\n",
    "for i in range(1, len(lista)):\n",
    "\n",
    "    # subconjunto com valores anteriores a i\n",
    "    sub = lista[:i]\n",
    "    maiores_que_i = list() \n",
    "        \n",
    "    # separa os valores maiores que i    \n",
    "    for j in sub:\n",
    "        if j > lista[i]:\n",
    "                maiores_que_i.append(j)\n",
    "        \n",
    "    # caso o elemento i seja maior que todos os anteriores\n",
    "    if len(maiores_que_i) > 0:\n",
    "\n",
    "        # acrescenta i no lugar do menor valor ENTRE os que são maiores que i, movendo os próximos para a frente \n",
    "        menor_valor = min(maiores_que_i)\n",
    "        pos_menor_valor = lista.index(menor_valor)\n",
    "        lista.insert(pos_menor_valor, lista[i])\n",
    "        \n",
    "        # apagar o elemento (i) remanescente na posição antiga\n",
    "        lista.pop(i+1)\n",
    "        \n",
    "    print(\"situação atual da lista: \", lista)\n",
    "\n",
    "#print(lista)\n",
    "\n",
    "fim = time.time()\n",
    "print(\"tempo em s: \",round(fim - inicio, 5))"
   ]
  },
  {
   "cell_type": "code",
   "execution_count": null,
   "metadata": {},
   "outputs": [],
   "source": []
  }
 ],
 "metadata": {
  "kernelspec": {
   "display_name": "Python 3",
   "language": "python",
   "name": "python3"
  },
  "language_info": {
   "codemirror_mode": {
    "name": "ipython",
    "version": 3
   },
   "file_extension": ".py",
   "mimetype": "text/x-python",
   "name": "python",
   "nbconvert_exporter": "python",
   "pygments_lexer": "ipython3",
   "version": "3.8.5"
  }
 },
 "nbformat": 4,
 "nbformat_minor": 4
}
