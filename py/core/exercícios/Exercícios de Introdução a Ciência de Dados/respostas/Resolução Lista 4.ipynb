{
 "cells": [
  {
   "attachments": {},
   "cell_type": "markdown",
   "metadata": {
    "id": "AumlbrSa9B6-"
   },
   "source": [
    "# Lista 4 - ICs e Bootstrap"
   ]
  },
  {
   "attachments": {},
   "cell_type": "markdown",
   "metadata": {
    "id": "9kanULcm6e_P"
   },
   "source": [
    "## Intervalos de Confiança"
   ]
  },
  {
   "attachments": {},
   "cell_type": "markdown",
   "metadata": {
    "id": "ZwWt4tZ9KyJW"
   },
   "source": [
    "Intervalos de confiança são intervalos calculados a partir de observações que podem variar de amostra para amostra e que com dada frequência (nível de confiança) inclui o parâmetro de interesse real não observável. \n",
    "\n",
    "**Por exemplo:** Um intervalo com nível de confiança de 99% para a média de uma variável aleatória significa que ao calcularmos *n* intervalos de confiança tomando como base *n* amostras aleatórias, espera-se que 99% dos intervalos construídos contenham o valor real do parâmetro (média).\n",
    "\n",
    "Em outras palavras, o nível de confiança seria a proporção de intervalos de confiança construídos em experimentos separados da mesma população e com o mesmo procedimento que contém o parâmetro de interesse real."
   ]
  },
  {
   "attachments": {},
   "cell_type": "markdown",
   "metadata": {
    "id": "UJNKIoa66qWP"
   },
   "source": [
    "Foram ministradas duas maneiras de construírmos intervalos de confiança:\n",
    "\n",
    "- Probabilisticamente direto dos dados (Forma clássica).\n",
    "- Via sub-amostragem com reposição (*Bootstrap*)."
   ]
  },
  {
   "attachments": {},
   "cell_type": "markdown",
   "metadata": {
    "id": "jnVjOUUzv_LJ"
   },
   "source": [
    "Para o primeiro caso, lembrando do conceito visto em aula, temos (para um IC com 95% de confiança):\n",
    "\n",
    "$$\\begin{align}\n",
    "0.95 = P(-z \\le Z \\le z)=P \\left(-1.96 \\le \\frac {\\bar X-\\mu}{\\sigma/\\sqrt{n}} \\le 1.96 \\right) = P \\left( \\bar X - 1.96 \\frac \\sigma {\\sqrt{n}} \\le \\mu \\le \\bar X + 1.96 \\frac \\sigma {\\sqrt{n}}\\right).\n",
    "\\end{align}$$"
   ]
  },
  {
   "attachments": {},
   "cell_type": "markdown",
   "metadata": {
    "id": "KVA8KGEW8JhE"
   },
   "source": [
    "Vamos colocar na prática!"
   ]
  },
  {
   "attachments": {},
   "cell_type": "markdown",
   "metadata": {
    "id": "nWTB0e1NtN1n"
   },
   "source": [
    "## Exemplo Inicial"
   ]
  },
  {
   "attachments": {},
   "cell_type": "markdown",
   "metadata": {
    "id": "ZdiXKyXmQGoS"
   },
   "source": [
    "Vamos começar construindo um intervalo de confiança pra a média de uma distribuição Normal (Gaussiana) com média $\\mu = 0$ e variância $\\sigma² = 1$."
   ]
  },
  {
   "cell_type": "code",
   "execution_count": 2,
   "metadata": {
    "colab": {
     "base_uri": "https://localhost:8080/",
     "height": 553
    },
    "id": "VF6HWP1vQmHl",
    "outputId": "13eda011-6a5f-4bf5-9e64-b41441b82115"
   },
   "outputs": [
    {
     "data": {
      "image/png": "[encoded data removed]",
      "text/plain": [
       "<Figure size 720x576 with 1 Axes>"
      ]
     },
     "metadata": {
      "needs_background": "light"
     },
     "output_type": "display_data"
    },
    {
     "name": "stdout",
     "output_type": "stream",
     "text": [
      "INTERVALO DE CONFIANCA (manual) = [-0.1065, 0.0160]\n",
      "INTERVALO DE CONFIANCA (com scipy)= [-0.1065, 0.0160]\n"
     ]
    }
   ],
   "source": [
    "import numpy as np\n",
    "import matplotlib.pyplot as plt\n",
    "import seaborn as sns\n",
    "import scipy.stats as ss\n",
    "plt.rcParams[\"figure.figsize\"] = (10,8)\n",
    "\n",
    "np.random.seed(0) # comando adicionado para reprodutibilidade dos números aleatórios gerados\n",
    "\n",
    "def confidence_interval(loc, scale, alpha=0.99):\n",
    "  \"\"\"Essa função cria uma distribuição Normal com base nos parâmetros fornecidos e constrói um intervalo de confiança para sua média.\n",
    "  \n",
    "  Parameters:\n",
    "  -----------\n",
    "  loc (float): Média da distribuição desejada.\n",
    "  scale (float): Desvio padrão da distribuição desejada.\n",
    "  alpha (float): Nível de confiança do intervalo. Deve ser um valor entre 0 e 1. Default = 0.99, o que corresponde a 99% de confiança.\n",
    "\n",
    "  Returns:\n",
    "  -----------\n",
    "  X (array): Dados gerados segundo uma distribuição Normal(0,1).\n",
    "  LI (float): Limite inferior do intervalo calculado.\n",
    "  LS (float): Limite superior do intervalo calculado.\n",
    "\n",
    "  \"\"\"\n",
    "  \n",
    "  # Gerando amostra de uma Normal(0,1) de tamanho N\n",
    "  N = 1000\n",
    "  X = np.random.normal(loc=loc, scale=scale, size=N)\n",
    "\n",
    "  # Criando plot da amostra gerada\n",
    "  plt.xlabel('Valores', fontsize=12)\n",
    "  plt.ylabel('Frequências', fontsize=12)\n",
    "  plt.title('Histograma de amostra de uma Distribuição Normal(0,1)', fontsize=16)\n",
    "\n",
    "  plt.hist(X, color='#A3333D', alpha=0.9, rwidth=0.85, bins=15)\n",
    "  plt.show()\n",
    "\n",
    "  # Calculando intervalo de  95% de confiança para a média manualmente\n",
    "  LI = X.mean() - 1.96 * (X.std(ddof=1) / np.sqrt(N)) # LI = limite inferior\n",
    "  LS = X.mean() + 1.96 * (X.std(ddof=1) / np.sqrt(N)) # LS = limite superior\n",
    "  print(\"INTERVALO DE CONFIANCA (manual) = [{:.4f}, {:.4f}]\".format(LI, LS))\n",
    "\n",
    "  # Utilizando o valor da confiança como base, utilizamos o pacote scipy.stats\n",
    "  LI = X.mean() - ss.norm.ppf(alpha+(1-alpha)/2).round(2) * (X.std(ddof=1) / np.sqrt(N))\n",
    "  LS = X.mean() + ss.norm.ppf(alpha+(1-alpha)/2).round(2) * (X.std(ddof=1) / np.sqrt(N))\n",
    "\n",
    "  # Printando intervalo de confiança\n",
    "  print(\"INTERVALO DE CONFIANCA (com scipy)= [{:.4f}, {:.4f}]\".format(LI, LS))\n",
    "\n",
    "  return X, LI, LS\n",
    "\n",
    "X, LI, LS = confidence_interval(loc=0, scale=1, alpha=0.95)"
   ]
  },
  {
   "attachments": {},
   "cell_type": "markdown",
   "metadata": {
    "id": "Ob__-W20QGlU"
   },
   "source": [
    "Podemos afirmar que, se pudermos repetir muitas vezes o experimento e coletarmos os dados, aproximadamente em 95% das vezes a média populacional estará no intervalo encontrado.\n",
    "\n",
    "**Algumas observações interessantes. Note que:**\n",
    "- A cada vez que executamos o código acima, tanto os intervalos como o histograma dos dados são diferentes. Estamos realizando uma amostra de uma distribuição.\n",
    "- A medida que o tamanho da amostra (N) cresce, o tamanho do intervalo - para um mesmo nível de confiança - cai. Isso ocorre pois com mais dados temos uma maior certeza de que os valores encontrados de fato representam a população de interesse.\n",
    "- Os valores dos intervalos de confiança (manual e scipy) só coincidem quando *alpha=0.95*. Essa é a vantagem de se utilizar o pacote. Para valores diferentes de 0.95, deve-se consultar o valor correspondente na distribuição Z."
   ]
  },
  {
   "attachments": {},
   "cell_type": "markdown",
   "metadata": {
    "id": "DbPnGld79G4s"
   },
   "source": [
    "## Dados ENEM 2015."
   ]
  },
  {
   "attachments": {},
   "cell_type": "markdown",
   "metadata": {
    "id": "-V5G53Xm7CDL"
   },
   "source": [
    "Nos exercícios dessa seção vamos trabalhar com os dados do [ENEM 2015](https://raw.githubusercontent.com/pedroharaujo/ICD_Docencia/master/enem2015.csv).\n",
    "\n",
    "Importando pandas e carregando dados."
   ]
  },
  {
   "cell_type": "code",
   "execution_count": 3,
   "metadata": {
    "id": "yv4wKf8XKkqc"
   },
   "outputs": [],
   "source": [
    "import pandas as pd\n",
    "\n",
    "url = 'https://raw.githubusercontent.com/pedroharaujo/ICD_Docencia/master/enem2015.csv'\n",
    "data = pd.read_csv(url)"
   ]
  },
  {
   "attachments": {},
   "cell_type": "markdown",
   "metadata": {
    "id": "Zuz-TU799Wm2"
   },
   "source": [
    "Primeiras visualizações do banco de dados do ENEM 2015."
   ]
  },
  {
   "cell_type": "code",
   "execution_count": 4,
   "metadata": {
    "colab": {
     "base_uri": "https://localhost:8080/",
     "height": 270
    },
    "id": "CXXzJbG7Nb91",
    "outputId": "6289a171-c2fb-4f90-c81f-f5692a3e94ce"
   },
   "outputs": [
    {
     "data": {
      "text/html": [
       "<div>\n",
       "<style scoped>\n",
       "    .dataframe tbody tr th:only-of-type {\n",
       "        vertical-align: middle;\n",
       "    }\n",
       "\n",
       "    .dataframe tbody tr th {\n",
       "        vertical-align: top;\n",
       "    }\n",
       "\n",
       "    .dataframe thead th {\n",
       "        text-align: right;\n",
       "    }\n",
       "</style>\n",
       "<table border=\"1\" class=\"dataframe\">\n",
       "  <thead>\n",
       "    <tr style=\"text-align: right;\">\n",
       "      <th></th>\n",
       "      <th>DEPENDENCIA_ADMINISTRATIVA</th>\n",
       "      <th>NOTA_MEDIA_ESCOLA</th>\n",
       "      <th>TAXA_DE_APROVACAO</th>\n",
       "      <th>TAXA_DE_PARTICIPACAO</th>\n",
       "    </tr>\n",
       "  </thead>\n",
       "  <tbody>\n",
       "    <tr>\n",
       "      <th>0</th>\n",
       "      <td>Federal</td>\n",
       "      <td>659.258362</td>\n",
       "      <td>92.2</td>\n",
       "      <td>96.894409</td>\n",
       "    </tr>\n",
       "    <tr>\n",
       "      <th>1</th>\n",
       "      <td>Federal</td>\n",
       "      <td>637.646728</td>\n",
       "      <td>86.5</td>\n",
       "      <td>98.717949</td>\n",
       "    </tr>\n",
       "    <tr>\n",
       "      <th>2</th>\n",
       "      <td>Estadual</td>\n",
       "      <td>556.710632</td>\n",
       "      <td>82.5</td>\n",
       "      <td>74.603180</td>\n",
       "    </tr>\n",
       "    <tr>\n",
       "      <th>3</th>\n",
       "      <td>Estadual</td>\n",
       "      <td>542.865967</td>\n",
       "      <td>70.2</td>\n",
       "      <td>54.651165</td>\n",
       "    </tr>\n",
       "    <tr>\n",
       "      <th>4</th>\n",
       "      <td>Estadual</td>\n",
       "      <td>557.379150</td>\n",
       "      <td>67.0</td>\n",
       "      <td>64.864861</td>\n",
       "    </tr>\n",
       "  </tbody>\n",
       "</table>\n",
       "</div>"
      ],
      "text/plain": [
       "  DEPENDENCIA_ADMINISTRATIVA  NOTA_MEDIA_ESCOLA  TAXA_DE_APROVACAO  \\\n",
       "0                    Federal         659.258362               92.2   \n",
       "1                    Federal         637.646728               86.5   \n",
       "2                   Estadual         556.710632               82.5   \n",
       "3                   Estadual         542.865967               70.2   \n",
       "4                   Estadual         557.379150               67.0   \n",
       "\n",
       "   TAXA_DE_PARTICIPACAO  \n",
       "0             96.894409  \n",
       "1             98.717949  \n",
       "2             74.603180  \n",
       "3             54.651165  \n",
       "4             64.864861  "
      ]
     },
     "execution_count": 4,
     "metadata": {},
     "output_type": "execute_result"
    }
   ],
   "source": [
    "data.head()"
   ]
  },
  {
   "cell_type": "code",
   "execution_count": 5,
   "metadata": {
    "colab": {
     "base_uri": "https://localhost:8080/",
     "height": 364
    },
    "id": "toIeoUHsNjVd",
    "outputId": "177fad06-26d1-452f-fcca-1bf3ab2da412"
   },
   "outputs": [
    {
     "data": {
      "text/html": [
       "<div>\n",
       "<style scoped>\n",
       "    .dataframe tbody tr th:only-of-type {\n",
       "        vertical-align: middle;\n",
       "    }\n",
       "\n",
       "    .dataframe tbody tr th {\n",
       "        vertical-align: top;\n",
       "    }\n",
       "\n",
       "    .dataframe thead th {\n",
       "        text-align: right;\n",
       "    }\n",
       "</style>\n",
       "<table border=\"1\" class=\"dataframe\">\n",
       "  <thead>\n",
       "    <tr style=\"text-align: right;\">\n",
       "      <th></th>\n",
       "      <th>NOTA_MEDIA_ESCOLA</th>\n",
       "      <th>TAXA_DE_APROVACAO</th>\n",
       "      <th>TAXA_DE_PARTICIPACAO</th>\n",
       "    </tr>\n",
       "  </thead>\n",
       "  <tbody>\n",
       "    <tr>\n",
       "      <th>count</th>\n",
       "      <td>1685.000000</td>\n",
       "      <td>1683.000000</td>\n",
       "      <td>1685.000000</td>\n",
       "    </tr>\n",
       "    <tr>\n",
       "      <th>mean</th>\n",
       "      <td>575.391745</td>\n",
       "      <td>86.044444</td>\n",
       "      <td>75.263669</td>\n",
       "    </tr>\n",
       "    <tr>\n",
       "      <th>std</th>\n",
       "      <td>40.796223</td>\n",
       "      <td>10.334011</td>\n",
       "      <td>16.886193</td>\n",
       "    </tr>\n",
       "    <tr>\n",
       "      <th>min</th>\n",
       "      <td>487.007141</td>\n",
       "      <td>47.700000</td>\n",
       "      <td>50.000000</td>\n",
       "    </tr>\n",
       "    <tr>\n",
       "      <th>25%</th>\n",
       "      <td>544.937500</td>\n",
       "      <td>79.500000</td>\n",
       "      <td>59.615387</td>\n",
       "    </tr>\n",
       "    <tr>\n",
       "      <th>50%</th>\n",
       "      <td>561.520752</td>\n",
       "      <td>87.800000</td>\n",
       "      <td>72.916672</td>\n",
       "    </tr>\n",
       "    <tr>\n",
       "      <th>75%</th>\n",
       "      <td>607.530579</td>\n",
       "      <td>94.550000</td>\n",
       "      <td>92.857140</td>\n",
       "    </tr>\n",
       "    <tr>\n",
       "      <th>max</th>\n",
       "      <td>713.629028</td>\n",
       "      <td>100.000000</td>\n",
       "      <td>100.000000</td>\n",
       "    </tr>\n",
       "  </tbody>\n",
       "</table>\n",
       "</div>"
      ],
      "text/plain": [
       "       NOTA_MEDIA_ESCOLA  TAXA_DE_APROVACAO  TAXA_DE_PARTICIPACAO\n",
       "count        1685.000000        1683.000000           1685.000000\n",
       "mean          575.391745          86.044444             75.263669\n",
       "std            40.796223          10.334011             16.886193\n",
       "min           487.007141          47.700000             50.000000\n",
       "25%           544.937500          79.500000             59.615387\n",
       "50%           561.520752          87.800000             72.916672\n",
       "75%           607.530579          94.550000             92.857140\n",
       "max           713.629028         100.000000            100.000000"
      ]
     },
     "execution_count": 5,
     "metadata": {},
     "output_type": "execute_result"
    }
   ],
   "source": [
    "data.describe()"
   ]
  },
  {
   "attachments": {},
   "cell_type": "markdown",
   "metadata": {
    "id": "rGEHgaEBQGis"
   },
   "source": [
    "## Exercício 01"
   ]
  },
  {
   "attachments": {},
   "cell_type": "markdown",
   "metadata": {
    "id": "SjLpnwC19vcV"
   },
   "source": [
    "Altere a função a baixo para retornar o intervalo de confiança para a média da variável 'NOTA_MEDIA_ESCOLA' para escolas com 'DEPENDENCIA_ADMINISTRATIVA' == Estadual.\n",
    "\n",
    "Nível de confiança: 99%\n",
    "\n",
    "**Lembrete**: será necessário aplicar os conhecimentos de pandas do módulo anterior para filtrar o DataFrame selecionando apenas os casos de interesse."
   ]
  },
  {
   "cell_type": "code",
   "execution_count": 6,
   "metadata": {},
   "outputs": [
    {
     "data": {
      "text/html": [
       "<div>\n",
       "<style scoped>\n",
       "    .dataframe tbody tr th:only-of-type {\n",
       "        vertical-align: middle;\n",
       "    }\n",
       "\n",
       "    .dataframe tbody tr th {\n",
       "        vertical-align: top;\n",
       "    }\n",
       "\n",
       "    .dataframe thead th {\n",
       "        text-align: right;\n",
       "    }\n",
       "</style>\n",
       "<table border=\"1\" class=\"dataframe\">\n",
       "  <thead>\n",
       "    <tr style=\"text-align: right;\">\n",
       "      <th></th>\n",
       "      <th>DEPENDENCIA_ADMINISTRATIVA</th>\n",
       "      <th>NOTA_MEDIA_ESCOLA</th>\n",
       "      <th>TAXA_DE_APROVACAO</th>\n",
       "      <th>TAXA_DE_PARTICIPACAO</th>\n",
       "    </tr>\n",
       "  </thead>\n",
       "  <tbody>\n",
       "    <tr>\n",
       "      <th>0</th>\n",
       "      <td>Federal</td>\n",
       "      <td>659.258362</td>\n",
       "      <td>92.2</td>\n",
       "      <td>96.894409</td>\n",
       "    </tr>\n",
       "    <tr>\n",
       "      <th>1</th>\n",
       "      <td>Federal</td>\n",
       "      <td>637.646728</td>\n",
       "      <td>86.5</td>\n",
       "      <td>98.717949</td>\n",
       "    </tr>\n",
       "    <tr>\n",
       "      <th>2</th>\n",
       "      <td>Estadual</td>\n",
       "      <td>556.710632</td>\n",
       "      <td>82.5</td>\n",
       "      <td>74.603180</td>\n",
       "    </tr>\n",
       "    <tr>\n",
       "      <th>3</th>\n",
       "      <td>Estadual</td>\n",
       "      <td>542.865967</td>\n",
       "      <td>70.2</td>\n",
       "      <td>54.651165</td>\n",
       "    </tr>\n",
       "    <tr>\n",
       "      <th>4</th>\n",
       "      <td>Estadual</td>\n",
       "      <td>557.379150</td>\n",
       "      <td>67.0</td>\n",
       "      <td>64.864861</td>\n",
       "    </tr>\n",
       "  </tbody>\n",
       "</table>\n",
       "</div>"
      ],
      "text/plain": [
       "  DEPENDENCIA_ADMINISTRATIVA  NOTA_MEDIA_ESCOLA  TAXA_DE_APROVACAO  \\\n",
       "0                    Federal         659.258362               92.2   \n",
       "1                    Federal         637.646728               86.5   \n",
       "2                   Estadual         556.710632               82.5   \n",
       "3                   Estadual         542.865967               70.2   \n",
       "4                   Estadual         557.379150               67.0   \n",
       "\n",
       "   TAXA_DE_PARTICIPACAO  \n",
       "0             96.894409  \n",
       "1             98.717949  \n",
       "2             74.603180  \n",
       "3             54.651165  \n",
       "4             64.864861  "
      ]
     },
     "execution_count": 6,
     "metadata": {},
     "output_type": "execute_result"
    }
   ],
   "source": [
    "data.head()"
   ]
  },
  {
   "cell_type": "code",
   "execution_count": 13,
   "metadata": {
    "id": "7nAXnIpk6tPr"
   },
   "outputs": [],
   "source": [
    "def CI(array):\n",
    "  # Retorne uma tupla com os limites inferior e superior do intervalo de confiança, respectivamente\n",
    "  # return (LI, LS)\n",
    "  # se ocorrer erro de float, tente dar cast na tupla (LI,LS) assim: (np.array(LI), np.array(LS))\n",
    "  df = array.query(\"DEPENDENCIA_ADMINISTRATIVA == 'Estadual'\")\n",
    "  arr = df[\"NOTA_MEDIA_ESCOLA\"]\n",
    "\n",
    "  x_bar = arr.mean()\n",
    "  s = arr.std()\n",
    "  n = len(arr)\n",
    "\n",
    "  pct_inf = x_bar - 2.576*(s/(n**0.5))\n",
    "  pct_sup = x_bar + 2.576*(s/(n**0.5))\n",
    "  \n",
    "  return pct_inf, pct_sup"
   ]
  },
  {
   "attachments": {},
   "cell_type": "markdown",
   "metadata": {
    "id": "tpE-OB2A-eI5"
   },
   "source": [
    "Carregando os módulos de testes!"
   ]
  },
  {
   "cell_type": "code",
   "execution_count": 14,
   "metadata": {
    "id": "Eynd-EnyNkuq"
   },
   "outputs": [],
   "source": [
    "from numpy.testing import assert_almost_equal\n",
    "from numpy.testing import assert_equal\n",
    "\n",
    "from numpy.testing import assert_array_almost_equal\n",
    "from numpy.testing import assert_array_equal"
   ]
  },
  {
   "attachments": {},
   "cell_type": "markdown",
   "metadata": {
    "id": "7GjnqG_DRRX2"
   },
   "source": [
    "Nosso teste"
   ]
  },
  {
   "cell_type": "code",
   "execution_count": 15,
   "metadata": {
    "id": "fB3QNl7iRRX2"
   },
   "outputs": [],
   "source": [
    "(LI, LS) = CI(data)\n",
    "\n",
    "assert_equal(548.13, LI.round(2))\n",
    "assert_equal(551.09, LS.round(2))"
   ]
  },
  {
   "attachments": {},
   "cell_type": "markdown",
   "metadata": {
    "id": "ZoqeIRs6tAeJ"
   },
   "source": [
    "## Exercício 02 (Sem correção automática)"
   ]
  },
  {
   "attachments": {},
   "cell_type": "markdown",
   "metadata": {
    "id": "AoNoA0HQzGI9"
   },
   "source": [
    "Plote uma CDF da coluna 'TAXA_DE_APROVACAO'.\n",
    "\n",
    "**Use o statsmodels e crie um objeto `ecdf = ECDF(...)`.**\n",
    "\n",
    "\n",
    "Esta tarefa não tem correção automática, use o gráfico abaixo para saber se acertou ou não.\n",
    "\n",
    "![](https://github.com/pedroharaujo/ICD_Docencia/blob/master/ECDF.png?raw=true)"
   ]
  },
  {
   "cell_type": "code",
   "execution_count": 20,
   "metadata": {
    "id": "6bGem0S0zOb2"
   },
   "outputs": [],
   "source": [
    "# codigo para importar a função ECDF\n",
    "from statsmodels.distributions.empirical_distribution import ECDF"
   ]
  },
  {
   "cell_type": "code",
   "execution_count": 28,
   "metadata": {
    "id": "QWq52qQp2u3A"
   },
   "outputs": [
    {
     "data": {
      "image/png": "[encoded data removed]",
      "text/plain": [
       "<Figure size 720x576 with 1 Axes>"
      ]
     },
     "metadata": {
      "needs_background": "light"
     },
     "output_type": "display_data"
    }
   ],
   "source": [
    "# YOUR CODE HERE\n",
    "ecdf = ECDF(data[\"TAXA_DE_APROVACAO\"])\n",
    "x = ecdf.x\n",
    "y = ecdf.y\n",
    "\n",
    "plt.xlabel('Taxa de Aprovação (%)', fontsize=12)\n",
    "plt.ylabel('% of Total', fontsize=12)\n",
    "plt.title('Empirical CDF for TAXA_DE_APROVACAO', fontsize=16)\n",
    "plt.plot(x, y)\n",
    "plt.show()"
   ]
  },
  {
   "attachments": {},
   "cell_type": "markdown",
   "metadata": {
    "id": "FLwdrfiTCqo9"
   },
   "source": [
    "## Bootstrap"
   ]
  },
  {
   "attachments": {},
   "cell_type": "markdown",
   "metadata": {
    "id": "6VmU_-Q2qAmo"
   },
   "source": [
    "Quando falamos em bootstrap deve-se ter em mente que estamos falando de amostragem com reposição.\n",
    "\n",
    "De maneira simplista, utilizamos bootstrap quando queremos construir um intervalo de confiança para uma variável e dispomos de poucos dados. Ao realizarmos várias sub-amostras **com reposição**, a lei dos grandes números nos garante que estamos aproximando a população de interesse.\n",
    "\n",
    "Note o destaque para o termo com reposição. É CRUCIAL que as sub-amostras sejam feitas com reposição. Só assim garantimos a aleatoriedade!\n",
    "\n",
    "Veja o exemplo abaixo."
   ]
  },
  {
   "cell_type": "code",
   "execution_count": 29,
   "metadata": {
    "id": "HusB0hXVAXHD"
   },
   "outputs": [
    {
     "name": "stdout",
     "output_type": "stream",
     "text": [
      "Intervalo de Confianca: [74.4523, 76.0718]\n"
     ]
    }
   ],
   "source": [
    "col = 'TAXA_DE_PARTICIPACAO'\n",
    "n_sub = 10000 #numero de sub-amostras\n",
    "size = len(data) #tamanho do dataframe\n",
    "values = np.zeros(n_sub)\n",
    "\n",
    "def bootstrap(n_sub, size, col):\n",
    "  for i in range(n_sub):\n",
    "    # replace=TRUE garanta amostras com reposição\n",
    "    random_state=i #garante replicabilidade do experimento\n",
    "    sample = data.sample(size, replace=True, random_state=i) \n",
    "    \n",
    "    # Lembre que podemos utilizar mediana, média ou qualquer outra estatística agregada\n",
    "    # values[i] = sample[col].median()\n",
    "    values[i] = sample[col].mean()\n",
    "  \n",
    "  # Gerando valores inferior e superior para um nível de confiança de 95%\n",
    "  LI = np.percentile(values, 2.5)\n",
    "  LS = np.percentile(values, 97.5)\n",
    "  return values, LI, LS\n",
    "\n",
    "values, LI, LS = bootstrap(n_sub, size, col)\n",
    "print('Intervalo de Confianca: [{}, {}]'.format(LI.round(4), LS.round(4)))"
   ]
  },
  {
   "attachments": {},
   "cell_type": "markdown",
   "metadata": {
    "id": "Nh2ftLwCuA-0"
   },
   "source": [
    "## Exercício 03"
   ]
  },
  {
   "attachments": {},
   "cell_type": "markdown",
   "metadata": {
    "id": "snm4iPdYtf-l"
   },
   "source": [
    "Realizando um groupy pela coluna 'DEPENDENCIA_ADMINISTRATIVA' conseguimos observar para quais casos vale a pena utilizarmos bootstrap."
   ]
  },
  {
   "cell_type": "code",
   "execution_count": 30,
   "metadata": {
    "id": "lecmZMWcpIkl"
   },
   "outputs": [
    {
     "data": {
      "text/html": [
       "<div>\n",
       "<style scoped>\n",
       "    .dataframe tbody tr th:only-of-type {\n",
       "        vertical-align: middle;\n",
       "    }\n",
       "\n",
       "    .dataframe tbody tr th {\n",
       "        vertical-align: top;\n",
       "    }\n",
       "\n",
       "    .dataframe thead th {\n",
       "        text-align: right;\n",
       "    }\n",
       "</style>\n",
       "<table border=\"1\" class=\"dataframe\">\n",
       "  <thead>\n",
       "    <tr style=\"text-align: right;\">\n",
       "      <th></th>\n",
       "      <th>NOTA_MEDIA_ESCOLA</th>\n",
       "      <th>TAXA_DE_APROVACAO</th>\n",
       "      <th>TAXA_DE_PARTICIPACAO</th>\n",
       "    </tr>\n",
       "    <tr>\n",
       "      <th>DEPENDENCIA_ADMINISTRATIVA</th>\n",
       "      <th></th>\n",
       "      <th></th>\n",
       "      <th></th>\n",
       "    </tr>\n",
       "  </thead>\n",
       "  <tbody>\n",
       "    <tr>\n",
       "      <th>Estadual</th>\n",
       "      <td>1054</td>\n",
       "      <td>1054</td>\n",
       "      <td>1054</td>\n",
       "    </tr>\n",
       "    <tr>\n",
       "      <th>Federal</th>\n",
       "      <td>43</td>\n",
       "      <td>42</td>\n",
       "      <td>43</td>\n",
       "    </tr>\n",
       "    <tr>\n",
       "      <th>Municipal</th>\n",
       "      <td>22</td>\n",
       "      <td>22</td>\n",
       "      <td>22</td>\n",
       "    </tr>\n",
       "    <tr>\n",
       "      <th>Privada</th>\n",
       "      <td>566</td>\n",
       "      <td>565</td>\n",
       "      <td>566</td>\n",
       "    </tr>\n",
       "  </tbody>\n",
       "</table>\n",
       "</div>"
      ],
      "text/plain": [
       "                            NOTA_MEDIA_ESCOLA  TAXA_DE_APROVACAO  \\\n",
       "DEPENDENCIA_ADMINISTRATIVA                                         \n",
       "Estadual                                 1054               1054   \n",
       "Federal                                    43                 42   \n",
       "Municipal                                  22                 22   \n",
       "Privada                                   566                565   \n",
       "\n",
       "                            TAXA_DE_PARTICIPACAO  \n",
       "DEPENDENCIA_ADMINISTRATIVA                        \n",
       "Estadual                                    1054  \n",
       "Federal                                       43  \n",
       "Municipal                                     22  \n",
       "Privada                                      566  "
      ]
     },
     "execution_count": 30,
     "metadata": {},
     "output_type": "execute_result"
    }
   ],
   "source": [
    "data.groupby('DEPENDENCIA_ADMINISTRATIVA').count()"
   ]
  },
  {
   "attachments": {},
   "cell_type": "markdown",
   "metadata": {
    "id": "cMQteG5et_wj"
   },
   "source": [
    "**A)** Na função abaixo, retorne o número da opção que indica para quais 'DEPENDENCIAS_ADMINISTRATIVAS' é aconselhado utilizar Bootstrap para construção do intervalo de confiança:\n",
    "\n",
    "- 1) Estadual e Federal.\n",
    "- 2) Estadual e Municipal.\n",
    "- 3) Estadual e Privada.\n",
    "- 4) Federal e Municipal.\n",
    "- 5) Federal e Privada.\n",
    "- 6) Municipal e Privada."
   ]
  },
  {
   "cell_type": "code",
   "execution_count": 31,
   "metadata": {
    "id": "VKRjH8ZxpPdv"
   },
   "outputs": [],
   "source": [
    "def resposta():\n",
    "  # Escolha uma das opções acima\n",
    "  # return 1 ou 2 ou 3 ou 4 ou 5 ou 6\n",
    "  # Escreva sua resposta abaixo:\n",
    "  # YOUR CODE HERE\n",
    "  return 4"
   ]
  },
  {
   "cell_type": "code",
   "execution_count": 32,
   "metadata": {
    "id": "C0po63eTvz5k"
   },
   "outputs": [],
   "source": [
    "assert_equal(4, resposta())"
   ]
  },
  {
   "attachments": {},
   "cell_type": "markdown",
   "metadata": {
    "id": "Yfd0Qm3xw4wL"
   },
   "source": [
    "**B)** Construa um intervalo de confiança via Bootstrap para a média da variável 'NOTA_MEDIA_ESCOLA' para escolas de 'DEPENDENCIA_ADMINISTRATIVA' **Federal**. Você deve utilizar 5000 amostras e nível de confiança de 90%.\n",
    "\n",
    "*Nota*: você deve utilizar o argumento random_state=i na função data.sample, como no exemplo inicial da seção de Bootstrap."
   ]
  },
  {
   "cell_type": "code",
   "execution_count": 45,
   "metadata": {
    "id": "eHLyqTxd0u6g"
   },
   "outputs": [],
   "source": [
    "def bootstrap_mean(n_sub, alpha):\n",
    "  # Retorne um vetor com os valores obtidos.\n",
    "  # Retorne tambem uma tupla com os limites inferiores e superiores do IC construído.\n",
    "  # Exemplo:\n",
    "  # return values, (LI, LS)\n",
    "  # se ocorrer erro de float, tente dar cast na tupla (LI,LS) assim: (np.array(LI), np.array(LS))\n",
    "\n",
    "  df = data.query(\"DEPENDENCIA_ADMINISTRATIVA == 'Federal'\")\n",
    "  means=[]\n",
    "  for i in range(5000):\n",
    "    sample = df[\"NOTA_MEDIA_ESCOLA\"].sample(len(df), replace=True, random_state=i)\n",
    "    mean = sample.mean()\n",
    "    means.append(mean)\n",
    "\n",
    "  pct_inf = np.percentile(means, (1-alpha)*100/2)\n",
    "  pct_sup = np.percentile(means, (alpha*100) + ((1-alpha)*100/2))\n",
    "\n",
    "  return means, (pct_inf, pct_sup)"
   ]
  },
  {
   "cell_type": "code",
   "execution_count": 46,
   "metadata": {
    "id": "-C0BkpeW1QlF"
   },
   "outputs": [],
   "source": [
    "values, (LI, LS) = bootstrap_mean(n_sub=5000, alpha=0.9)\n",
    "\n",
    "assert_equal(622.03, LI.round(2))\n",
    "assert_equal(635.43, LS.round(2))"
   ]
  },
  {
   "attachments": {},
   "cell_type": "markdown",
   "metadata": {
    "id": "jQltzed7WC_7"
   },
   "source": [
    "## Exercício 4"
   ]
  },
  {
   "attachments": {},
   "cell_type": "markdown",
   "metadata": {
    "id": "qZq7arokWPb4"
   },
   "source": [
    "Altere a função abaixo para que retorne a 'DEPENDENCIA_ADMINISTRATIVA' (Federal, Estadual, Municipal ou Privada) cujo intervalo de confiança para *mediana* via *bootstrap* para a variável 'TAXA_DE_PARTICIPACAO' apresente maior amplitude (LS-LI), e qual esse valor. \n",
    "\n",
    "Utilize:\n",
    "- 95% como nível de confiança.\n",
    "- 5000 como número de sub-amostras."
   ]
  },
  {
   "cell_type": "code",
   "execution_count": 59,
   "metadata": {
    "id": "Ztgw_idYZnQ3"
   },
   "outputs": [],
   "source": [
    "def ci_amplitude():\n",
    "  # Sua função deve retorar uma tupla como no exemplo\n",
    "  # exemplo: (dependencia_administrativa, amplitude_do_ic)\n",
    "\n",
    "  dep_amp = {}\n",
    "  groups = [\"Federal\", \"Estadual\", \"Municipal\", \"Privada\"]\n",
    "  for group in groups:\n",
    "    values = []\n",
    "    df = data.query(f\"DEPENDENCIA_ADMINISTRATIVA == '{group}'\")\n",
    "    for i in range(5000):\n",
    "      sample = df[\"TAXA_DE_PARTICIPACAO\"].sample(len(df), replace=True, random_state=i)\n",
    "      med = sample.median()\n",
    "      values.append(med)\n",
    "    \n",
    "    pct_inf = np.percentile(values, 2.5)\n",
    "    pct_sup = np.percentile(values, 97.5)\n",
    "    amp = pct_sup - pct_inf\n",
    "    \n",
    "    dep_amp[group] = amp\n",
    "  \n",
    "  maximo = 0\n",
    "  group = \"\"\n",
    "  for key in list(dep_amp.keys()):\n",
    "    if dep_amp[key] > maximo:\n",
    "      maximo = dep_amp[key]\n",
    "      group = key\n",
    "  return group, maximo"
   ]
  },
  {
   "cell_type": "code",
   "execution_count": 61,
   "metadata": {
    "id": "iSM60rO4ZEPs"
   },
   "outputs": [],
   "source": [
    "(dep, amp) = ci_amplitude()\n",
    "assert_equal(dep, 'Municipal')\n",
    "assert_equal(amp.round(2), 11.09)"
   ]
  }
 ],
 "metadata": {
  "colab": {
   "collapsed_sections": [
    "DbPnGld79G4s"
   ],
   "provenance": []
  },
  "kernelspec": {
   "display_name": "Python 3 (ipykernel)",
   "language": "python",
   "name": "python3"
  },
  "language_info": {
   "codemirror_mode": {
    "name": "ipython",
    "version": 3
   },
   "file_extension": ".py",
   "mimetype": "text/x-python",
   "name": "python",
   "nbconvert_exporter": "python",
   "pygments_lexer": "ipython3",
   "version": "3.8.5"
  }
 },
 "nbformat": 4,
 "nbformat_minor": 1
}
