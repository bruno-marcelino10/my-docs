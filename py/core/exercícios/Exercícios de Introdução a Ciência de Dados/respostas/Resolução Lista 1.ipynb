{
 "cells": [
  {
   "cell_type": "markdown",
   "metadata": {
    "id": "766pyyuekYB8"
   },
   "source": [
    "# Lista 01 - Introdução e Revisão Numpy\n",
    "\n",
    "[NumPy](http://numpy.org) é um pacote incrivelmente poderoso em Python, onipresente em qualquer projeto de ciência de dados. Possui forte integração com o [Pandas](http://pandas.pydata.org), outra ferramenta que iremos abordar na matéria. NumPy adiciona suporte para matrizes multidimensionais e funções matemáticas que permitem que você execute facilmente cálculos de álgebra linear. Este notebook será uma coleção de exemplos de álgebra linear computados usando NumPy. \n",
    "\n",
    "## Numpy \n",
    "\n",
    "Para fazer uso de Numpy precisamos importar a biblioteca"
   ]
  },
  {
   "cell_type": "code",
   "execution_count": 1,
   "metadata": {
    "id": "UHeFqyTykYCH"
   },
   "outputs": [],
   "source": [
    "# -*- coding: utf8\n",
    "\n",
    "import numpy as np"
   ]
  },
  {
   "cell_type": "markdown",
   "metadata": {
    "id": "Emhkyx_gkYCL"
   },
   "source": [
    "Quando pensamos no lado prático de ciência de dados, um aspecto chave que ajuda na implementação de novos algoritmos é a vetorização. De forma simples, vetorização consiste do uso de tipos como **escalar**, **vetor** e **matriz** para realizar uma computação mais eficaz (em tempo de execução).\n",
    "\n",
    "Uma matriz é uma coleção de valores, normalmente representada por uma grade 𝑚 × 𝑛, onde 𝑚 é o número de linhas e 𝑛 é o número de colunas. Os comprimentos das arestas 𝑚 e 𝑛 não precisam ser necessariamente diferentes. Se tivermos 𝑚 = 𝑛, chamamos isso de matriz quadrada. Um caso particularmente interessante de uma matriz é quando 𝑚 = 1 ou 𝑛 = 1. Nesse caso, temos um caso especial de uma matriz que chamamos de vetor. Embora haja um objeto de matriz em NumPy, faremos tudo usando matrizes NumPy porque elas podem ter dimensões maiores que 2. \n",
    "\n",
    "1. **Escalar:** Um vetor de zero dimensões"
   ]
  },
  {
   "cell_type": "code",
   "execution_count": 2,
   "metadata": {
    "id": "Aty5aaJUkYCM"
   },
   "outputs": [
    {
     "data": {
      "text/plain": [
       "1"
      ]
     },
     "execution_count": 2,
     "metadata": {},
     "output_type": "execute_result"
    }
   ],
   "source": [
    "1"
   ]
  },
  {
   "cell_type": "markdown",
   "metadata": {
    "id": "NXPTYOaRkYCN"
   },
   "source": [
    "2. **Vetor:** Representa uma dimensão"
   ]
  },
  {
   "cell_type": "markdown",
   "metadata": {
    "id": "dVYfZAgjkYCP"
   },
   "source": [
    "Abaixo vamos criar um vetor simples. Inicialmente, vamos criar uma lista."
   ]
  },
  {
   "cell_type": "code",
   "execution_count": 3,
   "metadata": {
    "id": "11Od2FMnkYCQ"
   },
   "outputs": [],
   "source": [
    "data_list = [3.5, 5, 2, 8, 4.2]"
   ]
  },
  {
   "cell_type": "markdown",
   "metadata": {
    "id": "FWbH4QU2kYCQ"
   },
   "source": [
    "Observe o tipo da mesma."
   ]
  },
  {
   "cell_type": "code",
   "execution_count": 4,
   "metadata": {
    "id": "iX2e75WSkYCR"
   },
   "outputs": [
    {
     "data": {
      "text/plain": [
       "list"
      ]
     },
     "execution_count": 4,
     "metadata": {},
     "output_type": "execute_result"
    }
   ],
   "source": [
    "type(data_list)"
   ]
  },
  {
   "cell_type": "markdown",
   "metadata": {
    "id": "9Gn1lt2gkYCS"
   },
   "source": [
    "Embora vetores e listas sejam parecidos, vetores Numpy são otimizados para operações de Álgebra Linear. Ciência de Dados faz bastante uso de tais operações, sendo este um dos motivos da dependência em Numpy.\n",
    "\n",
    "Abaixo criamos um vetor."
   ]
  },
  {
   "cell_type": "code",
   "execution_count": 5,
   "metadata": {
    "id": "C1f48Um-kYCT"
   },
   "outputs": [
    {
     "name": "stdout",
     "output_type": "stream",
     "text": [
      "[3.5 5.  2.  8.  4.2]\n",
      "<class 'numpy.ndarray'>\n"
     ]
    }
   ],
   "source": [
    "data = np.array(data_list)\n",
    "print(data)\n",
    "print(type(data))"
   ]
  },
  {
   "cell_type": "markdown",
   "metadata": {
    "id": "gQiLy6z0kYCX"
   },
   "source": [
    "Observe como podemos somar o mesmo com um número. Não é possível fazer tal operação com listas."
   ]
  },
  {
   "cell_type": "code",
   "execution_count": 6,
   "metadata": {
    "id": "ujxdCKZmkYCY"
   },
   "outputs": [
    {
     "data": {
      "text/plain": [
       "array([10.5, 12. ,  9. , 15. , 11.2])"
      ]
     },
     "execution_count": 6,
     "metadata": {},
     "output_type": "execute_result"
    }
   ],
   "source": [
    "data + 7"
   ]
  },
  {
   "cell_type": "markdown",
   "metadata": {
    "id": "wlmAc71akYCZ"
   },
   "source": [
    "3. **Matrizes:** Representam duas dimensões."
   ]
  },
  {
   "cell_type": "code",
   "execution_count": 7,
   "metadata": {
    "id": "CkSUnM3dkYCZ"
   },
   "outputs": [
    {
     "data": {
      "text/plain": [
       "array([[2, 4],\n",
       "       [1, 3]])"
      ]
     },
     "execution_count": 7,
     "metadata": {},
     "output_type": "execute_result"
    }
   ],
   "source": [
    "X = np.array([[2, 4],\n",
    "              [1, 3]])\n",
    "X"
   ]
  },
  {
   "cell_type": "markdown",
   "metadata": {
    "id": "0oAvSlj7kYCa"
   },
   "source": [
    "Podemos indexar as matrizes e os vetores."
   ]
  },
  {
   "cell_type": "code",
   "execution_count": 8,
   "metadata": {
    "id": "QLlBXVd1kYCa"
   },
   "outputs": [
    {
     "data": {
      "text/plain": [
       "3.5"
      ]
     },
     "execution_count": 8,
     "metadata": {},
     "output_type": "execute_result"
    }
   ],
   "source": [
    "data[0]"
   ]
  },
  {
   "cell_type": "code",
   "execution_count": 9,
   "metadata": {
    "id": "5w_ZzPbdkYCb"
   },
   "outputs": [
    {
     "data": {
      "text/plain": [
       "4"
      ]
     },
     "execution_count": 9,
     "metadata": {},
     "output_type": "execute_result"
    }
   ],
   "source": [
    "X[0, 1] # aqui é primeira linha, segunda coluna"
   ]
  },
  {
   "cell_type": "markdown",
   "metadata": {
    "id": "-TvsnNRMkYCb"
   },
   "source": [
    "Podemos também criar vetores/matrizes de números aleatórios"
   ]
  },
  {
   "cell_type": "code",
   "execution_count": 10,
   "metadata": {
    "id": "zZbgBFC3kYCc"
   },
   "outputs": [
    {
     "name": "stdout",
     "output_type": "stream",
     "text": [
      "[[ 0.06070684  1.13320049 -1.08088968]\n",
      " [-0.23701168  1.92757214 -0.55772637]\n",
      " [ 1.03090079 -0.70722626 -0.00470147]\n",
      " [-0.58600745  0.94986605 -0.34183667]]\n"
     ]
    }
   ],
   "source": [
    "X = np.random.randn(4, 3) # Gera números aleatórios de uma normal\n",
    "print(X)"
   ]
  },
  {
   "cell_type": "markdown",
   "metadata": {
    "id": "bt3_1iu1kYCd"
   },
   "source": [
    "### Indexando\n",
    "\n",
    "Pegando a primeira linha"
   ]
  },
  {
   "cell_type": "code",
   "execution_count": 11,
   "metadata": {
    "id": "yLXA-k8_kYCe"
   },
   "outputs": [
    {
     "data": {
      "text/plain": [
       "array([ 0.06070684,  1.13320049, -1.08088968])"
      ]
     },
     "execution_count": 11,
     "metadata": {},
     "output_type": "execute_result"
    }
   ],
   "source": [
    "X[0] # observe que 0 é a linha 1, compare com o X[0, 1] de antes."
   ]
  },
  {
   "cell_type": "code",
   "execution_count": 12,
   "metadata": {
    "id": "q0NlYv9hkYCf"
   },
   "outputs": [
    {
     "data": {
      "text/plain": [
       "array([-0.23701168,  1.92757214, -0.55772637])"
      ]
     },
     "execution_count": 12,
     "metadata": {},
     "output_type": "execute_result"
    }
   ],
   "source": [
    "X[1] # segunda"
   ]
  },
  {
   "cell_type": "code",
   "execution_count": 13,
   "metadata": {
    "id": "tq7BH5aZkYCg"
   },
   "outputs": [
    {
     "data": {
      "text/plain": [
       "array([ 1.03090079, -0.70722626, -0.00470147])"
      ]
     },
     "execution_count": 13,
     "metadata": {},
     "output_type": "execute_result"
    }
   ],
   "source": [
    "X[2] # terceira"
   ]
  },
  {
   "cell_type": "markdown",
   "metadata": {
    "id": "IwVwmM3MkYCh"
   },
   "source": [
    "Observe como todos os tipos retornados são `array`. Array é o nome genérico de Numpy para vetores e matrizes. "
   ]
  },
  {
   "cell_type": "markdown",
   "metadata": {
    "id": "bVxk8zjkkYCh"
   },
   "source": [
    "`X[:, c]` pega uma coluna"
   ]
  },
  {
   "cell_type": "code",
   "execution_count": 14,
   "metadata": {
    "id": "0Yxb0JjPkYCh"
   },
   "outputs": [
    {
     "data": {
      "text/plain": [
       "array([ 0.06070684, -0.23701168,  1.03090079, -0.58600745])"
      ]
     },
     "execution_count": 14,
     "metadata": {},
     "output_type": "execute_result"
    }
   ],
   "source": [
    "X[:, 0]"
   ]
  },
  {
   "cell_type": "code",
   "execution_count": 15,
   "metadata": {
    "id": "EWGw-LvTkYCh"
   },
   "outputs": [
    {
     "data": {
      "text/plain": [
       "array([ 1.13320049,  1.92757214, -0.70722626,  0.94986605])"
      ]
     },
     "execution_count": 15,
     "metadata": {},
     "output_type": "execute_result"
    }
   ],
   "source": [
    "X[:, 1]"
   ]
  },
  {
   "cell_type": "markdown",
   "metadata": {
    "id": "igSvl7aIkYCl"
   },
   "source": [
    "`X[um_vetor]` pega as linhas da matriz. `X[:, um_vetor]` pega as colunas"
   ]
  },
  {
   "cell_type": "code",
   "execution_count": 16,
   "metadata": {
    "id": "dgqX25TQkYCl"
   },
   "outputs": [
    {
     "data": {
      "text/plain": [
       "array([[ 0.06070684,  1.13320049, -1.08088968],\n",
       "       [ 0.06070684,  1.13320049, -1.08088968],\n",
       "       [-0.23701168,  1.92757214, -0.55772637]])"
      ]
     },
     "execution_count": 16,
     "metadata": {},
     "output_type": "execute_result"
    }
   ],
   "source": [
    "X[[0, 0, 1]] # observe que pego a primeira linha, indexada por 0, duas vezes"
   ]
  },
  {
   "cell_type": "markdown",
   "metadata": {
    "id": "8aLnbePqkYCp"
   },
   "source": [
    "Abaixo pego a segunda a primeira coluna"
   ]
  },
  {
   "cell_type": "code",
   "execution_count": 17,
   "metadata": {
    "id": "gUYl86sykYCq"
   },
   "outputs": [
    {
     "data": {
      "text/plain": [
       "array([[ 1.13320049,  0.06070684],\n",
       "       [ 1.92757214, -0.23701168],\n",
       "       [-0.70722626,  1.03090079],\n",
       "       [ 0.94986605, -0.58600745]])"
      ]
     },
     "execution_count": 17,
     "metadata": {},
     "output_type": "execute_result"
    }
   ],
   "source": [
    "X[:, [1, 0]]"
   ]
  },
  {
   "cell_type": "markdown",
   "metadata": {
    "id": "x7rNfAcTkYCq"
   },
   "source": [
    "### Indexação Booleana\n",
    "\n",
    "`X[vetor_booleano]` retorna as linhas (ou colunas quando X[:, vetor_booleano]) onde o vetor é true"
   ]
  },
  {
   "cell_type": "code",
   "execution_count": 18,
   "metadata": {
    "id": "Bs_i5-UnkYCr"
   },
   "outputs": [
    {
     "data": {
      "text/plain": [
       "array([[ 0.06070684,  1.13320049, -1.08088968],\n",
       "       [ 1.03090079, -0.70722626, -0.00470147]])"
      ]
     },
     "execution_count": 18,
     "metadata": {},
     "output_type": "execute_result"
    }
   ],
   "source": [
    "X[[True, False, True, False]]"
   ]
  },
  {
   "cell_type": "code",
   "execution_count": 19,
   "metadata": {
    "id": "kZ7qbYTIkYCr"
   },
   "outputs": [
    {
     "data": {
      "text/plain": [
       "array([[ 1.13320049, -1.08088968],\n",
       "       [ 1.92757214, -0.55772637],\n",
       "       [-0.70722626, -0.00470147],\n",
       "       [ 0.94986605, -0.34183667]])"
      ]
     },
     "execution_count": 19,
     "metadata": {},
     "output_type": "execute_result"
    }
   ],
   "source": [
    "X[:, [False, True, True]]"
   ]
  },
  {
   "cell_type": "markdown",
   "metadata": {
    "id": "omwGqkTMkYCr"
   },
   "source": [
    "### Reshape, Flatten e Ravel\n",
    "\n",
    "Todo vetor ou matriz pode ser redimensionado. Observe como uma matriz abaixo de 9x8=72 elementos. Podemos redimensionar os mesmos para outros arrays de tamanho 72."
   ]
  },
  {
   "cell_type": "code",
   "execution_count": 20,
   "metadata": {
    "id": "GgHNyf-RkYCr"
   },
   "outputs": [],
   "source": [
    "X = np.random.randn(9, 8)"
   ]
  },
  {
   "cell_type": "markdown",
   "metadata": {
    "id": "P5V2Nc0MkYCs"
   },
   "source": [
    "Criando uma matriz de 18x4."
   ]
  },
  {
   "cell_type": "code",
   "execution_count": 21,
   "metadata": {
    "id": "ihHBJJiHkYCs"
   },
   "outputs": [
    {
     "data": {
      "text/plain": [
       "array([[-1.00381493,  0.96828746, -0.69811137,  1.51243618],\n",
       "       [ 0.29064223,  0.61281138,  0.57206406,  0.93327936],\n",
       "       [ 0.29133523, -0.22941893, -0.43167807,  1.21001094],\n",
       "       [-0.30199308,  0.06695281,  0.92147517, -0.18916307],\n",
       "       [ 0.32411442,  1.49533726,  0.01117627, -0.66925972],\n",
       "       [ 0.12215882, -0.68407953, -0.033455  ,  0.11746564],\n",
       "       [ 0.01585358,  0.17721623,  0.92077537,  0.32859402],\n",
       "       [-0.35890547,  1.19506607, -1.18638814,  1.23084539],\n",
       "       [ 0.337872  ,  0.21259345, -0.01382572, -0.12937834],\n",
       "       [-0.79657271, -0.53214726, -0.19576301, -0.17615197],\n",
       "       [ 1.62918153,  0.08070119, -0.44221645,  0.51787768],\n",
       "       [-0.39772092, -2.97290537,  0.62915107,  2.84899452],\n",
       "       [-0.82649499, -1.02189188,  0.74811184, -1.84829324],\n",
       "       [ 0.42046482,  1.30361944,  0.46863827, -0.0520086 ],\n",
       "       [-1.62870726,  0.40374109,  2.17234793, -0.85154406],\n",
       "       [ 0.58161233, -0.33543052,  0.48830134,  0.0377414 ],\n",
       "       [-0.97673462,  0.3837377 , -1.15780643,  0.2914332 ],\n",
       "       [ 0.56201506,  1.02676689, -0.48923347, -0.89937573]])"
      ]
     },
     "execution_count": 21,
     "metadata": {},
     "output_type": "execute_result"
    }
   ],
   "source": [
    "X.reshape((18, 4))"
   ]
  },
  {
   "cell_type": "markdown",
   "metadata": {
    "id": "VhqDzCmukYCs"
   },
   "source": [
    "Ou um vetor de 72"
   ]
  },
  {
   "cell_type": "code",
   "execution_count": 22,
   "metadata": {
    "id": "YM_BvgpikYCt"
   },
   "outputs": [
    {
     "data": {
      "text/plain": [
       "array([-1.00381493,  0.96828746, -0.69811137,  1.51243618,  0.29064223,\n",
       "        0.61281138,  0.57206406,  0.93327936,  0.29133523, -0.22941893,\n",
       "       -0.43167807,  1.21001094, -0.30199308,  0.06695281,  0.92147517,\n",
       "       -0.18916307,  0.32411442,  1.49533726,  0.01117627, -0.66925972,\n",
       "        0.12215882, -0.68407953, -0.033455  ,  0.11746564,  0.01585358,\n",
       "        0.17721623,  0.92077537,  0.32859402, -0.35890547,  1.19506607,\n",
       "       -1.18638814,  1.23084539,  0.337872  ,  0.21259345, -0.01382572,\n",
       "       -0.12937834, -0.79657271, -0.53214726, -0.19576301, -0.17615197,\n",
       "        1.62918153,  0.08070119, -0.44221645,  0.51787768, -0.39772092,\n",
       "       -2.97290537,  0.62915107,  2.84899452, -0.82649499, -1.02189188,\n",
       "        0.74811184, -1.84829324,  0.42046482,  1.30361944,  0.46863827,\n",
       "       -0.0520086 , -1.62870726,  0.40374109,  2.17234793, -0.85154406,\n",
       "        0.58161233, -0.33543052,  0.48830134,  0.0377414 , -0.97673462,\n",
       "        0.3837377 , -1.15780643,  0.2914332 ,  0.56201506,  1.02676689,\n",
       "       -0.48923347, -0.89937573])"
      ]
     },
     "execution_count": 22,
     "metadata": {},
     "output_type": "execute_result"
    }
   ],
   "source": [
    "X.reshape(72)"
   ]
  },
  {
   "cell_type": "markdown",
   "metadata": {
    "id": "GWuDrr-NkYCt"
   },
   "source": [
    "A chamada flatten e ravel faz a mesma coisa, criam uma visão de uma dimensão da matriz."
   ]
  },
  {
   "cell_type": "code",
   "execution_count": 23,
   "metadata": {
    "id": "alqpyX3AkYCt"
   },
   "outputs": [
    {
     "data": {
      "text/plain": [
       "array([-1.00381493,  0.96828746, -0.69811137,  1.51243618,  0.29064223,\n",
       "        0.61281138,  0.57206406,  0.93327936,  0.29133523, -0.22941893,\n",
       "       -0.43167807,  1.21001094, -0.30199308,  0.06695281,  0.92147517,\n",
       "       -0.18916307,  0.32411442,  1.49533726,  0.01117627, -0.66925972,\n",
       "        0.12215882, -0.68407953, -0.033455  ,  0.11746564,  0.01585358,\n",
       "        0.17721623,  0.92077537,  0.32859402, -0.35890547,  1.19506607,\n",
       "       -1.18638814,  1.23084539,  0.337872  ,  0.21259345, -0.01382572,\n",
       "       -0.12937834, -0.79657271, -0.53214726, -0.19576301, -0.17615197,\n",
       "        1.62918153,  0.08070119, -0.44221645,  0.51787768, -0.39772092,\n",
       "       -2.97290537,  0.62915107,  2.84899452, -0.82649499, -1.02189188,\n",
       "        0.74811184, -1.84829324,  0.42046482,  1.30361944,  0.46863827,\n",
       "       -0.0520086 , -1.62870726,  0.40374109,  2.17234793, -0.85154406,\n",
       "        0.58161233, -0.33543052,  0.48830134,  0.0377414 , -0.97673462,\n",
       "        0.3837377 , -1.15780643,  0.2914332 ,  0.56201506,  1.02676689,\n",
       "       -0.48923347, -0.89937573])"
      ]
     },
     "execution_count": 23,
     "metadata": {},
     "output_type": "execute_result"
    }
   ],
   "source": [
    "X.flatten()"
   ]
  },
  {
   "cell_type": "code",
   "execution_count": 24,
   "metadata": {
    "id": "bxHTo2PSkYCu"
   },
   "outputs": [
    {
     "data": {
      "text/plain": [
       "array([-1.00381493,  0.96828746, -0.69811137,  1.51243618,  0.29064223,\n",
       "        0.61281138,  0.57206406,  0.93327936,  0.29133523, -0.22941893,\n",
       "       -0.43167807,  1.21001094, -0.30199308,  0.06695281,  0.92147517,\n",
       "       -0.18916307,  0.32411442,  1.49533726,  0.01117627, -0.66925972,\n",
       "        0.12215882, -0.68407953, -0.033455  ,  0.11746564,  0.01585358,\n",
       "        0.17721623,  0.92077537,  0.32859402, -0.35890547,  1.19506607,\n",
       "       -1.18638814,  1.23084539,  0.337872  ,  0.21259345, -0.01382572,\n",
       "       -0.12937834, -0.79657271, -0.53214726, -0.19576301, -0.17615197,\n",
       "        1.62918153,  0.08070119, -0.44221645,  0.51787768, -0.39772092,\n",
       "       -2.97290537,  0.62915107,  2.84899452, -0.82649499, -1.02189188,\n",
       "        0.74811184, -1.84829324,  0.42046482,  1.30361944,  0.46863827,\n",
       "       -0.0520086 , -1.62870726,  0.40374109,  2.17234793, -0.85154406,\n",
       "        0.58161233, -0.33543052,  0.48830134,  0.0377414 , -0.97673462,\n",
       "        0.3837377 , -1.15780643,  0.2914332 ,  0.56201506,  1.02676689,\n",
       "       -0.48923347, -0.89937573])"
      ]
     },
     "execution_count": 24,
     "metadata": {},
     "output_type": "execute_result"
    }
   ],
   "source": [
    "X.ravel()"
   ]
  },
  {
   "cell_type": "markdown",
   "metadata": {
    "id": "8XVtEbbUkYCu"
   },
   "source": [
    "As funções incorporadas ao NumPy podem ser facilmente chamadas em matrizes. A maioria das funções são aplicadas a um elemento de array (como a multiplicação escalar). Por exemplo, se chamarmos `log()` em um array, o logaritmo será obtido de cada elemento. "
   ]
  },
  {
   "cell_type": "code",
   "execution_count": 25,
   "metadata": {
    "id": "UFptlcZUkYCu"
   },
   "outputs": [
    {
     "data": {
      "text/plain": [
       "array([1.25276297, 1.60943791, 0.69314718, 2.07944154, 1.43508453])"
      ]
     },
     "execution_count": 25,
     "metadata": {},
     "output_type": "execute_result"
    }
   ],
   "source": [
    "np.log(data)"
   ]
  },
  {
   "cell_type": "markdown",
   "metadata": {
    "id": "7TRI4e3VkYCu"
   },
   "source": [
    "Mean tira a média"
   ]
  },
  {
   "cell_type": "code",
   "execution_count": 26,
   "metadata": {
    "id": "DvDfnTTTkYCv"
   },
   "outputs": [
    {
     "data": {
      "text/plain": [
       "4.54"
      ]
     },
     "execution_count": 26,
     "metadata": {},
     "output_type": "execute_result"
    }
   ],
   "source": [
    "np.mean(data)"
   ]
  },
  {
   "cell_type": "markdown",
   "metadata": {
    "id": "iXfVToOlkYCv"
   },
   "source": [
    "Algumas funções podem ser chamadas direto no vetor, nem todas serão assim. O importante é ler a [documentação](http://numpy.org) e aprender. Com um pouco de prática você vai se acostumando."
   ]
  },
  {
   "cell_type": "code",
   "execution_count": 27,
   "metadata": {
    "id": "RJSwkl2wkYCv"
   },
   "outputs": [
    {
     "data": {
      "text/plain": [
       "4.54"
      ]
     },
     "execution_count": 27,
     "metadata": {},
     "output_type": "execute_result"
    }
   ],
   "source": [
    "data.mean()"
   ]
  },
  {
   "cell_type": "markdown",
   "metadata": {
    "id": "7ivgQwQOkYCw"
   },
   "source": [
    "Abaixo temos a mediana,"
   ]
  },
  {
   "cell_type": "code",
   "execution_count": 28,
   "metadata": {
    "id": "NtVvK0gIkYCw"
   },
   "outputs": [
    {
     "data": {
      "text/plain": [
       "4.2"
      ]
     },
     "execution_count": 28,
     "metadata": {},
     "output_type": "execute_result"
    }
   ],
   "source": [
    "np.median(data) # por exemplo, não existe data.median(). Faz sentido? Não. Mas é assim."
   ]
  },
  {
   "cell_type": "markdown",
   "metadata": {
    "id": "AaFzDcqIkYCw"
   },
   "source": [
    "Em matrizes as funções operam em todos os elemntos."
   ]
  },
  {
   "cell_type": "code",
   "execution_count": 29,
   "metadata": {
    "id": "Oo0Hl94jkYCx"
   },
   "outputs": [
    {
     "data": {
      "text/plain": [
       "0.09908341387681144"
      ]
     },
     "execution_count": 29,
     "metadata": {},
     "output_type": "execute_result"
    }
   ],
   "source": [
    "np.median(X)"
   ]
  },
  {
   "cell_type": "code",
   "execution_count": 30,
   "metadata": {
    "id": "FhiNQqitkYCx"
   },
   "outputs": [
    {
     "data": {
      "text/plain": [
       "0.09628237151334333"
      ]
     },
     "execution_count": 30,
     "metadata": {},
     "output_type": "execute_result"
    }
   ],
   "source": [
    "X.mean()"
   ]
  },
  {
   "cell_type": "code",
   "execution_count": 31,
   "metadata": {
    "id": "vrxTfOm_kYCx"
   },
   "outputs": [
    {
     "data": {
      "text/plain": [
       "array([[2.19680061, 2.39500815, 2.23021746, 2.44342786, 2.33123496,\n",
       "        2.36206189, 2.35821506, 2.39181129],\n",
       "       [2.3313023 , 2.27937594, 2.25845784, 2.41680721, 2.27192039,\n",
       "        2.30925806, 2.39073105, 2.28348758],\n",
       "       [2.33448236, 2.4419415 , 2.3037021 , 2.23331436, 2.31472696,\n",
       "        2.23172481, 2.29923398, 2.3142632 ],\n",
       "       [2.3041692 , 2.32015152, 2.39066697, 2.33491617, 2.26603464,\n",
       "        2.41547315, 2.17629733, 2.41866405],\n",
       "       [2.33581405, 2.32362161, 2.30120156, 2.28956284, 2.21957595,\n",
       "        2.24790214, 2.28281464, 2.2848129 ],\n",
       "       [2.45351759, 2.31062282, 2.25735585, 2.35307645, 2.26200047,\n",
       "        1.94977334, 2.36360033, 2.55326556],\n",
       "       [2.21631944, 2.19478918, 2.3747301 , 2.09822732, 2.34377164,\n",
       "        2.42512298, 2.34838396, 2.29737066],\n",
       "       [2.12480832, 2.34216546, 2.49916682, 2.21358512, 2.35911781,\n",
       "        2.26846657, 2.35026048, 2.30635213],\n",
       "       [2.19980628, 2.3402409 , 2.17953499, 2.33131182, 2.35726408,\n",
       "        2.40032567, 2.25242448, 2.20834301]])"
      ]
     },
     "execution_count": 31,
     "metadata": {},
     "output_type": "execute_result"
    }
   ],
   "source": [
    "np.log(X + 10)"
   ]
  },
  {
   "cell_type": "markdown",
   "metadata": {
    "id": "rOUQ4KRokYCy"
   },
   "source": [
    "Porém, caso você queira a media de linhas ou colunas use `axis`. Antes, vamos ver o tamanho do vetor."
   ]
  },
  {
   "cell_type": "code",
   "execution_count": 32,
   "metadata": {
    "id": "wPq0-1-VkYCy"
   },
   "outputs": [
    {
     "data": {
      "text/plain": [
       "(9, 8)"
      ]
     },
     "execution_count": 32,
     "metadata": {},
     "output_type": "execute_result"
    }
   ],
   "source": [
    "X.shape"
   ]
  },
  {
   "cell_type": "code",
   "execution_count": 33,
   "metadata": {
    "id": "QQN-JbHdkYCz"
   },
   "outputs": [
    {
     "data": {
      "text/plain": [
       "array([-0.204155  ,  0.27447817,  0.12319704,  0.04020852,  0.01352234,\n",
       "       -0.0354829 ,  0.13053225,  0.42795855])"
      ]
     },
     "execution_count": 33,
     "metadata": {},
     "output_type": "execute_result"
    }
   ],
   "source": [
    "np.mean(X, axis=0) # média das colunas. como temos 8 colunas, temos 8 elementos."
   ]
  },
  {
   "cell_type": "code",
   "execution_count": 34,
   "metadata": {
    "id": "hZQ8lasnkYC0"
   },
   "outputs": [
    {
     "data": {
      "text/plain": [
       "(8,)"
      ]
     },
     "execution_count": 34,
     "metadata": {},
     "output_type": "execute_result"
    }
   ],
   "source": [
    "np.mean(X, axis=0).shape"
   ]
  },
  {
   "cell_type": "code",
   "execution_count": 35,
   "metadata": {
    "id": "ni8HPjItkYC0"
   },
   "outputs": [
    {
     "data": {
      "text/plain": [
       "array([ 0.3984493 ,  0.16719012,  0.08543227,  0.29038213, -0.1616717 ,\n",
       "        0.23663291, -0.10098179,  0.10850778, -0.15739968])"
      ]
     },
     "execution_count": 35,
     "metadata": {},
     "output_type": "execute_result"
    }
   ],
   "source": [
    "np.mean(X, axis=1) # média das linhas"
   ]
  },
  {
   "cell_type": "code",
   "execution_count": 36,
   "metadata": {
    "id": "SCDwA0tskYC1"
   },
   "outputs": [
    {
     "data": {
      "text/plain": [
       "(9,)"
      ]
     },
     "execution_count": 36,
     "metadata": {},
     "output_type": "execute_result"
    }
   ],
   "source": [
    "np.mean(X, axis=1).shape"
   ]
  },
  {
   "cell_type": "markdown",
   "metadata": {
    "id": "2Im4RuRskYC1"
   },
   "source": [
    "Lembre-se que eixo 0 é coluna. Eixo 1 é linas."
   ]
  },
  {
   "cell_type": "markdown",
   "metadata": {
    "id": "sr3lYt3akYC1"
   },
   "source": [
    "### Multiplicação de Matrizes"
   ]
  },
  {
   "cell_type": "markdown",
   "metadata": {
    "id": "YxFqErJKkYC5"
   },
   "source": [
    "Para transpor uma matriz fazemos uso de .T"
   ]
  },
  {
   "cell_type": "code",
   "execution_count": 37,
   "metadata": {
    "id": "Ln5btJWfkYC5"
   },
   "outputs": [
    {
     "data": {
      "text/plain": [
       "(9, 8)"
      ]
     },
     "execution_count": 37,
     "metadata": {},
     "output_type": "execute_result"
    }
   ],
   "source": [
    "X.shape"
   ]
  },
  {
   "cell_type": "code",
   "execution_count": 38,
   "metadata": {
    "id": "Kpojxl1vkYC6"
   },
   "outputs": [
    {
     "data": {
      "text/plain": [
       "(8, 9)"
      ]
     },
     "execution_count": 38,
     "metadata": {},
     "output_type": "execute_result"
    }
   ],
   "source": [
    "X.T.shape"
   ]
  },
  {
   "cell_type": "code",
   "execution_count": 39,
   "metadata": {
    "id": "oyfnSsdUkYC6"
   },
   "outputs": [
    {
     "data": {
      "text/plain": [
       "array([[-1.00381493,  0.29133523,  0.32411442,  0.01585358,  0.337872  ,\n",
       "         1.62918153, -0.82649499, -1.62870726, -0.97673462],\n",
       "       [ 0.96828746, -0.22941893,  1.49533726,  0.17721623,  0.21259345,\n",
       "         0.08070119, -1.02189188,  0.40374109,  0.3837377 ],\n",
       "       [-0.69811137, -0.43167807,  0.01117627,  0.92077537, -0.01382572,\n",
       "        -0.44221645,  0.74811184,  2.17234793, -1.15780643],\n",
       "       [ 1.51243618,  1.21001094, -0.66925972,  0.32859402, -0.12937834,\n",
       "         0.51787768, -1.84829324, -0.85154406,  0.2914332 ],\n",
       "       [ 0.29064223, -0.30199308,  0.12215882, -0.35890547, -0.79657271,\n",
       "        -0.39772092,  0.42046482,  0.58161233,  0.56201506],\n",
       "       [ 0.61281138,  0.06695281, -0.68407953,  1.19506607, -0.53214726,\n",
       "        -2.97290537,  1.30361944, -0.33543052,  1.02676689],\n",
       "       [ 0.57206406,  0.92147517, -0.033455  , -1.18638814, -0.19576301,\n",
       "         0.62915107,  0.46863827,  0.48830134, -0.48923347],\n",
       "       [ 0.93327936, -0.18916307,  0.11746564,  1.23084539, -0.17615197,\n",
       "         2.84899452, -0.0520086 ,  0.0377414 , -0.89937573]])"
      ]
     },
     "execution_count": 39,
     "metadata": {},
     "output_type": "execute_result"
    }
   ],
   "source": [
    "X.T"
   ]
  },
  {
   "cell_type": "markdown",
   "metadata": {
    "id": "MXyNP3oxkYC6"
   },
   "source": [
    "Para multiplicar matrizes, do ponto de visto de multiplicação matricial como definido na álgebra linear, fazemos uso de `@`."
   ]
  },
  {
   "cell_type": "code",
   "execution_count": 40,
   "metadata": {
    "id": "7GeBFAomkYC6"
   },
   "outputs": [
    {
     "data": {
      "text/plain": [
       "array([[ 6.37832609,  1.92069191, -0.19066684,  1.10792551, -1.15334552,\n",
       "         0.61611623, -2.33689783, -0.50054035,  2.27439919],\n",
       "       [ 1.92069191,  2.76856335, -1.19900913, -1.17357195, -0.0430585 ,\n",
       "         1.23554354, -2.16376414, -2.29054087,  0.09817556],\n",
       "       [-0.19066684, -1.19900913,  3.28692215, -0.61657855,  0.76642141,\n",
       "         2.59590902, -1.41280604,  0.9586319 , -0.67375451],\n",
       "       [ 1.10792551, -1.17357195, -0.61657855,  5.46695147, -0.3468336 ,\n",
       "        -0.8467003 ,  0.67430891,  0.62369425, -0.41902432],\n",
       "       [-1.15334552, -0.0430585 ,  0.76642141, -0.3468336 ,  1.16334484,\n",
       "         1.78053977, -1.37894006, -0.77136244, -1.01000522],\n",
       "       [ 0.61611623,  1.23554354,  2.59590902, -0.8467003 ,  1.78053977,\n",
       "        20.63344692, -6.61308828, -2.8418969 , -7.04350633],\n",
       "       [-2.33689783, -2.16376414, -1.41280604,  0.67430891, -1.37894006,\n",
       "        -6.61308828,  7.80175726,  4.1667486 ,  0.40262769],\n",
       "       [-0.50054035, -2.29054087,  0.9586319 ,  0.62369425, -0.77136244,\n",
       "        -2.8418969 ,  4.1667486 ,  8.95056616, -1.3079523 ],\n",
       "       [ 2.27439919,  0.09817556, -0.67375451, -0.41902432, -1.01000522,\n",
       "        -7.04350633,  0.40262769, -1.3079523 ,  4.94505142]])"
      ]
     },
     "execution_count": 40,
     "metadata": {},
     "output_type": "execute_result"
    }
   ],
   "source": [
    "X @ X.T"
   ]
  },
  {
   "cell_type": "markdown",
   "metadata": {
    "id": "An3Pp3vOkYC7"
   },
   "source": [
    "O uso de `*` realiza uma operação ponto a ponto"
   ]
  },
  {
   "cell_type": "code",
   "execution_count": 41,
   "metadata": {
    "id": "Z89fE1pzkYC7"
   },
   "outputs": [
    {
     "data": {
      "text/plain": [
       "array([[1.00764442e+00, 9.37580611e-01, 4.87359483e-01, 2.28746321e+00,\n",
       "        8.44729054e-02, 3.75537791e-01, 3.27257288e-01, 8.71010372e-01],\n",
       "       [8.48762146e-02, 5.26330448e-02, 1.86345960e-01, 1.46412647e+00,\n",
       "        9.11998219e-02, 4.48267821e-03, 8.49116494e-01, 3.57826677e-02],\n",
       "       [1.05050156e-01, 2.23603351e+00, 1.24909118e-04, 4.47908571e-01,\n",
       "        1.49227771e-02, 4.67964807e-01, 1.11923699e-03, 1.37981758e-02],\n",
       "       [2.51335952e-04, 3.14055924e-02, 8.47827289e-01, 1.07974030e-01,\n",
       "        1.28813138e-01, 1.42818290e+00, 1.40751682e+00, 1.51498037e+00],\n",
       "       [1.14157490e-01, 4.51959756e-02, 1.91150632e-04, 1.67387546e-02,\n",
       "        6.34528088e-01, 2.83180710e-01, 3.83231560e-02, 3.10295157e-02],\n",
       "       [2.65423246e+00, 6.51268225e-03, 1.95555385e-01, 2.68197292e-01,\n",
       "        1.58181931e-01, 8.83816634e+00, 3.95831064e-01, 8.11676977e+00],\n",
       "       [6.83093973e-01, 1.04426302e+00, 5.59671332e-01, 3.41618791e+00,\n",
       "        1.76790665e-01, 1.69942363e+00, 2.19621832e-01, 2.70489471e-03],\n",
       "       [2.65268734e+00, 1.63006865e-01, 4.71909552e+00, 7.25127284e-01,\n",
       "        3.38272905e-01, 1.12513635e-01, 2.38438201e-01, 1.42441299e-03],\n",
       "       [9.54010510e-01, 1.47254620e-01, 1.34051573e+00, 8.49333096e-02,\n",
       "        3.15860925e-01, 1.05425024e+00, 2.39349393e-01, 8.08876697e-01]])"
      ]
     },
     "execution_count": 41,
     "metadata": {},
     "output_type": "execute_result"
    }
   ],
   "source": [
    "X * X"
   ]
  },
  {
   "cell_type": "markdown",
   "metadata": {
    "id": "nsrwbAJFkYC7"
   },
   "source": [
    "Observe a diferença de tamanhos"
   ]
  },
  {
   "cell_type": "code",
   "execution_count": 42,
   "metadata": {
    "id": "I1bnlN9qkYC7"
   },
   "outputs": [
    {
     "data": {
      "text/plain": [
       "(9, 8)"
      ]
     },
     "execution_count": 42,
     "metadata": {},
     "output_type": "execute_result"
    }
   ],
   "source": [
    "(X * X).shape"
   ]
  },
  {
   "cell_type": "code",
   "execution_count": 43,
   "metadata": {
    "id": "fdUFiP95kYC8"
   },
   "outputs": [
    {
     "data": {
      "text/plain": [
       "(9, 9)"
      ]
     },
     "execution_count": 43,
     "metadata": {},
     "output_type": "execute_result"
    }
   ],
   "source": [
    "(X @ X.T).shape"
   ]
  },
  {
   "cell_type": "markdown",
   "metadata": {
    "id": "VDokQl8VkYC8"
   },
   "source": [
    "**Pense:** Para o nosso `X` de tamanho `(9, 8)`, qual o motivo de `X * X.T` não funcionar? Qual o motivo de `X @ X` não funcionar?"
   ]
  },
  {
   "cell_type": "markdown",
   "metadata": {
    "id": "ni2zvJhvkYC8"
   },
   "source": [
    "## Correção Automática\n",
    "\n",
    "Nossa correção automática depende das funções abaixo. Tais funções comparam valores que serão computados pelo seu código com uma saída esperada. Normalmente, vocês não fazer uso de tais funções em notebooks como este. Porém, elas são chave em ambientes de testes automáticos (fora do nosso escopo).\n",
    "\n",
    "Observe como algumas funções comparam valores e outras comparam vetores. Além do mais, temos funções para comparar dentro de algumas casas decimais."
   ]
  },
  {
   "cell_type": "code",
   "execution_count": 44,
   "metadata": {
    "id": "SlkNmYdzkYC8"
   },
   "outputs": [],
   "source": [
    "from numpy.testing import assert_almost_equal\n",
    "from numpy.testing import assert_equal\n",
    "\n",
    "from numpy.testing import assert_array_almost_equal\n",
    "from numpy.testing import assert_array_equal"
   ]
  },
  {
   "cell_type": "code",
   "execution_count": 45,
   "metadata": {
    "id": "sdM-XX93kYC9"
   },
   "outputs": [],
   "source": [
    "# caso você mude um dos valores vamos receber um erro!\n",
    "assert_array_equal(2, 2)\n",
    "\n",
    "# caso você mude um dos valores vamos receber um erro!\n",
    "assert_array_equal([1, 2], [1, 2])\n",
    "\n",
    "# caso você mude um dos valores vamos receber um erro!\n",
    "assert_almost_equal(3.1415, 3.14, 1)"
   ]
  },
  {
   "cell_type": "markdown",
   "metadata": {
    "id": "Wqek8HiYkYC-"
   },
   "source": [
    "Caso você mude um dos valores abaixo vamos receber um erro! Como o abaixo.\n",
    "\n",
    "```\n",
    "-----------------------------------------------------------------------\n",
    "AssertionError                        Traceback (most recent call last)\n",
    "<ipython-input-10-396672d880f2> in <module>\n",
    "----> 1 assert_equal(2, 3) # caso você mude um dos valores vamos receber um erro!\n",
    "\n",
    "~/miniconda3/lib/python3.7/site-packages/numpy/testing/_private/utils.py in assert_equal(actual, desired, err_msg, verbose)\n",
    "    413         # Explicitly use __eq__ for comparison, gh-2552\n",
    "    414         if not (desired == actual):\n",
    "--> 415             raise AssertionError(msg)\n",
    "    416 \n",
    "    417     except (DeprecationWarning, FutureWarning) as e:\n",
    "\n",
    "AssertionError: \n",
    "Items are not equal:\n",
    " ACTUAL: 2\n",
    " DESIRED: 3\n",
    " ```"
   ]
  },
  {
   "cell_type": "markdown",
   "metadata": {
    "id": "599LX3cEkYC-"
   },
   "source": [
    "É essencial que todo seu código execute sem erros! Portanto, antes de submeter clique em `Kernel` no menu acima. Depois clique em `Restart & Execute All.`\n",
    "\n",
    "**Garanta que o notebook executa até o fim!** Isto é, sem erros como o acima."
   ]
  },
  {
   "cell_type": "markdown",
   "metadata": {
    "id": "cBHmFA1akYC-"
   },
   "source": [
    "## Funções em Python"
   ]
  },
  {
   "cell_type": "markdown",
   "metadata": {
    "id": "-p7ndTTGkYC_"
   },
   "source": [
    "Para criar uma função em Python fazemos uso da palavra-chave: \n",
    "```python\n",
    "def\n",
    "```\n",
    "\n",
    "Todos nossos exercícios farão uso de funções. **Mantenha a assinatura das funções exatamente como requisitado, a correção automática depende disso.** Abaixo, temos um exempo de uma função que imprime algo na tela!"
   ]
  },
  {
   "cell_type": "code",
   "execution_count": 46,
   "metadata": {
    "id": "S7-tItL0kYC_"
   },
   "outputs": [],
   "source": [
    "def print_something(txt):\n",
    "    print(f'Voce passou o argumento: {txt}')"
   ]
  },
  {
   "cell_type": "code",
   "execution_count": 47,
   "metadata": {
    "id": "h8xrR-wNkYDA"
   },
   "outputs": [
    {
     "name": "stdout",
     "output_type": "stream",
     "text": [
      "Voce passou o argumento: DCC 212\n"
     ]
    }
   ],
   "source": [
    "print_something('DCC 212')"
   ]
  },
  {
   "cell_type": "markdown",
   "metadata": {
    "id": "BjqOnJcAkYDB"
   },
   "source": [
    "Podemos também dizer o tipo do argumento, porém faremos pouco uso disto em ICD."
   ]
  },
  {
   "cell_type": "code",
   "execution_count": 48,
   "metadata": {
    "id": "Q0MYDJuykYDB"
   },
   "outputs": [],
   "source": [
    "def print_something(txt: str):\n",
    "    print(f'Voce passou o argumento: {txt}')"
   ]
  },
  {
   "cell_type": "code",
   "execution_count": 49,
   "metadata": {
    "id": "RzhDHqqvkYDB"
   },
   "outputs": [
    {
     "name": "stdout",
     "output_type": "stream",
     "text": [
      "Voce passou o argumento: DCC 212\n"
     ]
    }
   ],
   "source": [
    "print_something('DCC 212')"
   ]
  },
  {
   "cell_type": "markdown",
   "metadata": {
    "id": "Bdc_l1rBkYDC"
   },
   "source": [
    "Abaixo temos uma função que soma, a soma, dois vetores"
   ]
  },
  {
   "cell_type": "code",
   "execution_count": 50,
   "metadata": {
    "id": "Wo9v1ZX8kYDC"
   },
   "outputs": [],
   "source": [
    "def sum_of_sum_vectors(array_1, array_2):\n",
    "    return (array_1 + array_2).sum()"
   ]
  },
  {
   "cell_type": "code",
   "execution_count": 51,
   "metadata": {
    "id": "5OBGn462kYDD"
   },
   "outputs": [],
   "source": [
    "x = np.array([1, 2])\n",
    "y = np.array([1, 2])"
   ]
  },
  {
   "cell_type": "code",
   "execution_count": 52,
   "metadata": {
    "id": "FOTYME6AkYDF"
   },
   "outputs": [
    {
     "data": {
      "text/plain": [
       "6"
      ]
     },
     "execution_count": 52,
     "metadata": {},
     "output_type": "execute_result"
    }
   ],
   "source": [
    "sum_of_sum_vectors(x, y)"
   ]
  },
  {
   "cell_type": "markdown",
   "metadata": {
    "id": "W3eV_oU-kYDF"
   },
   "source": [
    "Abaixo temos um teste, tais testes vão avaliar o seu código. Nem todos estão aqui no notebook!"
   ]
  },
  {
   "cell_type": "code",
   "execution_count": 53,
   "metadata": {
    "id": "vvBvyeEvkYDG"
   },
   "outputs": [],
   "source": [
    "assert_equal(6, sum_of_sum_vectors(x, y))"
   ]
  },
  {
   "cell_type": "markdown",
   "metadata": {
    "id": "-O91DIu9kYDG"
   },
   "source": [
    "## Exercício 01\n",
    "\n",
    "Inicialmente, crie uma função que recebe duas listas de números, converte as duas para um vetor numpy usando `np.array` e retorna o produto interno das duas listas. \n",
    "\n",
    "__Dicas:__  \n",
    "1. Tente fazer um código sem nenhum **for**! Ou seja, numpy permite operações em vetores e matrizes, onde: `np.array([1, 2]) + np.array([2, 2]) = np.array([3, 4])`.\n",
    "\n",
    "__Funções:__\n",
    "1. `np.sum(array)` soma os elementos do array. `array.sum()` tem o mesmo efeito!"
   ]
  },
  {
   "cell_type": "code",
   "execution_count": 54,
   "metadata": {
    "id": "C9qnDXNWkYDG"
   },
   "outputs": [],
   "source": [
    "def inner(array_1, array_2):\n",
    "    res = array_1 * array_2\n",
    "    res = res.sum()\n",
    "    return res"
   ]
  },
  {
   "cell_type": "code",
   "execution_count": 55,
   "metadata": {
    "id": "2GsDgL82kYDJ"
   },
   "outputs": [],
   "source": [
    "x1 = np.array([2, 4, 8])\n",
    "x2 = np.array([10, 100, 1000])\n",
    "assert_equal(20 + 400 + 8000, inner(x1, x2))"
   ]
  },
  {
   "cell_type": "markdown",
   "metadata": {
    "id": "dH_mb-E-kYDJ"
   },
   "source": [
    "## Exercício 02\n",
    "\n",
    "Implemente uma função utilizando numpy que recebe duas matrizes, multiplica as duas e retorne o valor médio das células da multiplicação. Por exemplo, ao multiplicar:\n",
    "\n",
    "```\n",
    "[1 2]\n",
    "[3 4] \n",
    "\n",
    "com \n",
    "\n",
    "[2 1]\n",
    "[1 2]\n",
    "\n",
    "temos\n",
    "\n",
    "[4  5 ]\n",
    "[10 11]\n",
    "\n",
    "onde a média de [4, 5, 10, 11] é\n",
    "\n",
    "7.5, sua resposta final!\n",
    "```\n",
    "\n",
    "\n",
    "__Dicas:__  \n",
    "1. Use o operador @ para multiplicar matrizes!"
   ]
  },
  {
   "cell_type": "code",
   "execution_count": 56,
   "metadata": {
    "id": "AgK_8Bh-kYDR"
   },
   "outputs": [],
   "source": [
    "def medmult(X_1, X_2):\n",
    "    res = X_1 @ X_2\n",
    "    res = res.mean()\n",
    "    return res"
   ]
  },
  {
   "cell_type": "code",
   "execution_count": 57,
   "metadata": {
    "id": "JHkeRxr0kYDS"
   },
   "outputs": [],
   "source": [
    "X = np.array([1, 2, 3, 4]).reshape(2, 2)\n",
    "Y = np.array([2, 1, 1, 2]).reshape(2, 2)\n",
    "assert_equal(7.5, medmult(X, Y))"
   ]
  }
 ],
 "metadata": {
  "colab": {
   "provenance": []
  },
  "kernelspec": {
   "display_name": "Python 3 (ipykernel)",
   "language": "python",
   "name": "python3"
  },
  "language_info": {
   "codemirror_mode": {
    "name": "ipython",
    "version": 3
   },
   "file_extension": ".py",
   "mimetype": "text/x-python",
   "name": "python",
   "nbconvert_exporter": "python",
   "pygments_lexer": "ipython3",
   "version": "3.8.5"
  }
 },
 "nbformat": 4,
 "nbformat_minor": 1
}
