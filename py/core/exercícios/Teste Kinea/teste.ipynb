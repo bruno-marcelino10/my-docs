{
 "cells": [
  {
   "cell_type": "code",
   "execution_count": 3,
   "metadata": {},
   "outputs": [
    {
     "ename": "SyntaxError",
     "evalue": "invalid syntax (<ipython-input-3-a9fc908fc5d5>, line 20)",
     "output_type": "error",
     "traceback": [
      "\u001b[1;36m  File \u001b[1;32m\"<ipython-input-3-a9fc908fc5d5>\"\u001b[1;36m, line \u001b[1;32m20\u001b[0m\n\u001b[1;33m    for k in range(150):\u001b[0m\n\u001b[1;37m                       ^\u001b[0m\n\u001b[1;31mSyntaxError\u001b[0m\u001b[1;31m:\u001b[0m invalid syntax\n"
     ]
    }
   ],
   "source": [
    "import math\n",
    "\n",
    "def f(x):\n",
    "  return 2.5/(120*50000*30000*600) * ((-x*5) + (2*(600)*2) * (x**3) - ((600)*4 * x))\n",
    "\n",
    "def falsa_posicao(a,b,e,n):\n",
    "  # a = Inicio\n",
    "  # b = fim\n",
    "  # e = Erro\n",
    "  # n = Nmax\n",
    "  \n",
    "  \n",
    "\n",
    "  if f(a) * f(b) > 0:\n",
    "    print(\"O valor de f(a) e f(b) devem ter sinais diferentes\")\n",
    "  else:\n",
    "    xk = ((a*f(b)) - (b*f(a))/(f(b) - f(a))\n",
    "   \n",
    "\n",
    "    for k in range(150):\n",
    "      if min(f(xk), (b-a)) > e:\n",
    "        if f(a) * f(xk) > 0:\n",
    "          a = xk\n",
    "        else:\n",
    "          b = xk\n",
    "        \n",
    "        xk = ((a*f(b)) - (b*f(a))/(f(b) - f(a))\n",
    "      else:\n",
    "        break\n",
    "    \n",
    "    \n",
    "  print(f\"A Raiz do intervalo dado é {xk}\")\n",
    "\n",
    "\n",
    "falsa_posicao(-1,2,0.05,0)"
   ]
  },
  {
   "cell_type": "code",
   "execution_count": 3,
   "metadata": {},
   "outputs": [],
   "source": [
    "!jt -t monokai"
   ]
  },
  {
   "cell_type": "code",
   "execution_count": null,
   "metadata": {},
   "outputs": [],
   "source": []
  }
 ],
 "metadata": {
  "interpreter": {
   "hash": "f2a778ba3c9492491ceab67fd84ef46e7719879910040683996e6264e6a963c4"
  },
  "kernelspec": {
   "display_name": "Python 3",
   "language": "python",
   "name": "python3"
  },
  "language_info": {
   "codemirror_mode": {
    "name": "ipython",
    "version": 3
   },
   "file_extension": ".py",
   "mimetype": "text/x-python",
   "name": "python",
   "nbconvert_exporter": "python",
   "pygments_lexer": "ipython3",
   "version": "3.9.5"
  }
 },
 "nbformat": 4,
 "nbformat_minor": 2
}
