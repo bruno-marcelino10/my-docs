{
 "cells": [
  {
   "cell_type": "code",
   "execution_count": 16,
   "metadata": {},
   "outputs": [],
   "source": [
    "class SimpleQueue: \n",
    "    \n",
    "    def __init__(self, pos_1, pos_2, pos_3):\n",
    "\n",
    "        self.pos_1 = pos_1\n",
    "        self.pos_2 = pos_2\n",
    "        self.pos_3 = pos_3\n",
    "        \n",
    "        lista = [self.pos_1, self.pos_2, self.pos_3].sort()\n",
    "\n",
    "    def Tamanho(self): # pode-se definir MÉTODOS que são funções cujos argumentos já foram definidos na classe\n",
    "        return len(lista)\n",
    "\n",
    "    def MostrarFila(self): \n",
    "        return lista\n",
    "\n",
    "    def AdicionarObjeto(self, num):\n",
    "        lista.append(num) \n",
    "        return lista\n",
    "        \n",
    "    def RemoverObjeto(self):\n",
    "        lista.pop(0) \n",
    "        return lista\n",
    "    \n",
    "fila = SimpleQueue(1,2,3)        \n",
    "             \n",
    "print(fila.Tamanho())\n",
    "print(fila.AdicionarObjeto(2))\n",
    "print(fila.MostrarFila())\n",
    "print(fila.RemoverObjeto())"
   ]
  }
 ],
 "metadata": {
  "kernelspec": {
   "display_name": "Python 3 (ipykernel)",
   "language": "python",
   "name": "python3"
  },
  "language_info": {
   "codemirror_mode": {
    "name": "ipython",
    "version": 3
   },
   "file_extension": ".py",
   "mimetype": "text/x-python",
   "name": "python",
   "nbconvert_exporter": "python",
   "pygments_lexer": "ipython3",
   "version": "3.8.5"
  }
 },
 "nbformat": 4,
 "nbformat_minor": 4
}
