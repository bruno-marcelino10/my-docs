{
 "cells": [
  {
   "cell_type": "markdown",
   "metadata": {},
   "source": [
    "# Funções lambda"
   ]
  },
  {
   "cell_type": "markdown",
   "metadata": {},
   "source": [
    "São funções que o usuário não precisa definir previamente para utilizar. Funcionam bem em casos que a função pode ser descrita em uma linha. São descritas como \"funções anônimas\", ou seja, funções não identificada, sem um “nome”, no caso, não há uma forma de se referir a elas.\n",
    "\n",
    "A sua maior utilidade se deve como forma de aplicar uma mesma função de forma vetorizada (iterando em uma lista, por exemplo), como argumento para a função `map()`. \n",
    "\n"
   ]
  },
  {
   "cell_type": "code",
   "execution_count": 7,
   "metadata": {},
   "outputs": [
    {
     "name": "stdout",
     "output_type": "stream",
     "text": [
      "9\n"
     ]
    }
   ],
   "source": [
    "# Exemplo 1:\n",
    "\n",
    "print((lambda x, y: x**y)(3, 2))"
   ]
  },
  {
   "cell_type": "code",
   "execution_count": 15,
   "metadata": {},
   "outputs": [
    {
     "name": "stdout",
     "output_type": "stream",
     "text": [
      "9\n"
     ]
    }
   ],
   "source": [
    "# Exemplo 2:\n",
    "\n",
    "funcao_soma = lambda x, y: x**y\n",
    "print(funcao_soma(3, 2))"
   ]
  },
  {
   "cell_type": "code",
   "execution_count": 20,
   "metadata": {},
   "outputs": [
    {
     "name": "stdout",
     "output_type": "stream",
     "text": [
      "15\n"
     ]
    }
   ],
   "source": [
    "# Exemplo 3:\n",
    "\n",
    "funcao_soma = (lambda *args: sum(args))\n",
    "print(funcao_soma(1, 2, 3, 4, 5))"
   ]
  },
  {
   "cell_type": "code",
   "execution_count": 17,
   "metadata": {},
   "outputs": [
    {
     "name": "stdout",
     "output_type": "stream",
     "text": [
      "[25, 16, 9, 4, 1]\n"
     ]
    }
   ],
   "source": [
    "# Exemplo 4:\n",
    "\n",
    "precos = [5, 4, 3, 2, 1]\n",
    "impostos = list(map(lambda x: x**2, precos))\n",
    "print(impostos)"
   ]
  },
  {
   "cell_type": "code",
   "execution_count": 26,
   "metadata": {},
   "outputs": [
    {
     "name": "stdout",
     "output_type": "stream",
     "text": [
      "[5, 3, 1]\n"
     ]
    }
   ],
   "source": [
    "lista = [5, 4, 3, 2, 1]\n",
    "lista = list(filter(lambda x: x % 2 != 0, lista)) \n",
    "print(lista)"
   ]
  },
  {
   "cell_type": "code",
   "execution_count": null,
   "metadata": {},
   "outputs": [],
   "source": []
  }
 ],
 "metadata": {
  "kernelspec": {
   "display_name": "Python 3 (ipykernel)",
   "language": "python",
   "name": "python3"
  },
  "language_info": {
   "codemirror_mode": {
    "name": "ipython",
    "version": 3
   },
   "file_extension": ".py",
   "mimetype": "text/x-python",
   "name": "python",
   "nbconvert_exporter": "python",
   "pygments_lexer": "ipython3",
   "version": "3.8.5"
  }
 },
 "nbformat": 4,
 "nbformat_minor": 4
}
