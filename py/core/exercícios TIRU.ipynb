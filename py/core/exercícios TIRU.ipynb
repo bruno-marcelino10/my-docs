{
 "cells": [
  {
   "cell_type": "markdown",
   "metadata": {},
   "source": [
    "### Questão 2:\n",
    "\n",
    "    Crie um programa em Python, que receba duas listas, L1 e L2 como parâmetro de entrada em uma função denominada RecebeValores e retorne uma lista L3 que seja interseção de L1 e L2. O cálculo de inserção deve ser feito em outra função denominada como Insert. As funções devem funcionar para listas de qualquer tamanho. Logo após, em forma de comentário, no próprio código indique uma aplicação prática para a sua função em dois problemas com focos diferentes."
   ]
  },
  {
   "cell_type": "code",
   "execution_count": 20,
   "metadata": {},
   "outputs": [],
   "source": [
    "L1 = []\n",
    "L2 = []"
   ]
  },
  {
   "cell_type": "markdown",
   "metadata": {},
   "source": [
    "* Função que recebe os inputs para cada lista"
   ]
  },
  {
   "cell_type": "code",
   "execution_count": 21,
   "metadata": {},
   "outputs": [],
   "source": [
    "def RecebeValores(lista1, lista2): \n",
    "    \n",
    "    continuar1 = True\n",
    "    continuar2 = True\n",
    "\n",
    "    while continuar1:\n",
    "        num1 = int(input(\"Digite um número para adicionar à primeira lista: \" ))\n",
    "        lista1.append(num1)\n",
    "                \n",
    "        interromper1 = str(input(\"Deseja finalizar? (s/n)\"))\n",
    "        \n",
    "        if interromper1 == \"s\" or interromper1 == \"\":\n",
    "            continuar1 = False\n",
    "     \n",
    "    while continuar2:\n",
    "        num2 = int(input(\"Digite um número para adicionar à segunda lista: \" ))\n",
    "        lista2.append(num2)\n",
    "                \n",
    "        interromper2 = str(input(\"Deseja finalizar? (s/n)\"))\n",
    "        \n",
    "        if interromper2 == \"s\" or interromper2 == \"\" or interromper2 == \"S\":\n",
    "            continuar2 = False"
   ]
  },
  {
   "cell_type": "markdown",
   "metadata": {},
   "source": [
    "* Função que verifica se há interseção entre as listas, e retorna esses valores"
   ]
  },
  {
   "cell_type": "code",
   "execution_count": 22,
   "metadata": {},
   "outputs": [],
   "source": [
    "def Insert(lista1, lista2):\n",
    "    \n",
    "    lista = []\n",
    "    \n",
    "    for i in lista1:\n",
    "        \n",
    "        if i in lista2:\n",
    "            lista.append(i) \n",
    "            \n",
    "    return(lista)"
   ]
  },
  {
   "cell_type": "markdown",
   "metadata": {},
   "source": [
    "Inputando os valores..."
   ]
  },
  {
   "cell_type": "code",
   "execution_count": 23,
   "metadata": {
    "scrolled": true
   },
   "outputs": [
    {
     "name": "stdout",
     "output_type": "stream",
     "text": [
      "Digite um número para adicionar à primeira lista: 1\n",
      "Deseja finalizar? (s/n)n\n",
      "Digite um número para adicionar à primeira lista: 2\n",
      "Deseja finalizar? (s/n)n\n",
      "Digite um número para adicionar à primeira lista: 3\n",
      "Deseja finalizar? (s/n)n\n",
      "Digite um número para adicionar à primeira lista: 4\n",
      "Deseja finalizar? (s/n)\n",
      "Digite um número para adicionar à segunda lista: 3\n",
      "Deseja finalizar? (s/n)n\n",
      "Digite um número para adicionar à segunda lista: 5\n",
      "Deseja finalizar? (s/n)n\n",
      "Digite um número para adicionar à segunda lista: 4\n",
      "Deseja finalizar? (s/n)n\n",
      "Digite um número para adicionar à segunda lista: 6\n",
      "Deseja finalizar? (s/n)\n"
     ]
    }
   ],
   "source": [
    "RecebeValores(L1, L2)"
   ]
  },
  {
   "cell_type": "code",
   "execution_count": 25,
   "metadata": {},
   "outputs": [
    {
     "name": "stdout",
     "output_type": "stream",
     "text": [
      "[1, 2, 3, 4]\n",
      "[3, 5, 4, 6]\n"
     ]
    }
   ],
   "source": [
    "print(L1)\n",
    "print(L2)"
   ]
  },
  {
   "cell_type": "markdown",
   "metadata": {},
   "source": [
    "Retornando a interseção"
   ]
  },
  {
   "cell_type": "code",
   "execution_count": 26,
   "metadata": {
    "scrolled": true
   },
   "outputs": [
    {
     "data": {
      "text/plain": [
       "[3, 4]"
      ]
     },
     "execution_count": 26,
     "metadata": {},
     "output_type": "execute_result"
    }
   ],
   "source": [
    "Insert(L1, L2) "
   ]
  },
  {
   "cell_type": "markdown",
   "metadata": {},
   "source": [
    "### Questão 4:\n",
    "\n",
    "    As listas exibidas abaixo correspondem às variáveis massa muscular (kg), idade (anos) e altura (cm) se um determinado grupo de pessoas: massa=[82, 91, 90, 68, 87, 73, 78, 80, 65, 62, 55, 63]; Idade=[71, 64, 43, 67, 56, 73, 68, 56, 76, 60, 55, 46] e Altura = [172, 154, 185, 164,172, 169, 164, 181, 170, 172, 169, 163]. A técnica de regressão linear poderia ser utilizada como forma de prever qual seria a altura de uma pessoa com massa muscular de 200? Justifique sua resposta de forma descritiva e/ou a partir da implementação das metodologias de Machine Learning apresentados em sala de aula. Não é necessária a apresentação dos cálculos."
   ]
  },
  {
   "cell_type": "markdown",
   "metadata": {},
   "source": [
    "Inputs"
   ]
  },
  {
   "cell_type": "code",
   "execution_count": 30,
   "metadata": {},
   "outputs": [],
   "source": [
    "import pandas as pd\n",
    "import numpy as np\n",
    "from sklearn.linear_model import LinearRegression"
   ]
  },
  {
   "cell_type": "code",
   "execution_count": 32,
   "metadata": {},
   "outputs": [
    {
     "data": {
      "text/html": [
       "<div>\n",
       "<style scoped>\n",
       "    .dataframe tbody tr th:only-of-type {\n",
       "        vertical-align: middle;\n",
       "    }\n",
       "\n",
       "    .dataframe tbody tr th {\n",
       "        vertical-align: top;\n",
       "    }\n",
       "\n",
       "    .dataframe thead th {\n",
       "        text-align: right;\n",
       "    }\n",
       "</style>\n",
       "<table border=\"1\" class=\"dataframe\">\n",
       "  <thead>\n",
       "    <tr style=\"text-align: right;\">\n",
       "      <th></th>\n",
       "      <th>Massa</th>\n",
       "      <th>Idade</th>\n",
       "      <th>Altura</th>\n",
       "    </tr>\n",
       "  </thead>\n",
       "  <tbody>\n",
       "    <tr>\n",
       "      <th>0</th>\n",
       "      <td>82</td>\n",
       "      <td>71</td>\n",
       "      <td>172</td>\n",
       "    </tr>\n",
       "    <tr>\n",
       "      <th>1</th>\n",
       "      <td>91</td>\n",
       "      <td>64</td>\n",
       "      <td>154</td>\n",
       "    </tr>\n",
       "    <tr>\n",
       "      <th>2</th>\n",
       "      <td>90</td>\n",
       "      <td>43</td>\n",
       "      <td>185</td>\n",
       "    </tr>\n",
       "    <tr>\n",
       "      <th>3</th>\n",
       "      <td>68</td>\n",
       "      <td>67</td>\n",
       "      <td>164</td>\n",
       "    </tr>\n",
       "    <tr>\n",
       "      <th>4</th>\n",
       "      <td>87</td>\n",
       "      <td>56</td>\n",
       "      <td>172</td>\n",
       "    </tr>\n",
       "    <tr>\n",
       "      <th>5</th>\n",
       "      <td>73</td>\n",
       "      <td>73</td>\n",
       "      <td>169</td>\n",
       "    </tr>\n",
       "    <tr>\n",
       "      <th>6</th>\n",
       "      <td>78</td>\n",
       "      <td>68</td>\n",
       "      <td>164</td>\n",
       "    </tr>\n",
       "    <tr>\n",
       "      <th>7</th>\n",
       "      <td>80</td>\n",
       "      <td>56</td>\n",
       "      <td>181</td>\n",
       "    </tr>\n",
       "    <tr>\n",
       "      <th>8</th>\n",
       "      <td>65</td>\n",
       "      <td>76</td>\n",
       "      <td>170</td>\n",
       "    </tr>\n",
       "    <tr>\n",
       "      <th>9</th>\n",
       "      <td>62</td>\n",
       "      <td>60</td>\n",
       "      <td>172</td>\n",
       "    </tr>\n",
       "    <tr>\n",
       "      <th>10</th>\n",
       "      <td>55</td>\n",
       "      <td>55</td>\n",
       "      <td>169</td>\n",
       "    </tr>\n",
       "    <tr>\n",
       "      <th>11</th>\n",
       "      <td>63</td>\n",
       "      <td>46</td>\n",
       "      <td>163</td>\n",
       "    </tr>\n",
       "  </tbody>\n",
       "</table>\n",
       "</div>"
      ],
      "text/plain": [
       "    Massa  Idade  Altura\n",
       "0      82     71     172\n",
       "1      91     64     154\n",
       "2      90     43     185\n",
       "3      68     67     164\n",
       "4      87     56     172\n",
       "5      73     73     169\n",
       "6      78     68     164\n",
       "7      80     56     181\n",
       "8      65     76     170\n",
       "9      62     60     172\n",
       "10     55     55     169\n",
       "11     63     46     163"
      ]
     },
     "execution_count": 32,
     "metadata": {},
     "output_type": "execute_result"
    }
   ],
   "source": [
    "massa = [82, 91, 90, 68, 87, 73, 78, 80, 65, 62, 55, 63]\n",
    "idade = [71, 64, 43, 67, 56, 73, 68, 56, 76, 60, 55, 46]\n",
    "altura = [172, 154, 185, 164, 172, 169, 164, 181, 170, 172, 169, 163]\n",
    "\n",
    "df = pd.DataFrame({\"Massa\": massa, \"Idade\": idade, \"Altura\" : altura})\n",
    "df"
   ]
  },
  {
   "cell_type": "code",
   "execution_count": 41,
   "metadata": {},
   "outputs": [],
   "source": [
    "x = np.array(df[\"Massa\"]).reshape((-1, 1))\n",
    "y = np.array(df[\"Altura\"])\n",
    "\n",
    "model = LinearRegression().fit(x,y)"
   ]
  },
  {
   "cell_type": "code",
   "execution_count": 47,
   "metadata": {},
   "outputs": [
    {
     "name": "stdout",
     "output_type": "stream",
     "text": [
      "R-quadrado 0.023153744277463417\n"
     ]
    }
   ],
   "source": [
    "r = model.score(x, y) \n",
    "\n",
    "print('R-quadrado', r)"
   ]
  },
  {
   "cell_type": "code",
   "execution_count": 45,
   "metadata": {},
   "outputs": [],
   "source": [
    "y_predito = model.predict(x)"
   ]
  },
  {
   "cell_type": "code",
   "execution_count": 46,
   "metadata": {},
   "outputs": [
    {
     "data": {
      "text/plain": [
       "array([170.36388712, 171.30055167, 171.19647783, 168.90685338,\n",
       "       170.88425631, 169.42722258, 169.94759177, 170.15573944,\n",
       "       168.59463187, 168.28241035, 167.55389349, 168.38648419])"
      ]
     },
     "execution_count": 46,
     "metadata": {},
     "output_type": "execute_result"
    }
   ],
   "source": [
    "y_predito"
   ]
  },
  {
   "cell_type": "markdown",
   "metadata": {},
   "source": [
    "* O R-quadrado da regressão é realmente muito pequeno, fazendo com que nossa regressão não tenha uma boa capacidade de previsão, e não seja confiável. "
   ]
  },
  {
   "cell_type": "code",
   "execution_count": null,
   "metadata": {},
   "outputs": [],
   "source": []
  }
 ],
 "metadata": {
  "kernelspec": {
   "display_name": "Python 3",
   "language": "python",
   "name": "python3"
  },
  "language_info": {
   "codemirror_mode": {
    "name": "ipython",
    "version": 3
   },
   "file_extension": ".py",
   "mimetype": "text/x-python",
   "name": "python",
   "nbconvert_exporter": "python",
   "pygments_lexer": "ipython3",
   "version": "3.8.5"
  }
 },
 "nbformat": 4,
 "nbformat_minor": 4
}
