{
 "cells": [
  {
   "cell_type": "markdown",
   "metadata": {},
   "source": [
    "# Definições\n",
    "\n",
    "---\n",
    "\n",
    "### For: \n",
    "\n",
    "> É uma estrutura de repetição com variável de controle (começa e termina)\n",
    "\n",
    "<br>\n",
    "\n",
    "### While: \n",
    "\n",
    "> É uma estrutura de repetição com teste lógico (funciona até que se torne falso)\n"
   ]
  },
  {
   "cell_type": "code",
   "execution_count": 79,
   "metadata": {},
   "outputs": [],
   "source": [
    "import time\n",
    "import pandas as pd\n",
    "from datetime import date"
   ]
  },
  {
   "cell_type": "markdown",
   "metadata": {},
   "source": [
    "### Exercício 1:\n",
    "\n",
    "* Faça um programa que mostre na tela uma contagem regressiva para o estouro de fogos de artifício, indo de 10 até 0, com uma pausa de 1 segundo entre eles. "
   ]
  },
  {
   "cell_type": "code",
   "execution_count": 6,
   "metadata": {},
   "outputs": [
    {
     "name": "stdout",
     "output_type": "stream",
     "text": [
      "Faltam  10  segundos!!\n",
      "Faltam  9  segundos!!\n",
      "Faltam  8  segundos!!\n",
      "Faltam  7  segundos!!\n",
      "Faltam  6  segundos!!\n",
      "Faltam  5  segundos!!\n",
      "Faltam  4  segundos!!\n",
      "Faltam  3  segundos!!\n",
      "Faltam  2  segundos!!\n",
      "Faltam  1  segundos!!\n",
      "Acabou!!\n"
     ]
    }
   ],
   "source": [
    "for i in range(10, 0, -1):\n",
    "    print(\"Faltam \", i, \" segundos!!\")\n",
    "    time.sleep(1)\n",
    "    \n",
    "print(\"Acabou!!\")"
   ]
  },
  {
   "cell_type": "markdown",
   "metadata": {},
   "source": [
    "### Exercício 2:\n",
    "\n",
    "* Crie um programa que mostre na tela **todos os números pares** que estão no intervalo entre 1 e 50. "
   ]
  },
  {
   "cell_type": "code",
   "execution_count": 9,
   "metadata": {
    "scrolled": true
   },
   "outputs": [
    {
     "name": "stdout",
     "output_type": "stream",
     "text": [
      "2\n",
      "4\n",
      "6\n",
      "8\n",
      "10\n",
      "12\n",
      "14\n",
      "16\n",
      "18\n",
      "20\n",
      "22\n",
      "24\n",
      "26\n",
      "28\n",
      "30\n",
      "32\n",
      "34\n",
      "36\n",
      "38\n",
      "40\n",
      "42\n",
      "44\n",
      "46\n",
      "48\n",
      "50\n"
     ]
    }
   ],
   "source": [
    "for i in range(1, 51):\n",
    "    if i % 2 == 0:\n",
    "        print(i)"
   ]
  },
  {
   "cell_type": "markdown",
   "metadata": {},
   "source": [
    "### Exercício 3:\n",
    "\n",
    "* Faça um programa que calcule a soma entre todos os números ímpares que são múltiplos de três e que se encontram no intervalo de 1 até 500"
   ]
  },
  {
   "cell_type": "code",
   "execution_count": 10,
   "metadata": {
    "scrolled": true
   },
   "outputs": [
    {
     "name": "stdout",
     "output_type": "stream",
     "text": [
      "3\n",
      "9\n",
      "15\n",
      "21\n",
      "27\n",
      "33\n",
      "39\n",
      "45\n",
      "51\n",
      "57\n",
      "63\n",
      "69\n",
      "75\n",
      "81\n",
      "87\n",
      "93\n",
      "99\n",
      "105\n",
      "111\n",
      "117\n",
      "123\n",
      "129\n",
      "135\n",
      "141\n",
      "147\n",
      "153\n",
      "159\n",
      "165\n",
      "171\n",
      "177\n",
      "183\n",
      "189\n",
      "195\n",
      "201\n",
      "207\n",
      "213\n",
      "219\n",
      "225\n",
      "231\n",
      "237\n",
      "243\n",
      "249\n",
      "255\n",
      "261\n",
      "267\n",
      "273\n",
      "279\n",
      "285\n",
      "291\n",
      "297\n",
      "303\n",
      "309\n",
      "315\n",
      "321\n",
      "327\n",
      "333\n",
      "339\n",
      "345\n",
      "351\n",
      "357\n",
      "363\n",
      "369\n",
      "375\n",
      "381\n",
      "387\n",
      "393\n",
      "399\n",
      "405\n",
      "411\n",
      "417\n",
      "423\n",
      "429\n",
      "435\n",
      "441\n",
      "447\n",
      "453\n",
      "459\n",
      "465\n",
      "471\n",
      "477\n",
      "483\n",
      "489\n",
      "495\n"
     ]
    }
   ],
   "source": [
    "for i in range(1, 501):\n",
    "    if i % 2 != 0 and i % 3 == 0:\n",
    "        print(i)"
   ]
  },
  {
   "cell_type": "markdown",
   "metadata": {},
   "source": [
    "### Exercício 4:\n",
    "\n",
    "* não achei"
   ]
  },
  {
   "cell_type": "markdown",
   "metadata": {},
   "source": [
    "### Exercício 5:\n",
    "\n",
    "* Desenvolva um programa que leia seis números inteiros e mostre a soma apenas daqueles que forem pares. Se forem ímpares, desconsidere-os"
   ]
  },
  {
   "cell_type": "code",
   "execution_count": 16,
   "metadata": {
    "scrolled": true
   },
   "outputs": [
    {
     "name": "stdout",
     "output_type": "stream",
     "text": [
      "Digite um número: 1\n",
      "Digite um número: 2\n",
      "Digite um número: 3\n",
      "Digite um número: 4\n",
      "Digite um número: 5\n",
      "Digite um número: 6\n",
      "A soma dos termos pares é igual a:  12\n"
     ]
    }
   ],
   "source": [
    "\n",
    "lista = []\n",
    "\n",
    "for i in range(6):\n",
    "    num = int(input(\"Digite um número: \"))\n",
    "    lista.append(num)\n",
    "\n",
    "pares = []\n",
    "\n",
    "for i in lista: \n",
    "    if i % 2 == 0:\n",
    "        pares.append(i)\n",
    "        \n",
    "print(\"A soma dos termos pares é igual a: \", sum(pares))"
   ]
  },
  {
   "cell_type": "markdown",
   "metadata": {},
   "source": [
    "### Exercício 6:\n",
    "\n",
    "* Desenvolva um programa que leia o primeiro termo e a razão de uma progressão aritmética. No final, mostre os 10 primeiros termos dessa progressão. "
   ]
  },
  {
   "cell_type": "code",
   "execution_count": 26,
   "metadata": {},
   "outputs": [
    {
     "name": "stdout",
     "output_type": "stream",
     "text": [
      "Digite o primeiro termo da sua PA: 5\n",
      "Digite a razão da sua PA: 10\n",
      "Esses são os 10 primeiros termos da sua PA: \n",
      "5\n",
      "15\n",
      "25\n",
      "35\n",
      "45\n",
      "55\n",
      "65\n",
      "75\n",
      "85\n",
      "95\n"
     ]
    }
   ],
   "source": [
    "inicio = int(input(\"Digite o primeiro termo da sua PA: \"))\n",
    "razao = int(input(\"Digite a razão da sua PA: \"))\n",
    "n = (10*razao) + inicio \n",
    "\n",
    "print(\"Esses são os 10 primeiros termos da sua PA: \")\n",
    "\n",
    "for i in range(inicio, n, razao):\n",
    "    print(i)\n"
   ]
  },
  {
   "cell_type": "markdown",
   "metadata": {},
   "source": [
    "### Exercício 7:\n",
    "\n",
    "* Faça um programa que leia um número inteiro e diga se ele é ou não um número primo."
   ]
  },
  {
   "cell_type": "code",
   "execution_count": 34,
   "metadata": {},
   "outputs": [
    {
     "name": "stdout",
     "output_type": "stream",
     "text": [
      "Digite um número inteiro: 52\n",
      "O número não é primo\n"
     ]
    }
   ],
   "source": [
    "num = int(input(\"Digite um número inteiro: \"))\n",
    "\n",
    "primo = True\n",
    "\n",
    "for i in range(2, num): \n",
    "    \n",
    "    if num % i == 0:\n",
    "        primo = False\n",
    "        \n",
    "if primo:\n",
    "    print(\"O número é primo\")\n",
    "else:\n",
    "    print(\"O número não é primo\")"
   ]
  },
  {
   "cell_type": "markdown",
   "metadata": {},
   "source": [
    "### Exercício 8:\n",
    "\n",
    "* Crie um programa que leia uma frase qualquere diga se ela é um palíndromo, desconsiderando os espaços."
   ]
  },
  {
   "cell_type": "code",
   "execution_count": 45,
   "metadata": {},
   "outputs": [
    {
     "name": "stdout",
     "output_type": "stream",
     "text": [
      "Digite uma frase: anotaram a data da maratona\n",
      "É um palíndromo\n"
     ]
    }
   ],
   "source": [
    "frase = str(input(\"Digite uma frase: \"))\n",
    "\n",
    "frase_unida = frase.replace(\" \", \"\")\n",
    "palindromo = True\n",
    "\n",
    "for i in range(len(frase_unida)):\n",
    "    \n",
    "    if frase_unida[i] != frase_unida[-(i+1)]:\n",
    "        palindromo = False\n",
    "\n",
    "if palindromo:\n",
    "    print(\"É um palíndromo\")\n",
    "else:\n",
    "    print(\"Não é um palíndromo\")"
   ]
  },
  {
   "cell_type": "markdown",
   "metadata": {},
   "source": [
    "### Exercício 9:\n",
    "\n",
    "* Crie um programa que leia o ano de nascimento de sete pessoas. No final, mostre quantas pessoas ainda não atingiram a maioridade e quantas já são maiores."
   ]
  },
  {
   "cell_type": "code",
   "execution_count": 86,
   "metadata": {},
   "outputs": [
    {
     "name": "stdout",
     "output_type": "stream",
     "text": [
      "Digite um ano: 2\n",
      "Digite um ano: 2\n",
      "Digite um ano: 2\n",
      "Digite um ano: 2\n",
      "Digite um ano: 2\n",
      "Digite um ano: 2\n",
      "Digite um ano: 22\n",
      "Pessoas atingiram a maioridade:  7 \n",
      "\n",
      "Pessoas que não atingiram a maioridade:  0\n"
     ]
    }
   ],
   "source": [
    "anos = []\n",
    "\n",
    "for i in range(7):\n",
    "    anos.append(int(input(\"Digite um ano: \")))\n",
    "\n",
    "hoje = pd.to_datetime(\"today\").year  \n",
    "maioridade = []\n",
    "\n",
    "for ano in anos:\n",
    "    if hoje - ano >= 21:\n",
    "        maioridade.append(True)\n",
    "    else:\n",
    "        maioridade.append(False)\n",
    "\n",
    "print(\"Pessoas atingiram a maioridade: \", sum(maioridade))\n",
    "print(\"Pessoas que não atingiram a maioridade: \", len(maioridade) - sum(maioridade))\n"
   ]
  },
  {
   "cell_type": "markdown",
   "metadata": {},
   "source": [
    "### Exercício 10:\n",
    "\n",
    "* Faça um programa que leia o peso de cinco pessoas. No final, mostre qual foi o maior e o menor peso lidos."
   ]
  },
  {
   "cell_type": "code",
   "execution_count": 96,
   "metadata": {},
   "outputs": [
    {
     "name": "stdout",
     "output_type": "stream",
     "text": [
      "Digite o peso da 1 pessoa: 2\n",
      "Digite o peso da 2 pessoa: 2\n",
      "Digite o peso da 3 pessoa: 2\n",
      "Digite o peso da 4 pessoa: 2\n",
      "Digite o peso da 5 pessoa: 2\n",
      "\n",
      "O maior peso foi:  2\n",
      "O menor peso foi:  2\n"
     ]
    }
   ],
   "source": [
    "pessoas = []\n",
    "\n",
    "for i in range(5):\n",
    "    pessoas.append(int(input(\"Digite o peso da {} pessoa: \".format(i+1))))\n",
    "    \n",
    "print(\"\\nO maior peso foi: \", max(pessoas))\n",
    "print(\"O menor peso foi: \", min(pessoas))"
   ]
  },
  {
   "cell_type": "markdown",
   "metadata": {},
   "source": [
    "### Exercício 11:\n",
    "\n",
    "* Desenvolva um programa que leia o nome, idade e sexo de 4 pessoas. No final do programa, mostre:\n",
    "\n",
    "1. A média de idade do grupo\n",
    "2. Qual é o nome do homem mais velho\n",
    "3. Quantas mulheres têm menos de 20 anos"
   ]
  },
  {
   "cell_type": "code",
   "execution_count": 169,
   "metadata": {
    "scrolled": true
   },
   "outputs": [
    {
     "name": "stdout",
     "output_type": "stream",
     "text": [
      "Digite o nome da pessoa 1: Bruno\n",
      "Digite a idade da pessoa 1: 20\n",
      "Digite o sexo da pessoa 1 (H, M): H\n",
      "Digite o nome da pessoa 2: Samuel\n",
      "Digite a idade da pessoa 2: 19\n",
      "Digite o sexo da pessoa 2 (H, M): H\n",
      "Digite o nome da pessoa 3: Lara\n",
      "Digite a idade da pessoa 3: 13\n",
      "Digite o sexo da pessoa 3 (H, M): M\n",
      "Digite o nome da pessoa 4: Cristiane\n",
      "Digite a idade da pessoa 4: 47\n",
      "Digite o sexo da pessoa 4 (H, M): M\n"
     ]
    }
   ],
   "source": [
    "class Pessoa:\n",
    "\n",
    "    def __init__(self, nome, idade, sexo): \n",
    "\n",
    "        self.nome = nome\n",
    "        self.idade = idade \n",
    "        self.sexo = sexo\n",
    "\n",
    "pessoas = []\n",
    "\n",
    "for i in range(4):\n",
    "    \n",
    "    nome = input(\"Digite o nome da pessoa {}: \".format(i+1))\n",
    "    idade = int(input(\"Digite a idade da pessoa {}: \".format(i+1)))\n",
    "    sexo = str(input(\"Digite o sexo da pessoa {} (H, M): \".format(i+1)))\n",
    "    \n",
    "    pessoa = Pessoa(nome, idade, sexo)\n",
    "    pessoas.append(pessoa)\n",
    "    \n",
    "nomes = []\n",
    "idades = []\n",
    "sexos = []\n",
    "\n",
    "for i in pessoas:\n",
    "    nomes.append(i.nome)\n",
    "    idades.append(i.idade)\n",
    "    sexos.append(i.sexo)"
   ]
  },
  {
   "cell_type": "markdown",
   "metadata": {},
   "source": [
    "1. A média de idade do grupo"
   ]
  },
  {
   "cell_type": "code",
   "execution_count": 170,
   "metadata": {},
   "outputs": [
    {
     "name": "stdout",
     "output_type": "stream",
     "text": [
      "A média de idade do grupo é:  24.75\n"
     ]
    }
   ],
   "source": [
    "print(\"A média de idade do grupo é: \", sum(idades)/len(idades))"
   ]
  },
  {
   "cell_type": "markdown",
   "metadata": {},
   "source": [
    "2. Qual é o nome do homem mais velho\n"
   ]
  },
  {
   "cell_type": "code",
   "execution_count": 171,
   "metadata": {},
   "outputs": [
    {
     "name": "stdout",
     "output_type": "stream",
     "text": [
      "O homem de maior idade é:  Bruno\n"
     ]
    }
   ],
   "source": [
    "lista = idades.copy()\n",
    "\n",
    "while True:\n",
    "    pessoa_maior_idade = lista.index(max(lista))\n",
    "    \n",
    "    if pessoas[pessoa_maior_idade].sexo == \"M\":\n",
    "        lista[pessoa_maior_idade] = 0\n",
    "    else: \n",
    "        print(\"O homem de maior idade é: \", pessoas[pessoa_maior_idade].nome)\n",
    "        break\n",
    "    "
   ]
  },
  {
   "cell_type": "markdown",
   "metadata": {},
   "source": [
    "3. Quantas mulheres têm menos de 20 anos"
   ]
  },
  {
   "cell_type": "code",
   "execution_count": 173,
   "metadata": {},
   "outputs": [
    {
     "name": "stdout",
     "output_type": "stream",
     "text": [
      "Mulheres com menos de 20 anos:  1\n"
     ]
    }
   ],
   "source": [
    "lista = []\n",
    "\n",
    "for i in pessoas:\n",
    "    if i.sexo == \"M\" and i.idade < 20:\n",
    "        lista.append(True)\n",
    "    else:\n",
    "        lista.append(False)\n",
    "\n",
    "print(\"Mulheres com menos de 20 anos: \", sum(lista))"
   ]
  }
 ],
 "metadata": {
  "kernelspec": {
   "display_name": "Python 3 (ipykernel)",
   "language": "python",
   "name": "python3"
  },
  "language_info": {
   "codemirror_mode": {
    "name": "ipython",
    "version": 3
   },
   "file_extension": ".py",
   "mimetype": "text/x-python",
   "name": "python",
   "nbconvert_exporter": "python",
   "pygments_lexer": "ipython3",
   "version": "3.8.5"
  }
 },
 "nbformat": 4,
 "nbformat_minor": 4
}
